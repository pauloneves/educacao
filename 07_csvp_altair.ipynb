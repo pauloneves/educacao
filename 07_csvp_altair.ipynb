{
  "nbformat": 4,
  "nbformat_minor": 5,
  "metadata": {
    "kernelspec": {
      "display_name": "Python 3 (ipykernel)",
      "language": "python",
      "name": "python3"
    },
    "language_info": {
      "codemirror_mode": {
        "name": "ipython",
        "version": 3
      },
      "file_extension": ".py",
      "mimetype": "text/x-python",
      "name": "python",
      "nbconvert_exporter": "python",
      "pygments_lexer": "ipython3",
      "version": "3.8.11"
    },
    "colab": {
      "name": "07_csvp_altair.ipynb",
      "provenance": []
    }
  },
  "cells": [
    {
      "cell_type": "code",
      "metadata": {
        "id": "7b1593f4-b288-49fe-9a5d-99727a03e70c"
      },
      "source": [
        "import altair as alt\n",
        "import pandas as pd\n",
        "from pathlib import Path"
      ],
      "id": "7b1593f4-b288-49fe-9a5d-99727a03e70c",
      "execution_count": 1,
      "outputs": []
    },
    {
      "cell_type": "code",
      "metadata": {
        "id": "24b5a8c7-518a-4594-84bc-a454664bad7c"
      },
      "source": [
        "# %load const\n",
        "CO_STO_AGOS_NL = 33087679\n",
        "CO_STO_AGO_INST = 33176825\n",
        "CO_STO_AGO = 33020566\n",
        "CO_SAO_BENTO = 33062633\n",
        "CO_SAO_VICENTE = 33063648\n",
        "CO_PARQUE = 33065837\n",
        "CO_ELEVA = 33178860\n",
        "CO_ST_INACIO = 33063729\n",
        "\n",
        "CO_MUN = 3304557  # Rio de Janeiro\n",
        "CO_UF_RIO = 33  # RJ\n",
        "\n",
        "MIN_ALUNOS = 30  # Mínimo de alunos fazendo Enem para considerar na análise\n",
        "NUM_MELHORES = 60\n",
        "ANO_ULT = 2019  # último ano a processar"
      ],
      "id": "24b5a8c7-518a-4594-84bc-a454664bad7c",
      "execution_count": 2,
      "outputs": []
    },
    {
      "cell_type": "code",
      "metadata": {
        "colab": {
          "base_uri": "https://localhost:8080/",
          "height": 17
        },
        "id": "LQ6Gq0HAsUoi",
        "outputId": "aa28d018-d834-40af-fdaf-3305754c1609"
      },
      "source": [
        "%%html\n",
        "<style>\n",
        "@import url('https://fonts.googleapis.com/css?family=Lato');\n",
        "</style>"
      ],
      "id": "LQ6Gq0HAsUoi",
      "execution_count": 3,
      "outputs": [
        {
          "output_type": "display_data",
          "data": {
            "text/html": [
              "<style>\n",
              "@import url('https://fonts.googleapis.com/css?family=Lato');\n",
              "</style>"
            ],
            "text/plain": [
              "<IPython.core.display.HTML object>"
            ]
          },
          "metadata": {}
        }
      ]
    },
    {
      "cell_type": "code",
      "metadata": {
        "colab": {
          "base_uri": "https://localhost:8080/"
        },
        "id": "_I8MfzkaspCx",
        "outputId": "69365a98-eb4b-42d9-a407-50629aa24619"
      },
      "source": [
        "def urban_theme():\n",
        "    markColor = \"#1696d2\"\n",
        "    axisColor = \"#000000\"\n",
        "    backgroundColor = \"#FFFFFF\"\n",
        "    font = \"Lato\"\n",
        "    labelFont = \"Lato\"\n",
        "    sourceFont = \"Lato\"\n",
        "    gridColor = \"#DEDDDD\"\n",
        "    main_palette = [\"#1696d2\", \n",
        "                    \"#d2d2d2\",\n",
        "                    \"#000000\", \n",
        "                    \"#fdbf11\", \n",
        "                    \"#ec008b\", \n",
        "                    \"#55b748\", \n",
        "                    \"#5c5859\", \n",
        "                    \"#db2b27\", \n",
        "                   ]\n",
        "    sequential_palette = [\"#cfe8f3\", \n",
        "                          \"#a2d4ec\", \n",
        "                          \"#73bfe2\", \n",
        "                          \"#46abdb\", \n",
        "                          \"#1696d2\", \n",
        "                          \"#12719e\", \n",
        "                         ]\n",
        "    return {\n",
        "        \"width\": 685,\n",
        "        \"height\": 380,   \n",
        "#        \"autosize\": \"fit\",\n",
        "        \"config\": {\n",
        "            \"title\": {\n",
        "                \"anchor\": \"start\",\n",
        "                \"fontSize\": 18,\n",
        "                \"font\": font,\n",
        "                \"fontColor\": \"#000000\"\n",
        "            },\n",
        "            \"axisX\": {\n",
        "               \"domain\": True,\n",
        "               \"domainColor\": axisColor,\n",
        "               \"domainWidth\": 1,\n",
        "               \"grid\": False,\n",
        "               \"labelFontSize\": 12,\n",
        "               \"labelFont\": labelFont,\n",
        "               \"labelAngle\": 0,\n",
        "               \"tickColor\": axisColor,\n",
        "               \"tickSize\": 5,\n",
        "               \"titleFontSize\": 12,\n",
        "               \"titlePadding\": 10,\n",
        "               \"titleFont\": font,\n",
        "               \"title\": \"\",\n",
        "           },\n",
        "           \"axisY\": {\n",
        "               \"domain\": False,\n",
        "               \"grid\": True,\n",
        "               \"gridColor\": gridColor,\n",
        "               \"gridWidth\": 1,\n",
        "               \"labelFontSize\": 12,\n",
        "               \"labelFont\": labelFont,\n",
        "               \"labelPadding\": 8,\n",
        "               \"ticks\": False,\n",
        "               \"titleFontSize\": 12,\n",
        "               \"titlePadding\": 10,\n",
        "               \"titleFont\": font,\n",
        "               \"titleAngle\": 0,\n",
        "               \"titleY\": -10,\n",
        "               \"titleX\": 18,\n",
        "           },\n",
        "           \"background\": backgroundColor,\n",
        "           \"legend\": {\n",
        "               \"labelFontSize\": 12,\n",
        "               \"labelFont\": labelFont,\n",
        "               \"symbolSize\": 100,\n",
        "               \"symbolType\": \"square\",\n",
        "               \"titleFontSize\": 12,\n",
        "               \"titlePadding\": 10,\n",
        "               \"titleFont\": font,\n",
        "               \"title\": \"\",\n",
        "               \"orient\": \"top-left\",\n",
        "               \"offset\": 0,\n",
        "           },\n",
        "           \"view\": {\n",
        "               \"stroke\": \"transparent\",\n",
        "           },\n",
        "           \"range\": {\n",
        "               \"category\": main_palette,\n",
        "               \"diverging\": sequential_palette,\n",
        "           },\n",
        "           \"area\": {\n",
        "               \"fill\": markColor,\n",
        "           },\n",
        "           \"line\": {\n",
        "               \"color\": markColor,\n",
        "               \"stroke\": markColor,\n",
        "               \"strokewidth\": 5,\n",
        "           },\n",
        "           \"trail\": {\n",
        "               \"color\": markColor,\n",
        "               \"stroke\": markColor,\n",
        "               \"strokeWidth\": 0,\n",
        "               \"size\": 1,\n",
        "           },\n",
        "           \"path\": {\n",
        "               \"stroke\": markColor,\n",
        "               \"strokeWidth\": 0.5,\n",
        "           },\n",
        "           \"point\": {\n",
        "               \"filled\": True,\n",
        "           },\n",
        "           \"text\": {\n",
        "               \"font\": sourceFont,\n",
        "               \"color\": markColor,\n",
        "               \"fontSize\": 11,\n",
        "               \"align\": \"right\",\n",
        "               \"fontWeight\": 400,\n",
        "               \"size\": 11,\n",
        "           }, \n",
        "           \"bar\": {\n",
        "                \"size\": 40,\n",
        "                \"binSpacing\": 1,\n",
        "                \"continuousBandSize\": 30,\n",
        "                \"discreteBandSize\": 30,\n",
        "                \"fill\": markColor,\n",
        "                \"stroke\": False,\n",
        "            }, \n",
        "       },\n",
        "    }\n",
        "    \n",
        "    \n",
        "import altair as alt\n",
        "alt.themes.register(\"my_custom_theme\", urban_theme)\n",
        "alt.themes.enable(\"my_custom_theme\")"
      ],
      "id": "_I8MfzkaspCx",
      "execution_count": 4,
      "outputs": [
        {
          "output_type": "execute_result",
          "data": {
            "text/plain": [
              "ThemeRegistry.enable('my_custom_theme')"
            ]
          },
          "metadata": {},
          "execution_count": 4
        }
      ]
    },
    {
      "cell_type": "code",
      "metadata": {
        "colab": {
          "base_uri": "https://localhost:8080/"
        },
        "id": "QGJ0UPRrkVP3",
        "outputId": "9c34b45c-95ef-4fb0-8c39-f1f6f8cef1ce"
      },
      "source": [
        "COLABORATORY = True\n",
        "\n",
        "if COLABORATORY and 'dados_dir' not in vars(): \n",
        "  from google.colab import drive\n",
        "  drive.mount('/drive')\n",
        "\n",
        "if COLABORATORY:\n",
        "  dados_dir = Path('/drive/MyDrive/Colab Notebooks/educacao/')\n",
        "else:\n",
        "  dados_dir = Path('./dados')"
      ],
      "id": "QGJ0UPRrkVP3",
      "execution_count": 5,
      "outputs": [
        {
          "output_type": "stream",
          "name": "stdout",
          "text": [
            "Mounted at /drive\n"
          ]
        }
      ]
    },
    {
      "cell_type": "markdown",
      "metadata": {
        "id": "0babe1c4-e3e2-40fe-93f6-bcfb2d4fef1e"
      },
      "source": [
        "## Colégio a processar\n",
        "Mudar abaixo para ver outros colégios"
      ],
      "id": "0babe1c4-e3e2-40fe-93f6-bcfb2d4fef1e"
    },
    {
      "cell_type": "code",
      "metadata": {
        "id": "121c0e2e-45df-4bcf-811e-d92496f3dc76"
      },
      "source": [
        "CO_PROCESSAR = CO_PARQUE"
      ],
      "id": "121c0e2e-45df-4bcf-811e-d92496f3dc76",
      "execution_count": 6,
      "outputs": []
    },
    {
      "cell_type": "code",
      "metadata": {
        "id": "1f7ae5b4-7c12-416a-bf80-2a01830d4c92"
      },
      "source": [
        "df_turmas_rio = pd.read_feather(dados_dir / \"turmas_rio.feather\")"
      ],
      "id": "1f7ae5b4-7c12-416a-bf80-2a01830d4c92",
      "execution_count": 7,
      "outputs": []
    },
    {
      "cell_type": "code",
      "metadata": {
        "colab": {
          "base_uri": "https://localhost:8080/"
        },
        "id": "2f404ff5-da70-4005-9e53-5dccfbfbcfe2",
        "outputId": "a50f496e-f58e-4fd4-edc1-78d65bb5d962"
      },
      "source": [
        "df_turmas_rio.ano.max()"
      ],
      "id": "2f404ff5-da70-4005-9e53-5dccfbfbcfe2",
      "execution_count": 8,
      "outputs": [
        {
          "output_type": "execute_result",
          "data": {
            "text/plain": [
              "2019"
            ]
          },
          "metadata": {},
          "execution_count": 8
        }
      ]
    },
    {
      "cell_type": "code",
      "metadata": {
        "id": "a8f590f0-3816-4e7b-a75e-b0dc81f615ce"
      },
      "source": [
        "em_etapas = tuple(range(25, 39))  # são vicente deveria ter só 25-27\n",
        "df_medio = df_turmas_rio[df_turmas_rio.id_etapa.isin(em_etapas) & (df_turmas_rio.id_escola == CO_SAO_VICENTE)]\n"
      ],
      "id": "a8f590f0-3816-4e7b-a75e-b0dc81f615ce",
      "execution_count": 9,
      "outputs": []
    },
    {
      "cell_type": "code",
      "metadata": {
        "colab": {
          "base_uri": "https://localhost:8080/",
          "height": 435
        },
        "id": "10fdf564-fc4d-47a9-81a6-02e5b4b675ae",
        "outputId": "ebfae839-14b9-4eff-e824-643a41c7d754"
      },
      "source": [
        "df_medio_por_ano = df_medio.groupby(\"ano\").agg(\n",
        "    total=(\"num_matriculas\", \"sum\"), no_turmas=(\"index\", \"count\")\n",
        ")\n",
        "(\n",
        "    (\n",
        "        alt.Chart(df_medio_por_ano.reset_index())\n",
        "        .mark_line()\n",
        "        .encode(\n",
        "            y=alt.Y(\n",
        "                \"total\",\n",
        "                title=None,\n",
        "                scale=alt.Scale(\n",
        "                    domain=[\n",
        "                        df_medio_por_ano.total.min()\n",
        "                        - (df_medio_por_ano.total.max() - df_medio_por_ano.total.min())\n",
        "                        / 2,\n",
        "                        df_medio_por_ano.total.max(),\n",
        "                    ]\n",
        "                ),\n",
        "            ),\n",
        "            x=alt.X(\n",
        "                \"ano:O\",\n",
        "                title=None,\n",
        "                axis=alt.Axis(labelAngle=0, domain=False),\n",
        "            ),\n",
        "        )\n",
        "        .properties(\n",
        "            width=500,\n",
        "        )\n",
        "    )\n",
        "    + alt.Chart(df_medio_por_ano.mean().to_frame().T)\n",
        "    .mark_line(color=\"red\")\n",
        "    .encode(y=\"total\")\n",
        "    + alt.Chart(df_medio_por_ano.mean().to_frame().T)\n",
        "    .mark_rule(color=\"orange\")\n",
        "    .encode(y=\"total\")\n",
        ")"
      ],
      "id": "10fdf564-fc4d-47a9-81a6-02e5b4b675ae",
      "execution_count": 10,
      "outputs": [
        {
          "output_type": "execute_result",
          "data": {
            "text/plain": [
              "alt.LayerChart(...)"
            ],
            "text/html": [
              "\n",
              "<div id=\"altair-viz-aabb8037bc064d1c9067511a7181083e\"></div>\n",
              "<script type=\"text/javascript\">\n",
              "  (function(spec, embedOpt){\n",
              "    let outputDiv = document.currentScript.previousElementSibling;\n",
              "    if (outputDiv.id !== \"altair-viz-aabb8037bc064d1c9067511a7181083e\") {\n",
              "      outputDiv = document.getElementById(\"altair-viz-aabb8037bc064d1c9067511a7181083e\");\n",
              "    }\n",
              "    const paths = {\n",
              "      \"vega\": \"https://cdn.jsdelivr.net/npm//vega@5?noext\",\n",
              "      \"vega-lib\": \"https://cdn.jsdelivr.net/npm//vega-lib?noext\",\n",
              "      \"vega-lite\": \"https://cdn.jsdelivr.net/npm//vega-lite@4.8.1?noext\",\n",
              "      \"vega-embed\": \"https://cdn.jsdelivr.net/npm//vega-embed@6?noext\",\n",
              "    };\n",
              "\n",
              "    function loadScript(lib) {\n",
              "      return new Promise(function(resolve, reject) {\n",
              "        var s = document.createElement('script');\n",
              "        s.src = paths[lib];\n",
              "        s.async = true;\n",
              "        s.onload = () => resolve(paths[lib]);\n",
              "        s.onerror = () => reject(`Error loading script: ${paths[lib]}`);\n",
              "        document.getElementsByTagName(\"head\")[0].appendChild(s);\n",
              "      });\n",
              "    }\n",
              "\n",
              "    function showError(err) {\n",
              "      outputDiv.innerHTML = `<div class=\"error\" style=\"color:red;\">${err}</div>`;\n",
              "      throw err;\n",
              "    }\n",
              "\n",
              "    function displayChart(vegaEmbed) {\n",
              "      vegaEmbed(outputDiv, spec, embedOpt)\n",
              "        .catch(err => showError(`Javascript Error: ${err.message}<br>This usually means there's a typo in your chart specification. See the javascript console for the full traceback.`));\n",
              "    }\n",
              "\n",
              "    if(typeof define === \"function\" && define.amd) {\n",
              "      requirejs.config({paths});\n",
              "      require([\"vega-embed\"], displayChart, err => showError(`Error loading script: ${err.message}`));\n",
              "    } else if (typeof vegaEmbed === \"function\") {\n",
              "      displayChart(vegaEmbed);\n",
              "    } else {\n",
              "      loadScript(\"vega\")\n",
              "        .then(() => loadScript(\"vega-lite\"))\n",
              "        .then(() => loadScript(\"vega-embed\"))\n",
              "        .catch(showError)\n",
              "        .then(() => displayChart(vegaEmbed));\n",
              "    }\n",
              "  })({\"width\": 685, \"height\": 380, \"config\": {\"title\": {\"anchor\": \"start\", \"fontSize\": 18, \"font\": \"Lato\", \"fontColor\": \"#000000\"}, \"axisX\": {\"domain\": true, \"domainColor\": \"#000000\", \"domainWidth\": 1, \"grid\": false, \"labelFontSize\": 12, \"labelFont\": \"Lato\", \"labelAngle\": 0, \"tickColor\": \"#000000\", \"tickSize\": 5, \"titleFontSize\": 12, \"titlePadding\": 10, \"titleFont\": \"Lato\", \"title\": \"\"}, \"axisY\": {\"domain\": false, \"grid\": true, \"gridColor\": \"#DEDDDD\", \"gridWidth\": 1, \"labelFontSize\": 12, \"labelFont\": \"Lato\", \"labelPadding\": 8, \"ticks\": false, \"titleFontSize\": 12, \"titlePadding\": 10, \"titleFont\": \"Lato\", \"titleAngle\": 0, \"titleY\": -10, \"titleX\": 18}, \"background\": \"#FFFFFF\", \"legend\": {\"labelFontSize\": 12, \"labelFont\": \"Lato\", \"symbolSize\": 100, \"symbolType\": \"square\", \"titleFontSize\": 12, \"titlePadding\": 10, \"titleFont\": \"Lato\", \"title\": \"\", \"orient\": \"top-left\", \"offset\": 0}, \"view\": {\"stroke\": \"transparent\"}, \"range\": {\"category\": [\"#1696d2\", \"#d2d2d2\", \"#000000\", \"#fdbf11\", \"#ec008b\", \"#55b748\", \"#5c5859\", \"#db2b27\"], \"diverging\": [\"#cfe8f3\", \"#a2d4ec\", \"#73bfe2\", \"#46abdb\", \"#1696d2\", \"#12719e\"]}, \"area\": {\"fill\": \"#1696d2\"}, \"line\": {\"color\": \"#1696d2\", \"stroke\": \"#1696d2\", \"strokewidth\": 5}, \"trail\": {\"color\": \"#1696d2\", \"stroke\": \"#1696d2\", \"strokeWidth\": 0, \"size\": 1}, \"path\": {\"stroke\": \"#1696d2\", \"strokeWidth\": 0.5}, \"point\": {\"filled\": true}, \"text\": {\"font\": \"Lato\", \"color\": \"#1696d2\", \"fontSize\": 11, \"align\": \"right\", \"fontWeight\": 400, \"size\": 11}, \"bar\": {\"size\": 40, \"binSpacing\": 1, \"continuousBandSize\": 30, \"discreteBandSize\": 30, \"fill\": \"#1696d2\", \"stroke\": false}}, \"layer\": [{\"data\": {\"name\": \"data-18b2bf274c7f3464a5bcbe4e34cf4761\"}, \"mark\": \"line\", \"encoding\": {\"x\": {\"type\": \"ordinal\", \"axis\": {\"domain\": false, \"labelAngle\": 0}, \"field\": \"ano\", \"title\": null}, \"y\": {\"type\": \"quantitative\", \"field\": \"total\", \"scale\": {\"domain\": [308.5, 382.0]}, \"title\": null}}, \"width\": 500}, {\"data\": {\"name\": \"data-9c30d0f6268e948515706c1c5a6409dc\"}, \"mark\": {\"type\": \"line\", \"color\": \"red\"}, \"encoding\": {\"y\": {\"type\": \"quantitative\", \"field\": \"total\"}}}, {\"data\": {\"name\": \"data-9c30d0f6268e948515706c1c5a6409dc\"}, \"mark\": {\"type\": \"rule\", \"color\": \"orange\"}, \"encoding\": {\"y\": {\"type\": \"quantitative\", \"field\": \"total\"}}}], \"$schema\": \"https://vega.github.io/schema/vega-lite/v4.8.1.json\", \"datasets\": {\"data-18b2bf274c7f3464a5bcbe4e34cf4761\": [{\"ano\": 2007, \"total\": 357.0, \"no_turmas\": 10}, {\"ano\": 2008, \"total\": 369.0, \"no_turmas\": 10}, {\"ano\": 2009, \"total\": 361.0, \"no_turmas\": 10}, {\"ano\": 2010, \"total\": 377.0, \"no_turmas\": 10}, {\"ano\": 2011, \"total\": 353.0, \"no_turmas\": 10}, {\"ano\": 2012, \"total\": 343.0, \"no_turmas\": 10}, {\"ano\": 2013, \"total\": 355.0, \"no_turmas\": 10}, {\"ano\": 2014, \"total\": 382.0, \"no_turmas\": 10}, {\"ano\": 2015, \"total\": 369.0, \"no_turmas\": 10}, {\"ano\": 2016, \"total\": 349.0, \"no_turmas\": 11}, {\"ano\": 2017, \"total\": 333.0, \"no_turmas\": 10}, {\"ano\": 2018, \"total\": 338.0, \"no_turmas\": 10}, {\"ano\": 2019, \"total\": 350.0, \"no_turmas\": 11}], \"data-9c30d0f6268e948515706c1c5a6409dc\": [{\"total\": 356.61538461538464, \"no_turmas\": 10.153846153846153}]}}, {\"mode\": \"vega-lite\"});\n",
              "</script>"
            ]
          },
          "metadata": {},
          "execution_count": 10
        }
      ]
    },
    {
      "cell_type": "markdown",
      "metadata": {
        "id": "56c0f549-a557-4174-a33a-700c871d864f"
      },
      "source": [
        "## Perguntas\n",
        "1. como tem variado o número de alunos do primeiro para o terceiro ano"
      ],
      "id": "56c0f549-a557-4174-a33a-700c871d864f"
    },
    {
      "cell_type": "code",
      "metadata": {
        "colab": {
          "base_uri": "https://localhost:8080/",
          "height": 206
        },
        "id": "b606c2ed-a8ac-4500-975b-d28f8dd1bccf",
        "outputId": "86976cdd-027e-49f1-b7fa-41617c59105e"
      },
      "source": [
        "df_medio_sv = df_medio[[\"ano\", \"id_etapa\", \"num_matriculas\"]].groupby([\"ano\", \"id_etapa\"]).aggregate(\n",
        "    num_matriculas=(\"num_matriculas\", sum), num_turmas=(\"num_matriculas\", \"count\")\n",
        ").rename({25:'1º', 26: '2º', 27: '3º'}).reset_index().rename(columns={'id_etapa': 'Série'})#.unstack()['num_matriculas'].rename(columns={25:'1º ano', 26: '2º ano', 27: '3º ano'}).reset_index()\n",
        "df_medio_sv.head()"
      ],
      "id": "b606c2ed-a8ac-4500-975b-d28f8dd1bccf",
      "execution_count": 11,
      "outputs": [
        {
          "output_type": "execute_result",
          "data": {
            "text/html": [
              "<div>\n",
              "<style scoped>\n",
              "    .dataframe tbody tr th:only-of-type {\n",
              "        vertical-align: middle;\n",
              "    }\n",
              "\n",
              "    .dataframe tbody tr th {\n",
              "        vertical-align: top;\n",
              "    }\n",
              "\n",
              "    .dataframe thead th {\n",
              "        text-align: right;\n",
              "    }\n",
              "</style>\n",
              "<table border=\"1\" class=\"dataframe\">\n",
              "  <thead>\n",
              "    <tr style=\"text-align: right;\">\n",
              "      <th></th>\n",
              "      <th>ano</th>\n",
              "      <th>Série</th>\n",
              "      <th>num_matriculas</th>\n",
              "      <th>num_turmas</th>\n",
              "    </tr>\n",
              "  </thead>\n",
              "  <tbody>\n",
              "    <tr>\n",
              "      <th>0</th>\n",
              "      <td>2007</td>\n",
              "      <td>1º</td>\n",
              "      <td>134</td>\n",
              "      <td>4</td>\n",
              "    </tr>\n",
              "    <tr>\n",
              "      <th>1</th>\n",
              "      <td>2007</td>\n",
              "      <td>2º</td>\n",
              "      <td>87</td>\n",
              "      <td>2</td>\n",
              "    </tr>\n",
              "    <tr>\n",
              "      <th>2</th>\n",
              "      <td>2007</td>\n",
              "      <td>3º</td>\n",
              "      <td>136</td>\n",
              "      <td>4</td>\n",
              "    </tr>\n",
              "    <tr>\n",
              "      <th>3</th>\n",
              "      <td>2008</td>\n",
              "      <td>1º</td>\n",
              "      <td>143</td>\n",
              "      <td>4</td>\n",
              "    </tr>\n",
              "    <tr>\n",
              "      <th>4</th>\n",
              "      <td>2008</td>\n",
              "      <td>2º</td>\n",
              "      <td>107</td>\n",
              "      <td>3</td>\n",
              "    </tr>\n",
              "  </tbody>\n",
              "</table>\n",
              "</div>"
            ],
            "text/plain": [
              "    ano Série  num_matriculas  num_turmas\n",
              "0  2007    1º             134           4\n",
              "1  2007    2º              87           2\n",
              "2  2007    3º             136           4\n",
              "3  2008    1º             143           4\n",
              "4  2008    2º             107           3"
            ]
          },
          "metadata": {},
          "execution_count": 11
        }
      ]
    },
    {
      "cell_type": "code",
      "metadata": {
        "colab": {
          "base_uri": "https://localhost:8080/",
          "height": 452
        },
        "id": "cea95124-7a23-44cd-ace0-9ac4cc4a2f1f",
        "outputId": "6e56491e-8267-480c-f4a5-524bf4fb5fcc"
      },
      "source": [
        "alt.Chart(df_medio_sv).mark_line().encode(x='ano', y='num_matriculas', color='Série', tooltip=('num_matriculas', 'num_turmas'))"
      ],
      "id": "cea95124-7a23-44cd-ace0-9ac4cc4a2f1f",
      "execution_count": 12,
      "outputs": [
        {
          "output_type": "execute_result",
          "data": {
            "text/plain": [
              "alt.Chart(...)"
            ],
            "text/html": [
              "\n",
              "<div id=\"altair-viz-1f72878b7c0546029fb41853950d423e\"></div>\n",
              "<script type=\"text/javascript\">\n",
              "  (function(spec, embedOpt){\n",
              "    let outputDiv = document.currentScript.previousElementSibling;\n",
              "    if (outputDiv.id !== \"altair-viz-1f72878b7c0546029fb41853950d423e\") {\n",
              "      outputDiv = document.getElementById(\"altair-viz-1f72878b7c0546029fb41853950d423e\");\n",
              "    }\n",
              "    const paths = {\n",
              "      \"vega\": \"https://cdn.jsdelivr.net/npm//vega@5?noext\",\n",
              "      \"vega-lib\": \"https://cdn.jsdelivr.net/npm//vega-lib?noext\",\n",
              "      \"vega-lite\": \"https://cdn.jsdelivr.net/npm//vega-lite@4.8.1?noext\",\n",
              "      \"vega-embed\": \"https://cdn.jsdelivr.net/npm//vega-embed@6?noext\",\n",
              "    };\n",
              "\n",
              "    function loadScript(lib) {\n",
              "      return new Promise(function(resolve, reject) {\n",
              "        var s = document.createElement('script');\n",
              "        s.src = paths[lib];\n",
              "        s.async = true;\n",
              "        s.onload = () => resolve(paths[lib]);\n",
              "        s.onerror = () => reject(`Error loading script: ${paths[lib]}`);\n",
              "        document.getElementsByTagName(\"head\")[0].appendChild(s);\n",
              "      });\n",
              "    }\n",
              "\n",
              "    function showError(err) {\n",
              "      outputDiv.innerHTML = `<div class=\"error\" style=\"color:red;\">${err}</div>`;\n",
              "      throw err;\n",
              "    }\n",
              "\n",
              "    function displayChart(vegaEmbed) {\n",
              "      vegaEmbed(outputDiv, spec, embedOpt)\n",
              "        .catch(err => showError(`Javascript Error: ${err.message}<br>This usually means there's a typo in your chart specification. See the javascript console for the full traceback.`));\n",
              "    }\n",
              "\n",
              "    if(typeof define === \"function\" && define.amd) {\n",
              "      requirejs.config({paths});\n",
              "      require([\"vega-embed\"], displayChart, err => showError(`Error loading script: ${err.message}`));\n",
              "    } else if (typeof vegaEmbed === \"function\") {\n",
              "      displayChart(vegaEmbed);\n",
              "    } else {\n",
              "      loadScript(\"vega\")\n",
              "        .then(() => loadScript(\"vega-lite\"))\n",
              "        .then(() => loadScript(\"vega-embed\"))\n",
              "        .catch(showError)\n",
              "        .then(() => displayChart(vegaEmbed));\n",
              "    }\n",
              "  })({\"width\": 685, \"height\": 380, \"config\": {\"title\": {\"anchor\": \"start\", \"fontSize\": 18, \"font\": \"Lato\", \"fontColor\": \"#000000\"}, \"axisX\": {\"domain\": true, \"domainColor\": \"#000000\", \"domainWidth\": 1, \"grid\": false, \"labelFontSize\": 12, \"labelFont\": \"Lato\", \"labelAngle\": 0, \"tickColor\": \"#000000\", \"tickSize\": 5, \"titleFontSize\": 12, \"titlePadding\": 10, \"titleFont\": \"Lato\", \"title\": \"\"}, \"axisY\": {\"domain\": false, \"grid\": true, \"gridColor\": \"#DEDDDD\", \"gridWidth\": 1, \"labelFontSize\": 12, \"labelFont\": \"Lato\", \"labelPadding\": 8, \"ticks\": false, \"titleFontSize\": 12, \"titlePadding\": 10, \"titleFont\": \"Lato\", \"titleAngle\": 0, \"titleY\": -10, \"titleX\": 18}, \"background\": \"#FFFFFF\", \"legend\": {\"labelFontSize\": 12, \"labelFont\": \"Lato\", \"symbolSize\": 100, \"symbolType\": \"square\", \"titleFontSize\": 12, \"titlePadding\": 10, \"titleFont\": \"Lato\", \"title\": \"\", \"orient\": \"top-left\", \"offset\": 0}, \"view\": {\"stroke\": \"transparent\"}, \"range\": {\"category\": [\"#1696d2\", \"#d2d2d2\", \"#000000\", \"#fdbf11\", \"#ec008b\", \"#55b748\", \"#5c5859\", \"#db2b27\"], \"diverging\": [\"#cfe8f3\", \"#a2d4ec\", \"#73bfe2\", \"#46abdb\", \"#1696d2\", \"#12719e\"]}, \"area\": {\"fill\": \"#1696d2\"}, \"line\": {\"color\": \"#1696d2\", \"stroke\": \"#1696d2\", \"strokewidth\": 5}, \"trail\": {\"color\": \"#1696d2\", \"stroke\": \"#1696d2\", \"strokeWidth\": 0, \"size\": 1}, \"path\": {\"stroke\": \"#1696d2\", \"strokeWidth\": 0.5}, \"point\": {\"filled\": true}, \"text\": {\"font\": \"Lato\", \"color\": \"#1696d2\", \"fontSize\": 11, \"align\": \"right\", \"fontWeight\": 400, \"size\": 11}, \"bar\": {\"size\": 40, \"binSpacing\": 1, \"continuousBandSize\": 30, \"discreteBandSize\": 30, \"fill\": \"#1696d2\", \"stroke\": false}}, \"data\": {\"name\": \"data-1064c423a7d32669a922e59a565a1f84\"}, \"mark\": \"line\", \"encoding\": {\"color\": {\"type\": \"nominal\", \"field\": \"S\\u00e9rie\"}, \"tooltip\": [{\"type\": \"quantitative\", \"field\": \"num_matriculas\"}, {\"type\": \"quantitative\", \"field\": \"num_turmas\"}], \"x\": {\"type\": \"quantitative\", \"field\": \"ano\"}, \"y\": {\"type\": \"quantitative\", \"field\": \"num_matriculas\"}}, \"$schema\": \"https://vega.github.io/schema/vega-lite/v4.8.1.json\", \"datasets\": {\"data-1064c423a7d32669a922e59a565a1f84\": [{\"ano\": 2007, \"S\\u00e9rie\": \"1\\u00ba\", \"num_matriculas\": 134, \"num_turmas\": 4}, {\"ano\": 2007, \"S\\u00e9rie\": \"2\\u00ba\", \"num_matriculas\": 87, \"num_turmas\": 2}, {\"ano\": 2007, \"S\\u00e9rie\": \"3\\u00ba\", \"num_matriculas\": 136, \"num_turmas\": 4}, {\"ano\": 2008, \"S\\u00e9rie\": \"1\\u00ba\", \"num_matriculas\": 143, \"num_turmas\": 4}, {\"ano\": 2008, \"S\\u00e9rie\": \"2\\u00ba\", \"num_matriculas\": 107, \"num_turmas\": 3}, {\"ano\": 2008, \"S\\u00e9rie\": \"3\\u00ba\", \"num_matriculas\": 119, \"num_turmas\": 3}, {\"ano\": 2009, \"S\\u00e9rie\": \"1\\u00ba\", \"num_matriculas\": 136, \"num_turmas\": 4}, {\"ano\": 2009, \"S\\u00e9rie\": \"2\\u00ba\", \"num_matriculas\": 127, \"num_turmas\": 3}, {\"ano\": 2009, \"S\\u00e9rie\": \"3\\u00ba\", \"num_matriculas\": 98, \"num_turmas\": 3}, {\"ano\": 2010, \"S\\u00e9rie\": \"1\\u00ba\", \"num_matriculas\": 146, \"num_turmas\": 4}, {\"ano\": 2010, \"S\\u00e9rie\": \"2\\u00ba\", \"num_matriculas\": 123, \"num_turmas\": 3}, {\"ano\": 2010, \"S\\u00e9rie\": \"3\\u00ba\", \"num_matriculas\": 108, \"num_turmas\": 3}, {\"ano\": 2011, \"S\\u00e9rie\": \"1\\u00ba\", \"num_matriculas\": 129, \"num_turmas\": 4}, {\"ano\": 2011, \"S\\u00e9rie\": \"2\\u00ba\", \"num_matriculas\": 114, \"num_turmas\": 3}, {\"ano\": 2011, \"S\\u00e9rie\": \"3\\u00ba\", \"num_matriculas\": 110, \"num_turmas\": 3}, {\"ano\": 2012, \"S\\u00e9rie\": \"1\\u00ba\", \"num_matriculas\": 136, \"num_turmas\": 4}, {\"ano\": 2012, \"S\\u00e9rie\": \"2\\u00ba\", \"num_matriculas\": 113, \"num_turmas\": 3}, {\"ano\": 2012, \"S\\u00e9rie\": \"3\\u00ba\", \"num_matriculas\": 94, \"num_turmas\": 3}, {\"ano\": 2013, \"S\\u00e9rie\": \"1\\u00ba\", \"num_matriculas\": 142, \"num_turmas\": 4}, {\"ano\": 2013, \"S\\u00e9rie\": \"2\\u00ba\", \"num_matriculas\": 118, \"num_turmas\": 3}, {\"ano\": 2013, \"S\\u00e9rie\": \"3\\u00ba\", \"num_matriculas\": 95, \"num_turmas\": 3}, {\"ano\": 2014, \"S\\u00e9rie\": \"1\\u00ba\", \"num_matriculas\": 155, \"num_turmas\": 4}, {\"ano\": 2014, \"S\\u00e9rie\": \"2\\u00ba\", \"num_matriculas\": 123, \"num_turmas\": 3}, {\"ano\": 2014, \"S\\u00e9rie\": \"3\\u00ba\", \"num_matriculas\": 104, \"num_turmas\": 3}, {\"ano\": 2015, \"S\\u00e9rie\": \"1\\u00ba\", \"num_matriculas\": 143, \"num_turmas\": 4}, {\"ano\": 2015, \"S\\u00e9rie\": \"2\\u00ba\", \"num_matriculas\": 124, \"num_turmas\": 3}, {\"ano\": 2015, \"S\\u00e9rie\": \"3\\u00ba\", \"num_matriculas\": 102, \"num_turmas\": 3}, {\"ano\": 2016, \"S\\u00e9rie\": \"1\\u00ba\", \"num_matriculas\": 119, \"num_turmas\": 4}, {\"ano\": 2016, \"S\\u00e9rie\": \"2\\u00ba\", \"num_matriculas\": 131, \"num_turmas\": 4}, {\"ano\": 2016, \"S\\u00e9rie\": \"3\\u00ba\", \"num_matriculas\": 99, \"num_turmas\": 3}, {\"ano\": 2017, \"S\\u00e9rie\": \"1\\u00ba\", \"num_matriculas\": 121, \"num_turmas\": 4}, {\"ano\": 2017, \"S\\u00e9rie\": \"2\\u00ba\", \"num_matriculas\": 103, \"num_turmas\": 3}, {\"ano\": 2017, \"S\\u00e9rie\": \"3\\u00ba\", \"num_matriculas\": 109, \"num_turmas\": 3}, {\"ano\": 2018, \"S\\u00e9rie\": \"1\\u00ba\", \"num_matriculas\": 144, \"num_turmas\": 4}, {\"ano\": 2018, \"S\\u00e9rie\": \"2\\u00ba\", \"num_matriculas\": 103, \"num_turmas\": 3}, {\"ano\": 2018, \"S\\u00e9rie\": \"3\\u00ba\", \"num_matriculas\": 91, \"num_turmas\": 3}, {\"ano\": 2019, \"S\\u00e9rie\": \"1\\u00ba\", \"num_matriculas\": 134, \"num_turmas\": 4}, {\"ano\": 2019, \"S\\u00e9rie\": \"2\\u00ba\", \"num_matriculas\": 126, \"num_turmas\": 4}, {\"ano\": 2019, \"S\\u00e9rie\": \"3\\u00ba\", \"num_matriculas\": 90, \"num_turmas\": 3}]}}, {\"mode\": \"vega-lite\"});\n",
              "</script>"
            ]
          },
          "metadata": {},
          "execution_count": 12
        }
      ]
    },
    {
      "cell_type": "code",
      "metadata": {
        "colab": {
          "base_uri": "https://localhost:8080/",
          "height": 206
        },
        "id": "5993ec68-87ec-4e25-818b-4becbbb48b24",
        "outputId": "a1dcd7e0-b63f-4772-953c-a1c1f247ae7e"
      },
      "source": [
        "df_sv_periodo = df_medio_sv.pivot(\n",
        "    index=\"ano\", columns=\"Série\", values=\"num_matriculas\"\n",
        ").reset_index()\n",
        "df_sv_periodo[\"2º\"] = df_sv_periodo[\"2º\"].shift(-1)\n",
        "df_sv_periodo[\"2º %\"] = (df_sv_periodo[\"2º\"]/df_sv_periodo[\"1º\"] * 100).round(0)\n",
        "df_sv_periodo[\"3º\"] = df_sv_periodo[\"3º\"].shift(-2)\n",
        "df_sv_periodo[\"3º %\"] = (df_sv_periodo[\"3º\"]/df_sv_periodo[\"1º\"] * 100).round(0)\n",
        "df_sv_periodo[\"1º %\"] = 100\n",
        "df_sv_periodo[\"Período\"] = (\n",
        "    df_sv_periodo[\"ano\"].astype(str) + \"–\" + (df_sv_periodo[\"ano\"] + 2).astype(str)\n",
        ")\n",
        "df_sv_periodo_no = (\n",
        "    df_sv_periodo.drop(\"ano\", axis=1)\n",
        "    .melt(id_vars=[\"Período\"], value_vars=[\"1º\", \"2º\", \"3º\"], var_name=\"Série\", value_name='Nº alunos')\n",
        "    .sort_values(\"Período\")\n",
        ")\n",
        "df_sv_periodo_per = (\n",
        "    df_sv_periodo.drop(\"ano\", axis=1)\n",
        "    .melt(id_vars=[\"Período\"], value_vars=[\"1º %\", \"2º %\", \"3º %\"], var_name=\"Série\", value_name='Nº alunos')\n",
        "    .sort_values(\"Período\")\n",
        ")\n",
        "\n",
        "df_sv_periodo_per.head()"
      ],
      "id": "5993ec68-87ec-4e25-818b-4becbbb48b24",
      "execution_count": 13,
      "outputs": [
        {
          "output_type": "execute_result",
          "data": {
            "text/html": [
              "<div>\n",
              "<style scoped>\n",
              "    .dataframe tbody tr th:only-of-type {\n",
              "        vertical-align: middle;\n",
              "    }\n",
              "\n",
              "    .dataframe tbody tr th {\n",
              "        vertical-align: top;\n",
              "    }\n",
              "\n",
              "    .dataframe thead th {\n",
              "        text-align: right;\n",
              "    }\n",
              "</style>\n",
              "<table border=\"1\" class=\"dataframe\">\n",
              "  <thead>\n",
              "    <tr style=\"text-align: right;\">\n",
              "      <th></th>\n",
              "      <th>Período</th>\n",
              "      <th>Série</th>\n",
              "      <th>Nº alunos</th>\n",
              "    </tr>\n",
              "  </thead>\n",
              "  <tbody>\n",
              "    <tr>\n",
              "      <th>0</th>\n",
              "      <td>2007–2009</td>\n",
              "      <td>1º %</td>\n",
              "      <td>100.0</td>\n",
              "    </tr>\n",
              "    <tr>\n",
              "      <th>13</th>\n",
              "      <td>2007–2009</td>\n",
              "      <td>2º %</td>\n",
              "      <td>80.0</td>\n",
              "    </tr>\n",
              "    <tr>\n",
              "      <th>26</th>\n",
              "      <td>2007–2009</td>\n",
              "      <td>3º %</td>\n",
              "      <td>73.0</td>\n",
              "    </tr>\n",
              "    <tr>\n",
              "      <th>1</th>\n",
              "      <td>2008–2010</td>\n",
              "      <td>1º %</td>\n",
              "      <td>100.0</td>\n",
              "    </tr>\n",
              "    <tr>\n",
              "      <th>14</th>\n",
              "      <td>2008–2010</td>\n",
              "      <td>2º %</td>\n",
              "      <td>89.0</td>\n",
              "    </tr>\n",
              "  </tbody>\n",
              "</table>\n",
              "</div>"
            ],
            "text/plain": [
              "      Período Série  Nº alunos\n",
              "0   2007–2009  1º %      100.0\n",
              "13  2007–2009  2º %       80.0\n",
              "26  2007–2009  3º %       73.0\n",
              "1   2008–2010  1º %      100.0\n",
              "14  2008–2010  2º %       89.0"
            ]
          },
          "metadata": {},
          "execution_count": 13
        }
      ]
    },
    {
      "cell_type": "code",
      "metadata": {
        "colab": {
          "base_uri": "https://localhost:8080/",
          "height": 537
        },
        "id": "4f9b7701-1b9d-4ae0-b134-744f44b6eea2",
        "outputId": "a278781a-8453-47c3-80d9-e932f8828858"
      },
      "source": [
        "def line_chart(df):\n",
        "    return (\n",
        "        alt.Chart(df)\n",
        "        .mark_line(interpolate=\"monotone\", point=True)\n",
        "        .encode(\n",
        "            x=\"Série\",\n",
        "            y=alt.Y(\"Nº alunos\"),#, scale=alt.Scale(zero=False)),\n",
        "            color=\"Período:O\",\n",
        "            tooltip=('Período', \"Nº alunos\")\n",
        "        )\n",
        "        .properties(width=800)\n",
        "    )\n",
        "\n",
        "\n",
        "line_chart(df_sv_periodo_no) & line_chart(df_sv_periodo_per)"
      ],
      "id": "4f9b7701-1b9d-4ae0-b134-744f44b6eea2",
      "execution_count": 14,
      "outputs": [
        {
          "output_type": "execute_result",
          "data": {
            "text/plain": [
              "alt.VConcatChart(...)"
            ],
            "text/html": [
              "\n",
              "<div id=\"altair-viz-1c560987754648dc938bf8d447fdd2eb\"></div>\n",
              "<script type=\"text/javascript\">\n",
              "  (function(spec, embedOpt){\n",
              "    let outputDiv = document.currentScript.previousElementSibling;\n",
              "    if (outputDiv.id !== \"altair-viz-1c560987754648dc938bf8d447fdd2eb\") {\n",
              "      outputDiv = document.getElementById(\"altair-viz-1c560987754648dc938bf8d447fdd2eb\");\n",
              "    }\n",
              "    const paths = {\n",
              "      \"vega\": \"https://cdn.jsdelivr.net/npm//vega@5?noext\",\n",
              "      \"vega-lib\": \"https://cdn.jsdelivr.net/npm//vega-lib?noext\",\n",
              "      \"vega-lite\": \"https://cdn.jsdelivr.net/npm//vega-lite@4.8.1?noext\",\n",
              "      \"vega-embed\": \"https://cdn.jsdelivr.net/npm//vega-embed@6?noext\",\n",
              "    };\n",
              "\n",
              "    function loadScript(lib) {\n",
              "      return new Promise(function(resolve, reject) {\n",
              "        var s = document.createElement('script');\n",
              "        s.src = paths[lib];\n",
              "        s.async = true;\n",
              "        s.onload = () => resolve(paths[lib]);\n",
              "        s.onerror = () => reject(`Error loading script: ${paths[lib]}`);\n",
              "        document.getElementsByTagName(\"head\")[0].appendChild(s);\n",
              "      });\n",
              "    }\n",
              "\n",
              "    function showError(err) {\n",
              "      outputDiv.innerHTML = `<div class=\"error\" style=\"color:red;\">${err}</div>`;\n",
              "      throw err;\n",
              "    }\n",
              "\n",
              "    function displayChart(vegaEmbed) {\n",
              "      vegaEmbed(outputDiv, spec, embedOpt)\n",
              "        .catch(err => showError(`Javascript Error: ${err.message}<br>This usually means there's a typo in your chart specification. See the javascript console for the full traceback.`));\n",
              "    }\n",
              "\n",
              "    if(typeof define === \"function\" && define.amd) {\n",
              "      requirejs.config({paths});\n",
              "      require([\"vega-embed\"], displayChart, err => showError(`Error loading script: ${err.message}`));\n",
              "    } else if (typeof vegaEmbed === \"function\") {\n",
              "      displayChart(vegaEmbed);\n",
              "    } else {\n",
              "      loadScript(\"vega\")\n",
              "        .then(() => loadScript(\"vega-lite\"))\n",
              "        .then(() => loadScript(\"vega-embed\"))\n",
              "        .catch(showError)\n",
              "        .then(() => displayChart(vegaEmbed));\n",
              "    }\n",
              "  })({\"width\": 685, \"height\": 380, \"config\": {\"title\": {\"anchor\": \"start\", \"fontSize\": 18, \"font\": \"Lato\", \"fontColor\": \"#000000\"}, \"axisX\": {\"domain\": true, \"domainColor\": \"#000000\", \"domainWidth\": 1, \"grid\": false, \"labelFontSize\": 12, \"labelFont\": \"Lato\", \"labelAngle\": 0, \"tickColor\": \"#000000\", \"tickSize\": 5, \"titleFontSize\": 12, \"titlePadding\": 10, \"titleFont\": \"Lato\", \"title\": \"\"}, \"axisY\": {\"domain\": false, \"grid\": true, \"gridColor\": \"#DEDDDD\", \"gridWidth\": 1, \"labelFontSize\": 12, \"labelFont\": \"Lato\", \"labelPadding\": 8, \"ticks\": false, \"titleFontSize\": 12, \"titlePadding\": 10, \"titleFont\": \"Lato\", \"titleAngle\": 0, \"titleY\": -10, \"titleX\": 18}, \"background\": \"#FFFFFF\", \"legend\": {\"labelFontSize\": 12, \"labelFont\": \"Lato\", \"symbolSize\": 100, \"symbolType\": \"square\", \"titleFontSize\": 12, \"titlePadding\": 10, \"titleFont\": \"Lato\", \"title\": \"\", \"orient\": \"top-left\", \"offset\": 0}, \"view\": {\"stroke\": \"transparent\"}, \"range\": {\"category\": [\"#1696d2\", \"#d2d2d2\", \"#000000\", \"#fdbf11\", \"#ec008b\", \"#55b748\", \"#5c5859\", \"#db2b27\"], \"diverging\": [\"#cfe8f3\", \"#a2d4ec\", \"#73bfe2\", \"#46abdb\", \"#1696d2\", \"#12719e\"]}, \"area\": {\"fill\": \"#1696d2\"}, \"line\": {\"color\": \"#1696d2\", \"stroke\": \"#1696d2\", \"strokewidth\": 5}, \"trail\": {\"color\": \"#1696d2\", \"stroke\": \"#1696d2\", \"strokeWidth\": 0, \"size\": 1}, \"path\": {\"stroke\": \"#1696d2\", \"strokeWidth\": 0.5}, \"point\": {\"filled\": true}, \"text\": {\"font\": \"Lato\", \"color\": \"#1696d2\", \"fontSize\": 11, \"align\": \"right\", \"fontWeight\": 400, \"size\": 11}, \"bar\": {\"size\": 40, \"binSpacing\": 1, \"continuousBandSize\": 30, \"discreteBandSize\": 30, \"fill\": \"#1696d2\", \"stroke\": false}}, \"vconcat\": [{\"data\": {\"name\": \"data-c29d80e5cdc46112f6305398bbcc3017\"}, \"mark\": {\"type\": \"line\", \"interpolate\": \"monotone\", \"point\": true}, \"encoding\": {\"color\": {\"type\": \"ordinal\", \"field\": \"Per\\u00edodo\"}, \"tooltip\": [{\"type\": \"nominal\", \"field\": \"Per\\u00edodo\"}, {\"type\": \"quantitative\", \"field\": \"N\\u00ba alunos\"}], \"x\": {\"type\": \"nominal\", \"field\": \"S\\u00e9rie\"}, \"y\": {\"type\": \"quantitative\", \"field\": \"N\\u00ba alunos\"}}, \"width\": 800}, {\"data\": {\"name\": \"data-76df65cf48577843677d52f81196c403\"}, \"mark\": {\"type\": \"line\", \"interpolate\": \"monotone\", \"point\": true}, \"encoding\": {\"color\": {\"type\": \"ordinal\", \"field\": \"Per\\u00edodo\"}, \"tooltip\": [{\"type\": \"nominal\", \"field\": \"Per\\u00edodo\"}, {\"type\": \"quantitative\", \"field\": \"N\\u00ba alunos\"}], \"x\": {\"type\": \"nominal\", \"field\": \"S\\u00e9rie\"}, \"y\": {\"type\": \"quantitative\", \"field\": \"N\\u00ba alunos\"}}, \"width\": 800}], \"$schema\": \"https://vega.github.io/schema/vega-lite/v4.8.1.json\", \"datasets\": {\"data-c29d80e5cdc46112f6305398bbcc3017\": [{\"Per\\u00edodo\": \"2007\\u20132009\", \"S\\u00e9rie\": \"1\\u00ba\", \"N\\u00ba alunos\": 134.0}, {\"Per\\u00edodo\": \"2007\\u20132009\", \"S\\u00e9rie\": \"2\\u00ba\", \"N\\u00ba alunos\": 107.0}, {\"Per\\u00edodo\": \"2007\\u20132009\", \"S\\u00e9rie\": \"3\\u00ba\", \"N\\u00ba alunos\": 98.0}, {\"Per\\u00edodo\": \"2008\\u20132010\", \"S\\u00e9rie\": \"1\\u00ba\", \"N\\u00ba alunos\": 143.0}, {\"Per\\u00edodo\": \"2008\\u20132010\", \"S\\u00e9rie\": \"2\\u00ba\", \"N\\u00ba alunos\": 127.0}, {\"Per\\u00edodo\": \"2008\\u20132010\", \"S\\u00e9rie\": \"3\\u00ba\", \"N\\u00ba alunos\": 108.0}, {\"Per\\u00edodo\": \"2009\\u20132011\", \"S\\u00e9rie\": \"1\\u00ba\", \"N\\u00ba alunos\": 136.0}, {\"Per\\u00edodo\": \"2009\\u20132011\", \"S\\u00e9rie\": \"2\\u00ba\", \"N\\u00ba alunos\": 123.0}, {\"Per\\u00edodo\": \"2009\\u20132011\", \"S\\u00e9rie\": \"3\\u00ba\", \"N\\u00ba alunos\": 110.0}, {\"Per\\u00edodo\": \"2010\\u20132012\", \"S\\u00e9rie\": \"2\\u00ba\", \"N\\u00ba alunos\": 114.0}, {\"Per\\u00edodo\": \"2010\\u20132012\", \"S\\u00e9rie\": \"3\\u00ba\", \"N\\u00ba alunos\": 94.0}, {\"Per\\u00edodo\": \"2010\\u20132012\", \"S\\u00e9rie\": \"1\\u00ba\", \"N\\u00ba alunos\": 146.0}, {\"Per\\u00edodo\": \"2011\\u20132013\", \"S\\u00e9rie\": \"3\\u00ba\", \"N\\u00ba alunos\": 95.0}, {\"Per\\u00edodo\": \"2011\\u20132013\", \"S\\u00e9rie\": \"1\\u00ba\", \"N\\u00ba alunos\": 129.0}, {\"Per\\u00edodo\": \"2011\\u20132013\", \"S\\u00e9rie\": \"2\\u00ba\", \"N\\u00ba alunos\": 113.0}, {\"Per\\u00edodo\": \"2012\\u20132014\", \"S\\u00e9rie\": \"3\\u00ba\", \"N\\u00ba alunos\": 104.0}, {\"Per\\u00edodo\": \"2012\\u20132014\", \"S\\u00e9rie\": \"1\\u00ba\", \"N\\u00ba alunos\": 136.0}, {\"Per\\u00edodo\": \"2012\\u20132014\", \"S\\u00e9rie\": \"2\\u00ba\", \"N\\u00ba alunos\": 118.0}, {\"Per\\u00edodo\": \"2013\\u20132015\", \"S\\u00e9rie\": \"3\\u00ba\", \"N\\u00ba alunos\": 102.0}, {\"Per\\u00edodo\": \"2013\\u20132015\", \"S\\u00e9rie\": \"2\\u00ba\", \"N\\u00ba alunos\": 123.0}, {\"Per\\u00edodo\": \"2013\\u20132015\", \"S\\u00e9rie\": \"1\\u00ba\", \"N\\u00ba alunos\": 142.0}, {\"Per\\u00edodo\": \"2014\\u20132016\", \"S\\u00e9rie\": \"2\\u00ba\", \"N\\u00ba alunos\": 124.0}, {\"Per\\u00edodo\": \"2014\\u20132016\", \"S\\u00e9rie\": \"3\\u00ba\", \"N\\u00ba alunos\": 99.0}, {\"Per\\u00edodo\": \"2014\\u20132016\", \"S\\u00e9rie\": \"1\\u00ba\", \"N\\u00ba alunos\": 155.0}, {\"Per\\u00edodo\": \"2015\\u20132017\", \"S\\u00e9rie\": \"2\\u00ba\", \"N\\u00ba alunos\": 131.0}, {\"Per\\u00edodo\": \"2015\\u20132017\", \"S\\u00e9rie\": \"3\\u00ba\", \"N\\u00ba alunos\": 109.0}, {\"Per\\u00edodo\": \"2015\\u20132017\", \"S\\u00e9rie\": \"1\\u00ba\", \"N\\u00ba alunos\": 143.0}, {\"Per\\u00edodo\": \"2016\\u20132018\", \"S\\u00e9rie\": \"3\\u00ba\", \"N\\u00ba alunos\": 91.0}, {\"Per\\u00edodo\": \"2016\\u20132018\", \"S\\u00e9rie\": \"1\\u00ba\", \"N\\u00ba alunos\": 119.0}, {\"Per\\u00edodo\": \"2016\\u20132018\", \"S\\u00e9rie\": \"2\\u00ba\", \"N\\u00ba alunos\": 103.0}, {\"Per\\u00edodo\": \"2017\\u20132019\", \"S\\u00e9rie\": \"2\\u00ba\", \"N\\u00ba alunos\": 103.0}, {\"Per\\u00edodo\": \"2017\\u20132019\", \"S\\u00e9rie\": \"3\\u00ba\", \"N\\u00ba alunos\": 90.0}, {\"Per\\u00edodo\": \"2017\\u20132019\", \"S\\u00e9rie\": \"1\\u00ba\", \"N\\u00ba alunos\": 121.0}, {\"Per\\u00edodo\": \"2018\\u20132020\", \"S\\u00e9rie\": \"3\\u00ba\", \"N\\u00ba alunos\": null}, {\"Per\\u00edodo\": \"2018\\u20132020\", \"S\\u00e9rie\": \"1\\u00ba\", \"N\\u00ba alunos\": 144.0}, {\"Per\\u00edodo\": \"2018\\u20132020\", \"S\\u00e9rie\": \"2\\u00ba\", \"N\\u00ba alunos\": 126.0}, {\"Per\\u00edodo\": \"2019\\u20132021\", \"S\\u00e9rie\": \"1\\u00ba\", \"N\\u00ba alunos\": 134.0}, {\"Per\\u00edodo\": \"2019\\u20132021\", \"S\\u00e9rie\": \"2\\u00ba\", \"N\\u00ba alunos\": null}, {\"Per\\u00edodo\": \"2019\\u20132021\", \"S\\u00e9rie\": \"3\\u00ba\", \"N\\u00ba alunos\": null}], \"data-76df65cf48577843677d52f81196c403\": [{\"Per\\u00edodo\": \"2007\\u20132009\", \"S\\u00e9rie\": \"1\\u00ba %\", \"N\\u00ba alunos\": 100.0}, {\"Per\\u00edodo\": \"2007\\u20132009\", \"S\\u00e9rie\": \"2\\u00ba %\", \"N\\u00ba alunos\": 80.0}, {\"Per\\u00edodo\": \"2007\\u20132009\", \"S\\u00e9rie\": \"3\\u00ba %\", \"N\\u00ba alunos\": 73.0}, {\"Per\\u00edodo\": \"2008\\u20132010\", \"S\\u00e9rie\": \"1\\u00ba %\", \"N\\u00ba alunos\": 100.0}, {\"Per\\u00edodo\": \"2008\\u20132010\", \"S\\u00e9rie\": \"2\\u00ba %\", \"N\\u00ba alunos\": 89.0}, {\"Per\\u00edodo\": \"2008\\u20132010\", \"S\\u00e9rie\": \"3\\u00ba %\", \"N\\u00ba alunos\": 76.0}, {\"Per\\u00edodo\": \"2009\\u20132011\", \"S\\u00e9rie\": \"1\\u00ba %\", \"N\\u00ba alunos\": 100.0}, {\"Per\\u00edodo\": \"2009\\u20132011\", \"S\\u00e9rie\": \"2\\u00ba %\", \"N\\u00ba alunos\": 90.0}, {\"Per\\u00edodo\": \"2009\\u20132011\", \"S\\u00e9rie\": \"3\\u00ba %\", \"N\\u00ba alunos\": 81.0}, {\"Per\\u00edodo\": \"2010\\u20132012\", \"S\\u00e9rie\": \"2\\u00ba %\", \"N\\u00ba alunos\": 78.0}, {\"Per\\u00edodo\": \"2010\\u20132012\", \"S\\u00e9rie\": \"3\\u00ba %\", \"N\\u00ba alunos\": 64.0}, {\"Per\\u00edodo\": \"2010\\u20132012\", \"S\\u00e9rie\": \"1\\u00ba %\", \"N\\u00ba alunos\": 100.0}, {\"Per\\u00edodo\": \"2011\\u20132013\", \"S\\u00e9rie\": \"3\\u00ba %\", \"N\\u00ba alunos\": 74.0}, {\"Per\\u00edodo\": \"2011\\u20132013\", \"S\\u00e9rie\": \"1\\u00ba %\", \"N\\u00ba alunos\": 100.0}, {\"Per\\u00edodo\": \"2011\\u20132013\", \"S\\u00e9rie\": \"2\\u00ba %\", \"N\\u00ba alunos\": 88.0}, {\"Per\\u00edodo\": \"2012\\u20132014\", \"S\\u00e9rie\": \"3\\u00ba %\", \"N\\u00ba alunos\": 76.0}, {\"Per\\u00edodo\": \"2012\\u20132014\", \"S\\u00e9rie\": \"1\\u00ba %\", \"N\\u00ba alunos\": 100.0}, {\"Per\\u00edodo\": \"2012\\u20132014\", \"S\\u00e9rie\": \"2\\u00ba %\", \"N\\u00ba alunos\": 87.0}, {\"Per\\u00edodo\": \"2013\\u20132015\", \"S\\u00e9rie\": \"3\\u00ba %\", \"N\\u00ba alunos\": 72.0}, {\"Per\\u00edodo\": \"2013\\u20132015\", \"S\\u00e9rie\": \"2\\u00ba %\", \"N\\u00ba alunos\": 87.0}, {\"Per\\u00edodo\": \"2013\\u20132015\", \"S\\u00e9rie\": \"1\\u00ba %\", \"N\\u00ba alunos\": 100.0}, {\"Per\\u00edodo\": \"2014\\u20132016\", \"S\\u00e9rie\": \"2\\u00ba %\", \"N\\u00ba alunos\": 80.0}, {\"Per\\u00edodo\": \"2014\\u20132016\", \"S\\u00e9rie\": \"3\\u00ba %\", \"N\\u00ba alunos\": 64.0}, {\"Per\\u00edodo\": \"2014\\u20132016\", \"S\\u00e9rie\": \"1\\u00ba %\", \"N\\u00ba alunos\": 100.0}, {\"Per\\u00edodo\": \"2015\\u20132017\", \"S\\u00e9rie\": \"2\\u00ba %\", \"N\\u00ba alunos\": 92.0}, {\"Per\\u00edodo\": \"2015\\u20132017\", \"S\\u00e9rie\": \"3\\u00ba %\", \"N\\u00ba alunos\": 76.0}, {\"Per\\u00edodo\": \"2015\\u20132017\", \"S\\u00e9rie\": \"1\\u00ba %\", \"N\\u00ba alunos\": 100.0}, {\"Per\\u00edodo\": \"2016\\u20132018\", \"S\\u00e9rie\": \"3\\u00ba %\", \"N\\u00ba alunos\": 76.0}, {\"Per\\u00edodo\": \"2016\\u20132018\", \"S\\u00e9rie\": \"1\\u00ba %\", \"N\\u00ba alunos\": 100.0}, {\"Per\\u00edodo\": \"2016\\u20132018\", \"S\\u00e9rie\": \"2\\u00ba %\", \"N\\u00ba alunos\": 87.0}, {\"Per\\u00edodo\": \"2017\\u20132019\", \"S\\u00e9rie\": \"2\\u00ba %\", \"N\\u00ba alunos\": 85.0}, {\"Per\\u00edodo\": \"2017\\u20132019\", \"S\\u00e9rie\": \"3\\u00ba %\", \"N\\u00ba alunos\": 74.0}, {\"Per\\u00edodo\": \"2017\\u20132019\", \"S\\u00e9rie\": \"1\\u00ba %\", \"N\\u00ba alunos\": 100.0}, {\"Per\\u00edodo\": \"2018\\u20132020\", \"S\\u00e9rie\": \"3\\u00ba %\", \"N\\u00ba alunos\": null}, {\"Per\\u00edodo\": \"2018\\u20132020\", \"S\\u00e9rie\": \"1\\u00ba %\", \"N\\u00ba alunos\": 100.0}, {\"Per\\u00edodo\": \"2018\\u20132020\", \"S\\u00e9rie\": \"2\\u00ba %\", \"N\\u00ba alunos\": 88.0}, {\"Per\\u00edodo\": \"2019\\u20132021\", \"S\\u00e9rie\": \"1\\u00ba %\", \"N\\u00ba alunos\": 100.0}, {\"Per\\u00edodo\": \"2019\\u20132021\", \"S\\u00e9rie\": \"2\\u00ba %\", \"N\\u00ba alunos\": null}, {\"Per\\u00edodo\": \"2019\\u20132021\", \"S\\u00e9rie\": \"3\\u00ba %\", \"N\\u00ba alunos\": null}]}}, {\"mode\": \"vega-lite\"});\n",
              "</script>"
            ]
          },
          "metadata": {},
          "execution_count": 14
        }
      ]
    },
    {
      "cell_type": "markdown",
      "metadata": {
        "id": "2219e6cc-23e1-480e-8c46-fd4185f70edd"
      },
      "source": [
        "2. como tem variado as notas dos alunos no enem (a princípio seriam comparáveis)"
      ],
      "id": "2219e6cc-23e1-480e-8c46-fd4185f70edd"
    },
    {
      "cell_type": "code",
      "metadata": {
        "id": "88de82f3-7c21-45b7-a31d-9f7283f76370"
      },
      "source": [
        "df_enem = pd.read_feather(dados_dir / \"enem_anos.feather\")"
      ],
      "id": "88de82f3-7c21-45b7-a31d-9f7283f76370",
      "execution_count": 15,
      "outputs": []
    },
    {
      "cell_type": "code",
      "metadata": {
        "colab": {
          "base_uri": "https://localhost:8080/",
          "height": 226
        },
        "id": "7f413c0a-6531-4f05-942f-51f98e69ad06",
        "outputId": "69f908d8-299d-4811-f45c-eabd06dc192b"
      },
      "source": [
        "df_enem.head()"
      ],
      "id": "7f413c0a-6531-4f05-942f-51f98e69ad06",
      "execution_count": 16,
      "outputs": [
        {
          "output_type": "execute_result",
          "data": {
            "text/html": [
              "<div>\n",
              "<style scoped>\n",
              "    .dataframe tbody tr th:only-of-type {\n",
              "        vertical-align: middle;\n",
              "    }\n",
              "\n",
              "    .dataframe tbody tr th {\n",
              "        vertical-align: top;\n",
              "    }\n",
              "\n",
              "    .dataframe thead th {\n",
              "        text-align: right;\n",
              "    }\n",
              "</style>\n",
              "<table border=\"1\" class=\"dataframe\">\n",
              "  <thead>\n",
              "    <tr style=\"text-align: right;\">\n",
              "      <th></th>\n",
              "      <th>CO_ESCOLA</th>\n",
              "      <th>Ano</th>\n",
              "      <th>nota_ciências</th>\n",
              "      <th>nota_humanas</th>\n",
              "      <th>nota_português</th>\n",
              "      <th>nota_matemática</th>\n",
              "      <th>nota_redação</th>\n",
              "      <th>nota_final</th>\n",
              "      <th>num_alunos</th>\n",
              "      <th>nota_ciências_perc80</th>\n",
              "      <th>nota_humanas_perc80</th>\n",
              "      <th>nota_português_perc80</th>\n",
              "      <th>nota_matemática_perc80</th>\n",
              "      <th>nota_redação_perc80</th>\n",
              "      <th>nota_final_perc80</th>\n",
              "      <th>rank</th>\n",
              "    </tr>\n",
              "  </thead>\n",
              "  <tbody>\n",
              "    <tr>\n",
              "      <th>0</th>\n",
              "      <td>33135827</td>\n",
              "      <td>2019</td>\n",
              "      <td>647.5</td>\n",
              "      <td>651.0</td>\n",
              "      <td>627.0</td>\n",
              "      <td>789.0</td>\n",
              "      <td>940.0</td>\n",
              "      <td>758.0</td>\n",
              "      <td>31.0</td>\n",
              "      <td>676.0</td>\n",
              "      <td>685.5</td>\n",
              "      <td>641.5</td>\n",
              "      <td>823.0</td>\n",
              "      <td>960.0</td>\n",
              "      <td>778.0</td>\n",
              "      <td>1</td>\n",
              "    </tr>\n",
              "    <tr>\n",
              "      <th>1</th>\n",
              "      <td>33062633</td>\n",
              "      <td>2019</td>\n",
              "      <td>636.5</td>\n",
              "      <td>672.0</td>\n",
              "      <td>626.0</td>\n",
              "      <td>789.5</td>\n",
              "      <td>900.0</td>\n",
              "      <td>751.0</td>\n",
              "      <td>45.0</td>\n",
              "      <td>662.5</td>\n",
              "      <td>714.0</td>\n",
              "      <td>641.5</td>\n",
              "      <td>853.0</td>\n",
              "      <td>940.0</td>\n",
              "      <td>773.5</td>\n",
              "      <td>2</td>\n",
              "    </tr>\n",
              "    <tr>\n",
              "      <th>2</th>\n",
              "      <td>33178860</td>\n",
              "      <td>2019</td>\n",
              "      <td>610.0</td>\n",
              "      <td>662.5</td>\n",
              "      <td>626.0</td>\n",
              "      <td>779.0</td>\n",
              "      <td>910.0</td>\n",
              "      <td>745.5</td>\n",
              "      <td>60.0</td>\n",
              "      <td>652.5</td>\n",
              "      <td>683.5</td>\n",
              "      <td>648.0</td>\n",
              "      <td>848.0</td>\n",
              "      <td>940.0</td>\n",
              "      <td>779.0</td>\n",
              "      <td>3</td>\n",
              "    </tr>\n",
              "    <tr>\n",
              "      <th>3</th>\n",
              "      <td>33135371</td>\n",
              "      <td>2019</td>\n",
              "      <td>613.0</td>\n",
              "      <td>647.0</td>\n",
              "      <td>620.5</td>\n",
              "      <td>744.0</td>\n",
              "      <td>940.0</td>\n",
              "      <td>743.0</td>\n",
              "      <td>99.0</td>\n",
              "      <td>649.5</td>\n",
              "      <td>681.0</td>\n",
              "      <td>641.0</td>\n",
              "      <td>825.0</td>\n",
              "      <td>960.0</td>\n",
              "      <td>769.0</td>\n",
              "      <td>4</td>\n",
              "    </tr>\n",
              "    <tr>\n",
              "      <th>4</th>\n",
              "      <td>33176825</td>\n",
              "      <td>2019</td>\n",
              "      <td>605.5</td>\n",
              "      <td>649.0</td>\n",
              "      <td>620.5</td>\n",
              "      <td>759.0</td>\n",
              "      <td>920.0</td>\n",
              "      <td>742.0</td>\n",
              "      <td>146.0</td>\n",
              "      <td>643.0</td>\n",
              "      <td>682.0</td>\n",
              "      <td>644.5</td>\n",
              "      <td>815.5</td>\n",
              "      <td>960.0</td>\n",
              "      <td>769.0</td>\n",
              "      <td>5</td>\n",
              "    </tr>\n",
              "  </tbody>\n",
              "</table>\n",
              "</div>"
            ],
            "text/plain": [
              "   CO_ESCOLA   Ano  nota_ciências  ...  nota_redação_perc80  nota_final_perc80  rank\n",
              "0   33135827  2019          647.5  ...                960.0              778.0     1\n",
              "1   33062633  2019          636.5  ...                940.0              773.5     2\n",
              "2   33178860  2019          610.0  ...                940.0              779.0     3\n",
              "3   33135371  2019          613.0  ...                960.0              769.0     4\n",
              "4   33176825  2019          605.5  ...                960.0              769.0     5\n",
              "\n",
              "[5 rows x 16 columns]"
            ]
          },
          "metadata": {},
          "execution_count": 16
        }
      ]
    },
    {
      "cell_type": "code",
      "metadata": {
        "colab": {
          "base_uri": "https://localhost:8080/",
          "height": 452
        },
        "id": "e2ba1bac-5bcf-4f7b-94a9-806aebfec11c",
        "outputId": "11573b52-cfc3-42cc-dc95-87fab40d8f71"
      },
      "source": [
        "alt.Chart(\n",
        "    df_enem[df_enem.CO_ESCOLA.isin([CO_SAO_VICENTE])]\n",
        "    # df_enem.query(\"rank <= 30 and NU_ANO == @ANO_ULT\").CO_ESCOLA)]\n",
        ").mark_line(point=True).encode(\n",
        "    x=\"Ano:O\",\n",
        "    y=alt.Y(\"nota_matemática\"),\n",
        "    color=\"CO_ESCOLA:N\",\n",
        "    tooltip=(\"rank\", \"nota_final\", \"nota_final_perc80\", 'nota_matemática'),\n",
        ").properties(\n",
        "    width=800\n",
        ")"
      ],
      "id": "e2ba1bac-5bcf-4f7b-94a9-806aebfec11c",
      "execution_count": 17,
      "outputs": [
        {
          "output_type": "execute_result",
          "data": {
            "text/plain": [
              "alt.Chart(...)"
            ],
            "text/html": [
              "\n",
              "<div id=\"altair-viz-854ed0e4a37f4f7ea492401285fb1a20\"></div>\n",
              "<script type=\"text/javascript\">\n",
              "  (function(spec, embedOpt){\n",
              "    let outputDiv = document.currentScript.previousElementSibling;\n",
              "    if (outputDiv.id !== \"altair-viz-854ed0e4a37f4f7ea492401285fb1a20\") {\n",
              "      outputDiv = document.getElementById(\"altair-viz-854ed0e4a37f4f7ea492401285fb1a20\");\n",
              "    }\n",
              "    const paths = {\n",
              "      \"vega\": \"https://cdn.jsdelivr.net/npm//vega@5?noext\",\n",
              "      \"vega-lib\": \"https://cdn.jsdelivr.net/npm//vega-lib?noext\",\n",
              "      \"vega-lite\": \"https://cdn.jsdelivr.net/npm//vega-lite@4.8.1?noext\",\n",
              "      \"vega-embed\": \"https://cdn.jsdelivr.net/npm//vega-embed@6?noext\",\n",
              "    };\n",
              "\n",
              "    function loadScript(lib) {\n",
              "      return new Promise(function(resolve, reject) {\n",
              "        var s = document.createElement('script');\n",
              "        s.src = paths[lib];\n",
              "        s.async = true;\n",
              "        s.onload = () => resolve(paths[lib]);\n",
              "        s.onerror = () => reject(`Error loading script: ${paths[lib]}`);\n",
              "        document.getElementsByTagName(\"head\")[0].appendChild(s);\n",
              "      });\n",
              "    }\n",
              "\n",
              "    function showError(err) {\n",
              "      outputDiv.innerHTML = `<div class=\"error\" style=\"color:red;\">${err}</div>`;\n",
              "      throw err;\n",
              "    }\n",
              "\n",
              "    function displayChart(vegaEmbed) {\n",
              "      vegaEmbed(outputDiv, spec, embedOpt)\n",
              "        .catch(err => showError(`Javascript Error: ${err.message}<br>This usually means there's a typo in your chart specification. See the javascript console for the full traceback.`));\n",
              "    }\n",
              "\n",
              "    if(typeof define === \"function\" && define.amd) {\n",
              "      requirejs.config({paths});\n",
              "      require([\"vega-embed\"], displayChart, err => showError(`Error loading script: ${err.message}`));\n",
              "    } else if (typeof vegaEmbed === \"function\") {\n",
              "      displayChart(vegaEmbed);\n",
              "    } else {\n",
              "      loadScript(\"vega\")\n",
              "        .then(() => loadScript(\"vega-lite\"))\n",
              "        .then(() => loadScript(\"vega-embed\"))\n",
              "        .catch(showError)\n",
              "        .then(() => displayChart(vegaEmbed));\n",
              "    }\n",
              "  })({\"width\": 800, \"height\": 380, \"config\": {\"title\": {\"anchor\": \"start\", \"fontSize\": 18, \"font\": \"Lato\", \"fontColor\": \"#000000\"}, \"axisX\": {\"domain\": true, \"domainColor\": \"#000000\", \"domainWidth\": 1, \"grid\": false, \"labelFontSize\": 12, \"labelFont\": \"Lato\", \"labelAngle\": 0, \"tickColor\": \"#000000\", \"tickSize\": 5, \"titleFontSize\": 12, \"titlePadding\": 10, \"titleFont\": \"Lato\", \"title\": \"\"}, \"axisY\": {\"domain\": false, \"grid\": true, \"gridColor\": \"#DEDDDD\", \"gridWidth\": 1, \"labelFontSize\": 12, \"labelFont\": \"Lato\", \"labelPadding\": 8, \"ticks\": false, \"titleFontSize\": 12, \"titlePadding\": 10, \"titleFont\": \"Lato\", \"titleAngle\": 0, \"titleY\": -10, \"titleX\": 18}, \"background\": \"#FFFFFF\", \"legend\": {\"labelFontSize\": 12, \"labelFont\": \"Lato\", \"symbolSize\": 100, \"symbolType\": \"square\", \"titleFontSize\": 12, \"titlePadding\": 10, \"titleFont\": \"Lato\", \"title\": \"\", \"orient\": \"top-left\", \"offset\": 0}, \"view\": {\"stroke\": \"transparent\"}, \"range\": {\"category\": [\"#1696d2\", \"#d2d2d2\", \"#000000\", \"#fdbf11\", \"#ec008b\", \"#55b748\", \"#5c5859\", \"#db2b27\"], \"diverging\": [\"#cfe8f3\", \"#a2d4ec\", \"#73bfe2\", \"#46abdb\", \"#1696d2\", \"#12719e\"]}, \"area\": {\"fill\": \"#1696d2\"}, \"line\": {\"color\": \"#1696d2\", \"stroke\": \"#1696d2\", \"strokewidth\": 5}, \"trail\": {\"color\": \"#1696d2\", \"stroke\": \"#1696d2\", \"strokeWidth\": 0, \"size\": 1}, \"path\": {\"stroke\": \"#1696d2\", \"strokeWidth\": 0.5}, \"point\": {\"filled\": true}, \"text\": {\"font\": \"Lato\", \"color\": \"#1696d2\", \"fontSize\": 11, \"align\": \"right\", \"fontWeight\": 400, \"size\": 11}, \"bar\": {\"size\": 40, \"binSpacing\": 1, \"continuousBandSize\": 30, \"discreteBandSize\": 30, \"fill\": \"#1696d2\", \"stroke\": false}}, \"data\": {\"name\": \"data-e816736c7b1be9217da765db34aae00c\"}, \"mark\": {\"type\": \"line\", \"point\": true}, \"encoding\": {\"color\": {\"type\": \"nominal\", \"field\": \"CO_ESCOLA\"}, \"tooltip\": [{\"type\": \"quantitative\", \"field\": \"rank\"}, {\"type\": \"quantitative\", \"field\": \"nota_final\"}, {\"type\": \"quantitative\", \"field\": \"nota_final_perc80\"}, {\"type\": \"quantitative\", \"field\": \"nota_matem\\u00e1tica\"}], \"x\": {\"type\": \"ordinal\", \"field\": \"Ano\"}, \"y\": {\"type\": \"quantitative\", \"field\": \"nota_matem\\u00e1tica\"}}, \"$schema\": \"https://vega.github.io/schema/vega-lite/v4.8.1.json\", \"datasets\": {\"data-e816736c7b1be9217da765db34aae00c\": [{\"CO_ESCOLA\": 33063648, \"Ano\": 2019, \"nota_ci\\u00eancias\": 589.0, \"nota_humanas\": 637.0, \"nota_portugu\\u00eas\": 620.5, \"nota_matem\\u00e1tica\": 732.0, \"nota_reda\\u00e7\\u00e3o\": 860.0, \"nota_final\": 707.0, \"num_alunos\": 59.0, \"nota_ci\\u00eancias_perc80\": 621.0, \"nota_humanas_perc80\": 667.0, \"nota_portugu\\u00eas_perc80\": 640.5, \"nota_matem\\u00e1tica_perc80\": 776.5, \"nota_reda\\u00e7\\u00e3o_perc80\": 908.0, \"nota_final_perc80\": 748.5, \"rank\": 36}, {\"CO_ESCOLA\": 33063648, \"Ano\": 2018, \"nota_ci\\u00eancias\": 603.5, \"nota_humanas\": 676.5, \"nota_portugu\\u00eas\": 640.0, \"nota_matem\\u00e1tica\": 737.0, \"nota_reda\\u00e7\\u00e3o\": 800.0, \"nota_final\": 721.0, \"num_alunos\": 87.0, \"nota_ci\\u00eancias_perc80\": 652.5, \"nota_humanas_perc80\": 708.5, \"nota_portugu\\u00eas_perc80\": 670.5, \"nota_matem\\u00e1tica_perc80\": 782.0, \"nota_reda\\u00e7\\u00e3o_perc80\": 916.0, \"nota_final_perc80\": 760.0, \"rank\": 39}, {\"CO_ESCOLA\": 33063648, \"Ano\": 2017, \"nota_ci\\u00eancias\": 622.5, \"nota_humanas\": 655.5, \"nota_portugu\\u00eas\": 617.0, \"nota_matem\\u00e1tica\": 761.5, \"nota_reda\\u00e7\\u00e3o\": 780.0, \"nota_final\": 700.0, \"num_alunos\": 107.0, \"nota_ci\\u00eancias_perc80\": 656.5, \"nota_humanas_perc80\": 681.5, \"nota_portugu\\u00eas_perc80\": 644.0, \"nota_matem\\u00e1tica_perc80\": 814.0, \"nota_reda\\u00e7\\u00e3o_perc80\": 900.0, \"nota_final_perc80\": 747.0, \"rank\": 29}, {\"CO_ESCOLA\": 33063648, \"Ano\": 2016, \"nota_ci\\u00eancias\": 632.5, \"nota_humanas\": 656.0, \"nota_portugu\\u00eas\": 641.5, \"nota_matem\\u00e1tica\": 704.5, \"nota_reda\\u00e7\\u00e3o\": 800.0, \"nota_final\": 703.0, \"num_alunos\": 95.0, \"nota_ci\\u00eancias_perc80\": 657.5, \"nota_humanas_perc80\": 697.5, \"nota_portugu\\u00eas_perc80\": 665.5, \"nota_matem\\u00e1tica_perc80\": 791.0, \"nota_reda\\u00e7\\u00e3o_perc80\": 884.0, \"nota_final_perc80\": 745.5, \"rank\": 25}, {\"CO_ESCOLA\": 33063648, \"Ano\": 2015, \"nota_ci\\u00eancias\": 632.0, \"nota_humanas\": 674.0, \"nota_portugu\\u00eas\": 618.5, \"nota_matem\\u00e1tica\": 716.0, \"nota_reda\\u00e7\\u00e3o\": 760.0, \"nota_final\": 701.0, \"num_alunos\": 103.0, \"nota_ci\\u00eancias_perc80\": 676.5, \"nota_humanas_perc80\": 718.0, \"nota_portugu\\u00eas_perc80\": 647.5, \"nota_matem\\u00e1tica_perc80\": 807.5, \"nota_reda\\u00e7\\u00e3o_perc80\": 880.0, \"nota_final_perc80\": 753.5, \"rank\": 19}, {\"CO_ESCOLA\": 33063648, \"Ano\": 2014, \"nota_ci\\u00eancias\": 627.0, \"nota_humanas\": 676.0, \"nota_portugu\\u00eas\": 625.5, \"nota_matem\\u00e1tica\": 710.0, \"nota_reda\\u00e7\\u00e3o\": 740.0, \"nota_final\": 695.0, \"num_alunos\": 104.0, \"nota_ci\\u00eancias_perc80\": 664.0, \"nota_humanas_perc80\": 694.0, \"nota_portugu\\u00eas_perc80\": 651.0, \"nota_matem\\u00e1tica_perc80\": 807.0, \"nota_reda\\u00e7\\u00e3o_perc80\": 840.0, \"nota_final_perc80\": 730.0, \"rank\": 20}, {\"CO_ESCOLA\": 33063648, \"Ano\": 2013, \"nota_ci\\u00eancias\": 623.0, \"nota_humanas\": 684.5, \"nota_portugu\\u00eas\": 624.5, \"nota_matem\\u00e1tica\": 731.5, \"nota_reda\\u00e7\\u00e3o\": 740.0, \"nota_final\": 690.0, \"num_alunos\": 94.0, \"nota_ci\\u00eancias_perc80\": 674.0, \"nota_humanas_perc80\": 730.0, \"nota_portugu\\u00eas_perc80\": 667.5, \"nota_matem\\u00e1tica_perc80\": 779.5, \"nota_reda\\u00e7\\u00e3o_perc80\": 880.0, \"nota_final_perc80\": 749.5, \"rank\": 22}]}}, {\"mode\": \"vega-lite\"});\n",
              "</script>"
            ]
          },
          "metadata": {},
          "execution_count": 17
        }
      ]
    },
    {
      "cell_type": "code",
      "metadata": {
        "colab": {
          "base_uri": "https://localhost:8080/",
          "height": 452
        },
        "id": "fac03d98-4c98-41df-acee-bbdd4c829e82",
        "outputId": "a544ebe6-b1ff-4233-f1b8-a8b387d5d1b3"
      },
      "source": [
        "materias = alt.Chart(\n",
        "    df_enem[df_enem.CO_ESCOLA == CO_SAO_VICENTE].melt(\n",
        "        id_vars=\"Ano\",\n",
        "        value_vars=[c for c in df_enem.columns if c.startswith(\"nota_\") and not c.endswith('80')],\n",
        "        var_name=\"Matéria\",\n",
        "        value_name=\"Nota\",\n",
        "    )\n",
        ").mark_line(point=True).encode(\n",
        "    x=\"Ano:O\",\n",
        "    y=alt.Y(\"Nota\", scale=alt.Scale(zero=False)),\n",
        "    color=\"Matéria\", tooltip=[ \"Matéria\", \"Nota\",\"Ano\"]\n",
        "    #tooltip=(f'{i}:Q' for i in df_enem.columns if i.startswith('nota_')),\n",
        ").properties(\n",
        "    width=800\n",
        ")\n",
        "materias"
      ],
      "id": "fac03d98-4c98-41df-acee-bbdd4c829e82",
      "execution_count": 18,
      "outputs": [
        {
          "output_type": "execute_result",
          "data": {
            "text/plain": [
              "alt.Chart(...)"
            ],
            "text/html": [
              "\n",
              "<div id=\"altair-viz-3bb78a398dfc4de69d10f9e442768e04\"></div>\n",
              "<script type=\"text/javascript\">\n",
              "  (function(spec, embedOpt){\n",
              "    let outputDiv = document.currentScript.previousElementSibling;\n",
              "    if (outputDiv.id !== \"altair-viz-3bb78a398dfc4de69d10f9e442768e04\") {\n",
              "      outputDiv = document.getElementById(\"altair-viz-3bb78a398dfc4de69d10f9e442768e04\");\n",
              "    }\n",
              "    const paths = {\n",
              "      \"vega\": \"https://cdn.jsdelivr.net/npm//vega@5?noext\",\n",
              "      \"vega-lib\": \"https://cdn.jsdelivr.net/npm//vega-lib?noext\",\n",
              "      \"vega-lite\": \"https://cdn.jsdelivr.net/npm//vega-lite@4.8.1?noext\",\n",
              "      \"vega-embed\": \"https://cdn.jsdelivr.net/npm//vega-embed@6?noext\",\n",
              "    };\n",
              "\n",
              "    function loadScript(lib) {\n",
              "      return new Promise(function(resolve, reject) {\n",
              "        var s = document.createElement('script');\n",
              "        s.src = paths[lib];\n",
              "        s.async = true;\n",
              "        s.onload = () => resolve(paths[lib]);\n",
              "        s.onerror = () => reject(`Error loading script: ${paths[lib]}`);\n",
              "        document.getElementsByTagName(\"head\")[0].appendChild(s);\n",
              "      });\n",
              "    }\n",
              "\n",
              "    function showError(err) {\n",
              "      outputDiv.innerHTML = `<div class=\"error\" style=\"color:red;\">${err}</div>`;\n",
              "      throw err;\n",
              "    }\n",
              "\n",
              "    function displayChart(vegaEmbed) {\n",
              "      vegaEmbed(outputDiv, spec, embedOpt)\n",
              "        .catch(err => showError(`Javascript Error: ${err.message}<br>This usually means there's a typo in your chart specification. See the javascript console for the full traceback.`));\n",
              "    }\n",
              "\n",
              "    if(typeof define === \"function\" && define.amd) {\n",
              "      requirejs.config({paths});\n",
              "      require([\"vega-embed\"], displayChart, err => showError(`Error loading script: ${err.message}`));\n",
              "    } else if (typeof vegaEmbed === \"function\") {\n",
              "      displayChart(vegaEmbed);\n",
              "    } else {\n",
              "      loadScript(\"vega\")\n",
              "        .then(() => loadScript(\"vega-lite\"))\n",
              "        .then(() => loadScript(\"vega-embed\"))\n",
              "        .catch(showError)\n",
              "        .then(() => displayChart(vegaEmbed));\n",
              "    }\n",
              "  })({\"width\": 800, \"height\": 380, \"config\": {\"title\": {\"anchor\": \"start\", \"fontSize\": 18, \"font\": \"Lato\", \"fontColor\": \"#000000\"}, \"axisX\": {\"domain\": true, \"domainColor\": \"#000000\", \"domainWidth\": 1, \"grid\": false, \"labelFontSize\": 12, \"labelFont\": \"Lato\", \"labelAngle\": 0, \"tickColor\": \"#000000\", \"tickSize\": 5, \"titleFontSize\": 12, \"titlePadding\": 10, \"titleFont\": \"Lato\", \"title\": \"\"}, \"axisY\": {\"domain\": false, \"grid\": true, \"gridColor\": \"#DEDDDD\", \"gridWidth\": 1, \"labelFontSize\": 12, \"labelFont\": \"Lato\", \"labelPadding\": 8, \"ticks\": false, \"titleFontSize\": 12, \"titlePadding\": 10, \"titleFont\": \"Lato\", \"titleAngle\": 0, \"titleY\": -10, \"titleX\": 18}, \"background\": \"#FFFFFF\", \"legend\": {\"labelFontSize\": 12, \"labelFont\": \"Lato\", \"symbolSize\": 100, \"symbolType\": \"square\", \"titleFontSize\": 12, \"titlePadding\": 10, \"titleFont\": \"Lato\", \"title\": \"\", \"orient\": \"top-left\", \"offset\": 0}, \"view\": {\"stroke\": \"transparent\"}, \"range\": {\"category\": [\"#1696d2\", \"#d2d2d2\", \"#000000\", \"#fdbf11\", \"#ec008b\", \"#55b748\", \"#5c5859\", \"#db2b27\"], \"diverging\": [\"#cfe8f3\", \"#a2d4ec\", \"#73bfe2\", \"#46abdb\", \"#1696d2\", \"#12719e\"]}, \"area\": {\"fill\": \"#1696d2\"}, \"line\": {\"color\": \"#1696d2\", \"stroke\": \"#1696d2\", \"strokewidth\": 5}, \"trail\": {\"color\": \"#1696d2\", \"stroke\": \"#1696d2\", \"strokeWidth\": 0, \"size\": 1}, \"path\": {\"stroke\": \"#1696d2\", \"strokeWidth\": 0.5}, \"point\": {\"filled\": true}, \"text\": {\"font\": \"Lato\", \"color\": \"#1696d2\", \"fontSize\": 11, \"align\": \"right\", \"fontWeight\": 400, \"size\": 11}, \"bar\": {\"size\": 40, \"binSpacing\": 1, \"continuousBandSize\": 30, \"discreteBandSize\": 30, \"fill\": \"#1696d2\", \"stroke\": false}}, \"data\": {\"name\": \"data-8bfb241b64628fe09dfdd77847a7aa4d\"}, \"mark\": {\"type\": \"line\", \"point\": true}, \"encoding\": {\"color\": {\"type\": \"nominal\", \"field\": \"Mat\\u00e9ria\"}, \"tooltip\": [{\"type\": \"nominal\", \"field\": \"Mat\\u00e9ria\"}, {\"type\": \"quantitative\", \"field\": \"Nota\"}, {\"type\": \"quantitative\", \"field\": \"Ano\"}], \"x\": {\"type\": \"ordinal\", \"field\": \"Ano\"}, \"y\": {\"type\": \"quantitative\", \"field\": \"Nota\", \"scale\": {\"zero\": false}}}, \"$schema\": \"https://vega.github.io/schema/vega-lite/v4.8.1.json\", \"datasets\": {\"data-8bfb241b64628fe09dfdd77847a7aa4d\": [{\"Ano\": 2019, \"Mat\\u00e9ria\": \"nota_ci\\u00eancias\", \"Nota\": 589.0}, {\"Ano\": 2018, \"Mat\\u00e9ria\": \"nota_ci\\u00eancias\", \"Nota\": 603.5}, {\"Ano\": 2017, \"Mat\\u00e9ria\": \"nota_ci\\u00eancias\", \"Nota\": 622.5}, {\"Ano\": 2016, \"Mat\\u00e9ria\": \"nota_ci\\u00eancias\", \"Nota\": 632.5}, {\"Ano\": 2015, \"Mat\\u00e9ria\": \"nota_ci\\u00eancias\", \"Nota\": 632.0}, {\"Ano\": 2014, \"Mat\\u00e9ria\": \"nota_ci\\u00eancias\", \"Nota\": 627.0}, {\"Ano\": 2013, \"Mat\\u00e9ria\": \"nota_ci\\u00eancias\", \"Nota\": 623.0}, {\"Ano\": 2019, \"Mat\\u00e9ria\": \"nota_humanas\", \"Nota\": 637.0}, {\"Ano\": 2018, \"Mat\\u00e9ria\": \"nota_humanas\", \"Nota\": 676.5}, {\"Ano\": 2017, \"Mat\\u00e9ria\": \"nota_humanas\", \"Nota\": 655.5}, {\"Ano\": 2016, \"Mat\\u00e9ria\": \"nota_humanas\", \"Nota\": 656.0}, {\"Ano\": 2015, \"Mat\\u00e9ria\": \"nota_humanas\", \"Nota\": 674.0}, {\"Ano\": 2014, \"Mat\\u00e9ria\": \"nota_humanas\", \"Nota\": 676.0}, {\"Ano\": 2013, \"Mat\\u00e9ria\": \"nota_humanas\", \"Nota\": 684.5}, {\"Ano\": 2019, \"Mat\\u00e9ria\": \"nota_portugu\\u00eas\", \"Nota\": 620.5}, {\"Ano\": 2018, \"Mat\\u00e9ria\": \"nota_portugu\\u00eas\", \"Nota\": 640.0}, {\"Ano\": 2017, \"Mat\\u00e9ria\": \"nota_portugu\\u00eas\", \"Nota\": 617.0}, {\"Ano\": 2016, \"Mat\\u00e9ria\": \"nota_portugu\\u00eas\", \"Nota\": 641.5}, {\"Ano\": 2015, \"Mat\\u00e9ria\": \"nota_portugu\\u00eas\", \"Nota\": 618.5}, {\"Ano\": 2014, \"Mat\\u00e9ria\": \"nota_portugu\\u00eas\", \"Nota\": 625.5}, {\"Ano\": 2013, \"Mat\\u00e9ria\": \"nota_portugu\\u00eas\", \"Nota\": 624.5}, {\"Ano\": 2019, \"Mat\\u00e9ria\": \"nota_matem\\u00e1tica\", \"Nota\": 732.0}, {\"Ano\": 2018, \"Mat\\u00e9ria\": \"nota_matem\\u00e1tica\", \"Nota\": 737.0}, {\"Ano\": 2017, \"Mat\\u00e9ria\": \"nota_matem\\u00e1tica\", \"Nota\": 761.5}, {\"Ano\": 2016, \"Mat\\u00e9ria\": \"nota_matem\\u00e1tica\", \"Nota\": 704.5}, {\"Ano\": 2015, \"Mat\\u00e9ria\": \"nota_matem\\u00e1tica\", \"Nota\": 716.0}, {\"Ano\": 2014, \"Mat\\u00e9ria\": \"nota_matem\\u00e1tica\", \"Nota\": 710.0}, {\"Ano\": 2013, \"Mat\\u00e9ria\": \"nota_matem\\u00e1tica\", \"Nota\": 731.5}, {\"Ano\": 2019, \"Mat\\u00e9ria\": \"nota_reda\\u00e7\\u00e3o\", \"Nota\": 860.0}, {\"Ano\": 2018, \"Mat\\u00e9ria\": \"nota_reda\\u00e7\\u00e3o\", \"Nota\": 800.0}, {\"Ano\": 2017, \"Mat\\u00e9ria\": \"nota_reda\\u00e7\\u00e3o\", \"Nota\": 780.0}, {\"Ano\": 2016, \"Mat\\u00e9ria\": \"nota_reda\\u00e7\\u00e3o\", \"Nota\": 800.0}, {\"Ano\": 2015, \"Mat\\u00e9ria\": \"nota_reda\\u00e7\\u00e3o\", \"Nota\": 760.0}, {\"Ano\": 2014, \"Mat\\u00e9ria\": \"nota_reda\\u00e7\\u00e3o\", \"Nota\": 740.0}, {\"Ano\": 2013, \"Mat\\u00e9ria\": \"nota_reda\\u00e7\\u00e3o\", \"Nota\": 740.0}, {\"Ano\": 2019, \"Mat\\u00e9ria\": \"nota_final\", \"Nota\": 707.0}, {\"Ano\": 2018, \"Mat\\u00e9ria\": \"nota_final\", \"Nota\": 721.0}, {\"Ano\": 2017, \"Mat\\u00e9ria\": \"nota_final\", \"Nota\": 700.0}, {\"Ano\": 2016, \"Mat\\u00e9ria\": \"nota_final\", \"Nota\": 703.0}, {\"Ano\": 2015, \"Mat\\u00e9ria\": \"nota_final\", \"Nota\": 701.0}, {\"Ano\": 2014, \"Mat\\u00e9ria\": \"nota_final\", \"Nota\": 695.0}, {\"Ano\": 2013, \"Mat\\u00e9ria\": \"nota_final\", \"Nota\": 690.0}]}}, {\"mode\": \"vega-lite\"});\n",
              "</script>"
            ]
          },
          "metadata": {},
          "execution_count": 18
        }
      ]
    },
    {
      "cell_type": "code",
      "metadata": {
        "id": "9NQX6_8lsSOY"
      },
      "source": [
        ""
      ],
      "id": "9NQX6_8lsSOY",
      "execution_count": 18,
      "outputs": []
    },
    {
      "cell_type": "code",
      "metadata": {
        "colab": {
          "base_uri": "https://localhost:8080/",
          "height": 226
        },
        "id": "Z99JpQNvqZQf",
        "outputId": "04742e18-4636-43ab-d8fc-46d7cf7ff296"
      },
      "source": [
        "df_enem[:5]#.head()"
      ],
      "id": "Z99JpQNvqZQf",
      "execution_count": 19,
      "outputs": [
        {
          "output_type": "execute_result",
          "data": {
            "text/html": [
              "<div>\n",
              "<style scoped>\n",
              "    .dataframe tbody tr th:only-of-type {\n",
              "        vertical-align: middle;\n",
              "    }\n",
              "\n",
              "    .dataframe tbody tr th {\n",
              "        vertical-align: top;\n",
              "    }\n",
              "\n",
              "    .dataframe thead th {\n",
              "        text-align: right;\n",
              "    }\n",
              "</style>\n",
              "<table border=\"1\" class=\"dataframe\">\n",
              "  <thead>\n",
              "    <tr style=\"text-align: right;\">\n",
              "      <th></th>\n",
              "      <th>CO_ESCOLA</th>\n",
              "      <th>Ano</th>\n",
              "      <th>nota_ciências</th>\n",
              "      <th>nota_humanas</th>\n",
              "      <th>nota_português</th>\n",
              "      <th>nota_matemática</th>\n",
              "      <th>nota_redação</th>\n",
              "      <th>nota_final</th>\n",
              "      <th>num_alunos</th>\n",
              "      <th>nota_ciências_perc80</th>\n",
              "      <th>nota_humanas_perc80</th>\n",
              "      <th>nota_português_perc80</th>\n",
              "      <th>nota_matemática_perc80</th>\n",
              "      <th>nota_redação_perc80</th>\n",
              "      <th>nota_final_perc80</th>\n",
              "      <th>rank</th>\n",
              "    </tr>\n",
              "  </thead>\n",
              "  <tbody>\n",
              "    <tr>\n",
              "      <th>0</th>\n",
              "      <td>33135827</td>\n",
              "      <td>2019</td>\n",
              "      <td>647.5</td>\n",
              "      <td>651.0</td>\n",
              "      <td>627.0</td>\n",
              "      <td>789.0</td>\n",
              "      <td>940.0</td>\n",
              "      <td>758.0</td>\n",
              "      <td>31.0</td>\n",
              "      <td>676.0</td>\n",
              "      <td>685.5</td>\n",
              "      <td>641.5</td>\n",
              "      <td>823.0</td>\n",
              "      <td>960.0</td>\n",
              "      <td>778.0</td>\n",
              "      <td>1</td>\n",
              "    </tr>\n",
              "    <tr>\n",
              "      <th>1</th>\n",
              "      <td>33062633</td>\n",
              "      <td>2019</td>\n",
              "      <td>636.5</td>\n",
              "      <td>672.0</td>\n",
              "      <td>626.0</td>\n",
              "      <td>789.5</td>\n",
              "      <td>900.0</td>\n",
              "      <td>751.0</td>\n",
              "      <td>45.0</td>\n",
              "      <td>662.5</td>\n",
              "      <td>714.0</td>\n",
              "      <td>641.5</td>\n",
              "      <td>853.0</td>\n",
              "      <td>940.0</td>\n",
              "      <td>773.5</td>\n",
              "      <td>2</td>\n",
              "    </tr>\n",
              "    <tr>\n",
              "      <th>2</th>\n",
              "      <td>33178860</td>\n",
              "      <td>2019</td>\n",
              "      <td>610.0</td>\n",
              "      <td>662.5</td>\n",
              "      <td>626.0</td>\n",
              "      <td>779.0</td>\n",
              "      <td>910.0</td>\n",
              "      <td>745.5</td>\n",
              "      <td>60.0</td>\n",
              "      <td>652.5</td>\n",
              "      <td>683.5</td>\n",
              "      <td>648.0</td>\n",
              "      <td>848.0</td>\n",
              "      <td>940.0</td>\n",
              "      <td>779.0</td>\n",
              "      <td>3</td>\n",
              "    </tr>\n",
              "    <tr>\n",
              "      <th>3</th>\n",
              "      <td>33135371</td>\n",
              "      <td>2019</td>\n",
              "      <td>613.0</td>\n",
              "      <td>647.0</td>\n",
              "      <td>620.5</td>\n",
              "      <td>744.0</td>\n",
              "      <td>940.0</td>\n",
              "      <td>743.0</td>\n",
              "      <td>99.0</td>\n",
              "      <td>649.5</td>\n",
              "      <td>681.0</td>\n",
              "      <td>641.0</td>\n",
              "      <td>825.0</td>\n",
              "      <td>960.0</td>\n",
              "      <td>769.0</td>\n",
              "      <td>4</td>\n",
              "    </tr>\n",
              "    <tr>\n",
              "      <th>4</th>\n",
              "      <td>33176825</td>\n",
              "      <td>2019</td>\n",
              "      <td>605.5</td>\n",
              "      <td>649.0</td>\n",
              "      <td>620.5</td>\n",
              "      <td>759.0</td>\n",
              "      <td>920.0</td>\n",
              "      <td>742.0</td>\n",
              "      <td>146.0</td>\n",
              "      <td>643.0</td>\n",
              "      <td>682.0</td>\n",
              "      <td>644.5</td>\n",
              "      <td>815.5</td>\n",
              "      <td>960.0</td>\n",
              "      <td>769.0</td>\n",
              "      <td>5</td>\n",
              "    </tr>\n",
              "  </tbody>\n",
              "</table>\n",
              "</div>"
            ],
            "text/plain": [
              "   CO_ESCOLA   Ano  nota_ciências  ...  nota_redação_perc80  nota_final_perc80  rank\n",
              "0   33135827  2019          647.5  ...                960.0              778.0     1\n",
              "1   33062633  2019          636.5  ...                940.0              773.5     2\n",
              "2   33178860  2019          610.0  ...                940.0              779.0     3\n",
              "3   33135371  2019          613.0  ...                960.0              769.0     4\n",
              "4   33176825  2019          605.5  ...                960.0              769.0     5\n",
              "\n",
              "[5 rows x 16 columns]"
            ]
          },
          "metadata": {},
          "execution_count": 19
        }
      ]
    },
    {
      "cell_type": "code",
      "metadata": {
        "colab": {
          "base_uri": "https://localhost:8080/",
          "height": 424
        },
        "id": "8e8bb984-4416-48e1-a33e-fd04b9b06082",
        "outputId": "88dc469a-5a37-4451-b782-a892ef8476f1"
      },
      "source": [
        "df_enem[df_enem.CO_ESCOLA == CO_SAO_VICENTE].melt(\n",
        "        id_vars=\"Ano\",\n",
        "        value_vars=[c for c in df_enem.columns if c.startswith(\"nota_\")],\n",
        "        var_name=\"Matéria\",\n",
        "        value_name=\"Nota\",\n",
        "    )"
      ],
      "id": "8e8bb984-4416-48e1-a33e-fd04b9b06082",
      "execution_count": 20,
      "outputs": [
        {
          "output_type": "execute_result",
          "data": {
            "text/html": [
              "<div>\n",
              "<style scoped>\n",
              "    .dataframe tbody tr th:only-of-type {\n",
              "        vertical-align: middle;\n",
              "    }\n",
              "\n",
              "    .dataframe tbody tr th {\n",
              "        vertical-align: top;\n",
              "    }\n",
              "\n",
              "    .dataframe thead th {\n",
              "        text-align: right;\n",
              "    }\n",
              "</style>\n",
              "<table border=\"1\" class=\"dataframe\">\n",
              "  <thead>\n",
              "    <tr style=\"text-align: right;\">\n",
              "      <th></th>\n",
              "      <th>Ano</th>\n",
              "      <th>Matéria</th>\n",
              "      <th>Nota</th>\n",
              "    </tr>\n",
              "  </thead>\n",
              "  <tbody>\n",
              "    <tr>\n",
              "      <th>0</th>\n",
              "      <td>2019</td>\n",
              "      <td>nota_ciências</td>\n",
              "      <td>589.0</td>\n",
              "    </tr>\n",
              "    <tr>\n",
              "      <th>1</th>\n",
              "      <td>2018</td>\n",
              "      <td>nota_ciências</td>\n",
              "      <td>603.5</td>\n",
              "    </tr>\n",
              "    <tr>\n",
              "      <th>2</th>\n",
              "      <td>2017</td>\n",
              "      <td>nota_ciências</td>\n",
              "      <td>622.5</td>\n",
              "    </tr>\n",
              "    <tr>\n",
              "      <th>3</th>\n",
              "      <td>2016</td>\n",
              "      <td>nota_ciências</td>\n",
              "      <td>632.5</td>\n",
              "    </tr>\n",
              "    <tr>\n",
              "      <th>4</th>\n",
              "      <td>2015</td>\n",
              "      <td>nota_ciências</td>\n",
              "      <td>632.0</td>\n",
              "    </tr>\n",
              "    <tr>\n",
              "      <th>...</th>\n",
              "      <td>...</td>\n",
              "      <td>...</td>\n",
              "      <td>...</td>\n",
              "    </tr>\n",
              "    <tr>\n",
              "      <th>79</th>\n",
              "      <td>2017</td>\n",
              "      <td>nota_final_perc80</td>\n",
              "      <td>747.0</td>\n",
              "    </tr>\n",
              "    <tr>\n",
              "      <th>80</th>\n",
              "      <td>2016</td>\n",
              "      <td>nota_final_perc80</td>\n",
              "      <td>745.5</td>\n",
              "    </tr>\n",
              "    <tr>\n",
              "      <th>81</th>\n",
              "      <td>2015</td>\n",
              "      <td>nota_final_perc80</td>\n",
              "      <td>753.5</td>\n",
              "    </tr>\n",
              "    <tr>\n",
              "      <th>82</th>\n",
              "      <td>2014</td>\n",
              "      <td>nota_final_perc80</td>\n",
              "      <td>730.0</td>\n",
              "    </tr>\n",
              "    <tr>\n",
              "      <th>83</th>\n",
              "      <td>2013</td>\n",
              "      <td>nota_final_perc80</td>\n",
              "      <td>749.5</td>\n",
              "    </tr>\n",
              "  </tbody>\n",
              "</table>\n",
              "<p>84 rows × 3 columns</p>\n",
              "</div>"
            ],
            "text/plain": [
              "     Ano            Matéria   Nota\n",
              "0   2019      nota_ciências  589.0\n",
              "1   2018      nota_ciências  603.5\n",
              "2   2017      nota_ciências  622.5\n",
              "3   2016      nota_ciências  632.5\n",
              "4   2015      nota_ciências  632.0\n",
              "..   ...                ...    ...\n",
              "79  2017  nota_final_perc80  747.0\n",
              "80  2016  nota_final_perc80  745.5\n",
              "81  2015  nota_final_perc80  753.5\n",
              "82  2014  nota_final_perc80  730.0\n",
              "83  2013  nota_final_perc80  749.5\n",
              "\n",
              "[84 rows x 3 columns]"
            ]
          },
          "metadata": {},
          "execution_count": 20
        }
      ]
    },
    {
      "cell_type": "markdown",
      "metadata": {
        "id": "066be492-eb2a-4614-ae34-f5d0568e092a"
      },
      "source": [
        "3. em que percentil tem ficado as notas?"
      ],
      "id": "066be492-eb2a-4614-ae34-f5d0568e092a"
    },
    {
      "cell_type": "code",
      "metadata": {
        "id": "h6uQSFRtJvIg",
        "outputId": "27cc1c75-0262-457e-9a4f-9a1770e42407",
        "colab": {
          "base_uri": "https://localhost:8080/",
          "height": 557
        }
      },
      "source": [
        "brush = alt.selection_single()\n",
        "df = df_enem[:60]\n",
        "base = alt.Chart(df)\n",
        "\n",
        "median = (base.mark_bar(size=20, color='cornflowerblue')\n",
        "          .encode(x=alt.X(\"CO_ESCOLA:N\", sort=alt.SortField(\"rank\")), \n",
        "                  y=\"nota_final:Q\", \n",
        "                  tooltip=['nota_final', 'nota_final_perc80', 'rank'],\n",
        "                  opacity=alt.condition(brush, alt.value(1), alt.value(.6)))\n",
        " \n",
        ").add_selection(brush)\n",
        "\n",
        "perc80 = (base.mark_bar(size=30,  color='lightgray', opacity=.8)\n",
        "          .encode(x=alt.X(\"CO_ESCOLA:N\", sort=alt.SortField(\"rank\")), \n",
        "                  y=\"nota_final_perc80:Q\")\n",
        " \n",
        ")\n",
        "\n",
        "alt.vconcat( \n",
        "    (perc80 + median).properties( width=alt.Step(45)).interactive(),\n",
        "    materias.properties(width=600) | line_chart(df_sv_periodo_per).properties(width=400)  \n",
        ")"
      ],
      "id": "h6uQSFRtJvIg",
      "execution_count": 72,
      "outputs": [
        {
          "output_type": "execute_result",
          "data": {
            "text/plain": [
              "alt.VConcatChart(...)"
            ],
            "text/html": [
              "\n",
              "<div id=\"altair-viz-c1e26a63683944ba9e4ab3f8b2add91b\"></div>\n",
              "<script type=\"text/javascript\">\n",
              "  (function(spec, embedOpt){\n",
              "    let outputDiv = document.currentScript.previousElementSibling;\n",
              "    if (outputDiv.id !== \"altair-viz-c1e26a63683944ba9e4ab3f8b2add91b\") {\n",
              "      outputDiv = document.getElementById(\"altair-viz-c1e26a63683944ba9e4ab3f8b2add91b\");\n",
              "    }\n",
              "    const paths = {\n",
              "      \"vega\": \"https://cdn.jsdelivr.net/npm//vega@5?noext\",\n",
              "      \"vega-lib\": \"https://cdn.jsdelivr.net/npm//vega-lib?noext\",\n",
              "      \"vega-lite\": \"https://cdn.jsdelivr.net/npm//vega-lite@4.8.1?noext\",\n",
              "      \"vega-embed\": \"https://cdn.jsdelivr.net/npm//vega-embed@6?noext\",\n",
              "    };\n",
              "\n",
              "    function loadScript(lib) {\n",
              "      return new Promise(function(resolve, reject) {\n",
              "        var s = document.createElement('script');\n",
              "        s.src = paths[lib];\n",
              "        s.async = true;\n",
              "        s.onload = () => resolve(paths[lib]);\n",
              "        s.onerror = () => reject(`Error loading script: ${paths[lib]}`);\n",
              "        document.getElementsByTagName(\"head\")[0].appendChild(s);\n",
              "      });\n",
              "    }\n",
              "\n",
              "    function showError(err) {\n",
              "      outputDiv.innerHTML = `<div class=\"error\" style=\"color:red;\">${err}</div>`;\n",
              "      throw err;\n",
              "    }\n",
              "\n",
              "    function displayChart(vegaEmbed) {\n",
              "      vegaEmbed(outputDiv, spec, embedOpt)\n",
              "        .catch(err => showError(`Javascript Error: ${err.message}<br>This usually means there's a typo in your chart specification. See the javascript console for the full traceback.`));\n",
              "    }\n",
              "\n",
              "    if(typeof define === \"function\" && define.amd) {\n",
              "      requirejs.config({paths});\n",
              "      require([\"vega-embed\"], displayChart, err => showError(`Error loading script: ${err.message}`));\n",
              "    } else if (typeof vegaEmbed === \"function\") {\n",
              "      displayChart(vegaEmbed);\n",
              "    } else {\n",
              "      loadScript(\"vega\")\n",
              "        .then(() => loadScript(\"vega-lite\"))\n",
              "        .then(() => loadScript(\"vega-embed\"))\n",
              "        .catch(showError)\n",
              "        .then(() => displayChart(vegaEmbed));\n",
              "    }\n",
              "  })({\"width\": 685, \"height\": 380, \"config\": {\"title\": {\"anchor\": \"start\", \"fontSize\": 18, \"font\": \"Lato\", \"fontColor\": \"#000000\"}, \"axisX\": {\"domain\": true, \"domainColor\": \"#000000\", \"domainWidth\": 1, \"grid\": false, \"labelFontSize\": 12, \"labelFont\": \"Lato\", \"labelAngle\": 0, \"tickColor\": \"#000000\", \"tickSize\": 5, \"titleFontSize\": 12, \"titlePadding\": 10, \"titleFont\": \"Lato\", \"title\": \"\"}, \"axisY\": {\"domain\": false, \"grid\": true, \"gridColor\": \"#DEDDDD\", \"gridWidth\": 1, \"labelFontSize\": 12, \"labelFont\": \"Lato\", \"labelPadding\": 8, \"ticks\": false, \"titleFontSize\": 12, \"titlePadding\": 10, \"titleFont\": \"Lato\", \"titleAngle\": 0, \"titleY\": -10, \"titleX\": 18}, \"background\": \"#FFFFFF\", \"legend\": {\"labelFontSize\": 12, \"labelFont\": \"Lato\", \"symbolSize\": 100, \"symbolType\": \"square\", \"titleFontSize\": 12, \"titlePadding\": 10, \"titleFont\": \"Lato\", \"title\": \"\", \"orient\": \"top-left\", \"offset\": 0}, \"view\": {\"stroke\": \"transparent\"}, \"range\": {\"category\": [\"#1696d2\", \"#d2d2d2\", \"#000000\", \"#fdbf11\", \"#ec008b\", \"#55b748\", \"#5c5859\", \"#db2b27\"], \"diverging\": [\"#cfe8f3\", \"#a2d4ec\", \"#73bfe2\", \"#46abdb\", \"#1696d2\", \"#12719e\"]}, \"area\": {\"fill\": \"#1696d2\"}, \"line\": {\"color\": \"#1696d2\", \"stroke\": \"#1696d2\", \"strokewidth\": 5}, \"trail\": {\"color\": \"#1696d2\", \"stroke\": \"#1696d2\", \"strokeWidth\": 0, \"size\": 1}, \"path\": {\"stroke\": \"#1696d2\", \"strokeWidth\": 0.5}, \"point\": {\"filled\": true}, \"text\": {\"font\": \"Lato\", \"color\": \"#1696d2\", \"fontSize\": 11, \"align\": \"right\", \"fontWeight\": 400, \"size\": 11}, \"bar\": {\"size\": 40, \"binSpacing\": 1, \"continuousBandSize\": 30, \"discreteBandSize\": 30, \"fill\": \"#1696d2\", \"stroke\": false}}, \"vconcat\": [{\"layer\": [{\"mark\": {\"type\": \"bar\", \"color\": \"lightgray\", \"opacity\": 0.8, \"size\": 30}, \"encoding\": {\"x\": {\"type\": \"nominal\", \"field\": \"CO_ESCOLA\", \"sort\": {\"field\": \"rank\"}}, \"y\": {\"type\": \"quantitative\", \"field\": \"nota_final_perc80\"}}, \"selection\": {\"selector044\": {\"type\": \"interval\", \"bind\": \"scales\", \"encodings\": [\"x\", \"y\"]}}}, {\"mark\": {\"type\": \"bar\", \"color\": \"cornflowerblue\", \"size\": 20}, \"encoding\": {\"opacity\": {\"condition\": {\"value\": 1, \"selection\": \"selector043\"}, \"value\": 0.6}, \"tooltip\": [{\"type\": \"quantitative\", \"field\": \"nota_final\"}, {\"type\": \"quantitative\", \"field\": \"nota_final_perc80\"}, {\"type\": \"quantitative\", \"field\": \"rank\"}], \"x\": {\"type\": \"nominal\", \"field\": \"CO_ESCOLA\", \"sort\": {\"field\": \"rank\"}}, \"y\": {\"type\": \"quantitative\", \"field\": \"nota_final\"}}, \"selection\": {\"selector043\": {\"type\": \"single\"}}}], \"data\": {\"name\": \"data-f1454e96cf9f7478dd829eafebb6e630\"}, \"width\": {\"step\": 45}}, {\"hconcat\": [{\"data\": {\"name\": \"data-8bfb241b64628fe09dfdd77847a7aa4d\"}, \"mark\": {\"type\": \"line\", \"point\": true}, \"encoding\": {\"color\": {\"type\": \"nominal\", \"field\": \"Mat\\u00e9ria\"}, \"tooltip\": [{\"type\": \"nominal\", \"field\": \"Mat\\u00e9ria\"}, {\"type\": \"quantitative\", \"field\": \"Nota\"}, {\"type\": \"quantitative\", \"field\": \"Ano\"}], \"x\": {\"type\": \"ordinal\", \"field\": \"Ano\"}, \"y\": {\"type\": \"quantitative\", \"field\": \"Nota\", \"scale\": {\"zero\": false}}}, \"width\": 600}, {\"data\": {\"name\": \"data-76df65cf48577843677d52f81196c403\"}, \"mark\": {\"type\": \"line\", \"interpolate\": \"monotone\", \"point\": true}, \"encoding\": {\"color\": {\"type\": \"ordinal\", \"field\": \"Per\\u00edodo\"}, \"tooltip\": [{\"type\": \"nominal\", \"field\": \"Per\\u00edodo\"}, {\"type\": \"quantitative\", \"field\": \"N\\u00ba alunos\"}], \"x\": {\"type\": \"nominal\", \"field\": \"S\\u00e9rie\"}, \"y\": {\"type\": \"quantitative\", \"field\": \"N\\u00ba alunos\"}}, \"width\": 400}]}], \"$schema\": \"https://vega.github.io/schema/vega-lite/v4.8.1.json\", \"datasets\": {\"data-f1454e96cf9f7478dd829eafebb6e630\": [{\"CO_ESCOLA\": 33135827, \"Ano\": 2019, \"nota_ci\\u00eancias\": 647.5, \"nota_humanas\": 651.0, \"nota_portugu\\u00eas\": 627.0, \"nota_matem\\u00e1tica\": 789.0, \"nota_reda\\u00e7\\u00e3o\": 940.0, \"nota_final\": 758.0, \"num_alunos\": 31.0, \"nota_ci\\u00eancias_perc80\": 676.0, \"nota_humanas_perc80\": 685.5, \"nota_portugu\\u00eas_perc80\": 641.5, \"nota_matem\\u00e1tica_perc80\": 823.0, \"nota_reda\\u00e7\\u00e3o_perc80\": 960.0, \"nota_final_perc80\": 778.0, \"rank\": 1}, {\"CO_ESCOLA\": 33062633, \"Ano\": 2019, \"nota_ci\\u00eancias\": 636.5, \"nota_humanas\": 672.0, \"nota_portugu\\u00eas\": 626.0, \"nota_matem\\u00e1tica\": 789.5, \"nota_reda\\u00e7\\u00e3o\": 900.0, \"nota_final\": 751.0, \"num_alunos\": 45.0, \"nota_ci\\u00eancias_perc80\": 662.5, \"nota_humanas_perc80\": 714.0, \"nota_portugu\\u00eas_perc80\": 641.5, \"nota_matem\\u00e1tica_perc80\": 853.0, \"nota_reda\\u00e7\\u00e3o_perc80\": 940.0, \"nota_final_perc80\": 773.5, \"rank\": 2}, {\"CO_ESCOLA\": 33178860, \"Ano\": 2019, \"nota_ci\\u00eancias\": 610.0, \"nota_humanas\": 662.5, \"nota_portugu\\u00eas\": 626.0, \"nota_matem\\u00e1tica\": 779.0, \"nota_reda\\u00e7\\u00e3o\": 910.0, \"nota_final\": 745.5, \"num_alunos\": 60.0, \"nota_ci\\u00eancias_perc80\": 652.5, \"nota_humanas_perc80\": 683.5, \"nota_portugu\\u00eas_perc80\": 648.0, \"nota_matem\\u00e1tica_perc80\": 848.0, \"nota_reda\\u00e7\\u00e3o_perc80\": 940.0, \"nota_final_perc80\": 779.0, \"rank\": 3}, {\"CO_ESCOLA\": 33135371, \"Ano\": 2019, \"nota_ci\\u00eancias\": 613.0, \"nota_humanas\": 647.0, \"nota_portugu\\u00eas\": 620.5, \"nota_matem\\u00e1tica\": 744.0, \"nota_reda\\u00e7\\u00e3o\": 940.0, \"nota_final\": 743.0, \"num_alunos\": 99.0, \"nota_ci\\u00eancias_perc80\": 649.5, \"nota_humanas_perc80\": 681.0, \"nota_portugu\\u00eas_perc80\": 641.0, \"nota_matem\\u00e1tica_perc80\": 825.0, \"nota_reda\\u00e7\\u00e3o_perc80\": 960.0, \"nota_final_perc80\": 769.0, \"rank\": 4}, {\"CO_ESCOLA\": 33176825, \"Ano\": 2019, \"nota_ci\\u00eancias\": 605.5, \"nota_humanas\": 649.0, \"nota_portugu\\u00eas\": 620.5, \"nota_matem\\u00e1tica\": 759.0, \"nota_reda\\u00e7\\u00e3o\": 920.0, \"nota_final\": 742.0, \"num_alunos\": 146.0, \"nota_ci\\u00eancias_perc80\": 643.0, \"nota_humanas_perc80\": 682.0, \"nota_portugu\\u00eas_perc80\": 644.5, \"nota_matem\\u00e1tica_perc80\": 815.5, \"nota_reda\\u00e7\\u00e3o_perc80\": 960.0, \"nota_final_perc80\": 769.0, \"rank\": 5}, {\"CO_ESCOLA\": 33057206, \"Ano\": 2019, \"nota_ci\\u00eancias\": 587.0, \"nota_humanas\": 640.5, \"nota_portugu\\u00eas\": 614.5, \"nota_matem\\u00e1tica\": 736.0, \"nota_reda\\u00e7\\u00e3o\": 920.0, \"nota_final\": 736.0, \"num_alunos\": 81.0, \"nota_ci\\u00eancias_perc80\": 630.0, \"nota_humanas_perc80\": 677.5, \"nota_portugu\\u00eas_perc80\": 639.5, \"nota_matem\\u00e1tica_perc80\": 802.5, \"nota_reda\\u00e7\\u00e3o_perc80\": 960.0, \"nota_final_perc80\": 764.0, \"rank\": 6}, {\"CO_ESCOLA\": 33104220, \"Ano\": 2019, \"nota_ci\\u00eancias\": 607.5, \"nota_humanas\": 635.0, \"nota_portugu\\u00eas\": 599.0, \"nota_matem\\u00e1tica\": 742.5, \"nota_reda\\u00e7\\u00e3o\": 920.0, \"nota_final\": 735.0, \"num_alunos\": 55.0, \"nota_ci\\u00eancias_perc80\": 640.0, \"nota_humanas_perc80\": 675.0, \"nota_portugu\\u00eas_perc80\": 640.5, \"nota_matem\\u00e1tica_perc80\": 781.5, \"nota_reda\\u00e7\\u00e3o_perc80\": 940.0, \"nota_final_perc80\": 760.0, \"rank\": 7}, {\"CO_ESCOLA\": 33062609, \"Ano\": 2019, \"nota_ci\\u00eancias\": 611.5, \"nota_humanas\": 649.5, \"nota_portugu\\u00eas\": 612.5, \"nota_matem\\u00e1tica\": 777.5, \"nota_reda\\u00e7\\u00e3o\": 880.0, \"nota_final\": 734.5, \"num_alunos\": 80.0, \"nota_ci\\u00eancias_perc80\": 649.5, \"nota_humanas_perc80\": 682.0, \"nota_portugu\\u00eas_perc80\": 632.0, \"nota_matem\\u00e1tica_perc80\": 831.0, \"nota_reda\\u00e7\\u00e3o_perc80\": 920.0, \"nota_final_perc80\": 771.0, \"rank\": 8}, {\"CO_ESCOLA\": 33173990, \"Ano\": 2019, \"nota_ci\\u00eancias\": 603.0, \"nota_humanas\": 636.5, \"nota_portugu\\u00eas\": 614.0, \"nota_matem\\u00e1tica\": 739.5, \"nota_reda\\u00e7\\u00e3o\": 900.0, \"nota_final\": 732.5, \"num_alunos\": 52.0, \"nota_ci\\u00eancias_perc80\": 631.0, \"nota_humanas_perc80\": 671.0, \"nota_portugu\\u00eas_perc80\": 638.0, \"nota_matem\\u00e1tica_perc80\": 812.5, \"nota_reda\\u00e7\\u00e3o_perc80\": 940.0, \"nota_final_perc80\": 760.0, \"rank\": 9}, {\"CO_ESCOLA\": 33063729, \"Ano\": 2019, \"nota_ci\\u00eancias\": 609.5, \"nota_humanas\": 642.5, \"nota_portugu\\u00eas\": 611.0, \"nota_matem\\u00e1tica\": 753.0, \"nota_reda\\u00e7\\u00e3o\": 900.0, \"nota_final\": 732.0, \"num_alunos\": 148.0, \"nota_ci\\u00eancias_perc80\": 647.5, \"nota_humanas_perc80\": 678.0, \"nota_portugu\\u00eas_perc80\": 633.0, \"nota_matem\\u00e1tica_perc80\": 822.0, \"nota_reda\\u00e7\\u00e3o_perc80\": 940.0, \"nota_final_perc80\": 770.5, \"rank\": 10}, {\"CO_ESCOLA\": 33180385, \"Ano\": 2019, \"nota_ci\\u00eancias\": 593.0, \"nota_humanas\": 629.5, \"nota_portugu\\u00eas\": 608.0, \"nota_matem\\u00e1tica\": 723.0, \"nota_reda\\u00e7\\u00e3o\": 920.0, \"nota_final\": 731.0, \"num_alunos\": 133.0, \"nota_ci\\u00eancias_perc80\": 633.5, \"nota_humanas_perc80\": 672.5, \"nota_portugu\\u00eas_perc80\": 636.0, \"nota_matem\\u00e1tica_perc80\": 794.5, \"nota_reda\\u00e7\\u00e3o_perc80\": 960.0, \"nota_final_perc80\": 763.0, \"rank\": 11}, {\"CO_ESCOLA\": 33031371, \"Ano\": 2019, \"nota_ci\\u00eancias\": 604.5, \"nota_humanas\": 630.5, \"nota_portugu\\u00eas\": 602.5, \"nota_matem\\u00e1tica\": 736.0, \"nota_reda\\u00e7\\u00e3o\": 920.0, \"nota_final\": 731.0, \"num_alunos\": 34.0, \"nota_ci\\u00eancias_perc80\": 661.0, \"nota_humanas_perc80\": 682.5, \"nota_portugu\\u00eas_perc80\": 642.0, \"nota_matem\\u00e1tica_perc80\": 791.0, \"nota_reda\\u00e7\\u00e3o_perc80\": 940.0, \"nota_final_perc80\": 770.0, \"rank\": 11}, {\"CO_ESCOLA\": 33075425, \"Ano\": 2019, \"nota_ci\\u00eancias\": 591.0, \"nota_humanas\": 630.5, \"nota_portugu\\u00eas\": 621.0, \"nota_matem\\u00e1tica\": 741.5, \"nota_reda\\u00e7\\u00e3o\": 900.0, \"nota_final\": 730.5, \"num_alunos\": 44.0, \"nota_ci\\u00eancias_perc80\": 625.5, \"nota_humanas_perc80\": 672.0, \"nota_portugu\\u00eas_perc80\": 637.0, \"nota_matem\\u00e1tica_perc80\": 797.0, \"nota_reda\\u00e7\\u00e3o_perc80\": 940.0, \"nota_final_perc80\": 765.0, \"rank\": 13}, {\"CO_ESCOLA\": 33153450, \"Ano\": 2019, \"nota_ci\\u00eancias\": 587.5, \"nota_humanas\": 635.5, \"nota_portugu\\u00eas\": 609.0, \"nota_matem\\u00e1tica\": 727.0, \"nota_reda\\u00e7\\u00e3o\": 920.0, \"nota_final\": 728.0, \"num_alunos\": 64.0, \"nota_ci\\u00eancias_perc80\": 633.0, \"nota_humanas_perc80\": 673.0, \"nota_portugu\\u00eas_perc80\": 632.0, \"nota_matem\\u00e1tica_perc80\": 791.0, \"nota_reda\\u00e7\\u00e3o_perc80\": 948.0, \"nota_final_perc80\": 754.0, \"rank\": 14}, {\"CO_ESCOLA\": 33065403, \"Ano\": 2019, \"nota_ci\\u00eancias\": 603.0, \"nota_humanas\": 656.5, \"nota_portugu\\u00eas\": 623.5, \"nota_matem\\u00e1tica\": 746.5, \"nota_reda\\u00e7\\u00e3o\": 870.0, \"nota_final\": 727.5, \"num_alunos\": 98.0, \"nota_ci\\u00eancias_perc80\": 644.0, \"nota_humanas_perc80\": 676.0, \"nota_portugu\\u00eas_perc80\": 639.5, \"nota_matem\\u00e1tica_perc80\": 799.0, \"nota_reda\\u00e7\\u00e3o_perc80\": 920.0, \"nota_final_perc80\": 751.0, \"rank\": 15}, {\"CO_ESCOLA\": 33077029, \"Ano\": 2019, \"nota_ci\\u00eancias\": 583.0, \"nota_humanas\": 619.0, \"nota_portugu\\u00eas\": 598.5, \"nota_matem\\u00e1tica\": 712.0, \"nota_reda\\u00e7\\u00e3o\": 920.0, \"nota_final\": 726.5, \"num_alunos\": 56.0, \"nota_ci\\u00eancias_perc80\": 620.5, \"nota_humanas_perc80\": 659.0, \"nota_portugu\\u00eas_perc80\": 631.0, \"nota_matem\\u00e1tica_perc80\": 776.5, \"nota_reda\\u00e7\\u00e3o_perc80\": 960.0, \"nota_final_perc80\": 749.0, \"rank\": 16}, {\"CO_ESCOLA\": 33148376, \"Ano\": 2019, \"nota_ci\\u00eancias\": 602.5, \"nota_humanas\": 627.0, \"nota_portugu\\u00eas\": 603.5, \"nota_matem\\u00e1tica\": 739.0, \"nota_reda\\u00e7\\u00e3o\": 890.0, \"nota_final\": 720.5, \"num_alunos\": 80.0, \"nota_ci\\u00eancias_perc80\": 637.5, \"nota_humanas_perc80\": 665.0, \"nota_portugu\\u00eas_perc80\": 627.0, \"nota_matem\\u00e1tica_perc80\": 812.5, \"nota_reda\\u00e7\\u00e3o_perc80\": 944.0, \"nota_final_perc80\": 766.0, \"rank\": 17}, {\"CO_ESCOLA\": 33063419, \"Ano\": 2019, \"nota_ci\\u00eancias\": 596.5, \"nota_humanas\": 635.5, \"nota_portugu\\u00eas\": 612.5, \"nota_matem\\u00e1tica\": 718.5, \"nota_reda\\u00e7\\u00e3o\": 860.0, \"nota_final\": 720.0, \"num_alunos\": 73.0, \"nota_ci\\u00eancias_perc80\": 634.0, \"nota_humanas_perc80\": 665.0, \"nota_portugu\\u00eas_perc80\": 633.5, \"nota_matem\\u00e1tica_perc80\": 780.5, \"nota_reda\\u00e7\\u00e3o_perc80\": 920.0, \"nota_final_perc80\": 744.0, \"rank\": 18}, {\"CO_ESCOLA\": 33042578, \"Ano\": 2019, \"nota_ci\\u00eancias\": 589.5, \"nota_humanas\": 639.5, \"nota_portugu\\u00eas\": 609.5, \"nota_matem\\u00e1tica\": 731.0, \"nota_reda\\u00e7\\u00e3o\": 860.0, \"nota_final\": 720.0, \"num_alunos\": 40.0, \"nota_ci\\u00eancias_perc80\": 630.0, \"nota_humanas_perc80\": 677.5, \"nota_portugu\\u00eas_perc80\": 631.0, \"nota_matem\\u00e1tica_perc80\": 792.0, \"nota_reda\\u00e7\\u00e3o_perc80\": 940.0, \"nota_final_perc80\": 754.5, \"rank\": 18}, {\"CO_ESCOLA\": 33078866, \"Ano\": 2019, \"nota_ci\\u00eancias\": 590.0, \"nota_humanas\": 613.5, \"nota_portugu\\u00eas\": 604.0, \"nota_matem\\u00e1tica\": 712.5, \"nota_reda\\u00e7\\u00e3o\": 900.0, \"nota_final\": 719.0, \"num_alunos\": 54.0, \"nota_ci\\u00eancias_perc80\": 620.5, \"nota_humanas_perc80\": 656.0, \"nota_portugu\\u00eas_perc80\": 624.5, \"nota_matem\\u00e1tica_perc80\": 783.0, \"nota_reda\\u00e7\\u00e3o_perc80\": 940.0, \"nota_final_perc80\": 744.0, \"rank\": 20}, {\"CO_ESCOLA\": 33447225, \"Ano\": 2019, \"nota_ci\\u00eancias\": 582.5, \"nota_humanas\": 625.5, \"nota_portugu\\u00eas\": 606.0, \"nota_matem\\u00e1tica\": 720.5, \"nota_reda\\u00e7\\u00e3o\": 900.0, \"nota_final\": 719.0, \"num_alunos\": 111.0, \"nota_ci\\u00eancias_perc80\": 610.5, \"nota_humanas_perc80\": 653.5, \"nota_portugu\\u00eas_perc80\": 634.0, \"nota_matem\\u00e1tica_perc80\": 799.5, \"nota_reda\\u00e7\\u00e3o_perc80\": 940.0, \"nota_final_perc80\": 755.0, \"rank\": 20}, {\"CO_ESCOLA\": 33110034, \"Ano\": 2019, \"nota_ci\\u00eancias\": 599.0, \"nota_humanas\": 649.0, \"nota_portugu\\u00eas\": 620.0, \"nota_matem\\u00e1tica\": 732.0, \"nota_reda\\u00e7\\u00e3o\": 880.0, \"nota_final\": 716.0, \"num_alunos\": 47.0, \"nota_ci\\u00eancias_perc80\": 631.5, \"nota_humanas_perc80\": 697.0, \"nota_portugu\\u00eas_perc80\": 639.5, \"nota_matem\\u00e1tica_perc80\": 780.5, \"nota_reda\\u00e7\\u00e3o_perc80\": 940.0, \"nota_final_perc80\": 761.0, \"rank\": 22}, {\"CO_ESCOLA\": 33322201, \"Ano\": 2019, \"nota_ci\\u00eancias\": 585.0, \"nota_humanas\": 629.5, \"nota_portugu\\u00eas\": 611.5, \"nota_matem\\u00e1tica\": 681.0, \"nota_reda\\u00e7\\u00e3o\": 900.0, \"nota_final\": 715.0, \"num_alunos\": 154.0, \"nota_ci\\u00eancias_perc80\": 616.5, \"nota_humanas_perc80\": 657.0, \"nota_portugu\\u00eas_perc80\": 635.0, \"nota_matem\\u00e1tica_perc80\": 745.5, \"nota_reda\\u00e7\\u00e3o_perc80\": 940.0, \"nota_final_perc80\": 742.0, \"rank\": 23}, {\"CO_ESCOLA\": 33180539, \"Ano\": 2019, \"nota_ci\\u00eancias\": 588.5, \"nota_humanas\": 626.5, \"nota_portugu\\u00eas\": 600.5, \"nota_matem\\u00e1tica\": 697.0, \"nota_reda\\u00e7\\u00e3o\": 900.0, \"nota_final\": 714.5, \"num_alunos\": 72.0, \"nota_ci\\u00eancias_perc80\": 622.0, \"nota_humanas_perc80\": 674.0, \"nota_portugu\\u00eas_perc80\": 628.0, \"nota_matem\\u00e1tica_perc80\": 764.0, \"nota_reda\\u00e7\\u00e3o_perc80\": 940.0, \"nota_final_perc80\": 748.0, \"rank\": 24}, {\"CO_ESCOLA\": 33105405, \"Ano\": 2019, \"nota_ci\\u00eancias\": 593.0, \"nota_humanas\": 626.0, \"nota_portugu\\u00eas\": 604.0, \"nota_matem\\u00e1tica\": 704.5, \"nota_reda\\u00e7\\u00e3o\": 860.0, \"nota_final\": 713.5, \"num_alunos\": 120.0, \"nota_ci\\u00eancias_perc80\": 627.5, \"nota_humanas_perc80\": 665.5, \"nota_portugu\\u00eas_perc80\": 628.0, \"nota_matem\\u00e1tica_perc80\": 786.5, \"nota_reda\\u00e7\\u00e3o_perc80\": 920.0, \"nota_final_perc80\": 750.5, \"rank\": 25}, {\"CO_ESCOLA\": 33228604, \"Ano\": 2019, \"nota_ci\\u00eancias\": 603.0, \"nota_humanas\": 620.0, \"nota_portugu\\u00eas\": 602.5, \"nota_matem\\u00e1tica\": 730.0, \"nota_reda\\u00e7\\u00e3o\": 860.0, \"nota_final\": 713.0, \"num_alunos\": 70.0, \"nota_ci\\u00eancias_perc80\": 642.5, \"nota_humanas_perc80\": 654.5, \"nota_portugu\\u00eas_perc80\": 643.0, \"nota_matem\\u00e1tica_perc80\": 804.5, \"nota_reda\\u00e7\\u00e3o_perc80\": 920.0, \"nota_final_perc80\": 750.0, \"rank\": 26}, {\"CO_ESCOLA\": 33109923, \"Ano\": 2019, \"nota_ci\\u00eancias\": 594.0, \"nota_humanas\": 614.0, \"nota_portugu\\u00eas\": 600.5, \"nota_matem\\u00e1tica\": 697.5, \"nota_reda\\u00e7\\u00e3o\": 860.0, \"nota_final\": 712.0, \"num_alunos\": 35.0, \"nota_ci\\u00eancias_perc80\": 614.5, \"nota_humanas_perc80\": 642.5, \"nota_portugu\\u00eas_perc80\": 621.5, \"nota_matem\\u00e1tica_perc80\": 765.5, \"nota_reda\\u00e7\\u00e3o_perc80\": 924.0, \"nota_final_perc80\": 736.5, \"rank\": 27}, {\"CO_ESCOLA\": 33165998, \"Ano\": 2019, \"nota_ci\\u00eancias\": 585.5, \"nota_humanas\": 626.5, \"nota_portugu\\u00eas\": 596.5, \"nota_matem\\u00e1tica\": 684.0, \"nota_reda\\u00e7\\u00e3o\": 880.0, \"nota_final\": 712.0, \"num_alunos\": 55.0, \"nota_ci\\u00eancias_perc80\": 626.0, \"nota_humanas_perc80\": 657.0, \"nota_portugu\\u00eas_perc80\": 620.5, \"nota_matem\\u00e1tica_perc80\": 731.5, \"nota_reda\\u00e7\\u00e3o_perc80\": 940.0, \"nota_final_perc80\": 741.0, \"rank\": 27}, {\"CO_ESCOLA\": 33085897, \"Ano\": 2019, \"nota_ci\\u00eancias\": 594.5, \"nota_humanas\": 633.0, \"nota_portugu\\u00eas\": 606.0, \"nota_matem\\u00e1tica\": 721.0, \"nota_reda\\u00e7\\u00e3o\": 880.0, \"nota_final\": 711.5, \"num_alunos\": 36.0, \"nota_ci\\u00eancias_perc80\": 640.0, \"nota_humanas_perc80\": 660.5, \"nota_portugu\\u00eas_perc80\": 633.5, \"nota_matem\\u00e1tica_perc80\": 770.5, \"nota_reda\\u00e7\\u00e3o_perc80\": 940.0, \"nota_final_perc80\": 760.0, \"rank\": 29}, {\"CO_ESCOLA\": 33021724, \"Ano\": 2019, \"nota_ci\\u00eancias\": 576.0, \"nota_humanas\": 615.0, \"nota_portugu\\u00eas\": 593.5, \"nota_matem\\u00e1tica\": 681.5, \"nota_reda\\u00e7\\u00e3o\": 900.0, \"nota_final\": 710.5, \"num_alunos\": 48.0, \"nota_ci\\u00eancias_perc80\": 613.5, \"nota_humanas_perc80\": 636.0, \"nota_portugu\\u00eas_perc80\": 617.0, \"nota_matem\\u00e1tica_perc80\": 749.0, \"nota_reda\\u00e7\\u00e3o_perc80\": 940.0, \"nota_final_perc80\": 742.5, \"rank\": 30}, {\"CO_ESCOLA\": 33055947, \"Ano\": 2019, \"nota_ci\\u00eancias\": 593.5, \"nota_humanas\": 622.0, \"nota_portugu\\u00eas\": 603.5, \"nota_matem\\u00e1tica\": 688.0, \"nota_reda\\u00e7\\u00e3o\": 900.0, \"nota_final\": 710.0, \"num_alunos\": 62.0, \"nota_ci\\u00eancias_perc80\": 617.0, \"nota_humanas_perc80\": 667.5, \"nota_portugu\\u00eas_perc80\": 620.0, \"nota_matem\\u00e1tica_perc80\": 754.5, \"nota_reda\\u00e7\\u00e3o_perc80\": 940.0, \"nota_final_perc80\": 753.5, \"rank\": 31}, {\"CO_ESCOLA\": 33173869, \"Ano\": 2019, \"nota_ci\\u00eancias\": 588.0, \"nota_humanas\": 602.5, \"nota_portugu\\u00eas\": 598.0, \"nota_matem\\u00e1tica\": 695.5, \"nota_reda\\u00e7\\u00e3o\": 880.0, \"nota_final\": 710.0, \"num_alunos\": 54.0, \"nota_ci\\u00eancias_perc80\": 619.0, \"nota_humanas_perc80\": 650.5, \"nota_portugu\\u00eas_perc80\": 616.5, \"nota_matem\\u00e1tica_perc80\": 777.5, \"nota_reda\\u00e7\\u00e3o_perc80\": 940.0, \"nota_final_perc80\": 739.5, \"rank\": 31}, {\"CO_ESCOLA\": 33177627, \"Ano\": 2019, \"nota_ci\\u00eancias\": 570.0, \"nota_humanas\": 621.0, \"nota_portugu\\u00eas\": 595.0, \"nota_matem\\u00e1tica\": 677.5, \"nota_reda\\u00e7\\u00e3o\": 900.0, \"nota_final\": 709.5, \"num_alunos\": 40.0, \"nota_ci\\u00eancias_perc80\": 611.5, \"nota_humanas_perc80\": 654.5, \"nota_portugu\\u00eas_perc80\": 621.5, \"nota_matem\\u00e1tica_perc80\": 744.0, \"nota_reda\\u00e7\\u00e3o_perc80\": 940.0, \"nota_final_perc80\": 743.5, \"rank\": 33}, {\"CO_ESCOLA\": 33066752, \"Ano\": 2019, \"nota_ci\\u00eancias\": 598.5, \"nota_humanas\": 631.0, \"nota_portugu\\u00eas\": 602.5, \"nota_matem\\u00e1tica\": 694.5, \"nota_reda\\u00e7\\u00e3o\": 880.0, \"nota_final\": 709.0, \"num_alunos\": 55.0, \"nota_ci\\u00eancias_perc80\": 620.5, \"nota_humanas_perc80\": 675.5, \"nota_portugu\\u00eas_perc80\": 634.0, \"nota_matem\\u00e1tica_perc80\": 770.5, \"nota_reda\\u00e7\\u00e3o_perc80\": 940.0, \"nota_final_perc80\": 747.0, \"rank\": 34}, {\"CO_ESCOLA\": 33057109, \"Ano\": 2019, \"nota_ci\\u00eancias\": 575.5, \"nota_humanas\": 619.0, \"nota_portugu\\u00eas\": 597.0, \"nota_matem\\u00e1tica\": 707.5, \"nota_reda\\u00e7\\u00e3o\": 880.0, \"nota_final\": 708.0, \"num_alunos\": 109.0, \"nota_ci\\u00eancias_perc80\": 624.5, \"nota_humanas_perc80\": 658.5, \"nota_portugu\\u00eas_perc80\": 627.0, \"nota_matem\\u00e1tica_perc80\": 774.0, \"nota_reda\\u00e7\\u00e3o_perc80\": 940.0, \"nota_final_perc80\": 738.5, \"rank\": 35}, {\"CO_ESCOLA\": 33063648, \"Ano\": 2019, \"nota_ci\\u00eancias\": 589.0, \"nota_humanas\": 637.0, \"nota_portugu\\u00eas\": 620.5, \"nota_matem\\u00e1tica\": 732.0, \"nota_reda\\u00e7\\u00e3o\": 860.0, \"nota_final\": 707.0, \"num_alunos\": 59.0, \"nota_ci\\u00eancias_perc80\": 621.0, \"nota_humanas_perc80\": 667.0, \"nota_portugu\\u00eas_perc80\": 640.5, \"nota_matem\\u00e1tica_perc80\": 776.5, \"nota_reda\\u00e7\\u00e3o_perc80\": 908.0, \"nota_final_perc80\": 748.5, \"rank\": 36}, {\"CO_ESCOLA\": 33439826, \"Ano\": 2019, \"nota_ci\\u00eancias\": 579.5, \"nota_humanas\": 610.5, \"nota_portugu\\u00eas\": 602.0, \"nota_matem\\u00e1tica\": 707.5, \"nota_reda\\u00e7\\u00e3o\": 880.0, \"nota_final\": 706.5, \"num_alunos\": 40.0, \"nota_ci\\u00eancias_perc80\": 611.0, \"nota_humanas_perc80\": 655.0, \"nota_portugu\\u00eas_perc80\": 622.0, \"nota_matem\\u00e1tica_perc80\": 748.0, \"nota_reda\\u00e7\\u00e3o_perc80\": 924.0, \"nota_final_perc80\": 737.0, \"rank\": 37}, {\"CO_ESCOLA\": 33065411, \"Ano\": 2019, \"nota_ci\\u00eancias\": 580.0, \"nota_humanas\": 624.5, \"nota_portugu\\u00eas\": 608.0, \"nota_matem\\u00e1tica\": 713.0, \"nota_reda\\u00e7\\u00e3o\": 880.0, \"nota_final\": 706.0, \"num_alunos\": 33.0, \"nota_ci\\u00eancias_perc80\": 611.5, \"nota_humanas_perc80\": 652.0, \"nota_portugu\\u00eas_perc80\": 626.0, \"nota_matem\\u00e1tica_perc80\": 786.0, \"nota_reda\\u00e7\\u00e3o_perc80\": 900.0, \"nota_final_perc80\": 732.5, \"rank\": 38}, {\"CO_ESCOLA\": 33155852, \"Ano\": 2019, \"nota_ci\\u00eancias\": 576.5, \"nota_humanas\": 610.5, \"nota_portugu\\u00eas\": 588.5, \"nota_matem\\u00e1tica\": 704.5, \"nota_reda\\u00e7\\u00e3o\": 880.0, \"nota_final\": 706.0, \"num_alunos\": 57.0, \"nota_ci\\u00eancias_perc80\": 600.0, \"nota_humanas_perc80\": 639.0, \"nota_portugu\\u00eas_perc80\": 614.5, \"nota_matem\\u00e1tica_perc80\": 778.0, \"nota_reda\\u00e7\\u00e3o_perc80\": 940.0, \"nota_final_perc80\": 741.5, \"rank\": 38}, {\"CO_ESCOLA\": 33110328, \"Ano\": 2019, \"nota_ci\\u00eancias\": 584.0, \"nota_humanas\": 620.0, \"nota_portugu\\u00eas\": 607.5, \"nota_matem\\u00e1tica\": 698.5, \"nota_reda\\u00e7\\u00e3o\": 860.0, \"nota_final\": 705.5, \"num_alunos\": 122.0, \"nota_ci\\u00eancias_perc80\": 621.5, \"nota_humanas_perc80\": 664.5, \"nota_portugu\\u00eas_perc80\": 627.0, \"nota_matem\\u00e1tica_perc80\": 762.5, \"nota_reda\\u00e7\\u00e3o_perc80\": 920.0, \"nota_final_perc80\": 743.0, \"rank\": 40}, {\"CO_ESCOLA\": 33066698, \"Ano\": 2019, \"nota_ci\\u00eancias\": 589.0, \"nota_humanas\": 622.0, \"nota_portugu\\u00eas\": 600.0, \"nota_matem\\u00e1tica\": 705.5, \"nota_reda\\u00e7\\u00e3o\": 860.0, \"nota_final\": 705.0, \"num_alunos\": 36.0, \"nota_ci\\u00eancias_perc80\": 624.5, \"nota_humanas_perc80\": 662.5, \"nota_portugu\\u00eas_perc80\": 634.0, \"nota_matem\\u00e1tica_perc80\": 781.0, \"nota_reda\\u00e7\\u00e3o_perc80\": 900.0, \"nota_final_perc80\": 737.0, \"rank\": 41}, {\"CO_ESCOLA\": 33029490, \"Ano\": 2019, \"nota_ci\\u00eancias\": 578.0, \"nota_humanas\": 597.5, \"nota_portugu\\u00eas\": 572.5, \"nota_matem\\u00e1tica\": 717.5, \"nota_reda\\u00e7\\u00e3o\": 880.0, \"nota_final\": 705.0, \"num_alunos\": 49.0, \"nota_ci\\u00eancias_perc80\": 623.0, \"nota_humanas_perc80\": 635.5, \"nota_portugu\\u00eas_perc80\": 612.0, \"nota_matem\\u00e1tica_perc80\": 754.0, \"nota_reda\\u00e7\\u00e3o_perc80\": 940.0, \"nota_final_perc80\": 745.0, \"rank\": 41}, {\"CO_ESCOLA\": 33155216, \"Ano\": 2019, \"nota_ci\\u00eancias\": 588.5, \"nota_humanas\": 629.0, \"nota_portugu\\u00eas\": 606.5, \"nota_matem\\u00e1tica\": 713.0, \"nota_reda\\u00e7\\u00e3o\": 820.0, \"nota_final\": 704.0, \"num_alunos\": 117.0, \"nota_ci\\u00eancias_perc80\": 634.0, \"nota_humanas_perc80\": 677.0, \"nota_portugu\\u00eas_perc80\": 635.5, \"nota_matem\\u00e1tica_perc80\": 771.0, \"nota_reda\\u00e7\\u00e3o_perc80\": 920.0, \"nota_final_perc80\": 751.0, \"rank\": 43}, {\"CO_ESCOLA\": 33104247, \"Ano\": 2019, \"nota_ci\\u00eancias\": 580.0, \"nota_humanas\": 610.5, \"nota_portugu\\u00eas\": 589.5, \"nota_matem\\u00e1tica\": 692.5, \"nota_reda\\u00e7\\u00e3o\": 880.0, \"nota_final\": 703.0, \"num_alunos\": 55.0, \"nota_ci\\u00eancias_perc80\": 610.0, \"nota_humanas_perc80\": 645.0, \"nota_portugu\\u00eas_perc80\": 615.0, \"nota_matem\\u00e1tica_perc80\": 782.5, \"nota_reda\\u00e7\\u00e3o_perc80\": 920.0, \"nota_final_perc80\": 733.0, \"rank\": 44}, {\"CO_ESCOLA\": 33066523, \"Ano\": 2019, \"nota_ci\\u00eancias\": 595.0, \"nota_humanas\": 636.0, \"nota_portugu\\u00eas\": 611.0, \"nota_matem\\u00e1tica\": 702.5, \"nota_reda\\u00e7\\u00e3o\": 850.0, \"nota_final\": 702.5, \"num_alunos\": 46.0, \"nota_ci\\u00eancias_perc80\": 622.5, \"nota_humanas_perc80\": 674.0, \"nota_portugu\\u00eas_perc80\": 631.0, \"nota_matem\\u00e1tica_perc80\": 753.0, \"nota_reda\\u00e7\\u00e3o_perc80\": 900.0, \"nota_final_perc80\": 735.0, \"rank\": 45}, {\"CO_ESCOLA\": 33180199, \"Ano\": 2019, \"nota_ci\\u00eancias\": 576.0, \"nota_humanas\": 621.5, \"nota_portugu\\u00eas\": 598.5, \"nota_matem\\u00e1tica\": 694.5, \"nota_reda\\u00e7\\u00e3o\": 880.0, \"nota_final\": 702.0, \"num_alunos\": 38.0, \"nota_ci\\u00eancias_perc80\": 604.0, \"nota_humanas_perc80\": 655.0, \"nota_portugu\\u00eas_perc80\": 627.0, \"nota_matem\\u00e1tica_perc80\": 758.5, \"nota_reda\\u00e7\\u00e3o_perc80\": 940.0, \"nota_final_perc80\": 742.0, \"rank\": 46}, {\"CO_ESCOLA\": 33148848, \"Ano\": 2019, \"nota_ci\\u00eancias\": 581.0, \"nota_humanas\": 635.5, \"nota_portugu\\u00eas\": 607.0, \"nota_matem\\u00e1tica\": 693.0, \"nota_reda\\u00e7\\u00e3o\": 860.0, \"nota_final\": 700.0, \"num_alunos\": 48.0, \"nota_ci\\u00eancias_perc80\": 611.0, \"nota_humanas_perc80\": 657.5, \"nota_portugu\\u00eas_perc80\": 636.0, \"nota_matem\\u00e1tica_perc80\": 769.0, \"nota_reda\\u00e7\\u00e3o_perc80\": 920.0, \"nota_final_perc80\": 743.0, \"rank\": 47}, {\"CO_ESCOLA\": 33115460, \"Ano\": 2019, \"nota_ci\\u00eancias\": 595.0, \"nota_humanas\": 608.5, \"nota_portugu\\u00eas\": 595.5, \"nota_matem\\u00e1tica\": 713.5, \"nota_reda\\u00e7\\u00e3o\": 840.0, \"nota_final\": 700.0, \"num_alunos\": 33.0, \"nota_ci\\u00eancias_perc80\": 618.0, \"nota_humanas_perc80\": 653.5, \"nota_portugu\\u00eas_perc80\": 638.0, \"nota_matem\\u00e1tica_perc80\": 747.5, \"nota_reda\\u00e7\\u00e3o_perc80\": 924.0, \"nota_final_perc80\": 755.5, \"rank\": 47}, {\"CO_ESCOLA\": 33022267, \"Ano\": 2019, \"nota_ci\\u00eancias\": 580.5, \"nota_humanas\": 608.0, \"nota_portugu\\u00eas\": 601.0, \"nota_matem\\u00e1tica\": 696.0, \"nota_reda\\u00e7\\u00e3o\": 840.0, \"nota_final\": 698.5, \"num_alunos\": 56.0, \"nota_ci\\u00eancias_perc80\": 610.5, \"nota_humanas_perc80\": 640.5, \"nota_portugu\\u00eas_perc80\": 626.0, \"nota_matem\\u00e1tica_perc80\": 755.5, \"nota_reda\\u00e7\\u00e3o_perc80\": 940.0, \"nota_final_perc80\": 740.0, \"rank\": 49}, {\"CO_ESCOLA\": 33447250, \"Ano\": 2019, \"nota_ci\\u00eancias\": 584.5, \"nota_humanas\": 607.5, \"nota_portugu\\u00eas\": 591.0, \"nota_matem\\u00e1tica\": 713.5, \"nota_reda\\u00e7\\u00e3o\": 840.0, \"nota_final\": 698.0, \"num_alunos\": 59.0, \"nota_ci\\u00eancias_perc80\": 619.0, \"nota_humanas_perc80\": 637.0, \"nota_portugu\\u00eas_perc80\": 619.0, \"nota_matem\\u00e1tica_perc80\": 767.0, \"nota_reda\\u00e7\\u00e3o_perc80\": 908.0, \"nota_final_perc80\": 731.0, \"rank\": 50}, {\"CO_ESCOLA\": 33147710, \"Ano\": 2019, \"nota_ci\\u00eancias\": 584.5, \"nota_humanas\": 621.5, \"nota_portugu\\u00eas\": 600.5, \"nota_matem\\u00e1tica\": 699.0, \"nota_reda\\u00e7\\u00e3o\": 850.0, \"nota_final\": 698.0, \"num_alunos\": 168.0, \"nota_ci\\u00eancias_perc80\": 613.5, \"nota_humanas_perc80\": 653.0, \"nota_portugu\\u00eas_perc80\": 622.5, \"nota_matem\\u00e1tica_perc80\": 756.5, \"nota_reda\\u00e7\\u00e3o_perc80\": 920.0, \"nota_final_perc80\": 735.0, \"rank\": 50}, {\"CO_ESCOLA\": 33178976, \"Ano\": 2019, \"nota_ci\\u00eancias\": 567.5, \"nota_humanas\": 601.0, \"nota_portugu\\u00eas\": 590.0, \"nota_matem\\u00e1tica\": 676.5, \"nota_reda\\u00e7\\u00e3o\": 880.0, \"nota_final\": 697.0, \"num_alunos\": 37.0, \"nota_ci\\u00eancias_perc80\": 608.0, \"nota_humanas_perc80\": 645.5, \"nota_portugu\\u00eas_perc80\": 616.0, \"nota_matem\\u00e1tica_perc80\": 747.5, \"nota_reda\\u00e7\\u00e3o_perc80\": 920.0, \"nota_final_perc80\": 724.5, \"rank\": 52}, {\"CO_ESCOLA\": 33111456, \"Ano\": 2019, \"nota_ci\\u00eancias\": 569.5, \"nota_humanas\": 617.0, \"nota_portugu\\u00eas\": 588.0, \"nota_matem\\u00e1tica\": 688.0, \"nota_reda\\u00e7\\u00e3o\": 880.0, \"nota_final\": 695.0, \"num_alunos\": 31.0, \"nota_ci\\u00eancias_perc80\": 595.5, \"nota_humanas_perc80\": 638.0, \"nota_portugu\\u00eas_perc80\": 612.5, \"nota_matem\\u00e1tica_perc80\": 744.0, \"nota_reda\\u00e7\\u00e3o_perc80\": 920.0, \"nota_final_perc80\": 737.0, \"rank\": 53}, {\"CO_ESCOLA\": 33166927, \"Ano\": 2019, \"nota_ci\\u00eancias\": 585.5, \"nota_humanas\": 607.5, \"nota_portugu\\u00eas\": 585.0, \"nota_matem\\u00e1tica\": 690.5, \"nota_reda\\u00e7\\u00e3o\": 860.0, \"nota_final\": 694.0, \"num_alunos\": 37.0, \"nota_ci\\u00eancias_perc80\": 624.0, \"nota_humanas_perc80\": 659.5, \"nota_portugu\\u00eas_perc80\": 618.0, \"nota_matem\\u00e1tica_perc80\": 740.5, \"nota_reda\\u00e7\\u00e3o_perc80\": 920.0, \"nota_final_perc80\": 740.5, \"rank\": 54}, {\"CO_ESCOLA\": 33065837, \"Ano\": 2019, \"nota_ci\\u00eancias\": 578.5, \"nota_humanas\": 626.0, \"nota_portugu\\u00eas\": 602.0, \"nota_matem\\u00e1tica\": 719.0, \"nota_reda\\u00e7\\u00e3o\": 820.0, \"nota_final\": 693.5, \"num_alunos\": 90.0, \"nota_ci\\u00eancias_perc80\": 617.0, \"nota_humanas_perc80\": 666.5, \"nota_portugu\\u00eas_perc80\": 630.0, \"nota_matem\\u00e1tica_perc80\": 795.0, \"nota_reda\\u00e7\\u00e3o_perc80\": 900.0, \"nota_final_perc80\": 726.0, \"rank\": 55}, {\"CO_ESCOLA\": 33032858, \"Ano\": 2019, \"nota_ci\\u00eancias\": 582.0, \"nota_humanas\": 593.0, \"nota_portugu\\u00eas\": 589.5, \"nota_matem\\u00e1tica\": 659.0, \"nota_reda\\u00e7\\u00e3o\": 880.0, \"nota_final\": 691.5, \"num_alunos\": 34.0, \"nota_ci\\u00eancias_perc80\": 611.5, \"nota_humanas_perc80\": 622.0, \"nota_portugu\\u00eas_perc80\": 610.5, \"nota_matem\\u00e1tica_perc80\": 721.5, \"nota_reda\\u00e7\\u00e3o_perc80\": 920.0, \"nota_final_perc80\": 729.5, \"rank\": 56}, {\"CO_ESCOLA\": 33025673, \"Ano\": 2019, \"nota_ci\\u00eancias\": 579.5, \"nota_humanas\": 608.5, \"nota_portugu\\u00eas\": 598.0, \"nota_matem\\u00e1tica\": 690.5, \"nota_reda\\u00e7\\u00e3o\": 900.0, \"nota_final\": 691.0, \"num_alunos\": 49.0, \"nota_ci\\u00eancias_perc80\": 623.0, \"nota_humanas_perc80\": 657.0, \"nota_portugu\\u00eas_perc80\": 619.0, \"nota_matem\\u00e1tica_perc80\": 747.0, \"nota_reda\\u00e7\\u00e3o_perc80\": 920.0, \"nota_final_perc80\": 739.5, \"rank\": 57}, {\"CO_ESCOLA\": 33178798, \"Ano\": 2019, \"nota_ci\\u00eancias\": 564.5, \"nota_humanas\": 608.5, \"nota_portugu\\u00eas\": 595.5, \"nota_matem\\u00e1tica\": 687.5, \"nota_reda\\u00e7\\u00e3o\": 820.0, \"nota_final\": 690.0, \"num_alunos\": 99.0, \"nota_ci\\u00eancias_perc80\": 598.0, \"nota_humanas_perc80\": 654.0, \"nota_portugu\\u00eas_perc80\": 625.5, \"nota_matem\\u00e1tica_perc80\": 762.5, \"nota_reda\\u00e7\\u00e3o_perc80\": 940.0, \"nota_final_perc80\": 739.5, \"rank\": 58}, {\"CO_ESCOLA\": 33166820, \"Ano\": 2019, \"nota_ci\\u00eancias\": 585.5, \"nota_humanas\": 612.5, \"nota_portugu\\u00eas\": 595.5, \"nota_matem\\u00e1tica\": 689.0, \"nota_reda\\u00e7\\u00e3o\": 840.0, \"nota_final\": 690.0, \"num_alunos\": 140.0, \"nota_ci\\u00eancias_perc80\": 626.0, \"nota_humanas_perc80\": 647.5, \"nota_portugu\\u00eas_perc80\": 619.5, \"nota_matem\\u00e1tica_perc80\": 786.0, \"nota_reda\\u00e7\\u00e3o_perc80\": 920.0, \"nota_final_perc80\": 737.0, \"rank\": 58}, {\"CO_ESCOLA\": 33041105, \"Ano\": 2019, \"nota_ci\\u00eancias\": 587.0, \"nota_humanas\": 604.0, \"nota_portugu\\u00eas\": 588.5, \"nota_matem\\u00e1tica\": 666.0, \"nota_reda\\u00e7\\u00e3o\": 860.0, \"nota_final\": 690.0, \"num_alunos\": 62.0, \"nota_ci\\u00eancias_perc80\": 628.5, \"nota_humanas_perc80\": 643.0, \"nota_portugu\\u00eas_perc80\": 613.5, \"nota_matem\\u00e1tica_perc80\": 740.5, \"nota_reda\\u00e7\\u00e3o_perc80\": 940.0, \"nota_final_perc80\": 735.0, \"rank\": 58}], \"data-8bfb241b64628fe09dfdd77847a7aa4d\": [{\"Ano\": 2019, \"Mat\\u00e9ria\": \"nota_ci\\u00eancias\", \"Nota\": 589.0}, {\"Ano\": 2018, \"Mat\\u00e9ria\": \"nota_ci\\u00eancias\", \"Nota\": 603.5}, {\"Ano\": 2017, \"Mat\\u00e9ria\": \"nota_ci\\u00eancias\", \"Nota\": 622.5}, {\"Ano\": 2016, \"Mat\\u00e9ria\": \"nota_ci\\u00eancias\", \"Nota\": 632.5}, {\"Ano\": 2015, \"Mat\\u00e9ria\": \"nota_ci\\u00eancias\", \"Nota\": 632.0}, {\"Ano\": 2014, \"Mat\\u00e9ria\": \"nota_ci\\u00eancias\", \"Nota\": 627.0}, {\"Ano\": 2013, \"Mat\\u00e9ria\": \"nota_ci\\u00eancias\", \"Nota\": 623.0}, {\"Ano\": 2019, \"Mat\\u00e9ria\": \"nota_humanas\", \"Nota\": 637.0}, {\"Ano\": 2018, \"Mat\\u00e9ria\": \"nota_humanas\", \"Nota\": 676.5}, {\"Ano\": 2017, \"Mat\\u00e9ria\": \"nota_humanas\", \"Nota\": 655.5}, {\"Ano\": 2016, \"Mat\\u00e9ria\": \"nota_humanas\", \"Nota\": 656.0}, {\"Ano\": 2015, \"Mat\\u00e9ria\": \"nota_humanas\", \"Nota\": 674.0}, {\"Ano\": 2014, \"Mat\\u00e9ria\": \"nota_humanas\", \"Nota\": 676.0}, {\"Ano\": 2013, \"Mat\\u00e9ria\": \"nota_humanas\", \"Nota\": 684.5}, {\"Ano\": 2019, \"Mat\\u00e9ria\": \"nota_portugu\\u00eas\", \"Nota\": 620.5}, {\"Ano\": 2018, \"Mat\\u00e9ria\": \"nota_portugu\\u00eas\", \"Nota\": 640.0}, {\"Ano\": 2017, \"Mat\\u00e9ria\": \"nota_portugu\\u00eas\", \"Nota\": 617.0}, {\"Ano\": 2016, \"Mat\\u00e9ria\": \"nota_portugu\\u00eas\", \"Nota\": 641.5}, {\"Ano\": 2015, \"Mat\\u00e9ria\": \"nota_portugu\\u00eas\", \"Nota\": 618.5}, {\"Ano\": 2014, \"Mat\\u00e9ria\": \"nota_portugu\\u00eas\", \"Nota\": 625.5}, {\"Ano\": 2013, \"Mat\\u00e9ria\": \"nota_portugu\\u00eas\", \"Nota\": 624.5}, {\"Ano\": 2019, \"Mat\\u00e9ria\": \"nota_matem\\u00e1tica\", \"Nota\": 732.0}, {\"Ano\": 2018, \"Mat\\u00e9ria\": \"nota_matem\\u00e1tica\", \"Nota\": 737.0}, {\"Ano\": 2017, \"Mat\\u00e9ria\": \"nota_matem\\u00e1tica\", \"Nota\": 761.5}, {\"Ano\": 2016, \"Mat\\u00e9ria\": \"nota_matem\\u00e1tica\", \"Nota\": 704.5}, {\"Ano\": 2015, \"Mat\\u00e9ria\": \"nota_matem\\u00e1tica\", \"Nota\": 716.0}, {\"Ano\": 2014, \"Mat\\u00e9ria\": \"nota_matem\\u00e1tica\", \"Nota\": 710.0}, {\"Ano\": 2013, \"Mat\\u00e9ria\": \"nota_matem\\u00e1tica\", \"Nota\": 731.5}, {\"Ano\": 2019, \"Mat\\u00e9ria\": \"nota_reda\\u00e7\\u00e3o\", \"Nota\": 860.0}, {\"Ano\": 2018, \"Mat\\u00e9ria\": \"nota_reda\\u00e7\\u00e3o\", \"Nota\": 800.0}, {\"Ano\": 2017, \"Mat\\u00e9ria\": \"nota_reda\\u00e7\\u00e3o\", \"Nota\": 780.0}, {\"Ano\": 2016, \"Mat\\u00e9ria\": \"nota_reda\\u00e7\\u00e3o\", \"Nota\": 800.0}, {\"Ano\": 2015, \"Mat\\u00e9ria\": \"nota_reda\\u00e7\\u00e3o\", \"Nota\": 760.0}, {\"Ano\": 2014, \"Mat\\u00e9ria\": \"nota_reda\\u00e7\\u00e3o\", \"Nota\": 740.0}, {\"Ano\": 2013, \"Mat\\u00e9ria\": \"nota_reda\\u00e7\\u00e3o\", \"Nota\": 740.0}, {\"Ano\": 2019, \"Mat\\u00e9ria\": \"nota_final\", \"Nota\": 707.0}, {\"Ano\": 2018, \"Mat\\u00e9ria\": \"nota_final\", \"Nota\": 721.0}, {\"Ano\": 2017, \"Mat\\u00e9ria\": \"nota_final\", \"Nota\": 700.0}, {\"Ano\": 2016, \"Mat\\u00e9ria\": \"nota_final\", \"Nota\": 703.0}, {\"Ano\": 2015, \"Mat\\u00e9ria\": \"nota_final\", \"Nota\": 701.0}, {\"Ano\": 2014, \"Mat\\u00e9ria\": \"nota_final\", \"Nota\": 695.0}, {\"Ano\": 2013, \"Mat\\u00e9ria\": \"nota_final\", \"Nota\": 690.0}], \"data-76df65cf48577843677d52f81196c403\": [{\"Per\\u00edodo\": \"2007\\u20132009\", \"S\\u00e9rie\": \"1\\u00ba %\", \"N\\u00ba alunos\": 100.0}, {\"Per\\u00edodo\": \"2007\\u20132009\", \"S\\u00e9rie\": \"2\\u00ba %\", \"N\\u00ba alunos\": 80.0}, {\"Per\\u00edodo\": \"2007\\u20132009\", \"S\\u00e9rie\": \"3\\u00ba %\", \"N\\u00ba alunos\": 73.0}, {\"Per\\u00edodo\": \"2008\\u20132010\", \"S\\u00e9rie\": \"1\\u00ba %\", \"N\\u00ba alunos\": 100.0}, {\"Per\\u00edodo\": \"2008\\u20132010\", \"S\\u00e9rie\": \"2\\u00ba %\", \"N\\u00ba alunos\": 89.0}, {\"Per\\u00edodo\": \"2008\\u20132010\", \"S\\u00e9rie\": \"3\\u00ba %\", \"N\\u00ba alunos\": 76.0}, {\"Per\\u00edodo\": \"2009\\u20132011\", \"S\\u00e9rie\": \"1\\u00ba %\", \"N\\u00ba alunos\": 100.0}, {\"Per\\u00edodo\": \"2009\\u20132011\", \"S\\u00e9rie\": \"2\\u00ba %\", \"N\\u00ba alunos\": 90.0}, {\"Per\\u00edodo\": \"2009\\u20132011\", \"S\\u00e9rie\": \"3\\u00ba %\", \"N\\u00ba alunos\": 81.0}, {\"Per\\u00edodo\": \"2010\\u20132012\", \"S\\u00e9rie\": \"2\\u00ba %\", \"N\\u00ba alunos\": 78.0}, {\"Per\\u00edodo\": \"2010\\u20132012\", \"S\\u00e9rie\": \"3\\u00ba %\", \"N\\u00ba alunos\": 64.0}, {\"Per\\u00edodo\": \"2010\\u20132012\", \"S\\u00e9rie\": \"1\\u00ba %\", \"N\\u00ba alunos\": 100.0}, {\"Per\\u00edodo\": \"2011\\u20132013\", \"S\\u00e9rie\": \"3\\u00ba %\", \"N\\u00ba alunos\": 74.0}, {\"Per\\u00edodo\": \"2011\\u20132013\", \"S\\u00e9rie\": \"1\\u00ba %\", \"N\\u00ba alunos\": 100.0}, {\"Per\\u00edodo\": \"2011\\u20132013\", \"S\\u00e9rie\": \"2\\u00ba %\", \"N\\u00ba alunos\": 88.0}, {\"Per\\u00edodo\": \"2012\\u20132014\", \"S\\u00e9rie\": \"3\\u00ba %\", \"N\\u00ba alunos\": 76.0}, {\"Per\\u00edodo\": \"2012\\u20132014\", \"S\\u00e9rie\": \"1\\u00ba %\", \"N\\u00ba alunos\": 100.0}, {\"Per\\u00edodo\": \"2012\\u20132014\", \"S\\u00e9rie\": \"2\\u00ba %\", \"N\\u00ba alunos\": 87.0}, {\"Per\\u00edodo\": \"2013\\u20132015\", \"S\\u00e9rie\": \"3\\u00ba %\", \"N\\u00ba alunos\": 72.0}, {\"Per\\u00edodo\": \"2013\\u20132015\", \"S\\u00e9rie\": \"2\\u00ba %\", \"N\\u00ba alunos\": 87.0}, {\"Per\\u00edodo\": \"2013\\u20132015\", \"S\\u00e9rie\": \"1\\u00ba %\", \"N\\u00ba alunos\": 100.0}, {\"Per\\u00edodo\": \"2014\\u20132016\", \"S\\u00e9rie\": \"2\\u00ba %\", \"N\\u00ba alunos\": 80.0}, {\"Per\\u00edodo\": \"2014\\u20132016\", \"S\\u00e9rie\": \"3\\u00ba %\", \"N\\u00ba alunos\": 64.0}, {\"Per\\u00edodo\": \"2014\\u20132016\", \"S\\u00e9rie\": \"1\\u00ba %\", \"N\\u00ba alunos\": 100.0}, {\"Per\\u00edodo\": \"2015\\u20132017\", \"S\\u00e9rie\": \"2\\u00ba %\", \"N\\u00ba alunos\": 92.0}, {\"Per\\u00edodo\": \"2015\\u20132017\", \"S\\u00e9rie\": \"3\\u00ba %\", \"N\\u00ba alunos\": 76.0}, {\"Per\\u00edodo\": \"2015\\u20132017\", \"S\\u00e9rie\": \"1\\u00ba %\", \"N\\u00ba alunos\": 100.0}, {\"Per\\u00edodo\": \"2016\\u20132018\", \"S\\u00e9rie\": \"3\\u00ba %\", \"N\\u00ba alunos\": 76.0}, {\"Per\\u00edodo\": \"2016\\u20132018\", \"S\\u00e9rie\": \"1\\u00ba %\", \"N\\u00ba alunos\": 100.0}, {\"Per\\u00edodo\": \"2016\\u20132018\", \"S\\u00e9rie\": \"2\\u00ba %\", \"N\\u00ba alunos\": 87.0}, {\"Per\\u00edodo\": \"2017\\u20132019\", \"S\\u00e9rie\": \"2\\u00ba %\", \"N\\u00ba alunos\": 85.0}, {\"Per\\u00edodo\": \"2017\\u20132019\", \"S\\u00e9rie\": \"3\\u00ba %\", \"N\\u00ba alunos\": 74.0}, {\"Per\\u00edodo\": \"2017\\u20132019\", \"S\\u00e9rie\": \"1\\u00ba %\", \"N\\u00ba alunos\": 100.0}, {\"Per\\u00edodo\": \"2018\\u20132020\", \"S\\u00e9rie\": \"3\\u00ba %\", \"N\\u00ba alunos\": null}, {\"Per\\u00edodo\": \"2018\\u20132020\", \"S\\u00e9rie\": \"1\\u00ba %\", \"N\\u00ba alunos\": 100.0}, {\"Per\\u00edodo\": \"2018\\u20132020\", \"S\\u00e9rie\": \"2\\u00ba %\", \"N\\u00ba alunos\": 88.0}, {\"Per\\u00edodo\": \"2019\\u20132021\", \"S\\u00e9rie\": \"1\\u00ba %\", \"N\\u00ba alunos\": 100.0}, {\"Per\\u00edodo\": \"2019\\u20132021\", \"S\\u00e9rie\": \"2\\u00ba %\", \"N\\u00ba alunos\": null}, {\"Per\\u00edodo\": \"2019\\u20132021\", \"S\\u00e9rie\": \"3\\u00ba %\", \"N\\u00ba alunos\": null}]}}, {\"mode\": \"vega-lite\"});\n",
              "</script>"
            ]
          },
          "metadata": {},
          "execution_count": 72
        }
      ]
    },
    {
      "cell_type": "code",
      "metadata": {
        "id": "Xo43eYSQR2P_",
        "outputId": "d00d29a3-4ce0-4c1c-9800-8aa667038b71",
        "colab": {
          "base_uri": "https://localhost:8080/",
          "height": 452
        }
      },
      "source": [
        "alt.hconcat()"
      ],
      "id": "Xo43eYSQR2P_",
      "execution_count": 65,
      "outputs": [
        {
          "output_type": "execute_result",
          "data": {
            "text/plain": [
              "alt.Chart(...)"
            ],
            "text/html": [
              "\n",
              "<div id=\"altair-viz-35f9e9e862b84ece942bf752053e7f9d\"></div>\n",
              "<script type=\"text/javascript\">\n",
              "  (function(spec, embedOpt){\n",
              "    let outputDiv = document.currentScript.previousElementSibling;\n",
              "    if (outputDiv.id !== \"altair-viz-35f9e9e862b84ece942bf752053e7f9d\") {\n",
              "      outputDiv = document.getElementById(\"altair-viz-35f9e9e862b84ece942bf752053e7f9d\");\n",
              "    }\n",
              "    const paths = {\n",
              "      \"vega\": \"https://cdn.jsdelivr.net/npm//vega@5?noext\",\n",
              "      \"vega-lib\": \"https://cdn.jsdelivr.net/npm//vega-lib?noext\",\n",
              "      \"vega-lite\": \"https://cdn.jsdelivr.net/npm//vega-lite@4.8.1?noext\",\n",
              "      \"vega-embed\": \"https://cdn.jsdelivr.net/npm//vega-embed@6?noext\",\n",
              "    };\n",
              "\n",
              "    function loadScript(lib) {\n",
              "      return new Promise(function(resolve, reject) {\n",
              "        var s = document.createElement('script');\n",
              "        s.src = paths[lib];\n",
              "        s.async = true;\n",
              "        s.onload = () => resolve(paths[lib]);\n",
              "        s.onerror = () => reject(`Error loading script: ${paths[lib]}`);\n",
              "        document.getElementsByTagName(\"head\")[0].appendChild(s);\n",
              "      });\n",
              "    }\n",
              "\n",
              "    function showError(err) {\n",
              "      outputDiv.innerHTML = `<div class=\"error\" style=\"color:red;\">${err}</div>`;\n",
              "      throw err;\n",
              "    }\n",
              "\n",
              "    function displayChart(vegaEmbed) {\n",
              "      vegaEmbed(outputDiv, spec, embedOpt)\n",
              "        .catch(err => showError(`Javascript Error: ${err.message}<br>This usually means there's a typo in your chart specification. See the javascript console for the full traceback.`));\n",
              "    }\n",
              "\n",
              "    if(typeof define === \"function\" && define.amd) {\n",
              "      requirejs.config({paths});\n",
              "      require([\"vega-embed\"], displayChart, err => showError(`Error loading script: ${err.message}`));\n",
              "    } else if (typeof vegaEmbed === \"function\") {\n",
              "      displayChart(vegaEmbed);\n",
              "    } else {\n",
              "      loadScript(\"vega\")\n",
              "        .then(() => loadScript(\"vega-lite\"))\n",
              "        .then(() => loadScript(\"vega-embed\"))\n",
              "        .catch(showError)\n",
              "        .then(() => displayChart(vegaEmbed));\n",
              "    }\n",
              "  })({\"width\": 685, \"height\": 380, \"config\": {\"title\": {\"anchor\": \"start\", \"fontSize\": 18, \"font\": \"Lato\", \"fontColor\": \"#000000\"}, \"axisX\": {\"domain\": true, \"domainColor\": \"#000000\", \"domainWidth\": 1, \"grid\": false, \"labelFontSize\": 12, \"labelFont\": \"Lato\", \"labelAngle\": 0, \"tickColor\": \"#000000\", \"tickSize\": 5, \"titleFontSize\": 12, \"titlePadding\": 10, \"titleFont\": \"Lato\", \"title\": \"\"}, \"axisY\": {\"domain\": false, \"grid\": true, \"gridColor\": \"#DEDDDD\", \"gridWidth\": 1, \"labelFontSize\": 12, \"labelFont\": \"Lato\", \"labelPadding\": 8, \"ticks\": false, \"titleFontSize\": 12, \"titlePadding\": 10, \"titleFont\": \"Lato\", \"titleAngle\": 0, \"titleY\": -10, \"titleX\": 18}, \"background\": \"#FFFFFF\", \"legend\": {\"labelFontSize\": 12, \"labelFont\": \"Lato\", \"symbolSize\": 100, \"symbolType\": \"square\", \"titleFontSize\": 12, \"titlePadding\": 10, \"titleFont\": \"Lato\", \"title\": \"\", \"orient\": \"top-left\", \"offset\": 0}, \"view\": {\"stroke\": \"transparent\"}, \"range\": {\"category\": [\"#1696d2\", \"#d2d2d2\", \"#000000\", \"#fdbf11\", \"#ec008b\", \"#55b748\", \"#5c5859\", \"#db2b27\"], \"diverging\": [\"#cfe8f3\", \"#a2d4ec\", \"#73bfe2\", \"#46abdb\", \"#1696d2\", \"#12719e\"]}, \"area\": {\"fill\": \"#1696d2\"}, \"line\": {\"color\": \"#1696d2\", \"stroke\": \"#1696d2\", \"strokewidth\": 5}, \"trail\": {\"color\": \"#1696d2\", \"stroke\": \"#1696d2\", \"strokeWidth\": 0, \"size\": 1}, \"path\": {\"stroke\": \"#1696d2\", \"strokeWidth\": 0.5}, \"point\": {\"filled\": true}, \"text\": {\"font\": \"Lato\", \"color\": \"#1696d2\", \"fontSize\": 11, \"align\": \"right\", \"fontWeight\": 400, \"size\": 11}, \"bar\": {\"size\": 40, \"binSpacing\": 1, \"continuousBandSize\": 30, \"discreteBandSize\": 30, \"fill\": \"#1696d2\", \"stroke\": false}}, \"data\": {\"name\": \"data-f1454e96cf9f7478dd829eafebb6e630\"}, \"mark\": {\"type\": \"bar\", \"color\": \"orange\"}, \"encoding\": {\"tooltip\": [{\"type\": \"quantitative\", \"field\": \"nota_final\"}], \"x\": {\"type\": \"nominal\", \"field\": \"CO_ESCOLA\", \"sort\": {\"field\": \"rank\"}}, \"y\": {\"type\": \"quantitative\", \"field\": \"nota_final\"}}, \"$schema\": \"https://vega.github.io/schema/vega-lite/v4.8.1.json\", \"datasets\": {\"data-f1454e96cf9f7478dd829eafebb6e630\": [{\"CO_ESCOLA\": 33135827, \"Ano\": 2019, \"nota_ci\\u00eancias\": 647.5, \"nota_humanas\": 651.0, \"nota_portugu\\u00eas\": 627.0, \"nota_matem\\u00e1tica\": 789.0, \"nota_reda\\u00e7\\u00e3o\": 940.0, \"nota_final\": 758.0, \"num_alunos\": 31.0, \"nota_ci\\u00eancias_perc80\": 676.0, \"nota_humanas_perc80\": 685.5, \"nota_portugu\\u00eas_perc80\": 641.5, \"nota_matem\\u00e1tica_perc80\": 823.0, \"nota_reda\\u00e7\\u00e3o_perc80\": 960.0, \"nota_final_perc80\": 778.0, \"rank\": 1}, {\"CO_ESCOLA\": 33062633, \"Ano\": 2019, \"nota_ci\\u00eancias\": 636.5, \"nota_humanas\": 672.0, \"nota_portugu\\u00eas\": 626.0, \"nota_matem\\u00e1tica\": 789.5, \"nota_reda\\u00e7\\u00e3o\": 900.0, \"nota_final\": 751.0, \"num_alunos\": 45.0, \"nota_ci\\u00eancias_perc80\": 662.5, \"nota_humanas_perc80\": 714.0, \"nota_portugu\\u00eas_perc80\": 641.5, \"nota_matem\\u00e1tica_perc80\": 853.0, \"nota_reda\\u00e7\\u00e3o_perc80\": 940.0, \"nota_final_perc80\": 773.5, \"rank\": 2}, {\"CO_ESCOLA\": 33178860, \"Ano\": 2019, \"nota_ci\\u00eancias\": 610.0, \"nota_humanas\": 662.5, \"nota_portugu\\u00eas\": 626.0, \"nota_matem\\u00e1tica\": 779.0, \"nota_reda\\u00e7\\u00e3o\": 910.0, \"nota_final\": 745.5, \"num_alunos\": 60.0, \"nota_ci\\u00eancias_perc80\": 652.5, \"nota_humanas_perc80\": 683.5, \"nota_portugu\\u00eas_perc80\": 648.0, \"nota_matem\\u00e1tica_perc80\": 848.0, \"nota_reda\\u00e7\\u00e3o_perc80\": 940.0, \"nota_final_perc80\": 779.0, \"rank\": 3}, {\"CO_ESCOLA\": 33135371, \"Ano\": 2019, \"nota_ci\\u00eancias\": 613.0, \"nota_humanas\": 647.0, \"nota_portugu\\u00eas\": 620.5, \"nota_matem\\u00e1tica\": 744.0, \"nota_reda\\u00e7\\u00e3o\": 940.0, \"nota_final\": 743.0, \"num_alunos\": 99.0, \"nota_ci\\u00eancias_perc80\": 649.5, \"nota_humanas_perc80\": 681.0, \"nota_portugu\\u00eas_perc80\": 641.0, \"nota_matem\\u00e1tica_perc80\": 825.0, \"nota_reda\\u00e7\\u00e3o_perc80\": 960.0, \"nota_final_perc80\": 769.0, \"rank\": 4}, {\"CO_ESCOLA\": 33176825, \"Ano\": 2019, \"nota_ci\\u00eancias\": 605.5, \"nota_humanas\": 649.0, \"nota_portugu\\u00eas\": 620.5, \"nota_matem\\u00e1tica\": 759.0, \"nota_reda\\u00e7\\u00e3o\": 920.0, \"nota_final\": 742.0, \"num_alunos\": 146.0, \"nota_ci\\u00eancias_perc80\": 643.0, \"nota_humanas_perc80\": 682.0, \"nota_portugu\\u00eas_perc80\": 644.5, \"nota_matem\\u00e1tica_perc80\": 815.5, \"nota_reda\\u00e7\\u00e3o_perc80\": 960.0, \"nota_final_perc80\": 769.0, \"rank\": 5}, {\"CO_ESCOLA\": 33057206, \"Ano\": 2019, \"nota_ci\\u00eancias\": 587.0, \"nota_humanas\": 640.5, \"nota_portugu\\u00eas\": 614.5, \"nota_matem\\u00e1tica\": 736.0, \"nota_reda\\u00e7\\u00e3o\": 920.0, \"nota_final\": 736.0, \"num_alunos\": 81.0, \"nota_ci\\u00eancias_perc80\": 630.0, \"nota_humanas_perc80\": 677.5, \"nota_portugu\\u00eas_perc80\": 639.5, \"nota_matem\\u00e1tica_perc80\": 802.5, \"nota_reda\\u00e7\\u00e3o_perc80\": 960.0, \"nota_final_perc80\": 764.0, \"rank\": 6}, {\"CO_ESCOLA\": 33104220, \"Ano\": 2019, \"nota_ci\\u00eancias\": 607.5, \"nota_humanas\": 635.0, \"nota_portugu\\u00eas\": 599.0, \"nota_matem\\u00e1tica\": 742.5, \"nota_reda\\u00e7\\u00e3o\": 920.0, \"nota_final\": 735.0, \"num_alunos\": 55.0, \"nota_ci\\u00eancias_perc80\": 640.0, \"nota_humanas_perc80\": 675.0, \"nota_portugu\\u00eas_perc80\": 640.5, \"nota_matem\\u00e1tica_perc80\": 781.5, \"nota_reda\\u00e7\\u00e3o_perc80\": 940.0, \"nota_final_perc80\": 760.0, \"rank\": 7}, {\"CO_ESCOLA\": 33062609, \"Ano\": 2019, \"nota_ci\\u00eancias\": 611.5, \"nota_humanas\": 649.5, \"nota_portugu\\u00eas\": 612.5, \"nota_matem\\u00e1tica\": 777.5, \"nota_reda\\u00e7\\u00e3o\": 880.0, \"nota_final\": 734.5, \"num_alunos\": 80.0, \"nota_ci\\u00eancias_perc80\": 649.5, \"nota_humanas_perc80\": 682.0, \"nota_portugu\\u00eas_perc80\": 632.0, \"nota_matem\\u00e1tica_perc80\": 831.0, \"nota_reda\\u00e7\\u00e3o_perc80\": 920.0, \"nota_final_perc80\": 771.0, \"rank\": 8}, {\"CO_ESCOLA\": 33173990, \"Ano\": 2019, \"nota_ci\\u00eancias\": 603.0, \"nota_humanas\": 636.5, \"nota_portugu\\u00eas\": 614.0, \"nota_matem\\u00e1tica\": 739.5, \"nota_reda\\u00e7\\u00e3o\": 900.0, \"nota_final\": 732.5, \"num_alunos\": 52.0, \"nota_ci\\u00eancias_perc80\": 631.0, \"nota_humanas_perc80\": 671.0, \"nota_portugu\\u00eas_perc80\": 638.0, \"nota_matem\\u00e1tica_perc80\": 812.5, \"nota_reda\\u00e7\\u00e3o_perc80\": 940.0, \"nota_final_perc80\": 760.0, \"rank\": 9}, {\"CO_ESCOLA\": 33063729, \"Ano\": 2019, \"nota_ci\\u00eancias\": 609.5, \"nota_humanas\": 642.5, \"nota_portugu\\u00eas\": 611.0, \"nota_matem\\u00e1tica\": 753.0, \"nota_reda\\u00e7\\u00e3o\": 900.0, \"nota_final\": 732.0, \"num_alunos\": 148.0, \"nota_ci\\u00eancias_perc80\": 647.5, \"nota_humanas_perc80\": 678.0, \"nota_portugu\\u00eas_perc80\": 633.0, \"nota_matem\\u00e1tica_perc80\": 822.0, \"nota_reda\\u00e7\\u00e3o_perc80\": 940.0, \"nota_final_perc80\": 770.5, \"rank\": 10}, {\"CO_ESCOLA\": 33180385, \"Ano\": 2019, \"nota_ci\\u00eancias\": 593.0, \"nota_humanas\": 629.5, \"nota_portugu\\u00eas\": 608.0, \"nota_matem\\u00e1tica\": 723.0, \"nota_reda\\u00e7\\u00e3o\": 920.0, \"nota_final\": 731.0, \"num_alunos\": 133.0, \"nota_ci\\u00eancias_perc80\": 633.5, \"nota_humanas_perc80\": 672.5, \"nota_portugu\\u00eas_perc80\": 636.0, \"nota_matem\\u00e1tica_perc80\": 794.5, \"nota_reda\\u00e7\\u00e3o_perc80\": 960.0, \"nota_final_perc80\": 763.0, \"rank\": 11}, {\"CO_ESCOLA\": 33031371, \"Ano\": 2019, \"nota_ci\\u00eancias\": 604.5, \"nota_humanas\": 630.5, \"nota_portugu\\u00eas\": 602.5, \"nota_matem\\u00e1tica\": 736.0, \"nota_reda\\u00e7\\u00e3o\": 920.0, \"nota_final\": 731.0, \"num_alunos\": 34.0, \"nota_ci\\u00eancias_perc80\": 661.0, \"nota_humanas_perc80\": 682.5, \"nota_portugu\\u00eas_perc80\": 642.0, \"nota_matem\\u00e1tica_perc80\": 791.0, \"nota_reda\\u00e7\\u00e3o_perc80\": 940.0, \"nota_final_perc80\": 770.0, \"rank\": 11}, {\"CO_ESCOLA\": 33075425, \"Ano\": 2019, \"nota_ci\\u00eancias\": 591.0, \"nota_humanas\": 630.5, \"nota_portugu\\u00eas\": 621.0, \"nota_matem\\u00e1tica\": 741.5, \"nota_reda\\u00e7\\u00e3o\": 900.0, \"nota_final\": 730.5, \"num_alunos\": 44.0, \"nota_ci\\u00eancias_perc80\": 625.5, \"nota_humanas_perc80\": 672.0, \"nota_portugu\\u00eas_perc80\": 637.0, \"nota_matem\\u00e1tica_perc80\": 797.0, \"nota_reda\\u00e7\\u00e3o_perc80\": 940.0, \"nota_final_perc80\": 765.0, \"rank\": 13}, {\"CO_ESCOLA\": 33153450, \"Ano\": 2019, \"nota_ci\\u00eancias\": 587.5, \"nota_humanas\": 635.5, \"nota_portugu\\u00eas\": 609.0, \"nota_matem\\u00e1tica\": 727.0, \"nota_reda\\u00e7\\u00e3o\": 920.0, \"nota_final\": 728.0, \"num_alunos\": 64.0, \"nota_ci\\u00eancias_perc80\": 633.0, \"nota_humanas_perc80\": 673.0, \"nota_portugu\\u00eas_perc80\": 632.0, \"nota_matem\\u00e1tica_perc80\": 791.0, \"nota_reda\\u00e7\\u00e3o_perc80\": 948.0, \"nota_final_perc80\": 754.0, \"rank\": 14}, {\"CO_ESCOLA\": 33065403, \"Ano\": 2019, \"nota_ci\\u00eancias\": 603.0, \"nota_humanas\": 656.5, \"nota_portugu\\u00eas\": 623.5, \"nota_matem\\u00e1tica\": 746.5, \"nota_reda\\u00e7\\u00e3o\": 870.0, \"nota_final\": 727.5, \"num_alunos\": 98.0, \"nota_ci\\u00eancias_perc80\": 644.0, \"nota_humanas_perc80\": 676.0, \"nota_portugu\\u00eas_perc80\": 639.5, \"nota_matem\\u00e1tica_perc80\": 799.0, \"nota_reda\\u00e7\\u00e3o_perc80\": 920.0, \"nota_final_perc80\": 751.0, \"rank\": 15}, {\"CO_ESCOLA\": 33077029, \"Ano\": 2019, \"nota_ci\\u00eancias\": 583.0, \"nota_humanas\": 619.0, \"nota_portugu\\u00eas\": 598.5, \"nota_matem\\u00e1tica\": 712.0, \"nota_reda\\u00e7\\u00e3o\": 920.0, \"nota_final\": 726.5, \"num_alunos\": 56.0, \"nota_ci\\u00eancias_perc80\": 620.5, \"nota_humanas_perc80\": 659.0, \"nota_portugu\\u00eas_perc80\": 631.0, \"nota_matem\\u00e1tica_perc80\": 776.5, \"nota_reda\\u00e7\\u00e3o_perc80\": 960.0, \"nota_final_perc80\": 749.0, \"rank\": 16}, {\"CO_ESCOLA\": 33148376, \"Ano\": 2019, \"nota_ci\\u00eancias\": 602.5, \"nota_humanas\": 627.0, \"nota_portugu\\u00eas\": 603.5, \"nota_matem\\u00e1tica\": 739.0, \"nota_reda\\u00e7\\u00e3o\": 890.0, \"nota_final\": 720.5, \"num_alunos\": 80.0, \"nota_ci\\u00eancias_perc80\": 637.5, \"nota_humanas_perc80\": 665.0, \"nota_portugu\\u00eas_perc80\": 627.0, \"nota_matem\\u00e1tica_perc80\": 812.5, \"nota_reda\\u00e7\\u00e3o_perc80\": 944.0, \"nota_final_perc80\": 766.0, \"rank\": 17}, {\"CO_ESCOLA\": 33063419, \"Ano\": 2019, \"nota_ci\\u00eancias\": 596.5, \"nota_humanas\": 635.5, \"nota_portugu\\u00eas\": 612.5, \"nota_matem\\u00e1tica\": 718.5, \"nota_reda\\u00e7\\u00e3o\": 860.0, \"nota_final\": 720.0, \"num_alunos\": 73.0, \"nota_ci\\u00eancias_perc80\": 634.0, \"nota_humanas_perc80\": 665.0, \"nota_portugu\\u00eas_perc80\": 633.5, \"nota_matem\\u00e1tica_perc80\": 780.5, \"nota_reda\\u00e7\\u00e3o_perc80\": 920.0, \"nota_final_perc80\": 744.0, \"rank\": 18}, {\"CO_ESCOLA\": 33042578, \"Ano\": 2019, \"nota_ci\\u00eancias\": 589.5, \"nota_humanas\": 639.5, \"nota_portugu\\u00eas\": 609.5, \"nota_matem\\u00e1tica\": 731.0, \"nota_reda\\u00e7\\u00e3o\": 860.0, \"nota_final\": 720.0, \"num_alunos\": 40.0, \"nota_ci\\u00eancias_perc80\": 630.0, \"nota_humanas_perc80\": 677.5, \"nota_portugu\\u00eas_perc80\": 631.0, \"nota_matem\\u00e1tica_perc80\": 792.0, \"nota_reda\\u00e7\\u00e3o_perc80\": 940.0, \"nota_final_perc80\": 754.5, \"rank\": 18}, {\"CO_ESCOLA\": 33078866, \"Ano\": 2019, \"nota_ci\\u00eancias\": 590.0, \"nota_humanas\": 613.5, \"nota_portugu\\u00eas\": 604.0, \"nota_matem\\u00e1tica\": 712.5, \"nota_reda\\u00e7\\u00e3o\": 900.0, \"nota_final\": 719.0, \"num_alunos\": 54.0, \"nota_ci\\u00eancias_perc80\": 620.5, \"nota_humanas_perc80\": 656.0, \"nota_portugu\\u00eas_perc80\": 624.5, \"nota_matem\\u00e1tica_perc80\": 783.0, \"nota_reda\\u00e7\\u00e3o_perc80\": 940.0, \"nota_final_perc80\": 744.0, \"rank\": 20}, {\"CO_ESCOLA\": 33447225, \"Ano\": 2019, \"nota_ci\\u00eancias\": 582.5, \"nota_humanas\": 625.5, \"nota_portugu\\u00eas\": 606.0, \"nota_matem\\u00e1tica\": 720.5, \"nota_reda\\u00e7\\u00e3o\": 900.0, \"nota_final\": 719.0, \"num_alunos\": 111.0, \"nota_ci\\u00eancias_perc80\": 610.5, \"nota_humanas_perc80\": 653.5, \"nota_portugu\\u00eas_perc80\": 634.0, \"nota_matem\\u00e1tica_perc80\": 799.5, \"nota_reda\\u00e7\\u00e3o_perc80\": 940.0, \"nota_final_perc80\": 755.0, \"rank\": 20}, {\"CO_ESCOLA\": 33110034, \"Ano\": 2019, \"nota_ci\\u00eancias\": 599.0, \"nota_humanas\": 649.0, \"nota_portugu\\u00eas\": 620.0, \"nota_matem\\u00e1tica\": 732.0, \"nota_reda\\u00e7\\u00e3o\": 880.0, \"nota_final\": 716.0, \"num_alunos\": 47.0, \"nota_ci\\u00eancias_perc80\": 631.5, \"nota_humanas_perc80\": 697.0, \"nota_portugu\\u00eas_perc80\": 639.5, \"nota_matem\\u00e1tica_perc80\": 780.5, \"nota_reda\\u00e7\\u00e3o_perc80\": 940.0, \"nota_final_perc80\": 761.0, \"rank\": 22}, {\"CO_ESCOLA\": 33322201, \"Ano\": 2019, \"nota_ci\\u00eancias\": 585.0, \"nota_humanas\": 629.5, \"nota_portugu\\u00eas\": 611.5, \"nota_matem\\u00e1tica\": 681.0, \"nota_reda\\u00e7\\u00e3o\": 900.0, \"nota_final\": 715.0, \"num_alunos\": 154.0, \"nota_ci\\u00eancias_perc80\": 616.5, \"nota_humanas_perc80\": 657.0, \"nota_portugu\\u00eas_perc80\": 635.0, \"nota_matem\\u00e1tica_perc80\": 745.5, \"nota_reda\\u00e7\\u00e3o_perc80\": 940.0, \"nota_final_perc80\": 742.0, \"rank\": 23}, {\"CO_ESCOLA\": 33180539, \"Ano\": 2019, \"nota_ci\\u00eancias\": 588.5, \"nota_humanas\": 626.5, \"nota_portugu\\u00eas\": 600.5, \"nota_matem\\u00e1tica\": 697.0, \"nota_reda\\u00e7\\u00e3o\": 900.0, \"nota_final\": 714.5, \"num_alunos\": 72.0, \"nota_ci\\u00eancias_perc80\": 622.0, \"nota_humanas_perc80\": 674.0, \"nota_portugu\\u00eas_perc80\": 628.0, \"nota_matem\\u00e1tica_perc80\": 764.0, \"nota_reda\\u00e7\\u00e3o_perc80\": 940.0, \"nota_final_perc80\": 748.0, \"rank\": 24}, {\"CO_ESCOLA\": 33105405, \"Ano\": 2019, \"nota_ci\\u00eancias\": 593.0, \"nota_humanas\": 626.0, \"nota_portugu\\u00eas\": 604.0, \"nota_matem\\u00e1tica\": 704.5, \"nota_reda\\u00e7\\u00e3o\": 860.0, \"nota_final\": 713.5, \"num_alunos\": 120.0, \"nota_ci\\u00eancias_perc80\": 627.5, \"nota_humanas_perc80\": 665.5, \"nota_portugu\\u00eas_perc80\": 628.0, \"nota_matem\\u00e1tica_perc80\": 786.5, \"nota_reda\\u00e7\\u00e3o_perc80\": 920.0, \"nota_final_perc80\": 750.5, \"rank\": 25}, {\"CO_ESCOLA\": 33228604, \"Ano\": 2019, \"nota_ci\\u00eancias\": 603.0, \"nota_humanas\": 620.0, \"nota_portugu\\u00eas\": 602.5, \"nota_matem\\u00e1tica\": 730.0, \"nota_reda\\u00e7\\u00e3o\": 860.0, \"nota_final\": 713.0, \"num_alunos\": 70.0, \"nota_ci\\u00eancias_perc80\": 642.5, \"nota_humanas_perc80\": 654.5, \"nota_portugu\\u00eas_perc80\": 643.0, \"nota_matem\\u00e1tica_perc80\": 804.5, \"nota_reda\\u00e7\\u00e3o_perc80\": 920.0, \"nota_final_perc80\": 750.0, \"rank\": 26}, {\"CO_ESCOLA\": 33109923, \"Ano\": 2019, \"nota_ci\\u00eancias\": 594.0, \"nota_humanas\": 614.0, \"nota_portugu\\u00eas\": 600.5, \"nota_matem\\u00e1tica\": 697.5, \"nota_reda\\u00e7\\u00e3o\": 860.0, \"nota_final\": 712.0, \"num_alunos\": 35.0, \"nota_ci\\u00eancias_perc80\": 614.5, \"nota_humanas_perc80\": 642.5, \"nota_portugu\\u00eas_perc80\": 621.5, \"nota_matem\\u00e1tica_perc80\": 765.5, \"nota_reda\\u00e7\\u00e3o_perc80\": 924.0, \"nota_final_perc80\": 736.5, \"rank\": 27}, {\"CO_ESCOLA\": 33165998, \"Ano\": 2019, \"nota_ci\\u00eancias\": 585.5, \"nota_humanas\": 626.5, \"nota_portugu\\u00eas\": 596.5, \"nota_matem\\u00e1tica\": 684.0, \"nota_reda\\u00e7\\u00e3o\": 880.0, \"nota_final\": 712.0, \"num_alunos\": 55.0, \"nota_ci\\u00eancias_perc80\": 626.0, \"nota_humanas_perc80\": 657.0, \"nota_portugu\\u00eas_perc80\": 620.5, \"nota_matem\\u00e1tica_perc80\": 731.5, \"nota_reda\\u00e7\\u00e3o_perc80\": 940.0, \"nota_final_perc80\": 741.0, \"rank\": 27}, {\"CO_ESCOLA\": 33085897, \"Ano\": 2019, \"nota_ci\\u00eancias\": 594.5, \"nota_humanas\": 633.0, \"nota_portugu\\u00eas\": 606.0, \"nota_matem\\u00e1tica\": 721.0, \"nota_reda\\u00e7\\u00e3o\": 880.0, \"nota_final\": 711.5, \"num_alunos\": 36.0, \"nota_ci\\u00eancias_perc80\": 640.0, \"nota_humanas_perc80\": 660.5, \"nota_portugu\\u00eas_perc80\": 633.5, \"nota_matem\\u00e1tica_perc80\": 770.5, \"nota_reda\\u00e7\\u00e3o_perc80\": 940.0, \"nota_final_perc80\": 760.0, \"rank\": 29}, {\"CO_ESCOLA\": 33021724, \"Ano\": 2019, \"nota_ci\\u00eancias\": 576.0, \"nota_humanas\": 615.0, \"nota_portugu\\u00eas\": 593.5, \"nota_matem\\u00e1tica\": 681.5, \"nota_reda\\u00e7\\u00e3o\": 900.0, \"nota_final\": 710.5, \"num_alunos\": 48.0, \"nota_ci\\u00eancias_perc80\": 613.5, \"nota_humanas_perc80\": 636.0, \"nota_portugu\\u00eas_perc80\": 617.0, \"nota_matem\\u00e1tica_perc80\": 749.0, \"nota_reda\\u00e7\\u00e3o_perc80\": 940.0, \"nota_final_perc80\": 742.5, \"rank\": 30}, {\"CO_ESCOLA\": 33055947, \"Ano\": 2019, \"nota_ci\\u00eancias\": 593.5, \"nota_humanas\": 622.0, \"nota_portugu\\u00eas\": 603.5, \"nota_matem\\u00e1tica\": 688.0, \"nota_reda\\u00e7\\u00e3o\": 900.0, \"nota_final\": 710.0, \"num_alunos\": 62.0, \"nota_ci\\u00eancias_perc80\": 617.0, \"nota_humanas_perc80\": 667.5, \"nota_portugu\\u00eas_perc80\": 620.0, \"nota_matem\\u00e1tica_perc80\": 754.5, \"nota_reda\\u00e7\\u00e3o_perc80\": 940.0, \"nota_final_perc80\": 753.5, \"rank\": 31}, {\"CO_ESCOLA\": 33173869, \"Ano\": 2019, \"nota_ci\\u00eancias\": 588.0, \"nota_humanas\": 602.5, \"nota_portugu\\u00eas\": 598.0, \"nota_matem\\u00e1tica\": 695.5, \"nota_reda\\u00e7\\u00e3o\": 880.0, \"nota_final\": 710.0, \"num_alunos\": 54.0, \"nota_ci\\u00eancias_perc80\": 619.0, \"nota_humanas_perc80\": 650.5, \"nota_portugu\\u00eas_perc80\": 616.5, \"nota_matem\\u00e1tica_perc80\": 777.5, \"nota_reda\\u00e7\\u00e3o_perc80\": 940.0, \"nota_final_perc80\": 739.5, \"rank\": 31}, {\"CO_ESCOLA\": 33177627, \"Ano\": 2019, \"nota_ci\\u00eancias\": 570.0, \"nota_humanas\": 621.0, \"nota_portugu\\u00eas\": 595.0, \"nota_matem\\u00e1tica\": 677.5, \"nota_reda\\u00e7\\u00e3o\": 900.0, \"nota_final\": 709.5, \"num_alunos\": 40.0, \"nota_ci\\u00eancias_perc80\": 611.5, \"nota_humanas_perc80\": 654.5, \"nota_portugu\\u00eas_perc80\": 621.5, \"nota_matem\\u00e1tica_perc80\": 744.0, \"nota_reda\\u00e7\\u00e3o_perc80\": 940.0, \"nota_final_perc80\": 743.5, \"rank\": 33}, {\"CO_ESCOLA\": 33066752, \"Ano\": 2019, \"nota_ci\\u00eancias\": 598.5, \"nota_humanas\": 631.0, \"nota_portugu\\u00eas\": 602.5, \"nota_matem\\u00e1tica\": 694.5, \"nota_reda\\u00e7\\u00e3o\": 880.0, \"nota_final\": 709.0, \"num_alunos\": 55.0, \"nota_ci\\u00eancias_perc80\": 620.5, \"nota_humanas_perc80\": 675.5, \"nota_portugu\\u00eas_perc80\": 634.0, \"nota_matem\\u00e1tica_perc80\": 770.5, \"nota_reda\\u00e7\\u00e3o_perc80\": 940.0, \"nota_final_perc80\": 747.0, \"rank\": 34}, {\"CO_ESCOLA\": 33057109, \"Ano\": 2019, \"nota_ci\\u00eancias\": 575.5, \"nota_humanas\": 619.0, \"nota_portugu\\u00eas\": 597.0, \"nota_matem\\u00e1tica\": 707.5, \"nota_reda\\u00e7\\u00e3o\": 880.0, \"nota_final\": 708.0, \"num_alunos\": 109.0, \"nota_ci\\u00eancias_perc80\": 624.5, \"nota_humanas_perc80\": 658.5, \"nota_portugu\\u00eas_perc80\": 627.0, \"nota_matem\\u00e1tica_perc80\": 774.0, \"nota_reda\\u00e7\\u00e3o_perc80\": 940.0, \"nota_final_perc80\": 738.5, \"rank\": 35}, {\"CO_ESCOLA\": 33063648, \"Ano\": 2019, \"nota_ci\\u00eancias\": 589.0, \"nota_humanas\": 637.0, \"nota_portugu\\u00eas\": 620.5, \"nota_matem\\u00e1tica\": 732.0, \"nota_reda\\u00e7\\u00e3o\": 860.0, \"nota_final\": 707.0, \"num_alunos\": 59.0, \"nota_ci\\u00eancias_perc80\": 621.0, \"nota_humanas_perc80\": 667.0, \"nota_portugu\\u00eas_perc80\": 640.5, \"nota_matem\\u00e1tica_perc80\": 776.5, \"nota_reda\\u00e7\\u00e3o_perc80\": 908.0, \"nota_final_perc80\": 748.5, \"rank\": 36}, {\"CO_ESCOLA\": 33439826, \"Ano\": 2019, \"nota_ci\\u00eancias\": 579.5, \"nota_humanas\": 610.5, \"nota_portugu\\u00eas\": 602.0, \"nota_matem\\u00e1tica\": 707.5, \"nota_reda\\u00e7\\u00e3o\": 880.0, \"nota_final\": 706.5, \"num_alunos\": 40.0, \"nota_ci\\u00eancias_perc80\": 611.0, \"nota_humanas_perc80\": 655.0, \"nota_portugu\\u00eas_perc80\": 622.0, \"nota_matem\\u00e1tica_perc80\": 748.0, \"nota_reda\\u00e7\\u00e3o_perc80\": 924.0, \"nota_final_perc80\": 737.0, \"rank\": 37}, {\"CO_ESCOLA\": 33065411, \"Ano\": 2019, \"nota_ci\\u00eancias\": 580.0, \"nota_humanas\": 624.5, \"nota_portugu\\u00eas\": 608.0, \"nota_matem\\u00e1tica\": 713.0, \"nota_reda\\u00e7\\u00e3o\": 880.0, \"nota_final\": 706.0, \"num_alunos\": 33.0, \"nota_ci\\u00eancias_perc80\": 611.5, \"nota_humanas_perc80\": 652.0, \"nota_portugu\\u00eas_perc80\": 626.0, \"nota_matem\\u00e1tica_perc80\": 786.0, \"nota_reda\\u00e7\\u00e3o_perc80\": 900.0, \"nota_final_perc80\": 732.5, \"rank\": 38}, {\"CO_ESCOLA\": 33155852, \"Ano\": 2019, \"nota_ci\\u00eancias\": 576.5, \"nota_humanas\": 610.5, \"nota_portugu\\u00eas\": 588.5, \"nota_matem\\u00e1tica\": 704.5, \"nota_reda\\u00e7\\u00e3o\": 880.0, \"nota_final\": 706.0, \"num_alunos\": 57.0, \"nota_ci\\u00eancias_perc80\": 600.0, \"nota_humanas_perc80\": 639.0, \"nota_portugu\\u00eas_perc80\": 614.5, \"nota_matem\\u00e1tica_perc80\": 778.0, \"nota_reda\\u00e7\\u00e3o_perc80\": 940.0, \"nota_final_perc80\": 741.5, \"rank\": 38}, {\"CO_ESCOLA\": 33110328, \"Ano\": 2019, \"nota_ci\\u00eancias\": 584.0, \"nota_humanas\": 620.0, \"nota_portugu\\u00eas\": 607.5, \"nota_matem\\u00e1tica\": 698.5, \"nota_reda\\u00e7\\u00e3o\": 860.0, \"nota_final\": 705.5, \"num_alunos\": 122.0, \"nota_ci\\u00eancias_perc80\": 621.5, \"nota_humanas_perc80\": 664.5, \"nota_portugu\\u00eas_perc80\": 627.0, \"nota_matem\\u00e1tica_perc80\": 762.5, \"nota_reda\\u00e7\\u00e3o_perc80\": 920.0, \"nota_final_perc80\": 743.0, \"rank\": 40}, {\"CO_ESCOLA\": 33066698, \"Ano\": 2019, \"nota_ci\\u00eancias\": 589.0, \"nota_humanas\": 622.0, \"nota_portugu\\u00eas\": 600.0, \"nota_matem\\u00e1tica\": 705.5, \"nota_reda\\u00e7\\u00e3o\": 860.0, \"nota_final\": 705.0, \"num_alunos\": 36.0, \"nota_ci\\u00eancias_perc80\": 624.5, \"nota_humanas_perc80\": 662.5, \"nota_portugu\\u00eas_perc80\": 634.0, \"nota_matem\\u00e1tica_perc80\": 781.0, \"nota_reda\\u00e7\\u00e3o_perc80\": 900.0, \"nota_final_perc80\": 737.0, \"rank\": 41}, {\"CO_ESCOLA\": 33029490, \"Ano\": 2019, \"nota_ci\\u00eancias\": 578.0, \"nota_humanas\": 597.5, \"nota_portugu\\u00eas\": 572.5, \"nota_matem\\u00e1tica\": 717.5, \"nota_reda\\u00e7\\u00e3o\": 880.0, \"nota_final\": 705.0, \"num_alunos\": 49.0, \"nota_ci\\u00eancias_perc80\": 623.0, \"nota_humanas_perc80\": 635.5, \"nota_portugu\\u00eas_perc80\": 612.0, \"nota_matem\\u00e1tica_perc80\": 754.0, \"nota_reda\\u00e7\\u00e3o_perc80\": 940.0, \"nota_final_perc80\": 745.0, \"rank\": 41}, {\"CO_ESCOLA\": 33155216, \"Ano\": 2019, \"nota_ci\\u00eancias\": 588.5, \"nota_humanas\": 629.0, \"nota_portugu\\u00eas\": 606.5, \"nota_matem\\u00e1tica\": 713.0, \"nota_reda\\u00e7\\u00e3o\": 820.0, \"nota_final\": 704.0, \"num_alunos\": 117.0, \"nota_ci\\u00eancias_perc80\": 634.0, \"nota_humanas_perc80\": 677.0, \"nota_portugu\\u00eas_perc80\": 635.5, \"nota_matem\\u00e1tica_perc80\": 771.0, \"nota_reda\\u00e7\\u00e3o_perc80\": 920.0, \"nota_final_perc80\": 751.0, \"rank\": 43}, {\"CO_ESCOLA\": 33104247, \"Ano\": 2019, \"nota_ci\\u00eancias\": 580.0, \"nota_humanas\": 610.5, \"nota_portugu\\u00eas\": 589.5, \"nota_matem\\u00e1tica\": 692.5, \"nota_reda\\u00e7\\u00e3o\": 880.0, \"nota_final\": 703.0, \"num_alunos\": 55.0, \"nota_ci\\u00eancias_perc80\": 610.0, \"nota_humanas_perc80\": 645.0, \"nota_portugu\\u00eas_perc80\": 615.0, \"nota_matem\\u00e1tica_perc80\": 782.5, \"nota_reda\\u00e7\\u00e3o_perc80\": 920.0, \"nota_final_perc80\": 733.0, \"rank\": 44}, {\"CO_ESCOLA\": 33066523, \"Ano\": 2019, \"nota_ci\\u00eancias\": 595.0, \"nota_humanas\": 636.0, \"nota_portugu\\u00eas\": 611.0, \"nota_matem\\u00e1tica\": 702.5, \"nota_reda\\u00e7\\u00e3o\": 850.0, \"nota_final\": 702.5, \"num_alunos\": 46.0, \"nota_ci\\u00eancias_perc80\": 622.5, \"nota_humanas_perc80\": 674.0, \"nota_portugu\\u00eas_perc80\": 631.0, \"nota_matem\\u00e1tica_perc80\": 753.0, \"nota_reda\\u00e7\\u00e3o_perc80\": 900.0, \"nota_final_perc80\": 735.0, \"rank\": 45}, {\"CO_ESCOLA\": 33180199, \"Ano\": 2019, \"nota_ci\\u00eancias\": 576.0, \"nota_humanas\": 621.5, \"nota_portugu\\u00eas\": 598.5, \"nota_matem\\u00e1tica\": 694.5, \"nota_reda\\u00e7\\u00e3o\": 880.0, \"nota_final\": 702.0, \"num_alunos\": 38.0, \"nota_ci\\u00eancias_perc80\": 604.0, \"nota_humanas_perc80\": 655.0, \"nota_portugu\\u00eas_perc80\": 627.0, \"nota_matem\\u00e1tica_perc80\": 758.5, \"nota_reda\\u00e7\\u00e3o_perc80\": 940.0, \"nota_final_perc80\": 742.0, \"rank\": 46}, {\"CO_ESCOLA\": 33148848, \"Ano\": 2019, \"nota_ci\\u00eancias\": 581.0, \"nota_humanas\": 635.5, \"nota_portugu\\u00eas\": 607.0, \"nota_matem\\u00e1tica\": 693.0, \"nota_reda\\u00e7\\u00e3o\": 860.0, \"nota_final\": 700.0, \"num_alunos\": 48.0, \"nota_ci\\u00eancias_perc80\": 611.0, \"nota_humanas_perc80\": 657.5, \"nota_portugu\\u00eas_perc80\": 636.0, \"nota_matem\\u00e1tica_perc80\": 769.0, \"nota_reda\\u00e7\\u00e3o_perc80\": 920.0, \"nota_final_perc80\": 743.0, \"rank\": 47}, {\"CO_ESCOLA\": 33115460, \"Ano\": 2019, \"nota_ci\\u00eancias\": 595.0, \"nota_humanas\": 608.5, \"nota_portugu\\u00eas\": 595.5, \"nota_matem\\u00e1tica\": 713.5, \"nota_reda\\u00e7\\u00e3o\": 840.0, \"nota_final\": 700.0, \"num_alunos\": 33.0, \"nota_ci\\u00eancias_perc80\": 618.0, \"nota_humanas_perc80\": 653.5, \"nota_portugu\\u00eas_perc80\": 638.0, \"nota_matem\\u00e1tica_perc80\": 747.5, \"nota_reda\\u00e7\\u00e3o_perc80\": 924.0, \"nota_final_perc80\": 755.5, \"rank\": 47}, {\"CO_ESCOLA\": 33022267, \"Ano\": 2019, \"nota_ci\\u00eancias\": 580.5, \"nota_humanas\": 608.0, \"nota_portugu\\u00eas\": 601.0, \"nota_matem\\u00e1tica\": 696.0, \"nota_reda\\u00e7\\u00e3o\": 840.0, \"nota_final\": 698.5, \"num_alunos\": 56.0, \"nota_ci\\u00eancias_perc80\": 610.5, \"nota_humanas_perc80\": 640.5, \"nota_portugu\\u00eas_perc80\": 626.0, \"nota_matem\\u00e1tica_perc80\": 755.5, \"nota_reda\\u00e7\\u00e3o_perc80\": 940.0, \"nota_final_perc80\": 740.0, \"rank\": 49}, {\"CO_ESCOLA\": 33447250, \"Ano\": 2019, \"nota_ci\\u00eancias\": 584.5, \"nota_humanas\": 607.5, \"nota_portugu\\u00eas\": 591.0, \"nota_matem\\u00e1tica\": 713.5, \"nota_reda\\u00e7\\u00e3o\": 840.0, \"nota_final\": 698.0, \"num_alunos\": 59.0, \"nota_ci\\u00eancias_perc80\": 619.0, \"nota_humanas_perc80\": 637.0, \"nota_portugu\\u00eas_perc80\": 619.0, \"nota_matem\\u00e1tica_perc80\": 767.0, \"nota_reda\\u00e7\\u00e3o_perc80\": 908.0, \"nota_final_perc80\": 731.0, \"rank\": 50}, {\"CO_ESCOLA\": 33147710, \"Ano\": 2019, \"nota_ci\\u00eancias\": 584.5, \"nota_humanas\": 621.5, \"nota_portugu\\u00eas\": 600.5, \"nota_matem\\u00e1tica\": 699.0, \"nota_reda\\u00e7\\u00e3o\": 850.0, \"nota_final\": 698.0, \"num_alunos\": 168.0, \"nota_ci\\u00eancias_perc80\": 613.5, \"nota_humanas_perc80\": 653.0, \"nota_portugu\\u00eas_perc80\": 622.5, \"nota_matem\\u00e1tica_perc80\": 756.5, \"nota_reda\\u00e7\\u00e3o_perc80\": 920.0, \"nota_final_perc80\": 735.0, \"rank\": 50}, {\"CO_ESCOLA\": 33178976, \"Ano\": 2019, \"nota_ci\\u00eancias\": 567.5, \"nota_humanas\": 601.0, \"nota_portugu\\u00eas\": 590.0, \"nota_matem\\u00e1tica\": 676.5, \"nota_reda\\u00e7\\u00e3o\": 880.0, \"nota_final\": 697.0, \"num_alunos\": 37.0, \"nota_ci\\u00eancias_perc80\": 608.0, \"nota_humanas_perc80\": 645.5, \"nota_portugu\\u00eas_perc80\": 616.0, \"nota_matem\\u00e1tica_perc80\": 747.5, \"nota_reda\\u00e7\\u00e3o_perc80\": 920.0, \"nota_final_perc80\": 724.5, \"rank\": 52}, {\"CO_ESCOLA\": 33111456, \"Ano\": 2019, \"nota_ci\\u00eancias\": 569.5, \"nota_humanas\": 617.0, \"nota_portugu\\u00eas\": 588.0, \"nota_matem\\u00e1tica\": 688.0, \"nota_reda\\u00e7\\u00e3o\": 880.0, \"nota_final\": 695.0, \"num_alunos\": 31.0, \"nota_ci\\u00eancias_perc80\": 595.5, \"nota_humanas_perc80\": 638.0, \"nota_portugu\\u00eas_perc80\": 612.5, \"nota_matem\\u00e1tica_perc80\": 744.0, \"nota_reda\\u00e7\\u00e3o_perc80\": 920.0, \"nota_final_perc80\": 737.0, \"rank\": 53}, {\"CO_ESCOLA\": 33166927, \"Ano\": 2019, \"nota_ci\\u00eancias\": 585.5, \"nota_humanas\": 607.5, \"nota_portugu\\u00eas\": 585.0, \"nota_matem\\u00e1tica\": 690.5, \"nota_reda\\u00e7\\u00e3o\": 860.0, \"nota_final\": 694.0, \"num_alunos\": 37.0, \"nota_ci\\u00eancias_perc80\": 624.0, \"nota_humanas_perc80\": 659.5, \"nota_portugu\\u00eas_perc80\": 618.0, \"nota_matem\\u00e1tica_perc80\": 740.5, \"nota_reda\\u00e7\\u00e3o_perc80\": 920.0, \"nota_final_perc80\": 740.5, \"rank\": 54}, {\"CO_ESCOLA\": 33065837, \"Ano\": 2019, \"nota_ci\\u00eancias\": 578.5, \"nota_humanas\": 626.0, \"nota_portugu\\u00eas\": 602.0, \"nota_matem\\u00e1tica\": 719.0, \"nota_reda\\u00e7\\u00e3o\": 820.0, \"nota_final\": 693.5, \"num_alunos\": 90.0, \"nota_ci\\u00eancias_perc80\": 617.0, \"nota_humanas_perc80\": 666.5, \"nota_portugu\\u00eas_perc80\": 630.0, \"nota_matem\\u00e1tica_perc80\": 795.0, \"nota_reda\\u00e7\\u00e3o_perc80\": 900.0, \"nota_final_perc80\": 726.0, \"rank\": 55}, {\"CO_ESCOLA\": 33032858, \"Ano\": 2019, \"nota_ci\\u00eancias\": 582.0, \"nota_humanas\": 593.0, \"nota_portugu\\u00eas\": 589.5, \"nota_matem\\u00e1tica\": 659.0, \"nota_reda\\u00e7\\u00e3o\": 880.0, \"nota_final\": 691.5, \"num_alunos\": 34.0, \"nota_ci\\u00eancias_perc80\": 611.5, \"nota_humanas_perc80\": 622.0, \"nota_portugu\\u00eas_perc80\": 610.5, \"nota_matem\\u00e1tica_perc80\": 721.5, \"nota_reda\\u00e7\\u00e3o_perc80\": 920.0, \"nota_final_perc80\": 729.5, \"rank\": 56}, {\"CO_ESCOLA\": 33025673, \"Ano\": 2019, \"nota_ci\\u00eancias\": 579.5, \"nota_humanas\": 608.5, \"nota_portugu\\u00eas\": 598.0, \"nota_matem\\u00e1tica\": 690.5, \"nota_reda\\u00e7\\u00e3o\": 900.0, \"nota_final\": 691.0, \"num_alunos\": 49.0, \"nota_ci\\u00eancias_perc80\": 623.0, \"nota_humanas_perc80\": 657.0, \"nota_portugu\\u00eas_perc80\": 619.0, \"nota_matem\\u00e1tica_perc80\": 747.0, \"nota_reda\\u00e7\\u00e3o_perc80\": 920.0, \"nota_final_perc80\": 739.5, \"rank\": 57}, {\"CO_ESCOLA\": 33178798, \"Ano\": 2019, \"nota_ci\\u00eancias\": 564.5, \"nota_humanas\": 608.5, \"nota_portugu\\u00eas\": 595.5, \"nota_matem\\u00e1tica\": 687.5, \"nota_reda\\u00e7\\u00e3o\": 820.0, \"nota_final\": 690.0, \"num_alunos\": 99.0, \"nota_ci\\u00eancias_perc80\": 598.0, \"nota_humanas_perc80\": 654.0, \"nota_portugu\\u00eas_perc80\": 625.5, \"nota_matem\\u00e1tica_perc80\": 762.5, \"nota_reda\\u00e7\\u00e3o_perc80\": 940.0, \"nota_final_perc80\": 739.5, \"rank\": 58}, {\"CO_ESCOLA\": 33166820, \"Ano\": 2019, \"nota_ci\\u00eancias\": 585.5, \"nota_humanas\": 612.5, \"nota_portugu\\u00eas\": 595.5, \"nota_matem\\u00e1tica\": 689.0, \"nota_reda\\u00e7\\u00e3o\": 840.0, \"nota_final\": 690.0, \"num_alunos\": 140.0, \"nota_ci\\u00eancias_perc80\": 626.0, \"nota_humanas_perc80\": 647.5, \"nota_portugu\\u00eas_perc80\": 619.5, \"nota_matem\\u00e1tica_perc80\": 786.0, \"nota_reda\\u00e7\\u00e3o_perc80\": 920.0, \"nota_final_perc80\": 737.0, \"rank\": 58}, {\"CO_ESCOLA\": 33041105, \"Ano\": 2019, \"nota_ci\\u00eancias\": 587.0, \"nota_humanas\": 604.0, \"nota_portugu\\u00eas\": 588.5, \"nota_matem\\u00e1tica\": 666.0, \"nota_reda\\u00e7\\u00e3o\": 860.0, \"nota_final\": 690.0, \"num_alunos\": 62.0, \"nota_ci\\u00eancias_perc80\": 628.5, \"nota_humanas_perc80\": 643.0, \"nota_portugu\\u00eas_perc80\": 613.5, \"nota_matem\\u00e1tica_perc80\": 740.5, \"nota_reda\\u00e7\\u00e3o_perc80\": 940.0, \"nota_final_perc80\": 735.0, \"rank\": 58}]}}, {\"mode\": \"vega-lite\"});\n",
              "</script>"
            ]
          },
          "metadata": {},
          "execution_count": 65
        }
      ]
    }
  ]
}