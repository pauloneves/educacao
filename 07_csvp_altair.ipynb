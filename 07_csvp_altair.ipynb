{
 "cells": [
  {
   "cell_type": "code",
   "execution_count": 183,
   "id": "7b1593f4-b288-49fe-9a5d-99727a03e70c",
   "metadata": {},
   "outputs": [],
   "source": [
    "import altair as alt\n",
    "import pandas as pd"
   ]
  },
  {
   "cell_type": "code",
   "execution_count": 184,
   "id": "24b5a8c7-518a-4594-84bc-a454664bad7c",
   "metadata": {},
   "outputs": [],
   "source": [
    "# %load const\n",
    "CO_STO_AGOS_NL = 33087679\n",
    "CO_STO_AGO_INST = 33176825\n",
    "CO_STO_AGO = 33020566\n",
    "CO_SAO_BENTO = 33062633\n",
    "CO_SAO_VICENTE = 33063648\n",
    "CO_PARQUE = 33065837\n",
    "CO_ELEVA = 33178860\n",
    "CO_ST_INACIO = 33063729\n",
    "\n",
    "CO_MUN = 3304557  # Rio de Janeiro\n",
    "CO_UF_RIO = 33  # RJ\n",
    "\n",
    "MIN_ALUNOS = 30  # Mínimo de alunos fazendo Enem para considerar na análise\n",
    "NUM_MELHORES = 60\n",
    "ANO_ULT = 2019  # último ano a processar"
   ]
  },
  {
   "cell_type": "markdown",
   "id": "0babe1c4-e3e2-40fe-93f6-bcfb2d4fef1e",
   "metadata": {},
   "source": [
    "## Colégio a processar\n",
    "Mudar abaixo para ver outros colégios"
   ]
  },
  {
   "cell_type": "code",
   "execution_count": 185,
   "id": "121c0e2e-45df-4bcf-811e-d92496f3dc76",
   "metadata": {},
   "outputs": [],
   "source": [
    "CO_PROCESSAR = CO_PARQUE"
   ]
  },
  {
   "cell_type": "code",
   "execution_count": 186,
   "id": "1f7ae5b4-7c12-416a-bf80-2a01830d4c92",
   "metadata": {},
   "outputs": [],
   "source": [
    "df_turmas_rio = pd.read_feather(\"dados/turmas_rio.feather\")"
   ]
  },
  {
   "cell_type": "code",
   "execution_count": 187,
   "id": "2f404ff5-da70-4005-9e53-5dccfbfbcfe2",
   "metadata": {},
   "outputs": [
    {
     "data": {
      "text/plain": [
       "2019"
      ]
     },
     "execution_count": 187,
     "metadata": {},
     "output_type": "execute_result"
    }
   ],
   "source": [
    "df_turmas_rio.ano.max()"
   ]
  },
  {
   "cell_type": "code",
   "execution_count": 188,
   "id": "a8f590f0-3816-4e7b-a75e-b0dc81f615ce",
   "metadata": {},
   "outputs": [],
   "source": [
    "em_etapas = range(25, 39)  # são vicente deveria ter só 25-27\n",
    "df_medio = df_turmas_rio.query(\n",
    "    \"id_etapa.isin(@em_etapas) and id_escola==@CO_PROCESSAR\"\n",
    ")"
   ]
  },
  {
   "cell_type": "code",
   "execution_count": 189,
   "id": "10fdf564-fc4d-47a9-81a6-02e5b4b675ae",
   "metadata": {},
   "outputs": [
    {
     "data": {
      "text/html": [
       "\n",
       "<div id=\"altair-viz-204f4beacf1640b980ac9499d8978227\"></div>\n",
       "<script type=\"text/javascript\">\n",
       "  (function(spec, embedOpt){\n",
       "    let outputDiv = document.currentScript.previousElementSibling;\n",
       "    if (outputDiv.id !== \"altair-viz-204f4beacf1640b980ac9499d8978227\") {\n",
       "      outputDiv = document.getElementById(\"altair-viz-204f4beacf1640b980ac9499d8978227\");\n",
       "    }\n",
       "    const paths = {\n",
       "      \"vega\": \"https://cdn.jsdelivr.net/npm//vega@5?noext\",\n",
       "      \"vega-lib\": \"https://cdn.jsdelivr.net/npm//vega-lib?noext\",\n",
       "      \"vega-lite\": \"https://cdn.jsdelivr.net/npm//vega-lite@4.8.1?noext\",\n",
       "      \"vega-embed\": \"https://cdn.jsdelivr.net/npm//vega-embed@6?noext\",\n",
       "    };\n",
       "\n",
       "    function loadScript(lib) {\n",
       "      return new Promise(function(resolve, reject) {\n",
       "        var s = document.createElement('script');\n",
       "        s.src = paths[lib];\n",
       "        s.async = true;\n",
       "        s.onload = () => resolve(paths[lib]);\n",
       "        s.onerror = () => reject(`Error loading script: ${paths[lib]}`);\n",
       "        document.getElementsByTagName(\"head\")[0].appendChild(s);\n",
       "      });\n",
       "    }\n",
       "\n",
       "    function showError(err) {\n",
       "      outputDiv.innerHTML = `<div class=\"error\" style=\"color:red;\">${err}</div>`;\n",
       "      throw err;\n",
       "    }\n",
       "\n",
       "    function displayChart(vegaEmbed) {\n",
       "      vegaEmbed(outputDiv, spec, embedOpt)\n",
       "        .catch(err => showError(`Javascript Error: ${err.message}<br>This usually means there's a typo in your chart specification. See the javascript console for the full traceback.`));\n",
       "    }\n",
       "\n",
       "    if(typeof define === \"function\" && define.amd) {\n",
       "      requirejs.config({paths});\n",
       "      require([\"vega-embed\"], displayChart, err => showError(`Error loading script: ${err.message}`));\n",
       "    } else if (typeof vegaEmbed === \"function\") {\n",
       "      displayChart(vegaEmbed);\n",
       "    } else {\n",
       "      loadScript(\"vega\")\n",
       "        .then(() => loadScript(\"vega-lite\"))\n",
       "        .then(() => loadScript(\"vega-embed\"))\n",
       "        .catch(showError)\n",
       "        .then(() => displayChart(vegaEmbed));\n",
       "    }\n",
       "  })({\"config\": {\"view\": {\"continuousWidth\": 400, \"continuousHeight\": 300}}, \"layer\": [{\"data\": {\"name\": \"data-660340679135797e25a8ec3ef9374987\"}, \"mark\": \"line\", \"encoding\": {\"x\": {\"type\": \"ordinal\", \"axis\": {\"domain\": false, \"labelAngle\": 0}, \"field\": \"ano\", \"title\": null}, \"y\": {\"type\": \"quantitative\", \"field\": \"total\", \"scale\": {\"domain\": [248.0, 410.0]}, \"title\": null}}, \"width\": 500}, {\"data\": {\"name\": \"data-6371c0f25fcbbd2ca0553e4ec407696c\"}, \"mark\": {\"type\": \"line\", \"color\": \"red\"}, \"encoding\": {\"y\": {\"type\": \"quantitative\", \"field\": \"total\"}}}, {\"data\": {\"name\": \"data-6371c0f25fcbbd2ca0553e4ec407696c\"}, \"mark\": {\"type\": \"rule\", \"color\": \"orange\"}, \"encoding\": {\"y\": {\"type\": \"quantitative\", \"field\": \"total\"}}}], \"$schema\": \"https://vega.github.io/schema/vega-lite/v4.8.1.json\", \"datasets\": {\"data-660340679135797e25a8ec3ef9374987\": [{\"ano\": 2007, \"total\": 310.0, \"no_turmas\": 10}, {\"ano\": 2008, \"total\": 323.0, \"no_turmas\": 10}, {\"ano\": 2009, \"total\": 302.0, \"no_turmas\": 11}, {\"ano\": 2010, \"total\": 304.0, \"no_turmas\": 11}, {\"ano\": 2011, \"total\": 315.0, \"no_turmas\": 11}, {\"ano\": 2012, \"total\": 359.0, \"no_turmas\": 12}, {\"ano\": 2013, \"total\": 375.0, \"no_turmas\": 13}, {\"ano\": 2014, \"total\": 389.0, \"no_turmas\": 14}, {\"ano\": 2015, \"total\": 410.0, \"no_turmas\": 14}, {\"ano\": 2016, \"total\": 392.0, \"no_turmas\": 14}, {\"ano\": 2017, \"total\": 394.0, \"no_turmas\": 14}, {\"ano\": 2018, \"total\": 317.0, \"no_turmas\": 12}, {\"ano\": 2019, \"total\": 317.0, \"no_turmas\": 12}], \"data-6371c0f25fcbbd2ca0553e4ec407696c\": [{\"total\": 346.6923076923077, \"no_turmas\": 12.153846153846153}]}}, {\"mode\": \"vega-lite\"});\n",
       "</script>"
      ],
      "text/plain": [
       "alt.LayerChart(...)"
      ]
     },
     "execution_count": 189,
     "metadata": {},
     "output_type": "execute_result"
    }
   ],
   "source": [
    "df_medio_por_ano = df_medio.groupby(\"ano\").agg(\n",
    "    total=(\"num_matriculas\", \"sum\"), no_turmas=(\"index\", \"count\")\n",
    ")\n",
    "(\n",
    "    (\n",
    "        alt.Chart(df_medio_por_ano.reset_index())\n",
    "        .mark_line()\n",
    "        .encode(\n",
    "            y=alt.Y(\n",
    "                \"total\",\n",
    "                title=None,\n",
    "                scale=alt.Scale(\n",
    "                    domain=[\n",
    "                        df_medio_por_ano.total.min()\n",
    "                        - (df_medio_por_ano.total.max() - df_medio_por_ano.total.min())\n",
    "                        / 2,\n",
    "                        df_medio_por_ano.total.max(),\n",
    "                    ]\n",
    "                ),\n",
    "            ),\n",
    "            x=alt.X(\n",
    "                \"ano:O\",\n",
    "                title=None,\n",
    "                axis=alt.Axis(labelAngle=0, domain=False),\n",
    "            ),\n",
    "        )\n",
    "        .properties(\n",
    "            width=500,\n",
    "        )\n",
    "    )\n",
    "    + alt.Chart(df_medio_por_ano.mean().to_frame().T)\n",
    "    .mark_line(color=\"red\")\n",
    "    .encode(y=\"total\")\n",
    "    + alt.Chart(df_medio_por_ano.mean().to_frame().T)\n",
    "    .mark_rule(color=\"orange\")\n",
    "    .encode(y=\"total\")\n",
    ")"
   ]
  },
  {
   "cell_type": "code",
   "execution_count": null,
   "id": "3bdcd7c8-cd59-4da2-ab9d-07c5cff5a9af",
   "metadata": {},
   "outputs": [],
   "source": []
  },
  {
   "cell_type": "markdown",
   "id": "56c0f549-a557-4174-a33a-700c871d864f",
   "metadata": {},
   "source": [
    "## Perguntas\n",
    "1. como tem variado o número de alunos do primeiro para o terceiro ano"
   ]
  },
  {
   "cell_type": "code",
   "execution_count": 194,
   "id": "b606c2ed-a8ac-4500-975b-d28f8dd1bccf",
   "metadata": {},
   "outputs": [
    {
     "data": {
      "text/html": [
       "<div>\n",
       "<style scoped>\n",
       "    .dataframe tbody tr th:only-of-type {\n",
       "        vertical-align: middle;\n",
       "    }\n",
       "\n",
       "    .dataframe tbody tr th {\n",
       "        vertical-align: top;\n",
       "    }\n",
       "\n",
       "    .dataframe thead th {\n",
       "        text-align: right;\n",
       "    }\n",
       "</style>\n",
       "<table border=\"1\" class=\"dataframe\">\n",
       "  <thead>\n",
       "    <tr style=\"text-align: right;\">\n",
       "      <th></th>\n",
       "      <th>ano</th>\n",
       "      <th>Série</th>\n",
       "      <th>num_matriculas</th>\n",
       "      <th>num_turmas</th>\n",
       "    </tr>\n",
       "  </thead>\n",
       "  <tbody>\n",
       "    <tr>\n",
       "      <th>0</th>\n",
       "      <td>2007</td>\n",
       "      <td>1º</td>\n",
       "      <td>114</td>\n",
       "      <td>3</td>\n",
       "    </tr>\n",
       "    <tr>\n",
       "      <th>1</th>\n",
       "      <td>2007</td>\n",
       "      <td>2º</td>\n",
       "      <td>112</td>\n",
       "      <td>4</td>\n",
       "    </tr>\n",
       "    <tr>\n",
       "      <th>2</th>\n",
       "      <td>2007</td>\n",
       "      <td>3º</td>\n",
       "      <td>84</td>\n",
       "      <td>3</td>\n",
       "    </tr>\n",
       "    <tr>\n",
       "      <th>3</th>\n",
       "      <td>2008</td>\n",
       "      <td>1º</td>\n",
       "      <td>124</td>\n",
       "      <td>4</td>\n",
       "    </tr>\n",
       "    <tr>\n",
       "      <th>4</th>\n",
       "      <td>2008</td>\n",
       "      <td>2º</td>\n",
       "      <td>101</td>\n",
       "      <td>3</td>\n",
       "    </tr>\n",
       "  </tbody>\n",
       "</table>\n",
       "</div>"
      ],
      "text/plain": [
       "    ano Série  num_matriculas  num_turmas\n",
       "0  2007    1º             114           3\n",
       "1  2007    2º             112           4\n",
       "2  2007    3º              84           3\n",
       "3  2008    1º             124           4\n",
       "4  2008    2º             101           3"
      ]
     },
     "execution_count": 194,
     "metadata": {},
     "output_type": "execute_result"
    }
   ],
   "source": [
    "df_medio_sv = df_medio[[\"ano\", \"id_etapa\", \"num_matriculas\"]].groupby([\"ano\", \"id_etapa\"]).aggregate(\n",
    "    num_matriculas=(\"num_matriculas\", sum), num_turmas=(\"num_matriculas\", \"count\")\n",
    ").rename({25:'1º', 26: '2º', 27: '3º'}).reset_index().rename(columns={'id_etapa': 'Série'})#.unstack()['num_matriculas'].rename(columns={25:'1º ano', 26: '2º ano', 27: '3º ano'}).reset_index()\n",
    "df_medio_sv.head()"
   ]
  },
  {
   "cell_type": "code",
   "execution_count": 191,
   "id": "cea95124-7a23-44cd-ace0-9ac4cc4a2f1f",
   "metadata": {},
   "outputs": [
    {
     "data": {
      "text/html": [
       "\n",
       "<div id=\"altair-viz-03bf39676e3345249d86116f6374728b\"></div>\n",
       "<script type=\"text/javascript\">\n",
       "  (function(spec, embedOpt){\n",
       "    let outputDiv = document.currentScript.previousElementSibling;\n",
       "    if (outputDiv.id !== \"altair-viz-03bf39676e3345249d86116f6374728b\") {\n",
       "      outputDiv = document.getElementById(\"altair-viz-03bf39676e3345249d86116f6374728b\");\n",
       "    }\n",
       "    const paths = {\n",
       "      \"vega\": \"https://cdn.jsdelivr.net/npm//vega@5?noext\",\n",
       "      \"vega-lib\": \"https://cdn.jsdelivr.net/npm//vega-lib?noext\",\n",
       "      \"vega-lite\": \"https://cdn.jsdelivr.net/npm//vega-lite@4.8.1?noext\",\n",
       "      \"vega-embed\": \"https://cdn.jsdelivr.net/npm//vega-embed@6?noext\",\n",
       "    };\n",
       "\n",
       "    function loadScript(lib) {\n",
       "      return new Promise(function(resolve, reject) {\n",
       "        var s = document.createElement('script');\n",
       "        s.src = paths[lib];\n",
       "        s.async = true;\n",
       "        s.onload = () => resolve(paths[lib]);\n",
       "        s.onerror = () => reject(`Error loading script: ${paths[lib]}`);\n",
       "        document.getElementsByTagName(\"head\")[0].appendChild(s);\n",
       "      });\n",
       "    }\n",
       "\n",
       "    function showError(err) {\n",
       "      outputDiv.innerHTML = `<div class=\"error\" style=\"color:red;\">${err}</div>`;\n",
       "      throw err;\n",
       "    }\n",
       "\n",
       "    function displayChart(vegaEmbed) {\n",
       "      vegaEmbed(outputDiv, spec, embedOpt)\n",
       "        .catch(err => showError(`Javascript Error: ${err.message}<br>This usually means there's a typo in your chart specification. See the javascript console for the full traceback.`));\n",
       "    }\n",
       "\n",
       "    if(typeof define === \"function\" && define.amd) {\n",
       "      requirejs.config({paths});\n",
       "      require([\"vega-embed\"], displayChart, err => showError(`Error loading script: ${err.message}`));\n",
       "    } else if (typeof vegaEmbed === \"function\") {\n",
       "      displayChart(vegaEmbed);\n",
       "    } else {\n",
       "      loadScript(\"vega\")\n",
       "        .then(() => loadScript(\"vega-lite\"))\n",
       "        .then(() => loadScript(\"vega-embed\"))\n",
       "        .catch(showError)\n",
       "        .then(() => displayChart(vegaEmbed));\n",
       "    }\n",
       "  })({\"config\": {\"view\": {\"continuousWidth\": 400, \"continuousHeight\": 300}}, \"data\": {\"name\": \"data-70ab3d3a5cf1f36c4abfdf44f8de9905\"}, \"mark\": \"line\", \"encoding\": {\"color\": {\"type\": \"nominal\", \"field\": \"S\\u00e9rie\"}, \"tooltip\": [{\"type\": \"quantitative\", \"field\": \"num_matriculas\"}, {\"type\": \"quantitative\", \"field\": \"num_turmas\"}], \"x\": {\"type\": \"quantitative\", \"field\": \"ano\"}, \"y\": {\"type\": \"quantitative\", \"field\": \"num_matriculas\"}}, \"$schema\": \"https://vega.github.io/schema/vega-lite/v4.8.1.json\", \"datasets\": {\"data-70ab3d3a5cf1f36c4abfdf44f8de9905\": [{\"ano\": 2007, \"S\\u00e9rie\": \"1\\u00ba\", \"num_matriculas\": 114, \"num_turmas\": 3}, {\"ano\": 2007, \"S\\u00e9rie\": \"2\\u00ba\", \"num_matriculas\": 112, \"num_turmas\": 4}, {\"ano\": 2007, \"S\\u00e9rie\": \"3\\u00ba\", \"num_matriculas\": 84, \"num_turmas\": 3}, {\"ano\": 2008, \"S\\u00e9rie\": \"1\\u00ba\", \"num_matriculas\": 124, \"num_turmas\": 4}, {\"ano\": 2008, \"S\\u00e9rie\": \"2\\u00ba\", \"num_matriculas\": 101, \"num_turmas\": 3}, {\"ano\": 2008, \"S\\u00e9rie\": \"3\\u00ba\", \"num_matriculas\": 98, \"num_turmas\": 3}, {\"ano\": 2009, \"S\\u00e9rie\": \"1\\u00ba\", \"num_matriculas\": 113, \"num_turmas\": 4}, {\"ano\": 2009, \"S\\u00e9rie\": \"2\\u00ba\", \"num_matriculas\": 110, \"num_turmas\": 4}, {\"ano\": 2009, \"S\\u00e9rie\": \"3\\u00ba\", \"num_matriculas\": 79, \"num_turmas\": 3}, {\"ano\": 2010, \"S\\u00e9rie\": \"1\\u00ba\", \"num_matriculas\": 128, \"num_turmas\": 4}, {\"ano\": 2010, \"S\\u00e9rie\": \"2\\u00ba\", \"num_matriculas\": 106, \"num_turmas\": 4}, {\"ano\": 2010, \"S\\u00e9rie\": \"3\\u00ba\", \"num_matriculas\": 70, \"num_turmas\": 3}, {\"ano\": 2011, \"S\\u00e9rie\": \"1\\u00ba\", \"num_matriculas\": 110, \"num_turmas\": 4}, {\"ano\": 2011, \"S\\u00e9rie\": \"2\\u00ba\", \"num_matriculas\": 118, \"num_turmas\": 4}, {\"ano\": 2011, \"S\\u00e9rie\": \"3\\u00ba\", \"num_matriculas\": 87, \"num_turmas\": 3}, {\"ano\": 2012, \"S\\u00e9rie\": \"1\\u00ba\", \"num_matriculas\": 122, \"num_turmas\": 4}, {\"ano\": 2012, \"S\\u00e9rie\": \"2\\u00ba\", \"num_matriculas\": 122, \"num_turmas\": 4}, {\"ano\": 2012, \"S\\u00e9rie\": \"3\\u00ba\", \"num_matriculas\": 115, \"num_turmas\": 4}, {\"ano\": 2013, \"S\\u00e9rie\": \"1\\u00ba\", \"num_matriculas\": 144, \"num_turmas\": 5}, {\"ano\": 2013, \"S\\u00e9rie\": \"2\\u00ba\", \"num_matriculas\": 128, \"num_turmas\": 4}, {\"ano\": 2013, \"S\\u00e9rie\": \"3\\u00ba\", \"num_matriculas\": 103, \"num_turmas\": 4}, {\"ano\": 2014, \"S\\u00e9rie\": \"1\\u00ba\", \"num_matriculas\": 133, \"num_turmas\": 5}, {\"ano\": 2014, \"S\\u00e9rie\": \"2\\u00ba\", \"num_matriculas\": 134, \"num_turmas\": 5}, {\"ano\": 2014, \"S\\u00e9rie\": \"3\\u00ba\", \"num_matriculas\": 122, \"num_turmas\": 4}, {\"ano\": 2015, \"S\\u00e9rie\": \"1\\u00ba\", \"num_matriculas\": 150, \"num_turmas\": 5}, {\"ano\": 2015, \"S\\u00e9rie\": \"2\\u00ba\", \"num_matriculas\": 139, \"num_turmas\": 5}, {\"ano\": 2015, \"S\\u00e9rie\": \"3\\u00ba\", \"num_matriculas\": 121, \"num_turmas\": 4}, {\"ano\": 2016, \"S\\u00e9rie\": \"1\\u00ba\", \"num_matriculas\": 135, \"num_turmas\": 5}, {\"ano\": 2016, \"S\\u00e9rie\": \"2\\u00ba\", \"num_matriculas\": 153, \"num_turmas\": 5}, {\"ano\": 2016, \"S\\u00e9rie\": \"3\\u00ba\", \"num_matriculas\": 104, \"num_turmas\": 4}, {\"ano\": 2017, \"S\\u00e9rie\": \"1\\u00ba\", \"num_matriculas\": 125, \"num_turmas\": 5}, {\"ano\": 2017, \"S\\u00e9rie\": \"2\\u00ba\", \"num_matriculas\": 134, \"num_turmas\": 5}, {\"ano\": 2017, \"S\\u00e9rie\": \"3\\u00ba\", \"num_matriculas\": 135, \"num_turmas\": 4}, {\"ano\": 2018, \"S\\u00e9rie\": \"1\\u00ba\", \"num_matriculas\": 116, \"num_turmas\": 4}, {\"ano\": 2018, \"S\\u00e9rie\": \"2\\u00ba\", \"num_matriculas\": 89, \"num_turmas\": 4}, {\"ano\": 2018, \"S\\u00e9rie\": \"3\\u00ba\", \"num_matriculas\": 112, \"num_turmas\": 4}, {\"ano\": 2019, \"S\\u00e9rie\": \"1\\u00ba\", \"num_matriculas\": 104, \"num_turmas\": 4}, {\"ano\": 2019, \"S\\u00e9rie\": \"2\\u00ba\", \"num_matriculas\": 114, \"num_turmas\": 4}, {\"ano\": 2019, \"S\\u00e9rie\": \"3\\u00ba\", \"num_matriculas\": 99, \"num_turmas\": 4}]}}, {\"mode\": \"vega-lite\"});\n",
       "</script>"
      ],
      "text/plain": [
       "alt.Chart(...)"
      ]
     },
     "execution_count": 191,
     "metadata": {},
     "output_type": "execute_result"
    }
   ],
   "source": [
    "alt.Chart(df_medio_sv).mark_line().encode(x='ano', y='num_matriculas', color='Série', tooltip=('num_matriculas', 'num_turmas'))"
   ]
  },
  {
   "cell_type": "code",
   "execution_count": 192,
   "id": "5993ec68-87ec-4e25-818b-4becbbb48b24",
   "metadata": {},
   "outputs": [
    {
     "data": {
      "text/html": [
       "<div>\n",
       "<style scoped>\n",
       "    .dataframe tbody tr th:only-of-type {\n",
       "        vertical-align: middle;\n",
       "    }\n",
       "\n",
       "    .dataframe tbody tr th {\n",
       "        vertical-align: top;\n",
       "    }\n",
       "\n",
       "    .dataframe thead th {\n",
       "        text-align: right;\n",
       "    }\n",
       "</style>\n",
       "<table border=\"1\" class=\"dataframe\">\n",
       "  <thead>\n",
       "    <tr style=\"text-align: right;\">\n",
       "      <th></th>\n",
       "      <th>Período</th>\n",
       "      <th>Série</th>\n",
       "      <th>Nº alunos</th>\n",
       "    </tr>\n",
       "  </thead>\n",
       "  <tbody>\n",
       "    <tr>\n",
       "      <th>0</th>\n",
       "      <td>2007–2009</td>\n",
       "      <td>1º %</td>\n",
       "      <td>100.0</td>\n",
       "    </tr>\n",
       "    <tr>\n",
       "      <th>13</th>\n",
       "      <td>2007–2009</td>\n",
       "      <td>2º %</td>\n",
       "      <td>89.0</td>\n",
       "    </tr>\n",
       "    <tr>\n",
       "      <th>26</th>\n",
       "      <td>2007–2009</td>\n",
       "      <td>3º %</td>\n",
       "      <td>69.0</td>\n",
       "    </tr>\n",
       "    <tr>\n",
       "      <th>1</th>\n",
       "      <td>2008–2010</td>\n",
       "      <td>1º %</td>\n",
       "      <td>100.0</td>\n",
       "    </tr>\n",
       "    <tr>\n",
       "      <th>14</th>\n",
       "      <td>2008–2010</td>\n",
       "      <td>2º %</td>\n",
       "      <td>89.0</td>\n",
       "    </tr>\n",
       "  </tbody>\n",
       "</table>\n",
       "</div>"
      ],
      "text/plain": [
       "      Período Série  Nº alunos\n",
       "0   2007–2009  1º %      100.0\n",
       "13  2007–2009  2º %       89.0\n",
       "26  2007–2009  3º %       69.0\n",
       "1   2008–2010  1º %      100.0\n",
       "14  2008–2010  2º %       89.0"
      ]
     },
     "execution_count": 192,
     "metadata": {},
     "output_type": "execute_result"
    }
   ],
   "source": [
    "df_sv_periodo = df_medio_sv.pivot(\n",
    "    index=\"ano\", columns=\"Série\", values=\"num_matriculas\"\n",
    ").reset_index()\n",
    "df_sv_periodo[\"2º\"] = df_sv_periodo[\"2º\"].shift(-1)\n",
    "df_sv_periodo[\"2º %\"] = (df_sv_periodo[\"2º\"]/df_sv_periodo[\"1º\"] * 100).round(0)\n",
    "df_sv_periodo[\"3º\"] = df_sv_periodo[\"3º\"].shift(-2)\n",
    "df_sv_periodo[\"3º %\"] = (df_sv_periodo[\"3º\"]/df_sv_periodo[\"1º\"] * 100).round(0)\n",
    "df_sv_periodo[\"1º %\"] = 100\n",
    "df_sv_periodo[\"Período\"] = (\n",
    "    df_sv_periodo[\"ano\"].astype(str) + \"–\" + (df_sv_periodo[\"ano\"] + 2).astype(str)\n",
    ")\n",
    "df_sv_periodo_no = (\n",
    "    df_sv_periodo.drop(\"ano\", axis=1)\n",
    "    .melt(id_vars=[\"Período\"], value_vars=[\"1º\", \"2º\", \"3º\"], var_name=\"Série\", value_name='Nº alunos')\n",
    "    .sort_values(\"Período\")\n",
    ")\n",
    "df_sv_periodo_per = (\n",
    "    df_sv_periodo.drop(\"ano\", axis=1)\n",
    "    .melt(id_vars=[\"Período\"], value_vars=[\"1º %\", \"2º %\", \"3º %\"], var_name=\"Série\", value_name='Nº alunos')\n",
    "    .sort_values(\"Período\")\n",
    ")\n",
    "\n",
    "df_sv_periodo_per.head()"
   ]
  },
  {
   "cell_type": "code",
   "execution_count": 193,
   "id": "4f9b7701-1b9d-4ae0-b134-744f44b6eea2",
   "metadata": {},
   "outputs": [
    {
     "data": {
      "text/html": [
       "\n",
       "<div id=\"altair-viz-7830b7497c984c4dbc1e86dfca09dc8e\"></div>\n",
       "<script type=\"text/javascript\">\n",
       "  (function(spec, embedOpt){\n",
       "    let outputDiv = document.currentScript.previousElementSibling;\n",
       "    if (outputDiv.id !== \"altair-viz-7830b7497c984c4dbc1e86dfca09dc8e\") {\n",
       "      outputDiv = document.getElementById(\"altair-viz-7830b7497c984c4dbc1e86dfca09dc8e\");\n",
       "    }\n",
       "    const paths = {\n",
       "      \"vega\": \"https://cdn.jsdelivr.net/npm//vega@5?noext\",\n",
       "      \"vega-lib\": \"https://cdn.jsdelivr.net/npm//vega-lib?noext\",\n",
       "      \"vega-lite\": \"https://cdn.jsdelivr.net/npm//vega-lite@4.8.1?noext\",\n",
       "      \"vega-embed\": \"https://cdn.jsdelivr.net/npm//vega-embed@6?noext\",\n",
       "    };\n",
       "\n",
       "    function loadScript(lib) {\n",
       "      return new Promise(function(resolve, reject) {\n",
       "        var s = document.createElement('script');\n",
       "        s.src = paths[lib];\n",
       "        s.async = true;\n",
       "        s.onload = () => resolve(paths[lib]);\n",
       "        s.onerror = () => reject(`Error loading script: ${paths[lib]}`);\n",
       "        document.getElementsByTagName(\"head\")[0].appendChild(s);\n",
       "      });\n",
       "    }\n",
       "\n",
       "    function showError(err) {\n",
       "      outputDiv.innerHTML = `<div class=\"error\" style=\"color:red;\">${err}</div>`;\n",
       "      throw err;\n",
       "    }\n",
       "\n",
       "    function displayChart(vegaEmbed) {\n",
       "      vegaEmbed(outputDiv, spec, embedOpt)\n",
       "        .catch(err => showError(`Javascript Error: ${err.message}<br>This usually means there's a typo in your chart specification. See the javascript console for the full traceback.`));\n",
       "    }\n",
       "\n",
       "    if(typeof define === \"function\" && define.amd) {\n",
       "      requirejs.config({paths});\n",
       "      require([\"vega-embed\"], displayChart, err => showError(`Error loading script: ${err.message}`));\n",
       "    } else if (typeof vegaEmbed === \"function\") {\n",
       "      displayChart(vegaEmbed);\n",
       "    } else {\n",
       "      loadScript(\"vega\")\n",
       "        .then(() => loadScript(\"vega-lite\"))\n",
       "        .then(() => loadScript(\"vega-embed\"))\n",
       "        .catch(showError)\n",
       "        .then(() => displayChart(vegaEmbed));\n",
       "    }\n",
       "  })({\"config\": {\"view\": {\"continuousWidth\": 400, \"continuousHeight\": 300}}, \"vconcat\": [{\"data\": {\"name\": \"data-d79fc7033e21b8a277acf04cf51c9ae1\"}, \"mark\": {\"type\": \"line\", \"interpolate\": \"monotone\", \"point\": true}, \"encoding\": {\"color\": {\"type\": \"ordinal\", \"field\": \"Per\\u00edodo\"}, \"tooltip\": [{\"type\": \"nominal\", \"field\": \"Per\\u00edodo\"}, {\"type\": \"quantitative\", \"field\": \"N\\u00ba alunos\"}], \"x\": {\"type\": \"nominal\", \"field\": \"S\\u00e9rie\"}, \"y\": {\"type\": \"quantitative\", \"field\": \"N\\u00ba alunos\"}}, \"width\": 800}, {\"data\": {\"name\": \"data-bcb2d38f9164221f5e16c0a484f6fbb8\"}, \"mark\": {\"type\": \"line\", \"interpolate\": \"monotone\", \"point\": true}, \"encoding\": {\"color\": {\"type\": \"ordinal\", \"field\": \"Per\\u00edodo\"}, \"tooltip\": [{\"type\": \"nominal\", \"field\": \"Per\\u00edodo\"}, {\"type\": \"quantitative\", \"field\": \"N\\u00ba alunos\"}], \"x\": {\"type\": \"nominal\", \"field\": \"S\\u00e9rie\"}, \"y\": {\"type\": \"quantitative\", \"field\": \"N\\u00ba alunos\"}}, \"width\": 800}], \"$schema\": \"https://vega.github.io/schema/vega-lite/v4.8.1.json\", \"datasets\": {\"data-d79fc7033e21b8a277acf04cf51c9ae1\": [{\"Per\\u00edodo\": \"2007\\u20132009\", \"S\\u00e9rie\": \"1\\u00ba\", \"N\\u00ba alunos\": 114.0}, {\"Per\\u00edodo\": \"2007\\u20132009\", \"S\\u00e9rie\": \"2\\u00ba\", \"N\\u00ba alunos\": 101.0}, {\"Per\\u00edodo\": \"2007\\u20132009\", \"S\\u00e9rie\": \"3\\u00ba\", \"N\\u00ba alunos\": 79.0}, {\"Per\\u00edodo\": \"2008\\u20132010\", \"S\\u00e9rie\": \"1\\u00ba\", \"N\\u00ba alunos\": 124.0}, {\"Per\\u00edodo\": \"2008\\u20132010\", \"S\\u00e9rie\": \"2\\u00ba\", \"N\\u00ba alunos\": 110.0}, {\"Per\\u00edodo\": \"2008\\u20132010\", \"S\\u00e9rie\": \"3\\u00ba\", \"N\\u00ba alunos\": 70.0}, {\"Per\\u00edodo\": \"2009\\u20132011\", \"S\\u00e9rie\": \"1\\u00ba\", \"N\\u00ba alunos\": 113.0}, {\"Per\\u00edodo\": \"2009\\u20132011\", \"S\\u00e9rie\": \"2\\u00ba\", \"N\\u00ba alunos\": 106.0}, {\"Per\\u00edodo\": \"2009\\u20132011\", \"S\\u00e9rie\": \"3\\u00ba\", \"N\\u00ba alunos\": 87.0}, {\"Per\\u00edodo\": \"2010\\u20132012\", \"S\\u00e9rie\": \"2\\u00ba\", \"N\\u00ba alunos\": 118.0}, {\"Per\\u00edodo\": \"2010\\u20132012\", \"S\\u00e9rie\": \"3\\u00ba\", \"N\\u00ba alunos\": 115.0}, {\"Per\\u00edodo\": \"2010\\u20132012\", \"S\\u00e9rie\": \"1\\u00ba\", \"N\\u00ba alunos\": 128.0}, {\"Per\\u00edodo\": \"2011\\u20132013\", \"S\\u00e9rie\": \"3\\u00ba\", \"N\\u00ba alunos\": 103.0}, {\"Per\\u00edodo\": \"2011\\u20132013\", \"S\\u00e9rie\": \"1\\u00ba\", \"N\\u00ba alunos\": 110.0}, {\"Per\\u00edodo\": \"2011\\u20132013\", \"S\\u00e9rie\": \"2\\u00ba\", \"N\\u00ba alunos\": 122.0}, {\"Per\\u00edodo\": \"2012\\u20132014\", \"S\\u00e9rie\": \"3\\u00ba\", \"N\\u00ba alunos\": 122.0}, {\"Per\\u00edodo\": \"2012\\u20132014\", \"S\\u00e9rie\": \"1\\u00ba\", \"N\\u00ba alunos\": 122.0}, {\"Per\\u00edodo\": \"2012\\u20132014\", \"S\\u00e9rie\": \"2\\u00ba\", \"N\\u00ba alunos\": 128.0}, {\"Per\\u00edodo\": \"2013\\u20132015\", \"S\\u00e9rie\": \"3\\u00ba\", \"N\\u00ba alunos\": 121.0}, {\"Per\\u00edodo\": \"2013\\u20132015\", \"S\\u00e9rie\": \"2\\u00ba\", \"N\\u00ba alunos\": 134.0}, {\"Per\\u00edodo\": \"2013\\u20132015\", \"S\\u00e9rie\": \"1\\u00ba\", \"N\\u00ba alunos\": 144.0}, {\"Per\\u00edodo\": \"2014\\u20132016\", \"S\\u00e9rie\": \"2\\u00ba\", \"N\\u00ba alunos\": 139.0}, {\"Per\\u00edodo\": \"2014\\u20132016\", \"S\\u00e9rie\": \"3\\u00ba\", \"N\\u00ba alunos\": 104.0}, {\"Per\\u00edodo\": \"2014\\u20132016\", \"S\\u00e9rie\": \"1\\u00ba\", \"N\\u00ba alunos\": 133.0}, {\"Per\\u00edodo\": \"2015\\u20132017\", \"S\\u00e9rie\": \"2\\u00ba\", \"N\\u00ba alunos\": 153.0}, {\"Per\\u00edodo\": \"2015\\u20132017\", \"S\\u00e9rie\": \"3\\u00ba\", \"N\\u00ba alunos\": 135.0}, {\"Per\\u00edodo\": \"2015\\u20132017\", \"S\\u00e9rie\": \"1\\u00ba\", \"N\\u00ba alunos\": 150.0}, {\"Per\\u00edodo\": \"2016\\u20132018\", \"S\\u00e9rie\": \"3\\u00ba\", \"N\\u00ba alunos\": 112.0}, {\"Per\\u00edodo\": \"2016\\u20132018\", \"S\\u00e9rie\": \"1\\u00ba\", \"N\\u00ba alunos\": 135.0}, {\"Per\\u00edodo\": \"2016\\u20132018\", \"S\\u00e9rie\": \"2\\u00ba\", \"N\\u00ba alunos\": 134.0}, {\"Per\\u00edodo\": \"2017\\u20132019\", \"S\\u00e9rie\": \"2\\u00ba\", \"N\\u00ba alunos\": 89.0}, {\"Per\\u00edodo\": \"2017\\u20132019\", \"S\\u00e9rie\": \"3\\u00ba\", \"N\\u00ba alunos\": 99.0}, {\"Per\\u00edodo\": \"2017\\u20132019\", \"S\\u00e9rie\": \"1\\u00ba\", \"N\\u00ba alunos\": 125.0}, {\"Per\\u00edodo\": \"2018\\u20132020\", \"S\\u00e9rie\": \"3\\u00ba\", \"N\\u00ba alunos\": null}, {\"Per\\u00edodo\": \"2018\\u20132020\", \"S\\u00e9rie\": \"1\\u00ba\", \"N\\u00ba alunos\": 116.0}, {\"Per\\u00edodo\": \"2018\\u20132020\", \"S\\u00e9rie\": \"2\\u00ba\", \"N\\u00ba alunos\": 114.0}, {\"Per\\u00edodo\": \"2019\\u20132021\", \"S\\u00e9rie\": \"1\\u00ba\", \"N\\u00ba alunos\": 104.0}, {\"Per\\u00edodo\": \"2019\\u20132021\", \"S\\u00e9rie\": \"2\\u00ba\", \"N\\u00ba alunos\": null}, {\"Per\\u00edodo\": \"2019\\u20132021\", \"S\\u00e9rie\": \"3\\u00ba\", \"N\\u00ba alunos\": null}], \"data-bcb2d38f9164221f5e16c0a484f6fbb8\": [{\"Per\\u00edodo\": \"2007\\u20132009\", \"S\\u00e9rie\": \"1\\u00ba %\", \"N\\u00ba alunos\": 100.0}, {\"Per\\u00edodo\": \"2007\\u20132009\", \"S\\u00e9rie\": \"2\\u00ba %\", \"N\\u00ba alunos\": 89.0}, {\"Per\\u00edodo\": \"2007\\u20132009\", \"S\\u00e9rie\": \"3\\u00ba %\", \"N\\u00ba alunos\": 69.0}, {\"Per\\u00edodo\": \"2008\\u20132010\", \"S\\u00e9rie\": \"1\\u00ba %\", \"N\\u00ba alunos\": 100.0}, {\"Per\\u00edodo\": \"2008\\u20132010\", \"S\\u00e9rie\": \"2\\u00ba %\", \"N\\u00ba alunos\": 89.0}, {\"Per\\u00edodo\": \"2008\\u20132010\", \"S\\u00e9rie\": \"3\\u00ba %\", \"N\\u00ba alunos\": 56.0}, {\"Per\\u00edodo\": \"2009\\u20132011\", \"S\\u00e9rie\": \"1\\u00ba %\", \"N\\u00ba alunos\": 100.0}, {\"Per\\u00edodo\": \"2009\\u20132011\", \"S\\u00e9rie\": \"2\\u00ba %\", \"N\\u00ba alunos\": 94.0}, {\"Per\\u00edodo\": \"2009\\u20132011\", \"S\\u00e9rie\": \"3\\u00ba %\", \"N\\u00ba alunos\": 77.0}, {\"Per\\u00edodo\": \"2010\\u20132012\", \"S\\u00e9rie\": \"2\\u00ba %\", \"N\\u00ba alunos\": 92.0}, {\"Per\\u00edodo\": \"2010\\u20132012\", \"S\\u00e9rie\": \"3\\u00ba %\", \"N\\u00ba alunos\": 90.0}, {\"Per\\u00edodo\": \"2010\\u20132012\", \"S\\u00e9rie\": \"1\\u00ba %\", \"N\\u00ba alunos\": 100.0}, {\"Per\\u00edodo\": \"2011\\u20132013\", \"S\\u00e9rie\": \"3\\u00ba %\", \"N\\u00ba alunos\": 94.0}, {\"Per\\u00edodo\": \"2011\\u20132013\", \"S\\u00e9rie\": \"1\\u00ba %\", \"N\\u00ba alunos\": 100.0}, {\"Per\\u00edodo\": \"2011\\u20132013\", \"S\\u00e9rie\": \"2\\u00ba %\", \"N\\u00ba alunos\": 111.0}, {\"Per\\u00edodo\": \"2012\\u20132014\", \"S\\u00e9rie\": \"3\\u00ba %\", \"N\\u00ba alunos\": 100.0}, {\"Per\\u00edodo\": \"2012\\u20132014\", \"S\\u00e9rie\": \"1\\u00ba %\", \"N\\u00ba alunos\": 100.0}, {\"Per\\u00edodo\": \"2012\\u20132014\", \"S\\u00e9rie\": \"2\\u00ba %\", \"N\\u00ba alunos\": 105.0}, {\"Per\\u00edodo\": \"2013\\u20132015\", \"S\\u00e9rie\": \"3\\u00ba %\", \"N\\u00ba alunos\": 84.0}, {\"Per\\u00edodo\": \"2013\\u20132015\", \"S\\u00e9rie\": \"2\\u00ba %\", \"N\\u00ba alunos\": 93.0}, {\"Per\\u00edodo\": \"2013\\u20132015\", \"S\\u00e9rie\": \"1\\u00ba %\", \"N\\u00ba alunos\": 100.0}, {\"Per\\u00edodo\": \"2014\\u20132016\", \"S\\u00e9rie\": \"2\\u00ba %\", \"N\\u00ba alunos\": 105.0}, {\"Per\\u00edodo\": \"2014\\u20132016\", \"S\\u00e9rie\": \"3\\u00ba %\", \"N\\u00ba alunos\": 78.0}, {\"Per\\u00edodo\": \"2014\\u20132016\", \"S\\u00e9rie\": \"1\\u00ba %\", \"N\\u00ba alunos\": 100.0}, {\"Per\\u00edodo\": \"2015\\u20132017\", \"S\\u00e9rie\": \"2\\u00ba %\", \"N\\u00ba alunos\": 102.0}, {\"Per\\u00edodo\": \"2015\\u20132017\", \"S\\u00e9rie\": \"3\\u00ba %\", \"N\\u00ba alunos\": 90.0}, {\"Per\\u00edodo\": \"2015\\u20132017\", \"S\\u00e9rie\": \"1\\u00ba %\", \"N\\u00ba alunos\": 100.0}, {\"Per\\u00edodo\": \"2016\\u20132018\", \"S\\u00e9rie\": \"3\\u00ba %\", \"N\\u00ba alunos\": 83.0}, {\"Per\\u00edodo\": \"2016\\u20132018\", \"S\\u00e9rie\": \"1\\u00ba %\", \"N\\u00ba alunos\": 100.0}, {\"Per\\u00edodo\": \"2016\\u20132018\", \"S\\u00e9rie\": \"2\\u00ba %\", \"N\\u00ba alunos\": 99.0}, {\"Per\\u00edodo\": \"2017\\u20132019\", \"S\\u00e9rie\": \"2\\u00ba %\", \"N\\u00ba alunos\": 71.0}, {\"Per\\u00edodo\": \"2017\\u20132019\", \"S\\u00e9rie\": \"3\\u00ba %\", \"N\\u00ba alunos\": 79.0}, {\"Per\\u00edodo\": \"2017\\u20132019\", \"S\\u00e9rie\": \"1\\u00ba %\", \"N\\u00ba alunos\": 100.0}, {\"Per\\u00edodo\": \"2018\\u20132020\", \"S\\u00e9rie\": \"3\\u00ba %\", \"N\\u00ba alunos\": null}, {\"Per\\u00edodo\": \"2018\\u20132020\", \"S\\u00e9rie\": \"1\\u00ba %\", \"N\\u00ba alunos\": 100.0}, {\"Per\\u00edodo\": \"2018\\u20132020\", \"S\\u00e9rie\": \"2\\u00ba %\", \"N\\u00ba alunos\": 98.0}, {\"Per\\u00edodo\": \"2019\\u20132021\", \"S\\u00e9rie\": \"1\\u00ba %\", \"N\\u00ba alunos\": 100.0}, {\"Per\\u00edodo\": \"2019\\u20132021\", \"S\\u00e9rie\": \"2\\u00ba %\", \"N\\u00ba alunos\": null}, {\"Per\\u00edodo\": \"2019\\u20132021\", \"S\\u00e9rie\": \"3\\u00ba %\", \"N\\u00ba alunos\": null}]}}, {\"mode\": \"vega-lite\"});\n",
       "</script>"
      ],
      "text/plain": [
       "alt.VConcatChart(...)"
      ]
     },
     "execution_count": 193,
     "metadata": {},
     "output_type": "execute_result"
    }
   ],
   "source": [
    "def line_chart(df):\n",
    "    return (\n",
    "        alt.Chart(df)\n",
    "        .mark_line(interpolate=\"monotone\", point=True)\n",
    "        .encode(\n",
    "            x=\"Série\",\n",
    "            y=alt.Y(\"Nº alunos\"),#, scale=alt.Scale(zero=False)),\n",
    "            color=\"Período:O\",\n",
    "            tooltip=('Período', \"Nº alunos\")\n",
    "        )\n",
    "        .properties(width=800)\n",
    "    )\n",
    "\n",
    "\n",
    "line_chart(df_sv_periodo_no) & line_chart(df_sv_periodo_per)"
   ]
  },
  {
   "cell_type": "markdown",
   "id": "2219e6cc-23e1-480e-8c46-fd4185f70edd",
   "metadata": {},
   "source": [
    "2. como tem variado as notas dos alunos no enem (a princípio seriam comparáveis)"
   ]
  },
  {
   "cell_type": "code",
   "execution_count": 195,
   "id": "88de82f3-7c21-45b7-a31d-9f7283f76370",
   "metadata": {},
   "outputs": [],
   "source": [
    "df_enem = pd.read_feather(\"dados/enem_anos.feather\")"
   ]
  },
  {
   "cell_type": "code",
   "execution_count": 198,
   "id": "7f413c0a-6531-4f05-942f-51f98e69ad06",
   "metadata": {},
   "outputs": [
    {
     "data": {
      "text/html": [
       "<div>\n",
       "<style scoped>\n",
       "    .dataframe tbody tr th:only-of-type {\n",
       "        vertical-align: middle;\n",
       "    }\n",
       "\n",
       "    .dataframe tbody tr th {\n",
       "        vertical-align: top;\n",
       "    }\n",
       "\n",
       "    .dataframe thead th {\n",
       "        text-align: right;\n",
       "    }\n",
       "</style>\n",
       "<table border=\"1\" class=\"dataframe\">\n",
       "  <thead>\n",
       "    <tr style=\"text-align: right;\">\n",
       "      <th></th>\n",
       "      <th>CO_ESCOLA</th>\n",
       "      <th>NU_ANO</th>\n",
       "      <th>NU_NOTA_CN</th>\n",
       "      <th>NU_NOTA_CH</th>\n",
       "      <th>NU_NOTA_LC</th>\n",
       "      <th>NU_NOTA_MT</th>\n",
       "      <th>NU_NOTA_REDACAO</th>\n",
       "      <th>num_alunos</th>\n",
       "      <th>mediana</th>\n",
       "      <th>perc_80</th>\n",
       "      <th>rank</th>\n",
       "    </tr>\n",
       "  </thead>\n",
       "  <tbody>\n",
       "    <tr>\n",
       "      <th>0</th>\n",
       "      <td>33135827</td>\n",
       "      <td>2019</td>\n",
       "      <td>647.5</td>\n",
       "      <td>651.0</td>\n",
       "      <td>627.0</td>\n",
       "      <td>789.0</td>\n",
       "      <td>940.0</td>\n",
       "      <td>31.0</td>\n",
       "      <td>725.0</td>\n",
       "      <td>746.0</td>\n",
       "      <td>1</td>\n",
       "    </tr>\n",
       "    <tr>\n",
       "      <th>1</th>\n",
       "      <td>33062633</td>\n",
       "      <td>2019</td>\n",
       "      <td>636.5</td>\n",
       "      <td>672.0</td>\n",
       "      <td>626.0</td>\n",
       "      <td>789.5</td>\n",
       "      <td>900.0</td>\n",
       "      <td>45.0</td>\n",
       "      <td>722.0</td>\n",
       "      <td>743.0</td>\n",
       "      <td>2</td>\n",
       "    </tr>\n",
       "    <tr>\n",
       "      <th>2</th>\n",
       "      <td>33178860</td>\n",
       "      <td>2019</td>\n",
       "      <td>610.0</td>\n",
       "      <td>662.5</td>\n",
       "      <td>626.0</td>\n",
       "      <td>779.0</td>\n",
       "      <td>910.0</td>\n",
       "      <td>60.0</td>\n",
       "      <td>711.5</td>\n",
       "      <td>744.0</td>\n",
       "      <td>3</td>\n",
       "    </tr>\n",
       "    <tr>\n",
       "      <th>3</th>\n",
       "      <td>33176825</td>\n",
       "      <td>2019</td>\n",
       "      <td>605.5</td>\n",
       "      <td>649.0</td>\n",
       "      <td>620.5</td>\n",
       "      <td>759.0</td>\n",
       "      <td>920.0</td>\n",
       "      <td>146.0</td>\n",
       "      <td>707.0</td>\n",
       "      <td>735.0</td>\n",
       "      <td>4</td>\n",
       "    </tr>\n",
       "    <tr>\n",
       "      <th>4</th>\n",
       "      <td>33062609</td>\n",
       "      <td>2019</td>\n",
       "      <td>611.5</td>\n",
       "      <td>649.5</td>\n",
       "      <td>612.5</td>\n",
       "      <td>777.5</td>\n",
       "      <td>880.0</td>\n",
       "      <td>80.0</td>\n",
       "      <td>707.0</td>\n",
       "      <td>738.0</td>\n",
       "      <td>4</td>\n",
       "    </tr>\n",
       "  </tbody>\n",
       "</table>\n",
       "</div>"
      ],
      "text/plain": [
       "   CO_ESCOLA  NU_ANO  NU_NOTA_CN  NU_NOTA_CH  NU_NOTA_LC  NU_NOTA_MT  \\\n",
       "0   33135827    2019       647.5       651.0       627.0       789.0   \n",
       "1   33062633    2019       636.5       672.0       626.0       789.5   \n",
       "2   33178860    2019       610.0       662.5       626.0       779.0   \n",
       "3   33176825    2019       605.5       649.0       620.5       759.0   \n",
       "4   33062609    2019       611.5       649.5       612.5       777.5   \n",
       "\n",
       "   NU_NOTA_REDACAO  num_alunos  mediana  perc_80  rank  \n",
       "0            940.0        31.0    725.0    746.0     1  \n",
       "1            900.0        45.0    722.0    743.0     2  \n",
       "2            910.0        60.0    711.5    744.0     3  \n",
       "3            920.0       146.0    707.0    735.0     4  \n",
       "4            880.0        80.0    707.0    738.0     4  "
      ]
     },
     "execution_count": 198,
     "metadata": {},
     "output_type": "execute_result"
    }
   ],
   "source": [
    "df_enem.head()"
   ]
  },
  {
   "cell_type": "code",
   "execution_count": 205,
   "id": "e2ba1bac-5bcf-4f7b-94a9-806aebfec11c",
   "metadata": {},
   "outputs": [
    {
     "data": {
      "text/html": [
       "\n",
       "<div id=\"altair-viz-830f17432abd4b8898f07d0f434bbefd\"></div>\n",
       "<script type=\"text/javascript\">\n",
       "  (function(spec, embedOpt){\n",
       "    let outputDiv = document.currentScript.previousElementSibling;\n",
       "    if (outputDiv.id !== \"altair-viz-830f17432abd4b8898f07d0f434bbefd\") {\n",
       "      outputDiv = document.getElementById(\"altair-viz-830f17432abd4b8898f07d0f434bbefd\");\n",
       "    }\n",
       "    const paths = {\n",
       "      \"vega\": \"https://cdn.jsdelivr.net/npm//vega@5?noext\",\n",
       "      \"vega-lib\": \"https://cdn.jsdelivr.net/npm//vega-lib?noext\",\n",
       "      \"vega-lite\": \"https://cdn.jsdelivr.net/npm//vega-lite@4.8.1?noext\",\n",
       "      \"vega-embed\": \"https://cdn.jsdelivr.net/npm//vega-embed@6?noext\",\n",
       "    };\n",
       "\n",
       "    function loadScript(lib) {\n",
       "      return new Promise(function(resolve, reject) {\n",
       "        var s = document.createElement('script');\n",
       "        s.src = paths[lib];\n",
       "        s.async = true;\n",
       "        s.onload = () => resolve(paths[lib]);\n",
       "        s.onerror = () => reject(`Error loading script: ${paths[lib]}`);\n",
       "        document.getElementsByTagName(\"head\")[0].appendChild(s);\n",
       "      });\n",
       "    }\n",
       "\n",
       "    function showError(err) {\n",
       "      outputDiv.innerHTML = `<div class=\"error\" style=\"color:red;\">${err}</div>`;\n",
       "      throw err;\n",
       "    }\n",
       "\n",
       "    function displayChart(vegaEmbed) {\n",
       "      vegaEmbed(outputDiv, spec, embedOpt)\n",
       "        .catch(err => showError(`Javascript Error: ${err.message}<br>This usually means there's a typo in your chart specification. See the javascript console for the full traceback.`));\n",
       "    }\n",
       "\n",
       "    if(typeof define === \"function\" && define.amd) {\n",
       "      requirejs.config({paths});\n",
       "      require([\"vega-embed\"], displayChart, err => showError(`Error loading script: ${err.message}`));\n",
       "    } else if (typeof vegaEmbed === \"function\") {\n",
       "      displayChart(vegaEmbed);\n",
       "    } else {\n",
       "      loadScript(\"vega\")\n",
       "        .then(() => loadScript(\"vega-lite\"))\n",
       "        .then(() => loadScript(\"vega-embed\"))\n",
       "        .catch(showError)\n",
       "        .then(() => displayChart(vegaEmbed));\n",
       "    }\n",
       "  })({\"config\": {\"view\": {\"continuousWidth\": 400, \"continuousHeight\": 300}}, \"data\": {\"name\": \"data-2964b08d01a42bcd9e99b61ea0d60964\"}, \"mark\": \"line\", \"encoding\": {\"color\": {\"type\": \"nominal\", \"field\": \"CO_ESCOLA\"}, \"x\": {\"type\": \"ordinal\", \"field\": \"NU_ANO\"}, \"y\": {\"type\": \"ordinal\", \"field\": \"rank\"}}, \"$schema\": \"https://vega.github.io/schema/vega-lite/v4.8.1.json\", \"datasets\": {\"data-2964b08d01a42bcd9e99b61ea0d60964\": [{\"CO_ESCOLA\": 33135827, \"NU_ANO\": 2019, \"NU_NOTA_CN\": 647.5, \"NU_NOTA_CH\": 651.0, \"NU_NOTA_LC\": 627.0, \"NU_NOTA_MT\": 789.0, \"NU_NOTA_REDACAO\": 940.0, \"num_alunos\": 31.0, \"mediana\": 725.0, \"perc_80\": 746.0, \"rank\": 1}, {\"CO_ESCOLA\": 33062633, \"NU_ANO\": 2019, \"NU_NOTA_CN\": 636.5, \"NU_NOTA_CH\": 672.0, \"NU_NOTA_LC\": 626.0, \"NU_NOTA_MT\": 789.5, \"NU_NOTA_REDACAO\": 900.0, \"num_alunos\": 45.0, \"mediana\": 722.0, \"perc_80\": 743.0, \"rank\": 2}, {\"CO_ESCOLA\": 33178860, \"NU_ANO\": 2019, \"NU_NOTA_CN\": 610.0, \"NU_NOTA_CH\": 662.5, \"NU_NOTA_LC\": 626.0, \"NU_NOTA_MT\": 779.0, \"NU_NOTA_REDACAO\": 910.0, \"num_alunos\": 60.0, \"mediana\": 711.5, \"perc_80\": 744.0, \"rank\": 3}, {\"CO_ESCOLA\": 33176825, \"NU_ANO\": 2019, \"NU_NOTA_CN\": 605.5, \"NU_NOTA_CH\": 649.0, \"NU_NOTA_LC\": 620.5, \"NU_NOTA_MT\": 759.0, \"NU_NOTA_REDACAO\": 920.0, \"num_alunos\": 146.0, \"mediana\": 707.0, \"perc_80\": 735.0, \"rank\": 4}, {\"CO_ESCOLA\": 33062609, \"NU_ANO\": 2019, \"NU_NOTA_CN\": 611.5, \"NU_NOTA_CH\": 649.5, \"NU_NOTA_LC\": 612.5, \"NU_NOTA_MT\": 777.5, \"NU_NOTA_REDACAO\": 880.0, \"num_alunos\": 80.0, \"mediana\": 707.0, \"perc_80\": 738.0, \"rank\": 4}, {\"CO_ESCOLA\": 33135371, \"NU_ANO\": 2019, \"NU_NOTA_CN\": 613.0, \"NU_NOTA_CH\": 647.0, \"NU_NOTA_LC\": 620.5, \"NU_NOTA_MT\": 744.0, \"NU_NOTA_REDACAO\": 940.0, \"num_alunos\": 99.0, \"mediana\": 706.0, \"perc_80\": 739.0, \"rank\": 6}, {\"CO_ESCOLA\": 33063729, \"NU_ANO\": 2019, \"NU_NOTA_CN\": 607.5, \"NU_NOTA_CH\": 641.0, \"NU_NOTA_LC\": 609.0, \"NU_NOTA_MT\": 748.0, \"NU_NOTA_REDACAO\": 900.0, \"num_alunos\": 148.0, \"mediana\": 700.0, \"perc_80\": 735.5, \"rank\": 7}, {\"CO_ESCOLA\": 33065403, \"NU_ANO\": 2019, \"NU_NOTA_CN\": 603.0, \"NU_NOTA_CH\": 656.5, \"NU_NOTA_LC\": 623.5, \"NU_NOTA_MT\": 746.5, \"NU_NOTA_REDACAO\": 870.0, \"num_alunos\": 98.0, \"mediana\": 700.0, \"perc_80\": 720.5, \"rank\": 7}, {\"CO_ESCOLA\": 33104220, \"NU_ANO\": 2019, \"NU_NOTA_CN\": 607.5, \"NU_NOTA_CH\": 635.0, \"NU_NOTA_LC\": 599.0, \"NU_NOTA_MT\": 742.5, \"NU_NOTA_REDACAO\": 920.0, \"num_alunos\": 55.0, \"mediana\": 700.0, \"perc_80\": 722.5, \"rank\": 7}, {\"CO_ESCOLA\": 33173990, \"NU_ANO\": 2019, \"NU_NOTA_CN\": 603.0, \"NU_NOTA_CH\": 636.5, \"NU_NOTA_LC\": 614.0, \"NU_NOTA_MT\": 739.5, \"NU_NOTA_REDACAO\": 900.0, \"num_alunos\": 52.0, \"mediana\": 698.5, \"perc_80\": 728.0, \"rank\": 10}, {\"CO_ESCOLA\": 33057206, \"NU_ANO\": 2019, \"NU_NOTA_CN\": 587.0, \"NU_NOTA_CH\": 640.5, \"NU_NOTA_LC\": 614.5, \"NU_NOTA_MT\": 736.0, \"NU_NOTA_REDACAO\": 920.0, \"num_alunos\": 81.0, \"mediana\": 697.0, \"perc_80\": 727.0, \"rank\": 11}, {\"CO_ESCOLA\": 33031371, \"NU_ANO\": 2019, \"NU_NOTA_CN\": 604.5, \"NU_NOTA_CH\": 630.5, \"NU_NOTA_LC\": 602.5, \"NU_NOTA_MT\": 736.0, \"NU_NOTA_REDACAO\": 920.0, \"num_alunos\": 34.0, \"mediana\": 696.5, \"perc_80\": 735.5, \"rank\": 12}, {\"CO_ESCOLA\": 33180385, \"NU_ANO\": 2019, \"NU_NOTA_CN\": 593.0, \"NU_NOTA_CH\": 629.5, \"NU_NOTA_LC\": 608.0, \"NU_NOTA_MT\": 723.0, \"NU_NOTA_REDACAO\": 920.0, \"num_alunos\": 133.0, \"mediana\": 695.0, \"perc_80\": 726.0, \"rank\": 13}, {\"CO_ESCOLA\": 33075425, \"NU_ANO\": 2019, \"NU_NOTA_CN\": 591.0, \"NU_NOTA_CH\": 630.5, \"NU_NOTA_LC\": 621.0, \"NU_NOTA_MT\": 741.5, \"NU_NOTA_REDACAO\": 900.0, \"num_alunos\": 44.0, \"mediana\": 695.0, \"perc_80\": 731.5, \"rank\": 13}, {\"CO_ESCOLA\": 33063419, \"NU_ANO\": 2019, \"NU_NOTA_CN\": 596.5, \"NU_NOTA_CH\": 635.5, \"NU_NOTA_LC\": 612.5, \"NU_NOTA_MT\": 718.5, \"NU_NOTA_REDACAO\": 860.0, \"num_alunos\": 73.0, \"mediana\": 689.0, \"perc_80\": 711.5, \"rank\": 15}, {\"CO_ESCOLA\": 33148376, \"NU_ANO\": 2019, \"NU_NOTA_CN\": 602.5, \"NU_NOTA_CH\": 627.0, \"NU_NOTA_LC\": 603.5, \"NU_NOTA_MT\": 739.0, \"NU_NOTA_REDACAO\": 890.0, \"num_alunos\": 80.0, \"mediana\": 687.5, \"perc_80\": 729.5, \"rank\": 16}, {\"CO_ESCOLA\": 33153450, \"NU_ANO\": 2019, \"NU_NOTA_CN\": 587.5, \"NU_NOTA_CH\": 635.5, \"NU_NOTA_LC\": 609.0, \"NU_NOTA_MT\": 727.0, \"NU_NOTA_REDACAO\": 920.0, \"num_alunos\": 64.0, \"mediana\": 687.5, \"perc_80\": 727.0, \"rank\": 16}, {\"CO_ESCOLA\": 33110034, \"NU_ANO\": 2019, \"NU_NOTA_CN\": 599.0, \"NU_NOTA_CH\": 649.0, \"NU_NOTA_LC\": 620.0, \"NU_NOTA_MT\": 732.0, \"NU_NOTA_REDACAO\": 880.0, \"num_alunos\": 47.0, \"mediana\": 687.0, \"perc_80\": 730.0, \"rank\": 18}, {\"CO_ESCOLA\": 33077029, \"NU_ANO\": 2019, \"NU_NOTA_CN\": 583.0, \"NU_NOTA_CH\": 619.0, \"NU_NOTA_LC\": 598.5, \"NU_NOTA_MT\": 712.0, \"NU_NOTA_REDACAO\": 920.0, \"num_alunos\": 56.0, \"mediana\": 686.5, \"perc_80\": 720.0, \"rank\": 19}, {\"CO_ESCOLA\": 33042578, \"NU_ANO\": 2019, \"NU_NOTA_CN\": 589.5, \"NU_NOTA_CH\": 639.5, \"NU_NOTA_LC\": 609.5, \"NU_NOTA_MT\": 731.0, \"NU_NOTA_REDACAO\": 860.0, \"num_alunos\": 40.0, \"mediana\": 684.5, \"perc_80\": 717.0, \"rank\": 20}, {\"CO_ESCOLA\": 33228604, \"NU_ANO\": 2019, \"NU_NOTA_CN\": 603.0, \"NU_NOTA_CH\": 620.0, \"NU_NOTA_LC\": 602.5, \"NU_NOTA_MT\": 730.0, \"NU_NOTA_REDACAO\": 860.0, \"num_alunos\": 70.0, \"mediana\": 684.5, \"perc_80\": 724.0, \"rank\": 20}, {\"CO_ESCOLA\": 33447225, \"NU_ANO\": 2019, \"NU_NOTA_CN\": 582.5, \"NU_NOTA_CH\": 625.5, \"NU_NOTA_LC\": 606.0, \"NU_NOTA_MT\": 720.5, \"NU_NOTA_REDACAO\": 900.0, \"num_alunos\": 111.0, \"mediana\": 684.0, \"perc_80\": 721.0, \"rank\": 22}, {\"CO_ESCOLA\": 33322201, \"NU_ANO\": 2019, \"NU_NOTA_CN\": 585.0, \"NU_NOTA_CH\": 629.5, \"NU_NOTA_LC\": 611.5, \"NU_NOTA_MT\": 681.0, \"NU_NOTA_REDACAO\": 900.0, \"num_alunos\": 154.0, \"mediana\": 683.5, \"perc_80\": 706.0, \"rank\": 23}, {\"CO_ESCOLA\": 33105405, \"NU_ANO\": 2019, \"NU_NOTA_CN\": 593.0, \"NU_NOTA_CH\": 626.0, \"NU_NOTA_LC\": 604.0, \"NU_NOTA_MT\": 704.5, \"NU_NOTA_REDACAO\": 860.0, \"num_alunos\": 120.0, \"mediana\": 682.0, \"perc_80\": 720.0, \"rank\": 24}, {\"CO_ESCOLA\": 33078866, \"NU_ANO\": 2019, \"NU_NOTA_CN\": 589.5, \"NU_NOTA_CH\": 612.5, \"NU_NOTA_LC\": 603.0, \"NU_NOTA_MT\": 706.5, \"NU_NOTA_REDACAO\": 880.0, \"num_alunos\": 54.0, \"mediana\": 681.5, \"perc_80\": 711.0, \"rank\": 25}, {\"CO_ESCOLA\": 33180539, \"NU_ANO\": 2019, \"NU_NOTA_CN\": 588.5, \"NU_NOTA_CH\": 626.5, \"NU_NOTA_LC\": 600.5, \"NU_NOTA_MT\": 697.0, \"NU_NOTA_REDACAO\": 900.0, \"num_alunos\": 72.0, \"mediana\": 681.0, \"perc_80\": 714.0, \"rank\": 26}, {\"CO_ESCOLA\": 33066752, \"NU_ANO\": 2019, \"NU_NOTA_CN\": 598.5, \"NU_NOTA_CH\": 631.0, \"NU_NOTA_LC\": 602.5, \"NU_NOTA_MT\": 694.5, \"NU_NOTA_REDACAO\": 880.0, \"num_alunos\": 55.0, \"mediana\": 679.0, \"perc_80\": 712.5, \"rank\": 27}, {\"CO_ESCOLA\": 33065411, \"NU_ANO\": 2019, \"NU_NOTA_CN\": 580.0, \"NU_NOTA_CH\": 624.5, \"NU_NOTA_LC\": 608.0, \"NU_NOTA_MT\": 713.0, \"NU_NOTA_REDACAO\": 880.0, \"num_alunos\": 33.0, \"mediana\": 678.0, \"perc_80\": 701.0, \"rank\": 28}, {\"CO_ESCOLA\": 33063648, \"NU_ANO\": 2019, \"NU_NOTA_CN\": 588.0, \"NU_NOTA_CH\": 635.5, \"NU_NOTA_LC\": 615.5, \"NU_NOTA_MT\": 726.0, \"NU_NOTA_REDACAO\": 850.0, \"num_alunos\": 59.0, \"mediana\": 678.0, \"perc_80\": 712.0, \"rank\": 28}, {\"CO_ESCOLA\": 33085897, \"NU_ANO\": 2019, \"NU_NOTA_CN\": 594.5, \"NU_NOTA_CH\": 633.0, \"NU_NOTA_LC\": 606.0, \"NU_NOTA_MT\": 721.0, \"NU_NOTA_REDACAO\": 880.0, \"num_alunos\": 36.0, \"mediana\": 677.5, \"perc_80\": 721.0, \"rank\": 30}, {\"CO_ESCOLA\": 33135827, \"NU_ANO\": 2019, \"NU_NOTA_CN\": 647.5, \"NU_NOTA_CH\": 651.0, \"NU_NOTA_LC\": 627.0, \"NU_NOTA_MT\": 789.0, \"NU_NOTA_REDACAO\": 940.0, \"num_alunos\": 31.0, \"mediana\": 725.0, \"perc_80\": 746.0, \"rank\": 1}, {\"CO_ESCOLA\": 33062633, \"NU_ANO\": 2019, \"NU_NOTA_CN\": 636.5, \"NU_NOTA_CH\": 672.0, \"NU_NOTA_LC\": 626.0, \"NU_NOTA_MT\": 789.5, \"NU_NOTA_REDACAO\": 900.0, \"num_alunos\": 45.0, \"mediana\": 722.0, \"perc_80\": 743.0, \"rank\": 2}, {\"CO_ESCOLA\": 33178860, \"NU_ANO\": 2019, \"NU_NOTA_CN\": 610.0, \"NU_NOTA_CH\": 662.5, \"NU_NOTA_LC\": 626.0, \"NU_NOTA_MT\": 779.0, \"NU_NOTA_REDACAO\": 910.0, \"num_alunos\": 60.0, \"mediana\": 711.5, \"perc_80\": 744.0, \"rank\": 3}, {\"CO_ESCOLA\": 33176825, \"NU_ANO\": 2019, \"NU_NOTA_CN\": 605.5, \"NU_NOTA_CH\": 649.0, \"NU_NOTA_LC\": 620.5, \"NU_NOTA_MT\": 759.0, \"NU_NOTA_REDACAO\": 920.0, \"num_alunos\": 146.0, \"mediana\": 707.0, \"perc_80\": 735.0, \"rank\": 4}, {\"CO_ESCOLA\": 33062609, \"NU_ANO\": 2019, \"NU_NOTA_CN\": 611.5, \"NU_NOTA_CH\": 649.5, \"NU_NOTA_LC\": 612.5, \"NU_NOTA_MT\": 777.5, \"NU_NOTA_REDACAO\": 880.0, \"num_alunos\": 80.0, \"mediana\": 707.0, \"perc_80\": 738.0, \"rank\": 4}, {\"CO_ESCOLA\": 33135371, \"NU_ANO\": 2019, \"NU_NOTA_CN\": 613.0, \"NU_NOTA_CH\": 647.0, \"NU_NOTA_LC\": 620.5, \"NU_NOTA_MT\": 744.0, \"NU_NOTA_REDACAO\": 940.0, \"num_alunos\": 99.0, \"mediana\": 706.0, \"perc_80\": 739.0, \"rank\": 6}, {\"CO_ESCOLA\": 33063729, \"NU_ANO\": 2019, \"NU_NOTA_CN\": 607.5, \"NU_NOTA_CH\": 641.0, \"NU_NOTA_LC\": 609.0, \"NU_NOTA_MT\": 748.0, \"NU_NOTA_REDACAO\": 900.0, \"num_alunos\": 148.0, \"mediana\": 700.0, \"perc_80\": 735.5, \"rank\": 7}, {\"CO_ESCOLA\": 33065403, \"NU_ANO\": 2019, \"NU_NOTA_CN\": 603.0, \"NU_NOTA_CH\": 656.5, \"NU_NOTA_LC\": 623.5, \"NU_NOTA_MT\": 746.5, \"NU_NOTA_REDACAO\": 870.0, \"num_alunos\": 98.0, \"mediana\": 700.0, \"perc_80\": 720.5, \"rank\": 7}, {\"CO_ESCOLA\": 33104220, \"NU_ANO\": 2019, \"NU_NOTA_CN\": 607.5, \"NU_NOTA_CH\": 635.0, \"NU_NOTA_LC\": 599.0, \"NU_NOTA_MT\": 742.5, \"NU_NOTA_REDACAO\": 920.0, \"num_alunos\": 55.0, \"mediana\": 700.0, \"perc_80\": 722.5, \"rank\": 7}, {\"CO_ESCOLA\": 33173990, \"NU_ANO\": 2019, \"NU_NOTA_CN\": 603.0, \"NU_NOTA_CH\": 636.5, \"NU_NOTA_LC\": 614.0, \"NU_NOTA_MT\": 739.5, \"NU_NOTA_REDACAO\": 900.0, \"num_alunos\": 52.0, \"mediana\": 698.5, \"perc_80\": 728.0, \"rank\": 10}, {\"CO_ESCOLA\": 33057206, \"NU_ANO\": 2019, \"NU_NOTA_CN\": 587.0, \"NU_NOTA_CH\": 640.5, \"NU_NOTA_LC\": 614.5, \"NU_NOTA_MT\": 736.0, \"NU_NOTA_REDACAO\": 920.0, \"num_alunos\": 81.0, \"mediana\": 697.0, \"perc_80\": 727.0, \"rank\": 11}, {\"CO_ESCOLA\": 33031371, \"NU_ANO\": 2019, \"NU_NOTA_CN\": 604.5, \"NU_NOTA_CH\": 630.5, \"NU_NOTA_LC\": 602.5, \"NU_NOTA_MT\": 736.0, \"NU_NOTA_REDACAO\": 920.0, \"num_alunos\": 34.0, \"mediana\": 696.5, \"perc_80\": 735.5, \"rank\": 12}, {\"CO_ESCOLA\": 33180385, \"NU_ANO\": 2019, \"NU_NOTA_CN\": 593.0, \"NU_NOTA_CH\": 629.5, \"NU_NOTA_LC\": 608.0, \"NU_NOTA_MT\": 723.0, \"NU_NOTA_REDACAO\": 920.0, \"num_alunos\": 133.0, \"mediana\": 695.0, \"perc_80\": 726.0, \"rank\": 13}, {\"CO_ESCOLA\": 33075425, \"NU_ANO\": 2019, \"NU_NOTA_CN\": 591.0, \"NU_NOTA_CH\": 630.5, \"NU_NOTA_LC\": 621.0, \"NU_NOTA_MT\": 741.5, \"NU_NOTA_REDACAO\": 900.0, \"num_alunos\": 44.0, \"mediana\": 695.0, \"perc_80\": 731.5, \"rank\": 13}, {\"CO_ESCOLA\": 33063419, \"NU_ANO\": 2019, \"NU_NOTA_CN\": 596.5, \"NU_NOTA_CH\": 635.5, \"NU_NOTA_LC\": 612.5, \"NU_NOTA_MT\": 718.5, \"NU_NOTA_REDACAO\": 860.0, \"num_alunos\": 73.0, \"mediana\": 689.0, \"perc_80\": 711.5, \"rank\": 15}, {\"CO_ESCOLA\": 33148376, \"NU_ANO\": 2019, \"NU_NOTA_CN\": 602.5, \"NU_NOTA_CH\": 627.0, \"NU_NOTA_LC\": 603.5, \"NU_NOTA_MT\": 739.0, \"NU_NOTA_REDACAO\": 890.0, \"num_alunos\": 80.0, \"mediana\": 687.5, \"perc_80\": 729.5, \"rank\": 16}, {\"CO_ESCOLA\": 33153450, \"NU_ANO\": 2019, \"NU_NOTA_CN\": 587.5, \"NU_NOTA_CH\": 635.5, \"NU_NOTA_LC\": 609.0, \"NU_NOTA_MT\": 727.0, \"NU_NOTA_REDACAO\": 920.0, \"num_alunos\": 64.0, \"mediana\": 687.5, \"perc_80\": 727.0, \"rank\": 16}, {\"CO_ESCOLA\": 33110034, \"NU_ANO\": 2019, \"NU_NOTA_CN\": 599.0, \"NU_NOTA_CH\": 649.0, \"NU_NOTA_LC\": 620.0, \"NU_NOTA_MT\": 732.0, \"NU_NOTA_REDACAO\": 880.0, \"num_alunos\": 47.0, \"mediana\": 687.0, \"perc_80\": 730.0, \"rank\": 18}, {\"CO_ESCOLA\": 33077029, \"NU_ANO\": 2019, \"NU_NOTA_CN\": 583.0, \"NU_NOTA_CH\": 619.0, \"NU_NOTA_LC\": 598.5, \"NU_NOTA_MT\": 712.0, \"NU_NOTA_REDACAO\": 920.0, \"num_alunos\": 56.0, \"mediana\": 686.5, \"perc_80\": 720.0, \"rank\": 19}, {\"CO_ESCOLA\": 33042578, \"NU_ANO\": 2019, \"NU_NOTA_CN\": 589.5, \"NU_NOTA_CH\": 639.5, \"NU_NOTA_LC\": 609.5, \"NU_NOTA_MT\": 731.0, \"NU_NOTA_REDACAO\": 860.0, \"num_alunos\": 40.0, \"mediana\": 684.5, \"perc_80\": 717.0, \"rank\": 20}, {\"CO_ESCOLA\": 33228604, \"NU_ANO\": 2019, \"NU_NOTA_CN\": 603.0, \"NU_NOTA_CH\": 620.0, \"NU_NOTA_LC\": 602.5, \"NU_NOTA_MT\": 730.0, \"NU_NOTA_REDACAO\": 860.0, \"num_alunos\": 70.0, \"mediana\": 684.5, \"perc_80\": 724.0, \"rank\": 20}, {\"CO_ESCOLA\": 33447225, \"NU_ANO\": 2019, \"NU_NOTA_CN\": 582.5, \"NU_NOTA_CH\": 625.5, \"NU_NOTA_LC\": 606.0, \"NU_NOTA_MT\": 720.5, \"NU_NOTA_REDACAO\": 900.0, \"num_alunos\": 111.0, \"mediana\": 684.0, \"perc_80\": 721.0, \"rank\": 22}, {\"CO_ESCOLA\": 33322201, \"NU_ANO\": 2019, \"NU_NOTA_CN\": 585.0, \"NU_NOTA_CH\": 629.5, \"NU_NOTA_LC\": 611.5, \"NU_NOTA_MT\": 681.0, \"NU_NOTA_REDACAO\": 900.0, \"num_alunos\": 154.0, \"mediana\": 683.5, \"perc_80\": 706.0, \"rank\": 23}, {\"CO_ESCOLA\": 33105405, \"NU_ANO\": 2019, \"NU_NOTA_CN\": 593.0, \"NU_NOTA_CH\": 626.0, \"NU_NOTA_LC\": 604.0, \"NU_NOTA_MT\": 704.5, \"NU_NOTA_REDACAO\": 860.0, \"num_alunos\": 120.0, \"mediana\": 682.0, \"perc_80\": 720.0, \"rank\": 24}, {\"CO_ESCOLA\": 33078866, \"NU_ANO\": 2019, \"NU_NOTA_CN\": 589.5, \"NU_NOTA_CH\": 612.5, \"NU_NOTA_LC\": 603.0, \"NU_NOTA_MT\": 706.5, \"NU_NOTA_REDACAO\": 880.0, \"num_alunos\": 54.0, \"mediana\": 681.5, \"perc_80\": 711.0, \"rank\": 25}, {\"CO_ESCOLA\": 33180539, \"NU_ANO\": 2019, \"NU_NOTA_CN\": 588.5, \"NU_NOTA_CH\": 626.5, \"NU_NOTA_LC\": 600.5, \"NU_NOTA_MT\": 697.0, \"NU_NOTA_REDACAO\": 900.0, \"num_alunos\": 72.0, \"mediana\": 681.0, \"perc_80\": 714.0, \"rank\": 26}, {\"CO_ESCOLA\": 33066752, \"NU_ANO\": 2019, \"NU_NOTA_CN\": 598.5, \"NU_NOTA_CH\": 631.0, \"NU_NOTA_LC\": 602.5, \"NU_NOTA_MT\": 694.5, \"NU_NOTA_REDACAO\": 880.0, \"num_alunos\": 55.0, \"mediana\": 679.0, \"perc_80\": 712.5, \"rank\": 27}, {\"CO_ESCOLA\": 33065411, \"NU_ANO\": 2019, \"NU_NOTA_CN\": 580.0, \"NU_NOTA_CH\": 624.5, \"NU_NOTA_LC\": 608.0, \"NU_NOTA_MT\": 713.0, \"NU_NOTA_REDACAO\": 880.0, \"num_alunos\": 33.0, \"mediana\": 678.0, \"perc_80\": 701.0, \"rank\": 28}, {\"CO_ESCOLA\": 33063648, \"NU_ANO\": 2019, \"NU_NOTA_CN\": 588.0, \"NU_NOTA_CH\": 635.5, \"NU_NOTA_LC\": 615.5, \"NU_NOTA_MT\": 726.0, \"NU_NOTA_REDACAO\": 850.0, \"num_alunos\": 59.0, \"mediana\": 678.0, \"perc_80\": 712.0, \"rank\": 28}, {\"CO_ESCOLA\": 33085897, \"NU_ANO\": 2019, \"NU_NOTA_CN\": 594.5, \"NU_NOTA_CH\": 633.0, \"NU_NOTA_LC\": 606.0, \"NU_NOTA_MT\": 721.0, \"NU_NOTA_REDACAO\": 880.0, \"num_alunos\": 36.0, \"mediana\": 677.5, \"perc_80\": 721.0, \"rank\": 30}, {\"CO_ESCOLA\": 33135827, \"NU_ANO\": 2019, \"NU_NOTA_CN\": 647.5, \"NU_NOTA_CH\": 651.0, \"NU_NOTA_LC\": 627.0, \"NU_NOTA_MT\": 789.0, \"NU_NOTA_REDACAO\": 940.0, \"num_alunos\": 31.0, \"mediana\": 725.0, \"perc_80\": 746.0, \"rank\": 1}, {\"CO_ESCOLA\": 33062633, \"NU_ANO\": 2019, \"NU_NOTA_CN\": 636.5, \"NU_NOTA_CH\": 672.0, \"NU_NOTA_LC\": 626.0, \"NU_NOTA_MT\": 789.5, \"NU_NOTA_REDACAO\": 900.0, \"num_alunos\": 45.0, \"mediana\": 722.0, \"perc_80\": 743.0, \"rank\": 2}, {\"CO_ESCOLA\": 33178860, \"NU_ANO\": 2019, \"NU_NOTA_CN\": 610.0, \"NU_NOTA_CH\": 662.5, \"NU_NOTA_LC\": 626.0, \"NU_NOTA_MT\": 779.0, \"NU_NOTA_REDACAO\": 910.0, \"num_alunos\": 60.0, \"mediana\": 711.5, \"perc_80\": 744.0, \"rank\": 3}, {\"CO_ESCOLA\": 33176825, \"NU_ANO\": 2019, \"NU_NOTA_CN\": 605.5, \"NU_NOTA_CH\": 649.0, \"NU_NOTA_LC\": 620.5, \"NU_NOTA_MT\": 759.0, \"NU_NOTA_REDACAO\": 920.0, \"num_alunos\": 146.0, \"mediana\": 707.0, \"perc_80\": 735.0, \"rank\": 4}, {\"CO_ESCOLA\": 33062609, \"NU_ANO\": 2019, \"NU_NOTA_CN\": 611.5, \"NU_NOTA_CH\": 649.5, \"NU_NOTA_LC\": 612.5, \"NU_NOTA_MT\": 777.5, \"NU_NOTA_REDACAO\": 880.0, \"num_alunos\": 80.0, \"mediana\": 707.0, \"perc_80\": 738.0, \"rank\": 4}, {\"CO_ESCOLA\": 33135371, \"NU_ANO\": 2019, \"NU_NOTA_CN\": 613.0, \"NU_NOTA_CH\": 647.0, \"NU_NOTA_LC\": 620.5, \"NU_NOTA_MT\": 744.0, \"NU_NOTA_REDACAO\": 940.0, \"num_alunos\": 99.0, \"mediana\": 706.0, \"perc_80\": 739.0, \"rank\": 6}, {\"CO_ESCOLA\": 33063729, \"NU_ANO\": 2019, \"NU_NOTA_CN\": 607.5, \"NU_NOTA_CH\": 641.0, \"NU_NOTA_LC\": 609.0, \"NU_NOTA_MT\": 748.0, \"NU_NOTA_REDACAO\": 900.0, \"num_alunos\": 148.0, \"mediana\": 700.0, \"perc_80\": 735.5, \"rank\": 7}, {\"CO_ESCOLA\": 33065403, \"NU_ANO\": 2019, \"NU_NOTA_CN\": 603.0, \"NU_NOTA_CH\": 656.5, \"NU_NOTA_LC\": 623.5, \"NU_NOTA_MT\": 746.5, \"NU_NOTA_REDACAO\": 870.0, \"num_alunos\": 98.0, \"mediana\": 700.0, \"perc_80\": 720.5, \"rank\": 7}, {\"CO_ESCOLA\": 33104220, \"NU_ANO\": 2019, \"NU_NOTA_CN\": 607.5, \"NU_NOTA_CH\": 635.0, \"NU_NOTA_LC\": 599.0, \"NU_NOTA_MT\": 742.5, \"NU_NOTA_REDACAO\": 920.0, \"num_alunos\": 55.0, \"mediana\": 700.0, \"perc_80\": 722.5, \"rank\": 7}, {\"CO_ESCOLA\": 33173990, \"NU_ANO\": 2019, \"NU_NOTA_CN\": 603.0, \"NU_NOTA_CH\": 636.5, \"NU_NOTA_LC\": 614.0, \"NU_NOTA_MT\": 739.5, \"NU_NOTA_REDACAO\": 900.0, \"num_alunos\": 52.0, \"mediana\": 698.5, \"perc_80\": 728.0, \"rank\": 10}, {\"CO_ESCOLA\": 33057206, \"NU_ANO\": 2019, \"NU_NOTA_CN\": 587.0, \"NU_NOTA_CH\": 640.5, \"NU_NOTA_LC\": 614.5, \"NU_NOTA_MT\": 736.0, \"NU_NOTA_REDACAO\": 920.0, \"num_alunos\": 81.0, \"mediana\": 697.0, \"perc_80\": 727.0, \"rank\": 11}, {\"CO_ESCOLA\": 33031371, \"NU_ANO\": 2019, \"NU_NOTA_CN\": 604.5, \"NU_NOTA_CH\": 630.5, \"NU_NOTA_LC\": 602.5, \"NU_NOTA_MT\": 736.0, \"NU_NOTA_REDACAO\": 920.0, \"num_alunos\": 34.0, \"mediana\": 696.5, \"perc_80\": 735.5, \"rank\": 12}, {\"CO_ESCOLA\": 33180385, \"NU_ANO\": 2019, \"NU_NOTA_CN\": 593.0, \"NU_NOTA_CH\": 629.5, \"NU_NOTA_LC\": 608.0, \"NU_NOTA_MT\": 723.0, \"NU_NOTA_REDACAO\": 920.0, \"num_alunos\": 133.0, \"mediana\": 695.0, \"perc_80\": 726.0, \"rank\": 13}, {\"CO_ESCOLA\": 33075425, \"NU_ANO\": 2019, \"NU_NOTA_CN\": 591.0, \"NU_NOTA_CH\": 630.5, \"NU_NOTA_LC\": 621.0, \"NU_NOTA_MT\": 741.5, \"NU_NOTA_REDACAO\": 900.0, \"num_alunos\": 44.0, \"mediana\": 695.0, \"perc_80\": 731.5, \"rank\": 13}, {\"CO_ESCOLA\": 33063419, \"NU_ANO\": 2019, \"NU_NOTA_CN\": 596.5, \"NU_NOTA_CH\": 635.5, \"NU_NOTA_LC\": 612.5, \"NU_NOTA_MT\": 718.5, \"NU_NOTA_REDACAO\": 860.0, \"num_alunos\": 73.0, \"mediana\": 689.0, \"perc_80\": 711.5, \"rank\": 15}, {\"CO_ESCOLA\": 33148376, \"NU_ANO\": 2019, \"NU_NOTA_CN\": 602.5, \"NU_NOTA_CH\": 627.0, \"NU_NOTA_LC\": 603.5, \"NU_NOTA_MT\": 739.0, \"NU_NOTA_REDACAO\": 890.0, \"num_alunos\": 80.0, \"mediana\": 687.5, \"perc_80\": 729.5, \"rank\": 16}, {\"CO_ESCOLA\": 33153450, \"NU_ANO\": 2019, \"NU_NOTA_CN\": 587.5, \"NU_NOTA_CH\": 635.5, \"NU_NOTA_LC\": 609.0, \"NU_NOTA_MT\": 727.0, \"NU_NOTA_REDACAO\": 920.0, \"num_alunos\": 64.0, \"mediana\": 687.5, \"perc_80\": 727.0, \"rank\": 16}, {\"CO_ESCOLA\": 33110034, \"NU_ANO\": 2019, \"NU_NOTA_CN\": 599.0, \"NU_NOTA_CH\": 649.0, \"NU_NOTA_LC\": 620.0, \"NU_NOTA_MT\": 732.0, \"NU_NOTA_REDACAO\": 880.0, \"num_alunos\": 47.0, \"mediana\": 687.0, \"perc_80\": 730.0, \"rank\": 18}, {\"CO_ESCOLA\": 33077029, \"NU_ANO\": 2019, \"NU_NOTA_CN\": 583.0, \"NU_NOTA_CH\": 619.0, \"NU_NOTA_LC\": 598.5, \"NU_NOTA_MT\": 712.0, \"NU_NOTA_REDACAO\": 920.0, \"num_alunos\": 56.0, \"mediana\": 686.5, \"perc_80\": 720.0, \"rank\": 19}, {\"CO_ESCOLA\": 33042578, \"NU_ANO\": 2019, \"NU_NOTA_CN\": 589.5, \"NU_NOTA_CH\": 639.5, \"NU_NOTA_LC\": 609.5, \"NU_NOTA_MT\": 731.0, \"NU_NOTA_REDACAO\": 860.0, \"num_alunos\": 40.0, \"mediana\": 684.5, \"perc_80\": 717.0, \"rank\": 20}, {\"CO_ESCOLA\": 33228604, \"NU_ANO\": 2019, \"NU_NOTA_CN\": 603.0, \"NU_NOTA_CH\": 620.0, \"NU_NOTA_LC\": 602.5, \"NU_NOTA_MT\": 730.0, \"NU_NOTA_REDACAO\": 860.0, \"num_alunos\": 70.0, \"mediana\": 684.5, \"perc_80\": 724.0, \"rank\": 20}, {\"CO_ESCOLA\": 33447225, \"NU_ANO\": 2019, \"NU_NOTA_CN\": 582.5, \"NU_NOTA_CH\": 625.5, \"NU_NOTA_LC\": 606.0, \"NU_NOTA_MT\": 720.5, \"NU_NOTA_REDACAO\": 900.0, \"num_alunos\": 111.0, \"mediana\": 684.0, \"perc_80\": 721.0, \"rank\": 22}, {\"CO_ESCOLA\": 33322201, \"NU_ANO\": 2019, \"NU_NOTA_CN\": 585.0, \"NU_NOTA_CH\": 629.5, \"NU_NOTA_LC\": 611.5, \"NU_NOTA_MT\": 681.0, \"NU_NOTA_REDACAO\": 900.0, \"num_alunos\": 154.0, \"mediana\": 683.5, \"perc_80\": 706.0, \"rank\": 23}, {\"CO_ESCOLA\": 33105405, \"NU_ANO\": 2019, \"NU_NOTA_CN\": 593.0, \"NU_NOTA_CH\": 626.0, \"NU_NOTA_LC\": 604.0, \"NU_NOTA_MT\": 704.5, \"NU_NOTA_REDACAO\": 860.0, \"num_alunos\": 120.0, \"mediana\": 682.0, \"perc_80\": 720.0, \"rank\": 24}, {\"CO_ESCOLA\": 33078866, \"NU_ANO\": 2019, \"NU_NOTA_CN\": 589.5, \"NU_NOTA_CH\": 612.5, \"NU_NOTA_LC\": 603.0, \"NU_NOTA_MT\": 706.5, \"NU_NOTA_REDACAO\": 880.0, \"num_alunos\": 54.0, \"mediana\": 681.5, \"perc_80\": 711.0, \"rank\": 25}, {\"CO_ESCOLA\": 33180539, \"NU_ANO\": 2019, \"NU_NOTA_CN\": 588.5, \"NU_NOTA_CH\": 626.5, \"NU_NOTA_LC\": 600.5, \"NU_NOTA_MT\": 697.0, \"NU_NOTA_REDACAO\": 900.0, \"num_alunos\": 72.0, \"mediana\": 681.0, \"perc_80\": 714.0, \"rank\": 26}, {\"CO_ESCOLA\": 33066752, \"NU_ANO\": 2019, \"NU_NOTA_CN\": 598.5, \"NU_NOTA_CH\": 631.0, \"NU_NOTA_LC\": 602.5, \"NU_NOTA_MT\": 694.5, \"NU_NOTA_REDACAO\": 880.0, \"num_alunos\": 55.0, \"mediana\": 679.0, \"perc_80\": 712.5, \"rank\": 27}, {\"CO_ESCOLA\": 33065411, \"NU_ANO\": 2019, \"NU_NOTA_CN\": 580.0, \"NU_NOTA_CH\": 624.5, \"NU_NOTA_LC\": 608.0, \"NU_NOTA_MT\": 713.0, \"NU_NOTA_REDACAO\": 880.0, \"num_alunos\": 33.0, \"mediana\": 678.0, \"perc_80\": 701.0, \"rank\": 28}, {\"CO_ESCOLA\": 33063648, \"NU_ANO\": 2019, \"NU_NOTA_CN\": 588.0, \"NU_NOTA_CH\": 635.5, \"NU_NOTA_LC\": 615.5, \"NU_NOTA_MT\": 726.0, \"NU_NOTA_REDACAO\": 850.0, \"num_alunos\": 59.0, \"mediana\": 678.0, \"perc_80\": 712.0, \"rank\": 28}, {\"CO_ESCOLA\": 33085897, \"NU_ANO\": 2019, \"NU_NOTA_CN\": 594.5, \"NU_NOTA_CH\": 633.0, \"NU_NOTA_LC\": 606.0, \"NU_NOTA_MT\": 721.0, \"NU_NOTA_REDACAO\": 880.0, \"num_alunos\": 36.0, \"mediana\": 677.5, \"perc_80\": 721.0, \"rank\": 30}, {\"CO_ESCOLA\": 33135827, \"NU_ANO\": 2019, \"NU_NOTA_CN\": 647.5, \"NU_NOTA_CH\": 651.0, \"NU_NOTA_LC\": 627.0, \"NU_NOTA_MT\": 789.0, \"NU_NOTA_REDACAO\": 940.0, \"num_alunos\": 31.0, \"mediana\": 725.0, \"perc_80\": 746.0, \"rank\": 1}, {\"CO_ESCOLA\": 33062633, \"NU_ANO\": 2019, \"NU_NOTA_CN\": 636.5, \"NU_NOTA_CH\": 672.0, \"NU_NOTA_LC\": 626.0, \"NU_NOTA_MT\": 789.5, \"NU_NOTA_REDACAO\": 900.0, \"num_alunos\": 45.0, \"mediana\": 722.0, \"perc_80\": 743.0, \"rank\": 2}, {\"CO_ESCOLA\": 33178860, \"NU_ANO\": 2019, \"NU_NOTA_CN\": 610.0, \"NU_NOTA_CH\": 662.5, \"NU_NOTA_LC\": 626.0, \"NU_NOTA_MT\": 779.0, \"NU_NOTA_REDACAO\": 910.0, \"num_alunos\": 60.0, \"mediana\": 711.5, \"perc_80\": 744.0, \"rank\": 3}, {\"CO_ESCOLA\": 33176825, \"NU_ANO\": 2019, \"NU_NOTA_CN\": 605.5, \"NU_NOTA_CH\": 649.0, \"NU_NOTA_LC\": 620.5, \"NU_NOTA_MT\": 759.0, \"NU_NOTA_REDACAO\": 920.0, \"num_alunos\": 146.0, \"mediana\": 707.0, \"perc_80\": 735.0, \"rank\": 4}, {\"CO_ESCOLA\": 33062609, \"NU_ANO\": 2019, \"NU_NOTA_CN\": 611.5, \"NU_NOTA_CH\": 649.5, \"NU_NOTA_LC\": 612.5, \"NU_NOTA_MT\": 777.5, \"NU_NOTA_REDACAO\": 880.0, \"num_alunos\": 80.0, \"mediana\": 707.0, \"perc_80\": 738.0, \"rank\": 4}, {\"CO_ESCOLA\": 33135371, \"NU_ANO\": 2019, \"NU_NOTA_CN\": 613.0, \"NU_NOTA_CH\": 647.0, \"NU_NOTA_LC\": 620.5, \"NU_NOTA_MT\": 744.0, \"NU_NOTA_REDACAO\": 940.0, \"num_alunos\": 99.0, \"mediana\": 706.0, \"perc_80\": 739.0, \"rank\": 6}, {\"CO_ESCOLA\": 33063729, \"NU_ANO\": 2019, \"NU_NOTA_CN\": 607.5, \"NU_NOTA_CH\": 641.0, \"NU_NOTA_LC\": 609.0, \"NU_NOTA_MT\": 748.0, \"NU_NOTA_REDACAO\": 900.0, \"num_alunos\": 148.0, \"mediana\": 700.0, \"perc_80\": 735.5, \"rank\": 7}, {\"CO_ESCOLA\": 33065403, \"NU_ANO\": 2019, \"NU_NOTA_CN\": 603.0, \"NU_NOTA_CH\": 656.5, \"NU_NOTA_LC\": 623.5, \"NU_NOTA_MT\": 746.5, \"NU_NOTA_REDACAO\": 870.0, \"num_alunos\": 98.0, \"mediana\": 700.0, \"perc_80\": 720.5, \"rank\": 7}, {\"CO_ESCOLA\": 33104220, \"NU_ANO\": 2019, \"NU_NOTA_CN\": 607.5, \"NU_NOTA_CH\": 635.0, \"NU_NOTA_LC\": 599.0, \"NU_NOTA_MT\": 742.5, \"NU_NOTA_REDACAO\": 920.0, \"num_alunos\": 55.0, \"mediana\": 700.0, \"perc_80\": 722.5, \"rank\": 7}, {\"CO_ESCOLA\": 33173990, \"NU_ANO\": 2019, \"NU_NOTA_CN\": 603.0, \"NU_NOTA_CH\": 636.5, \"NU_NOTA_LC\": 614.0, \"NU_NOTA_MT\": 739.5, \"NU_NOTA_REDACAO\": 900.0, \"num_alunos\": 52.0, \"mediana\": 698.5, \"perc_80\": 728.0, \"rank\": 10}, {\"CO_ESCOLA\": 33057206, \"NU_ANO\": 2019, \"NU_NOTA_CN\": 587.0, \"NU_NOTA_CH\": 640.5, \"NU_NOTA_LC\": 614.5, \"NU_NOTA_MT\": 736.0, \"NU_NOTA_REDACAO\": 920.0, \"num_alunos\": 81.0, \"mediana\": 697.0, \"perc_80\": 727.0, \"rank\": 11}, {\"CO_ESCOLA\": 33031371, \"NU_ANO\": 2019, \"NU_NOTA_CN\": 604.5, \"NU_NOTA_CH\": 630.5, \"NU_NOTA_LC\": 602.5, \"NU_NOTA_MT\": 736.0, \"NU_NOTA_REDACAO\": 920.0, \"num_alunos\": 34.0, \"mediana\": 696.5, \"perc_80\": 735.5, \"rank\": 12}, {\"CO_ESCOLA\": 33180385, \"NU_ANO\": 2019, \"NU_NOTA_CN\": 593.0, \"NU_NOTA_CH\": 629.5, \"NU_NOTA_LC\": 608.0, \"NU_NOTA_MT\": 723.0, \"NU_NOTA_REDACAO\": 920.0, \"num_alunos\": 133.0, \"mediana\": 695.0, \"perc_80\": 726.0, \"rank\": 13}, {\"CO_ESCOLA\": 33075425, \"NU_ANO\": 2019, \"NU_NOTA_CN\": 591.0, \"NU_NOTA_CH\": 630.5, \"NU_NOTA_LC\": 621.0, \"NU_NOTA_MT\": 741.5, \"NU_NOTA_REDACAO\": 900.0, \"num_alunos\": 44.0, \"mediana\": 695.0, \"perc_80\": 731.5, \"rank\": 13}, {\"CO_ESCOLA\": 33063419, \"NU_ANO\": 2019, \"NU_NOTA_CN\": 596.5, \"NU_NOTA_CH\": 635.5, \"NU_NOTA_LC\": 612.5, \"NU_NOTA_MT\": 718.5, \"NU_NOTA_REDACAO\": 860.0, \"num_alunos\": 73.0, \"mediana\": 689.0, \"perc_80\": 711.5, \"rank\": 15}, {\"CO_ESCOLA\": 33148376, \"NU_ANO\": 2019, \"NU_NOTA_CN\": 602.5, \"NU_NOTA_CH\": 627.0, \"NU_NOTA_LC\": 603.5, \"NU_NOTA_MT\": 739.0, \"NU_NOTA_REDACAO\": 890.0, \"num_alunos\": 80.0, \"mediana\": 687.5, \"perc_80\": 729.5, \"rank\": 16}, {\"CO_ESCOLA\": 33153450, \"NU_ANO\": 2019, \"NU_NOTA_CN\": 587.5, \"NU_NOTA_CH\": 635.5, \"NU_NOTA_LC\": 609.0, \"NU_NOTA_MT\": 727.0, \"NU_NOTA_REDACAO\": 920.0, \"num_alunos\": 64.0, \"mediana\": 687.5, \"perc_80\": 727.0, \"rank\": 16}, {\"CO_ESCOLA\": 33110034, \"NU_ANO\": 2019, \"NU_NOTA_CN\": 599.0, \"NU_NOTA_CH\": 649.0, \"NU_NOTA_LC\": 620.0, \"NU_NOTA_MT\": 732.0, \"NU_NOTA_REDACAO\": 880.0, \"num_alunos\": 47.0, \"mediana\": 687.0, \"perc_80\": 730.0, \"rank\": 18}, {\"CO_ESCOLA\": 33077029, \"NU_ANO\": 2019, \"NU_NOTA_CN\": 583.0, \"NU_NOTA_CH\": 619.0, \"NU_NOTA_LC\": 598.5, \"NU_NOTA_MT\": 712.0, \"NU_NOTA_REDACAO\": 920.0, \"num_alunos\": 56.0, \"mediana\": 686.5, \"perc_80\": 720.0, \"rank\": 19}, {\"CO_ESCOLA\": 33042578, \"NU_ANO\": 2019, \"NU_NOTA_CN\": 589.5, \"NU_NOTA_CH\": 639.5, \"NU_NOTA_LC\": 609.5, \"NU_NOTA_MT\": 731.0, \"NU_NOTA_REDACAO\": 860.0, \"num_alunos\": 40.0, \"mediana\": 684.5, \"perc_80\": 717.0, \"rank\": 20}, {\"CO_ESCOLA\": 33228604, \"NU_ANO\": 2019, \"NU_NOTA_CN\": 603.0, \"NU_NOTA_CH\": 620.0, \"NU_NOTA_LC\": 602.5, \"NU_NOTA_MT\": 730.0, \"NU_NOTA_REDACAO\": 860.0, \"num_alunos\": 70.0, \"mediana\": 684.5, \"perc_80\": 724.0, \"rank\": 20}, {\"CO_ESCOLA\": 33447225, \"NU_ANO\": 2019, \"NU_NOTA_CN\": 582.5, \"NU_NOTA_CH\": 625.5, \"NU_NOTA_LC\": 606.0, \"NU_NOTA_MT\": 720.5, \"NU_NOTA_REDACAO\": 900.0, \"num_alunos\": 111.0, \"mediana\": 684.0, \"perc_80\": 721.0, \"rank\": 22}, {\"CO_ESCOLA\": 33322201, \"NU_ANO\": 2019, \"NU_NOTA_CN\": 585.0, \"NU_NOTA_CH\": 629.5, \"NU_NOTA_LC\": 611.5, \"NU_NOTA_MT\": 681.0, \"NU_NOTA_REDACAO\": 900.0, \"num_alunos\": 154.0, \"mediana\": 683.5, \"perc_80\": 706.0, \"rank\": 23}, {\"CO_ESCOLA\": 33105405, \"NU_ANO\": 2019, \"NU_NOTA_CN\": 593.0, \"NU_NOTA_CH\": 626.0, \"NU_NOTA_LC\": 604.0, \"NU_NOTA_MT\": 704.5, \"NU_NOTA_REDACAO\": 860.0, \"num_alunos\": 120.0, \"mediana\": 682.0, \"perc_80\": 720.0, \"rank\": 24}, {\"CO_ESCOLA\": 33078866, \"NU_ANO\": 2019, \"NU_NOTA_CN\": 589.5, \"NU_NOTA_CH\": 612.5, \"NU_NOTA_LC\": 603.0, \"NU_NOTA_MT\": 706.5, \"NU_NOTA_REDACAO\": 880.0, \"num_alunos\": 54.0, \"mediana\": 681.5, \"perc_80\": 711.0, \"rank\": 25}, {\"CO_ESCOLA\": 33180539, \"NU_ANO\": 2019, \"NU_NOTA_CN\": 588.5, \"NU_NOTA_CH\": 626.5, \"NU_NOTA_LC\": 600.5, \"NU_NOTA_MT\": 697.0, \"NU_NOTA_REDACAO\": 900.0, \"num_alunos\": 72.0, \"mediana\": 681.0, \"perc_80\": 714.0, \"rank\": 26}, {\"CO_ESCOLA\": 33066752, \"NU_ANO\": 2019, \"NU_NOTA_CN\": 598.5, \"NU_NOTA_CH\": 631.0, \"NU_NOTA_LC\": 602.5, \"NU_NOTA_MT\": 694.5, \"NU_NOTA_REDACAO\": 880.0, \"num_alunos\": 55.0, \"mediana\": 679.0, \"perc_80\": 712.5, \"rank\": 27}, {\"CO_ESCOLA\": 33065411, \"NU_ANO\": 2019, \"NU_NOTA_CN\": 580.0, \"NU_NOTA_CH\": 624.5, \"NU_NOTA_LC\": 608.0, \"NU_NOTA_MT\": 713.0, \"NU_NOTA_REDACAO\": 880.0, \"num_alunos\": 33.0, \"mediana\": 678.0, \"perc_80\": 701.0, \"rank\": 28}, {\"CO_ESCOLA\": 33063648, \"NU_ANO\": 2019, \"NU_NOTA_CN\": 588.0, \"NU_NOTA_CH\": 635.5, \"NU_NOTA_LC\": 615.5, \"NU_NOTA_MT\": 726.0, \"NU_NOTA_REDACAO\": 850.0, \"num_alunos\": 59.0, \"mediana\": 678.0, \"perc_80\": 712.0, \"rank\": 28}, {\"CO_ESCOLA\": 33085897, \"NU_ANO\": 2019, \"NU_NOTA_CN\": 594.5, \"NU_NOTA_CH\": 633.0, \"NU_NOTA_LC\": 606.0, \"NU_NOTA_MT\": 721.0, \"NU_NOTA_REDACAO\": 880.0, \"num_alunos\": 36.0, \"mediana\": 677.5, \"perc_80\": 721.0, \"rank\": 30}, {\"CO_ESCOLA\": 33135827, \"NU_ANO\": 2019, \"NU_NOTA_CN\": 647.5, \"NU_NOTA_CH\": 651.0, \"NU_NOTA_LC\": 627.0, \"NU_NOTA_MT\": 789.0, \"NU_NOTA_REDACAO\": 940.0, \"num_alunos\": 31.0, \"mediana\": 725.0, \"perc_80\": 746.0, \"rank\": 1}, {\"CO_ESCOLA\": 33062633, \"NU_ANO\": 2019, \"NU_NOTA_CN\": 636.5, \"NU_NOTA_CH\": 672.0, \"NU_NOTA_LC\": 626.0, \"NU_NOTA_MT\": 789.5, \"NU_NOTA_REDACAO\": 900.0, \"num_alunos\": 45.0, \"mediana\": 722.0, \"perc_80\": 743.0, \"rank\": 2}, {\"CO_ESCOLA\": 33178860, \"NU_ANO\": 2019, \"NU_NOTA_CN\": 610.0, \"NU_NOTA_CH\": 662.5, \"NU_NOTA_LC\": 626.0, \"NU_NOTA_MT\": 779.0, \"NU_NOTA_REDACAO\": 910.0, \"num_alunos\": 60.0, \"mediana\": 711.5, \"perc_80\": 744.0, \"rank\": 3}, {\"CO_ESCOLA\": 33176825, \"NU_ANO\": 2019, \"NU_NOTA_CN\": 605.5, \"NU_NOTA_CH\": 649.0, \"NU_NOTA_LC\": 620.5, \"NU_NOTA_MT\": 759.0, \"NU_NOTA_REDACAO\": 920.0, \"num_alunos\": 146.0, \"mediana\": 707.0, \"perc_80\": 735.0, \"rank\": 4}, {\"CO_ESCOLA\": 33062609, \"NU_ANO\": 2019, \"NU_NOTA_CN\": 611.5, \"NU_NOTA_CH\": 649.5, \"NU_NOTA_LC\": 612.5, \"NU_NOTA_MT\": 777.5, \"NU_NOTA_REDACAO\": 880.0, \"num_alunos\": 80.0, \"mediana\": 707.0, \"perc_80\": 738.0, \"rank\": 4}, {\"CO_ESCOLA\": 33135371, \"NU_ANO\": 2019, \"NU_NOTA_CN\": 613.0, \"NU_NOTA_CH\": 647.0, \"NU_NOTA_LC\": 620.5, \"NU_NOTA_MT\": 744.0, \"NU_NOTA_REDACAO\": 940.0, \"num_alunos\": 99.0, \"mediana\": 706.0, \"perc_80\": 739.0, \"rank\": 6}, {\"CO_ESCOLA\": 33063729, \"NU_ANO\": 2019, \"NU_NOTA_CN\": 607.5, \"NU_NOTA_CH\": 641.0, \"NU_NOTA_LC\": 609.0, \"NU_NOTA_MT\": 748.0, \"NU_NOTA_REDACAO\": 900.0, \"num_alunos\": 148.0, \"mediana\": 700.0, \"perc_80\": 735.5, \"rank\": 7}, {\"CO_ESCOLA\": 33065403, \"NU_ANO\": 2019, \"NU_NOTA_CN\": 603.0, \"NU_NOTA_CH\": 656.5, \"NU_NOTA_LC\": 623.5, \"NU_NOTA_MT\": 746.5, \"NU_NOTA_REDACAO\": 870.0, \"num_alunos\": 98.0, \"mediana\": 700.0, \"perc_80\": 720.5, \"rank\": 7}, {\"CO_ESCOLA\": 33104220, \"NU_ANO\": 2019, \"NU_NOTA_CN\": 607.5, \"NU_NOTA_CH\": 635.0, \"NU_NOTA_LC\": 599.0, \"NU_NOTA_MT\": 742.5, \"NU_NOTA_REDACAO\": 920.0, \"num_alunos\": 55.0, \"mediana\": 700.0, \"perc_80\": 722.5, \"rank\": 7}, {\"CO_ESCOLA\": 33173990, \"NU_ANO\": 2019, \"NU_NOTA_CN\": 603.0, \"NU_NOTA_CH\": 636.5, \"NU_NOTA_LC\": 614.0, \"NU_NOTA_MT\": 739.5, \"NU_NOTA_REDACAO\": 900.0, \"num_alunos\": 52.0, \"mediana\": 698.5, \"perc_80\": 728.0, \"rank\": 10}, {\"CO_ESCOLA\": 33057206, \"NU_ANO\": 2019, \"NU_NOTA_CN\": 587.0, \"NU_NOTA_CH\": 640.5, \"NU_NOTA_LC\": 614.5, \"NU_NOTA_MT\": 736.0, \"NU_NOTA_REDACAO\": 920.0, \"num_alunos\": 81.0, \"mediana\": 697.0, \"perc_80\": 727.0, \"rank\": 11}, {\"CO_ESCOLA\": 33031371, \"NU_ANO\": 2019, \"NU_NOTA_CN\": 604.5, \"NU_NOTA_CH\": 630.5, \"NU_NOTA_LC\": 602.5, \"NU_NOTA_MT\": 736.0, \"NU_NOTA_REDACAO\": 920.0, \"num_alunos\": 34.0, \"mediana\": 696.5, \"perc_80\": 735.5, \"rank\": 12}, {\"CO_ESCOLA\": 33180385, \"NU_ANO\": 2019, \"NU_NOTA_CN\": 593.0, \"NU_NOTA_CH\": 629.5, \"NU_NOTA_LC\": 608.0, \"NU_NOTA_MT\": 723.0, \"NU_NOTA_REDACAO\": 920.0, \"num_alunos\": 133.0, \"mediana\": 695.0, \"perc_80\": 726.0, \"rank\": 13}, {\"CO_ESCOLA\": 33075425, \"NU_ANO\": 2019, \"NU_NOTA_CN\": 591.0, \"NU_NOTA_CH\": 630.5, \"NU_NOTA_LC\": 621.0, \"NU_NOTA_MT\": 741.5, \"NU_NOTA_REDACAO\": 900.0, \"num_alunos\": 44.0, \"mediana\": 695.0, \"perc_80\": 731.5, \"rank\": 13}, {\"CO_ESCOLA\": 33063419, \"NU_ANO\": 2019, \"NU_NOTA_CN\": 596.5, \"NU_NOTA_CH\": 635.5, \"NU_NOTA_LC\": 612.5, \"NU_NOTA_MT\": 718.5, \"NU_NOTA_REDACAO\": 860.0, \"num_alunos\": 73.0, \"mediana\": 689.0, \"perc_80\": 711.5, \"rank\": 15}, {\"CO_ESCOLA\": 33148376, \"NU_ANO\": 2019, \"NU_NOTA_CN\": 602.5, \"NU_NOTA_CH\": 627.0, \"NU_NOTA_LC\": 603.5, \"NU_NOTA_MT\": 739.0, \"NU_NOTA_REDACAO\": 890.0, \"num_alunos\": 80.0, \"mediana\": 687.5, \"perc_80\": 729.5, \"rank\": 16}, {\"CO_ESCOLA\": 33153450, \"NU_ANO\": 2019, \"NU_NOTA_CN\": 587.5, \"NU_NOTA_CH\": 635.5, \"NU_NOTA_LC\": 609.0, \"NU_NOTA_MT\": 727.0, \"NU_NOTA_REDACAO\": 920.0, \"num_alunos\": 64.0, \"mediana\": 687.5, \"perc_80\": 727.0, \"rank\": 16}, {\"CO_ESCOLA\": 33110034, \"NU_ANO\": 2019, \"NU_NOTA_CN\": 599.0, \"NU_NOTA_CH\": 649.0, \"NU_NOTA_LC\": 620.0, \"NU_NOTA_MT\": 732.0, \"NU_NOTA_REDACAO\": 880.0, \"num_alunos\": 47.0, \"mediana\": 687.0, \"perc_80\": 730.0, \"rank\": 18}, {\"CO_ESCOLA\": 33077029, \"NU_ANO\": 2019, \"NU_NOTA_CN\": 583.0, \"NU_NOTA_CH\": 619.0, \"NU_NOTA_LC\": 598.5, \"NU_NOTA_MT\": 712.0, \"NU_NOTA_REDACAO\": 920.0, \"num_alunos\": 56.0, \"mediana\": 686.5, \"perc_80\": 720.0, \"rank\": 19}, {\"CO_ESCOLA\": 33042578, \"NU_ANO\": 2019, \"NU_NOTA_CN\": 589.5, \"NU_NOTA_CH\": 639.5, \"NU_NOTA_LC\": 609.5, \"NU_NOTA_MT\": 731.0, \"NU_NOTA_REDACAO\": 860.0, \"num_alunos\": 40.0, \"mediana\": 684.5, \"perc_80\": 717.0, \"rank\": 20}, {\"CO_ESCOLA\": 33228604, \"NU_ANO\": 2019, \"NU_NOTA_CN\": 603.0, \"NU_NOTA_CH\": 620.0, \"NU_NOTA_LC\": 602.5, \"NU_NOTA_MT\": 730.0, \"NU_NOTA_REDACAO\": 860.0, \"num_alunos\": 70.0, \"mediana\": 684.5, \"perc_80\": 724.0, \"rank\": 20}, {\"CO_ESCOLA\": 33447225, \"NU_ANO\": 2019, \"NU_NOTA_CN\": 582.5, \"NU_NOTA_CH\": 625.5, \"NU_NOTA_LC\": 606.0, \"NU_NOTA_MT\": 720.5, \"NU_NOTA_REDACAO\": 900.0, \"num_alunos\": 111.0, \"mediana\": 684.0, \"perc_80\": 721.0, \"rank\": 22}, {\"CO_ESCOLA\": 33322201, \"NU_ANO\": 2019, \"NU_NOTA_CN\": 585.0, \"NU_NOTA_CH\": 629.5, \"NU_NOTA_LC\": 611.5, \"NU_NOTA_MT\": 681.0, \"NU_NOTA_REDACAO\": 900.0, \"num_alunos\": 154.0, \"mediana\": 683.5, \"perc_80\": 706.0, \"rank\": 23}, {\"CO_ESCOLA\": 33105405, \"NU_ANO\": 2019, \"NU_NOTA_CN\": 593.0, \"NU_NOTA_CH\": 626.0, \"NU_NOTA_LC\": 604.0, \"NU_NOTA_MT\": 704.5, \"NU_NOTA_REDACAO\": 860.0, \"num_alunos\": 120.0, \"mediana\": 682.0, \"perc_80\": 720.0, \"rank\": 24}, {\"CO_ESCOLA\": 33078866, \"NU_ANO\": 2019, \"NU_NOTA_CN\": 589.5, \"NU_NOTA_CH\": 612.5, \"NU_NOTA_LC\": 603.0, \"NU_NOTA_MT\": 706.5, \"NU_NOTA_REDACAO\": 880.0, \"num_alunos\": 54.0, \"mediana\": 681.5, \"perc_80\": 711.0, \"rank\": 25}, {\"CO_ESCOLA\": 33180539, \"NU_ANO\": 2019, \"NU_NOTA_CN\": 588.5, \"NU_NOTA_CH\": 626.5, \"NU_NOTA_LC\": 600.5, \"NU_NOTA_MT\": 697.0, \"NU_NOTA_REDACAO\": 900.0, \"num_alunos\": 72.0, \"mediana\": 681.0, \"perc_80\": 714.0, \"rank\": 26}, {\"CO_ESCOLA\": 33066752, \"NU_ANO\": 2019, \"NU_NOTA_CN\": 598.5, \"NU_NOTA_CH\": 631.0, \"NU_NOTA_LC\": 602.5, \"NU_NOTA_MT\": 694.5, \"NU_NOTA_REDACAO\": 880.0, \"num_alunos\": 55.0, \"mediana\": 679.0, \"perc_80\": 712.5, \"rank\": 27}, {\"CO_ESCOLA\": 33065411, \"NU_ANO\": 2019, \"NU_NOTA_CN\": 580.0, \"NU_NOTA_CH\": 624.5, \"NU_NOTA_LC\": 608.0, \"NU_NOTA_MT\": 713.0, \"NU_NOTA_REDACAO\": 880.0, \"num_alunos\": 33.0, \"mediana\": 678.0, \"perc_80\": 701.0, \"rank\": 28}, {\"CO_ESCOLA\": 33063648, \"NU_ANO\": 2019, \"NU_NOTA_CN\": 588.0, \"NU_NOTA_CH\": 635.5, \"NU_NOTA_LC\": 615.5, \"NU_NOTA_MT\": 726.0, \"NU_NOTA_REDACAO\": 850.0, \"num_alunos\": 59.0, \"mediana\": 678.0, \"perc_80\": 712.0, \"rank\": 28}, {\"CO_ESCOLA\": 33085897, \"NU_ANO\": 2019, \"NU_NOTA_CN\": 594.5, \"NU_NOTA_CH\": 633.0, \"NU_NOTA_LC\": 606.0, \"NU_NOTA_MT\": 721.0, \"NU_NOTA_REDACAO\": 880.0, \"num_alunos\": 36.0, \"mediana\": 677.5, \"perc_80\": 721.0, \"rank\": 30}, {\"CO_ESCOLA\": 33135827, \"NU_ANO\": 2019, \"NU_NOTA_CN\": 647.5, \"NU_NOTA_CH\": 651.0, \"NU_NOTA_LC\": 627.0, \"NU_NOTA_MT\": 789.0, \"NU_NOTA_REDACAO\": 940.0, \"num_alunos\": 31.0, \"mediana\": 725.0, \"perc_80\": 746.0, \"rank\": 1}, {\"CO_ESCOLA\": 33062633, \"NU_ANO\": 2019, \"NU_NOTA_CN\": 636.5, \"NU_NOTA_CH\": 672.0, \"NU_NOTA_LC\": 626.0, \"NU_NOTA_MT\": 789.5, \"NU_NOTA_REDACAO\": 900.0, \"num_alunos\": 45.0, \"mediana\": 722.0, \"perc_80\": 743.0, \"rank\": 2}, {\"CO_ESCOLA\": 33178860, \"NU_ANO\": 2019, \"NU_NOTA_CN\": 610.0, \"NU_NOTA_CH\": 662.5, \"NU_NOTA_LC\": 626.0, \"NU_NOTA_MT\": 779.0, \"NU_NOTA_REDACAO\": 910.0, \"num_alunos\": 60.0, \"mediana\": 711.5, \"perc_80\": 744.0, \"rank\": 3}, {\"CO_ESCOLA\": 33176825, \"NU_ANO\": 2019, \"NU_NOTA_CN\": 605.5, \"NU_NOTA_CH\": 649.0, \"NU_NOTA_LC\": 620.5, \"NU_NOTA_MT\": 759.0, \"NU_NOTA_REDACAO\": 920.0, \"num_alunos\": 146.0, \"mediana\": 707.0, \"perc_80\": 735.0, \"rank\": 4}, {\"CO_ESCOLA\": 33062609, \"NU_ANO\": 2019, \"NU_NOTA_CN\": 611.5, \"NU_NOTA_CH\": 649.5, \"NU_NOTA_LC\": 612.5, \"NU_NOTA_MT\": 777.5, \"NU_NOTA_REDACAO\": 880.0, \"num_alunos\": 80.0, \"mediana\": 707.0, \"perc_80\": 738.0, \"rank\": 4}, {\"CO_ESCOLA\": 33135371, \"NU_ANO\": 2019, \"NU_NOTA_CN\": 613.0, \"NU_NOTA_CH\": 647.0, \"NU_NOTA_LC\": 620.5, \"NU_NOTA_MT\": 744.0, \"NU_NOTA_REDACAO\": 940.0, \"num_alunos\": 99.0, \"mediana\": 706.0, \"perc_80\": 739.0, \"rank\": 6}, {\"CO_ESCOLA\": 33063729, \"NU_ANO\": 2019, \"NU_NOTA_CN\": 607.5, \"NU_NOTA_CH\": 641.0, \"NU_NOTA_LC\": 609.0, \"NU_NOTA_MT\": 748.0, \"NU_NOTA_REDACAO\": 900.0, \"num_alunos\": 148.0, \"mediana\": 700.0, \"perc_80\": 735.5, \"rank\": 7}, {\"CO_ESCOLA\": 33065403, \"NU_ANO\": 2019, \"NU_NOTA_CN\": 603.0, \"NU_NOTA_CH\": 656.5, \"NU_NOTA_LC\": 623.5, \"NU_NOTA_MT\": 746.5, \"NU_NOTA_REDACAO\": 870.0, \"num_alunos\": 98.0, \"mediana\": 700.0, \"perc_80\": 720.5, \"rank\": 7}, {\"CO_ESCOLA\": 33104220, \"NU_ANO\": 2019, \"NU_NOTA_CN\": 607.5, \"NU_NOTA_CH\": 635.0, \"NU_NOTA_LC\": 599.0, \"NU_NOTA_MT\": 742.5, \"NU_NOTA_REDACAO\": 920.0, \"num_alunos\": 55.0, \"mediana\": 700.0, \"perc_80\": 722.5, \"rank\": 7}, {\"CO_ESCOLA\": 33173990, \"NU_ANO\": 2019, \"NU_NOTA_CN\": 603.0, \"NU_NOTA_CH\": 636.5, \"NU_NOTA_LC\": 614.0, \"NU_NOTA_MT\": 739.5, \"NU_NOTA_REDACAO\": 900.0, \"num_alunos\": 52.0, \"mediana\": 698.5, \"perc_80\": 728.0, \"rank\": 10}, {\"CO_ESCOLA\": 33057206, \"NU_ANO\": 2019, \"NU_NOTA_CN\": 587.0, \"NU_NOTA_CH\": 640.5, \"NU_NOTA_LC\": 614.5, \"NU_NOTA_MT\": 736.0, \"NU_NOTA_REDACAO\": 920.0, \"num_alunos\": 81.0, \"mediana\": 697.0, \"perc_80\": 727.0, \"rank\": 11}, {\"CO_ESCOLA\": 33031371, \"NU_ANO\": 2019, \"NU_NOTA_CN\": 604.5, \"NU_NOTA_CH\": 630.5, \"NU_NOTA_LC\": 602.5, \"NU_NOTA_MT\": 736.0, \"NU_NOTA_REDACAO\": 920.0, \"num_alunos\": 34.0, \"mediana\": 696.5, \"perc_80\": 735.5, \"rank\": 12}, {\"CO_ESCOLA\": 33180385, \"NU_ANO\": 2019, \"NU_NOTA_CN\": 593.0, \"NU_NOTA_CH\": 629.5, \"NU_NOTA_LC\": 608.0, \"NU_NOTA_MT\": 723.0, \"NU_NOTA_REDACAO\": 920.0, \"num_alunos\": 133.0, \"mediana\": 695.0, \"perc_80\": 726.0, \"rank\": 13}, {\"CO_ESCOLA\": 33075425, \"NU_ANO\": 2019, \"NU_NOTA_CN\": 591.0, \"NU_NOTA_CH\": 630.5, \"NU_NOTA_LC\": 621.0, \"NU_NOTA_MT\": 741.5, \"NU_NOTA_REDACAO\": 900.0, \"num_alunos\": 44.0, \"mediana\": 695.0, \"perc_80\": 731.5, \"rank\": 13}, {\"CO_ESCOLA\": 33063419, \"NU_ANO\": 2019, \"NU_NOTA_CN\": 596.5, \"NU_NOTA_CH\": 635.5, \"NU_NOTA_LC\": 612.5, \"NU_NOTA_MT\": 718.5, \"NU_NOTA_REDACAO\": 860.0, \"num_alunos\": 73.0, \"mediana\": 689.0, \"perc_80\": 711.5, \"rank\": 15}, {\"CO_ESCOLA\": 33148376, \"NU_ANO\": 2019, \"NU_NOTA_CN\": 602.5, \"NU_NOTA_CH\": 627.0, \"NU_NOTA_LC\": 603.5, \"NU_NOTA_MT\": 739.0, \"NU_NOTA_REDACAO\": 890.0, \"num_alunos\": 80.0, \"mediana\": 687.5, \"perc_80\": 729.5, \"rank\": 16}, {\"CO_ESCOLA\": 33153450, \"NU_ANO\": 2019, \"NU_NOTA_CN\": 587.5, \"NU_NOTA_CH\": 635.5, \"NU_NOTA_LC\": 609.0, \"NU_NOTA_MT\": 727.0, \"NU_NOTA_REDACAO\": 920.0, \"num_alunos\": 64.0, \"mediana\": 687.5, \"perc_80\": 727.0, \"rank\": 16}, {\"CO_ESCOLA\": 33110034, \"NU_ANO\": 2019, \"NU_NOTA_CN\": 599.0, \"NU_NOTA_CH\": 649.0, \"NU_NOTA_LC\": 620.0, \"NU_NOTA_MT\": 732.0, \"NU_NOTA_REDACAO\": 880.0, \"num_alunos\": 47.0, \"mediana\": 687.0, \"perc_80\": 730.0, \"rank\": 18}, {\"CO_ESCOLA\": 33077029, \"NU_ANO\": 2019, \"NU_NOTA_CN\": 583.0, \"NU_NOTA_CH\": 619.0, \"NU_NOTA_LC\": 598.5, \"NU_NOTA_MT\": 712.0, \"NU_NOTA_REDACAO\": 920.0, \"num_alunos\": 56.0, \"mediana\": 686.5, \"perc_80\": 720.0, \"rank\": 19}, {\"CO_ESCOLA\": 33042578, \"NU_ANO\": 2019, \"NU_NOTA_CN\": 589.5, \"NU_NOTA_CH\": 639.5, \"NU_NOTA_LC\": 609.5, \"NU_NOTA_MT\": 731.0, \"NU_NOTA_REDACAO\": 860.0, \"num_alunos\": 40.0, \"mediana\": 684.5, \"perc_80\": 717.0, \"rank\": 20}, {\"CO_ESCOLA\": 33228604, \"NU_ANO\": 2019, \"NU_NOTA_CN\": 603.0, \"NU_NOTA_CH\": 620.0, \"NU_NOTA_LC\": 602.5, \"NU_NOTA_MT\": 730.0, \"NU_NOTA_REDACAO\": 860.0, \"num_alunos\": 70.0, \"mediana\": 684.5, \"perc_80\": 724.0, \"rank\": 20}, {\"CO_ESCOLA\": 33447225, \"NU_ANO\": 2019, \"NU_NOTA_CN\": 582.5, \"NU_NOTA_CH\": 625.5, \"NU_NOTA_LC\": 606.0, \"NU_NOTA_MT\": 720.5, \"NU_NOTA_REDACAO\": 900.0, \"num_alunos\": 111.0, \"mediana\": 684.0, \"perc_80\": 721.0, \"rank\": 22}, {\"CO_ESCOLA\": 33322201, \"NU_ANO\": 2019, \"NU_NOTA_CN\": 585.0, \"NU_NOTA_CH\": 629.5, \"NU_NOTA_LC\": 611.5, \"NU_NOTA_MT\": 681.0, \"NU_NOTA_REDACAO\": 900.0, \"num_alunos\": 154.0, \"mediana\": 683.5, \"perc_80\": 706.0, \"rank\": 23}, {\"CO_ESCOLA\": 33105405, \"NU_ANO\": 2019, \"NU_NOTA_CN\": 593.0, \"NU_NOTA_CH\": 626.0, \"NU_NOTA_LC\": 604.0, \"NU_NOTA_MT\": 704.5, \"NU_NOTA_REDACAO\": 860.0, \"num_alunos\": 120.0, \"mediana\": 682.0, \"perc_80\": 720.0, \"rank\": 24}, {\"CO_ESCOLA\": 33078866, \"NU_ANO\": 2019, \"NU_NOTA_CN\": 589.5, \"NU_NOTA_CH\": 612.5, \"NU_NOTA_LC\": 603.0, \"NU_NOTA_MT\": 706.5, \"NU_NOTA_REDACAO\": 880.0, \"num_alunos\": 54.0, \"mediana\": 681.5, \"perc_80\": 711.0, \"rank\": 25}, {\"CO_ESCOLA\": 33180539, \"NU_ANO\": 2019, \"NU_NOTA_CN\": 588.5, \"NU_NOTA_CH\": 626.5, \"NU_NOTA_LC\": 600.5, \"NU_NOTA_MT\": 697.0, \"NU_NOTA_REDACAO\": 900.0, \"num_alunos\": 72.0, \"mediana\": 681.0, \"perc_80\": 714.0, \"rank\": 26}, {\"CO_ESCOLA\": 33066752, \"NU_ANO\": 2019, \"NU_NOTA_CN\": 598.5, \"NU_NOTA_CH\": 631.0, \"NU_NOTA_LC\": 602.5, \"NU_NOTA_MT\": 694.5, \"NU_NOTA_REDACAO\": 880.0, \"num_alunos\": 55.0, \"mediana\": 679.0, \"perc_80\": 712.5, \"rank\": 27}, {\"CO_ESCOLA\": 33065411, \"NU_ANO\": 2019, \"NU_NOTA_CN\": 580.0, \"NU_NOTA_CH\": 624.5, \"NU_NOTA_LC\": 608.0, \"NU_NOTA_MT\": 713.0, \"NU_NOTA_REDACAO\": 880.0, \"num_alunos\": 33.0, \"mediana\": 678.0, \"perc_80\": 701.0, \"rank\": 28}, {\"CO_ESCOLA\": 33063648, \"NU_ANO\": 2019, \"NU_NOTA_CN\": 588.0, \"NU_NOTA_CH\": 635.5, \"NU_NOTA_LC\": 615.5, \"NU_NOTA_MT\": 726.0, \"NU_NOTA_REDACAO\": 850.0, \"num_alunos\": 59.0, \"mediana\": 678.0, \"perc_80\": 712.0, \"rank\": 28}, {\"CO_ESCOLA\": 33085897, \"NU_ANO\": 2019, \"NU_NOTA_CN\": 594.5, \"NU_NOTA_CH\": 633.0, \"NU_NOTA_LC\": 606.0, \"NU_NOTA_MT\": 721.0, \"NU_NOTA_REDACAO\": 880.0, \"num_alunos\": 36.0, \"mediana\": 677.5, \"perc_80\": 721.0, \"rank\": 30}, {\"CO_ESCOLA\": 33135827, \"NU_ANO\": 2019, \"NU_NOTA_CN\": 647.5, \"NU_NOTA_CH\": 651.0, \"NU_NOTA_LC\": 627.0, \"NU_NOTA_MT\": 789.0, \"NU_NOTA_REDACAO\": 940.0, \"num_alunos\": 31.0, \"mediana\": 725.0, \"perc_80\": 746.0, \"rank\": 1}, {\"CO_ESCOLA\": 33062633, \"NU_ANO\": 2019, \"NU_NOTA_CN\": 636.5, \"NU_NOTA_CH\": 672.0, \"NU_NOTA_LC\": 626.0, \"NU_NOTA_MT\": 789.5, \"NU_NOTA_REDACAO\": 900.0, \"num_alunos\": 45.0, \"mediana\": 722.0, \"perc_80\": 743.0, \"rank\": 2}, {\"CO_ESCOLA\": 33178860, \"NU_ANO\": 2019, \"NU_NOTA_CN\": 610.0, \"NU_NOTA_CH\": 662.5, \"NU_NOTA_LC\": 626.0, \"NU_NOTA_MT\": 779.0, \"NU_NOTA_REDACAO\": 910.0, \"num_alunos\": 60.0, \"mediana\": 711.5, \"perc_80\": 744.0, \"rank\": 3}, {\"CO_ESCOLA\": 33176825, \"NU_ANO\": 2019, \"NU_NOTA_CN\": 605.5, \"NU_NOTA_CH\": 649.0, \"NU_NOTA_LC\": 620.5, \"NU_NOTA_MT\": 759.0, \"NU_NOTA_REDACAO\": 920.0, \"num_alunos\": 146.0, \"mediana\": 707.0, \"perc_80\": 735.0, \"rank\": 4}, {\"CO_ESCOLA\": 33062609, \"NU_ANO\": 2019, \"NU_NOTA_CN\": 611.5, \"NU_NOTA_CH\": 649.5, \"NU_NOTA_LC\": 612.5, \"NU_NOTA_MT\": 777.5, \"NU_NOTA_REDACAO\": 880.0, \"num_alunos\": 80.0, \"mediana\": 707.0, \"perc_80\": 738.0, \"rank\": 4}, {\"CO_ESCOLA\": 33135371, \"NU_ANO\": 2019, \"NU_NOTA_CN\": 613.0, \"NU_NOTA_CH\": 647.0, \"NU_NOTA_LC\": 620.5, \"NU_NOTA_MT\": 744.0, \"NU_NOTA_REDACAO\": 940.0, \"num_alunos\": 99.0, \"mediana\": 706.0, \"perc_80\": 739.0, \"rank\": 6}, {\"CO_ESCOLA\": 33063729, \"NU_ANO\": 2019, \"NU_NOTA_CN\": 607.5, \"NU_NOTA_CH\": 641.0, \"NU_NOTA_LC\": 609.0, \"NU_NOTA_MT\": 748.0, \"NU_NOTA_REDACAO\": 900.0, \"num_alunos\": 148.0, \"mediana\": 700.0, \"perc_80\": 735.5, \"rank\": 7}, {\"CO_ESCOLA\": 33065403, \"NU_ANO\": 2019, \"NU_NOTA_CN\": 603.0, \"NU_NOTA_CH\": 656.5, \"NU_NOTA_LC\": 623.5, \"NU_NOTA_MT\": 746.5, \"NU_NOTA_REDACAO\": 870.0, \"num_alunos\": 98.0, \"mediana\": 700.0, \"perc_80\": 720.5, \"rank\": 7}, {\"CO_ESCOLA\": 33104220, \"NU_ANO\": 2019, \"NU_NOTA_CN\": 607.5, \"NU_NOTA_CH\": 635.0, \"NU_NOTA_LC\": 599.0, \"NU_NOTA_MT\": 742.5, \"NU_NOTA_REDACAO\": 920.0, \"num_alunos\": 55.0, \"mediana\": 700.0, \"perc_80\": 722.5, \"rank\": 7}, {\"CO_ESCOLA\": 33173990, \"NU_ANO\": 2019, \"NU_NOTA_CN\": 603.0, \"NU_NOTA_CH\": 636.5, \"NU_NOTA_LC\": 614.0, \"NU_NOTA_MT\": 739.5, \"NU_NOTA_REDACAO\": 900.0, \"num_alunos\": 52.0, \"mediana\": 698.5, \"perc_80\": 728.0, \"rank\": 10}, {\"CO_ESCOLA\": 33057206, \"NU_ANO\": 2019, \"NU_NOTA_CN\": 587.0, \"NU_NOTA_CH\": 640.5, \"NU_NOTA_LC\": 614.5, \"NU_NOTA_MT\": 736.0, \"NU_NOTA_REDACAO\": 920.0, \"num_alunos\": 81.0, \"mediana\": 697.0, \"perc_80\": 727.0, \"rank\": 11}, {\"CO_ESCOLA\": 33031371, \"NU_ANO\": 2019, \"NU_NOTA_CN\": 604.5, \"NU_NOTA_CH\": 630.5, \"NU_NOTA_LC\": 602.5, \"NU_NOTA_MT\": 736.0, \"NU_NOTA_REDACAO\": 920.0, \"num_alunos\": 34.0, \"mediana\": 696.5, \"perc_80\": 735.5, \"rank\": 12}, {\"CO_ESCOLA\": 33180385, \"NU_ANO\": 2019, \"NU_NOTA_CN\": 593.0, \"NU_NOTA_CH\": 629.5, \"NU_NOTA_LC\": 608.0, \"NU_NOTA_MT\": 723.0, \"NU_NOTA_REDACAO\": 920.0, \"num_alunos\": 133.0, \"mediana\": 695.0, \"perc_80\": 726.0, \"rank\": 13}, {\"CO_ESCOLA\": 33075425, \"NU_ANO\": 2019, \"NU_NOTA_CN\": 591.0, \"NU_NOTA_CH\": 630.5, \"NU_NOTA_LC\": 621.0, \"NU_NOTA_MT\": 741.5, \"NU_NOTA_REDACAO\": 900.0, \"num_alunos\": 44.0, \"mediana\": 695.0, \"perc_80\": 731.5, \"rank\": 13}, {\"CO_ESCOLA\": 33063419, \"NU_ANO\": 2019, \"NU_NOTA_CN\": 596.5, \"NU_NOTA_CH\": 635.5, \"NU_NOTA_LC\": 612.5, \"NU_NOTA_MT\": 718.5, \"NU_NOTA_REDACAO\": 860.0, \"num_alunos\": 73.0, \"mediana\": 689.0, \"perc_80\": 711.5, \"rank\": 15}, {\"CO_ESCOLA\": 33148376, \"NU_ANO\": 2019, \"NU_NOTA_CN\": 602.5, \"NU_NOTA_CH\": 627.0, \"NU_NOTA_LC\": 603.5, \"NU_NOTA_MT\": 739.0, \"NU_NOTA_REDACAO\": 890.0, \"num_alunos\": 80.0, \"mediana\": 687.5, \"perc_80\": 729.5, \"rank\": 16}, {\"CO_ESCOLA\": 33153450, \"NU_ANO\": 2019, \"NU_NOTA_CN\": 587.5, \"NU_NOTA_CH\": 635.5, \"NU_NOTA_LC\": 609.0, \"NU_NOTA_MT\": 727.0, \"NU_NOTA_REDACAO\": 920.0, \"num_alunos\": 64.0, \"mediana\": 687.5, \"perc_80\": 727.0, \"rank\": 16}, {\"CO_ESCOLA\": 33110034, \"NU_ANO\": 2019, \"NU_NOTA_CN\": 599.0, \"NU_NOTA_CH\": 649.0, \"NU_NOTA_LC\": 620.0, \"NU_NOTA_MT\": 732.0, \"NU_NOTA_REDACAO\": 880.0, \"num_alunos\": 47.0, \"mediana\": 687.0, \"perc_80\": 730.0, \"rank\": 18}, {\"CO_ESCOLA\": 33077029, \"NU_ANO\": 2019, \"NU_NOTA_CN\": 583.0, \"NU_NOTA_CH\": 619.0, \"NU_NOTA_LC\": 598.5, \"NU_NOTA_MT\": 712.0, \"NU_NOTA_REDACAO\": 920.0, \"num_alunos\": 56.0, \"mediana\": 686.5, \"perc_80\": 720.0, \"rank\": 19}, {\"CO_ESCOLA\": 33042578, \"NU_ANO\": 2019, \"NU_NOTA_CN\": 589.5, \"NU_NOTA_CH\": 639.5, \"NU_NOTA_LC\": 609.5, \"NU_NOTA_MT\": 731.0, \"NU_NOTA_REDACAO\": 860.0, \"num_alunos\": 40.0, \"mediana\": 684.5, \"perc_80\": 717.0, \"rank\": 20}, {\"CO_ESCOLA\": 33228604, \"NU_ANO\": 2019, \"NU_NOTA_CN\": 603.0, \"NU_NOTA_CH\": 620.0, \"NU_NOTA_LC\": 602.5, \"NU_NOTA_MT\": 730.0, \"NU_NOTA_REDACAO\": 860.0, \"num_alunos\": 70.0, \"mediana\": 684.5, \"perc_80\": 724.0, \"rank\": 20}, {\"CO_ESCOLA\": 33447225, \"NU_ANO\": 2019, \"NU_NOTA_CN\": 582.5, \"NU_NOTA_CH\": 625.5, \"NU_NOTA_LC\": 606.0, \"NU_NOTA_MT\": 720.5, \"NU_NOTA_REDACAO\": 900.0, \"num_alunos\": 111.0, \"mediana\": 684.0, \"perc_80\": 721.0, \"rank\": 22}, {\"CO_ESCOLA\": 33322201, \"NU_ANO\": 2019, \"NU_NOTA_CN\": 585.0, \"NU_NOTA_CH\": 629.5, \"NU_NOTA_LC\": 611.5, \"NU_NOTA_MT\": 681.0, \"NU_NOTA_REDACAO\": 900.0, \"num_alunos\": 154.0, \"mediana\": 683.5, \"perc_80\": 706.0, \"rank\": 23}, {\"CO_ESCOLA\": 33105405, \"NU_ANO\": 2019, \"NU_NOTA_CN\": 593.0, \"NU_NOTA_CH\": 626.0, \"NU_NOTA_LC\": 604.0, \"NU_NOTA_MT\": 704.5, \"NU_NOTA_REDACAO\": 860.0, \"num_alunos\": 120.0, \"mediana\": 682.0, \"perc_80\": 720.0, \"rank\": 24}, {\"CO_ESCOLA\": 33078866, \"NU_ANO\": 2019, \"NU_NOTA_CN\": 589.5, \"NU_NOTA_CH\": 612.5, \"NU_NOTA_LC\": 603.0, \"NU_NOTA_MT\": 706.5, \"NU_NOTA_REDACAO\": 880.0, \"num_alunos\": 54.0, \"mediana\": 681.5, \"perc_80\": 711.0, \"rank\": 25}, {\"CO_ESCOLA\": 33180539, \"NU_ANO\": 2019, \"NU_NOTA_CN\": 588.5, \"NU_NOTA_CH\": 626.5, \"NU_NOTA_LC\": 600.5, \"NU_NOTA_MT\": 697.0, \"NU_NOTA_REDACAO\": 900.0, \"num_alunos\": 72.0, \"mediana\": 681.0, \"perc_80\": 714.0, \"rank\": 26}, {\"CO_ESCOLA\": 33066752, \"NU_ANO\": 2019, \"NU_NOTA_CN\": 598.5, \"NU_NOTA_CH\": 631.0, \"NU_NOTA_LC\": 602.5, \"NU_NOTA_MT\": 694.5, \"NU_NOTA_REDACAO\": 880.0, \"num_alunos\": 55.0, \"mediana\": 679.0, \"perc_80\": 712.5, \"rank\": 27}, {\"CO_ESCOLA\": 33065411, \"NU_ANO\": 2019, \"NU_NOTA_CN\": 580.0, \"NU_NOTA_CH\": 624.5, \"NU_NOTA_LC\": 608.0, \"NU_NOTA_MT\": 713.0, \"NU_NOTA_REDACAO\": 880.0, \"num_alunos\": 33.0, \"mediana\": 678.0, \"perc_80\": 701.0, \"rank\": 28}, {\"CO_ESCOLA\": 33063648, \"NU_ANO\": 2019, \"NU_NOTA_CN\": 588.0, \"NU_NOTA_CH\": 635.5, \"NU_NOTA_LC\": 615.5, \"NU_NOTA_MT\": 726.0, \"NU_NOTA_REDACAO\": 850.0, \"num_alunos\": 59.0, \"mediana\": 678.0, \"perc_80\": 712.0, \"rank\": 28}, {\"CO_ESCOLA\": 33085897, \"NU_ANO\": 2019, \"NU_NOTA_CN\": 594.5, \"NU_NOTA_CH\": 633.0, \"NU_NOTA_LC\": 606.0, \"NU_NOTA_MT\": 721.0, \"NU_NOTA_REDACAO\": 880.0, \"num_alunos\": 36.0, \"mediana\": 677.5, \"perc_80\": 721.0, \"rank\": 30}, {\"CO_ESCOLA\": 33135827, \"NU_ANO\": 2019, \"NU_NOTA_CN\": 647.5, \"NU_NOTA_CH\": 651.0, \"NU_NOTA_LC\": 627.0, \"NU_NOTA_MT\": 789.0, \"NU_NOTA_REDACAO\": 940.0, \"num_alunos\": 31.0, \"mediana\": 725.0, \"perc_80\": 746.0, \"rank\": 1}, {\"CO_ESCOLA\": 33062633, \"NU_ANO\": 2019, \"NU_NOTA_CN\": 636.5, \"NU_NOTA_CH\": 672.0, \"NU_NOTA_LC\": 626.0, \"NU_NOTA_MT\": 789.5, \"NU_NOTA_REDACAO\": 900.0, \"num_alunos\": 45.0, \"mediana\": 722.0, \"perc_80\": 743.0, \"rank\": 2}, {\"CO_ESCOLA\": 33178860, \"NU_ANO\": 2019, \"NU_NOTA_CN\": 610.0, \"NU_NOTA_CH\": 662.5, \"NU_NOTA_LC\": 626.0, \"NU_NOTA_MT\": 779.0, \"NU_NOTA_REDACAO\": 910.0, \"num_alunos\": 60.0, \"mediana\": 711.5, \"perc_80\": 744.0, \"rank\": 3}, {\"CO_ESCOLA\": 33176825, \"NU_ANO\": 2019, \"NU_NOTA_CN\": 605.5, \"NU_NOTA_CH\": 649.0, \"NU_NOTA_LC\": 620.5, \"NU_NOTA_MT\": 759.0, \"NU_NOTA_REDACAO\": 920.0, \"num_alunos\": 146.0, \"mediana\": 707.0, \"perc_80\": 735.0, \"rank\": 4}, {\"CO_ESCOLA\": 33062609, \"NU_ANO\": 2019, \"NU_NOTA_CN\": 611.5, \"NU_NOTA_CH\": 649.5, \"NU_NOTA_LC\": 612.5, \"NU_NOTA_MT\": 777.5, \"NU_NOTA_REDACAO\": 880.0, \"num_alunos\": 80.0, \"mediana\": 707.0, \"perc_80\": 738.0, \"rank\": 4}, {\"CO_ESCOLA\": 33135371, \"NU_ANO\": 2019, \"NU_NOTA_CN\": 613.0, \"NU_NOTA_CH\": 647.0, \"NU_NOTA_LC\": 620.5, \"NU_NOTA_MT\": 744.0, \"NU_NOTA_REDACAO\": 940.0, \"num_alunos\": 99.0, \"mediana\": 706.0, \"perc_80\": 739.0, \"rank\": 6}, {\"CO_ESCOLA\": 33063729, \"NU_ANO\": 2019, \"NU_NOTA_CN\": 607.5, \"NU_NOTA_CH\": 641.0, \"NU_NOTA_LC\": 609.0, \"NU_NOTA_MT\": 748.0, \"NU_NOTA_REDACAO\": 900.0, \"num_alunos\": 148.0, \"mediana\": 700.0, \"perc_80\": 735.5, \"rank\": 7}, {\"CO_ESCOLA\": 33065403, \"NU_ANO\": 2019, \"NU_NOTA_CN\": 603.0, \"NU_NOTA_CH\": 656.5, \"NU_NOTA_LC\": 623.5, \"NU_NOTA_MT\": 746.5, \"NU_NOTA_REDACAO\": 870.0, \"num_alunos\": 98.0, \"mediana\": 700.0, \"perc_80\": 720.5, \"rank\": 7}, {\"CO_ESCOLA\": 33104220, \"NU_ANO\": 2019, \"NU_NOTA_CN\": 607.5, \"NU_NOTA_CH\": 635.0, \"NU_NOTA_LC\": 599.0, \"NU_NOTA_MT\": 742.5, \"NU_NOTA_REDACAO\": 920.0, \"num_alunos\": 55.0, \"mediana\": 700.0, \"perc_80\": 722.5, \"rank\": 7}, {\"CO_ESCOLA\": 33173990, \"NU_ANO\": 2019, \"NU_NOTA_CN\": 603.0, \"NU_NOTA_CH\": 636.5, \"NU_NOTA_LC\": 614.0, \"NU_NOTA_MT\": 739.5, \"NU_NOTA_REDACAO\": 900.0, \"num_alunos\": 52.0, \"mediana\": 698.5, \"perc_80\": 728.0, \"rank\": 10}, {\"CO_ESCOLA\": 33057206, \"NU_ANO\": 2019, \"NU_NOTA_CN\": 587.0, \"NU_NOTA_CH\": 640.5, \"NU_NOTA_LC\": 614.5, \"NU_NOTA_MT\": 736.0, \"NU_NOTA_REDACAO\": 920.0, \"num_alunos\": 81.0, \"mediana\": 697.0, \"perc_80\": 727.0, \"rank\": 11}, {\"CO_ESCOLA\": 33031371, \"NU_ANO\": 2019, \"NU_NOTA_CN\": 604.5, \"NU_NOTA_CH\": 630.5, \"NU_NOTA_LC\": 602.5, \"NU_NOTA_MT\": 736.0, \"NU_NOTA_REDACAO\": 920.0, \"num_alunos\": 34.0, \"mediana\": 696.5, \"perc_80\": 735.5, \"rank\": 12}, {\"CO_ESCOLA\": 33180385, \"NU_ANO\": 2019, \"NU_NOTA_CN\": 593.0, \"NU_NOTA_CH\": 629.5, \"NU_NOTA_LC\": 608.0, \"NU_NOTA_MT\": 723.0, \"NU_NOTA_REDACAO\": 920.0, \"num_alunos\": 133.0, \"mediana\": 695.0, \"perc_80\": 726.0, \"rank\": 13}, {\"CO_ESCOLA\": 33075425, \"NU_ANO\": 2019, \"NU_NOTA_CN\": 591.0, \"NU_NOTA_CH\": 630.5, \"NU_NOTA_LC\": 621.0, \"NU_NOTA_MT\": 741.5, \"NU_NOTA_REDACAO\": 900.0, \"num_alunos\": 44.0, \"mediana\": 695.0, \"perc_80\": 731.5, \"rank\": 13}, {\"CO_ESCOLA\": 33063419, \"NU_ANO\": 2019, \"NU_NOTA_CN\": 596.5, \"NU_NOTA_CH\": 635.5, \"NU_NOTA_LC\": 612.5, \"NU_NOTA_MT\": 718.5, \"NU_NOTA_REDACAO\": 860.0, \"num_alunos\": 73.0, \"mediana\": 689.0, \"perc_80\": 711.5, \"rank\": 15}, {\"CO_ESCOLA\": 33148376, \"NU_ANO\": 2019, \"NU_NOTA_CN\": 602.5, \"NU_NOTA_CH\": 627.0, \"NU_NOTA_LC\": 603.5, \"NU_NOTA_MT\": 739.0, \"NU_NOTA_REDACAO\": 890.0, \"num_alunos\": 80.0, \"mediana\": 687.5, \"perc_80\": 729.5, \"rank\": 16}, {\"CO_ESCOLA\": 33153450, \"NU_ANO\": 2019, \"NU_NOTA_CN\": 587.5, \"NU_NOTA_CH\": 635.5, \"NU_NOTA_LC\": 609.0, \"NU_NOTA_MT\": 727.0, \"NU_NOTA_REDACAO\": 920.0, \"num_alunos\": 64.0, \"mediana\": 687.5, \"perc_80\": 727.0, \"rank\": 16}, {\"CO_ESCOLA\": 33110034, \"NU_ANO\": 2019, \"NU_NOTA_CN\": 599.0, \"NU_NOTA_CH\": 649.0, \"NU_NOTA_LC\": 620.0, \"NU_NOTA_MT\": 732.0, \"NU_NOTA_REDACAO\": 880.0, \"num_alunos\": 47.0, \"mediana\": 687.0, \"perc_80\": 730.0, \"rank\": 18}, {\"CO_ESCOLA\": 33077029, \"NU_ANO\": 2019, \"NU_NOTA_CN\": 583.0, \"NU_NOTA_CH\": 619.0, \"NU_NOTA_LC\": 598.5, \"NU_NOTA_MT\": 712.0, \"NU_NOTA_REDACAO\": 920.0, \"num_alunos\": 56.0, \"mediana\": 686.5, \"perc_80\": 720.0, \"rank\": 19}, {\"CO_ESCOLA\": 33042578, \"NU_ANO\": 2019, \"NU_NOTA_CN\": 589.5, \"NU_NOTA_CH\": 639.5, \"NU_NOTA_LC\": 609.5, \"NU_NOTA_MT\": 731.0, \"NU_NOTA_REDACAO\": 860.0, \"num_alunos\": 40.0, \"mediana\": 684.5, \"perc_80\": 717.0, \"rank\": 20}, {\"CO_ESCOLA\": 33228604, \"NU_ANO\": 2019, \"NU_NOTA_CN\": 603.0, \"NU_NOTA_CH\": 620.0, \"NU_NOTA_LC\": 602.5, \"NU_NOTA_MT\": 730.0, \"NU_NOTA_REDACAO\": 860.0, \"num_alunos\": 70.0, \"mediana\": 684.5, \"perc_80\": 724.0, \"rank\": 20}, {\"CO_ESCOLA\": 33447225, \"NU_ANO\": 2019, \"NU_NOTA_CN\": 582.5, \"NU_NOTA_CH\": 625.5, \"NU_NOTA_LC\": 606.0, \"NU_NOTA_MT\": 720.5, \"NU_NOTA_REDACAO\": 900.0, \"num_alunos\": 111.0, \"mediana\": 684.0, \"perc_80\": 721.0, \"rank\": 22}, {\"CO_ESCOLA\": 33322201, \"NU_ANO\": 2019, \"NU_NOTA_CN\": 585.0, \"NU_NOTA_CH\": 629.5, \"NU_NOTA_LC\": 611.5, \"NU_NOTA_MT\": 681.0, \"NU_NOTA_REDACAO\": 900.0, \"num_alunos\": 154.0, \"mediana\": 683.5, \"perc_80\": 706.0, \"rank\": 23}, {\"CO_ESCOLA\": 33105405, \"NU_ANO\": 2019, \"NU_NOTA_CN\": 593.0, \"NU_NOTA_CH\": 626.0, \"NU_NOTA_LC\": 604.0, \"NU_NOTA_MT\": 704.5, \"NU_NOTA_REDACAO\": 860.0, \"num_alunos\": 120.0, \"mediana\": 682.0, \"perc_80\": 720.0, \"rank\": 24}, {\"CO_ESCOLA\": 33078866, \"NU_ANO\": 2019, \"NU_NOTA_CN\": 589.5, \"NU_NOTA_CH\": 612.5, \"NU_NOTA_LC\": 603.0, \"NU_NOTA_MT\": 706.5, \"NU_NOTA_REDACAO\": 880.0, \"num_alunos\": 54.0, \"mediana\": 681.5, \"perc_80\": 711.0, \"rank\": 25}, {\"CO_ESCOLA\": 33180539, \"NU_ANO\": 2019, \"NU_NOTA_CN\": 588.5, \"NU_NOTA_CH\": 626.5, \"NU_NOTA_LC\": 600.5, \"NU_NOTA_MT\": 697.0, \"NU_NOTA_REDACAO\": 900.0, \"num_alunos\": 72.0, \"mediana\": 681.0, \"perc_80\": 714.0, \"rank\": 26}, {\"CO_ESCOLA\": 33066752, \"NU_ANO\": 2019, \"NU_NOTA_CN\": 598.5, \"NU_NOTA_CH\": 631.0, \"NU_NOTA_LC\": 602.5, \"NU_NOTA_MT\": 694.5, \"NU_NOTA_REDACAO\": 880.0, \"num_alunos\": 55.0, \"mediana\": 679.0, \"perc_80\": 712.5, \"rank\": 27}, {\"CO_ESCOLA\": 33065411, \"NU_ANO\": 2019, \"NU_NOTA_CN\": 580.0, \"NU_NOTA_CH\": 624.5, \"NU_NOTA_LC\": 608.0, \"NU_NOTA_MT\": 713.0, \"NU_NOTA_REDACAO\": 880.0, \"num_alunos\": 33.0, \"mediana\": 678.0, \"perc_80\": 701.0, \"rank\": 28}, {\"CO_ESCOLA\": 33063648, \"NU_ANO\": 2019, \"NU_NOTA_CN\": 588.0, \"NU_NOTA_CH\": 635.5, \"NU_NOTA_LC\": 615.5, \"NU_NOTA_MT\": 726.0, \"NU_NOTA_REDACAO\": 850.0, \"num_alunos\": 59.0, \"mediana\": 678.0, \"perc_80\": 712.0, \"rank\": 28}, {\"CO_ESCOLA\": 33085897, \"NU_ANO\": 2019, \"NU_NOTA_CN\": 594.5, \"NU_NOTA_CH\": 633.0, \"NU_NOTA_LC\": 606.0, \"NU_NOTA_MT\": 721.0, \"NU_NOTA_REDACAO\": 880.0, \"num_alunos\": 36.0, \"mediana\": 677.5, \"perc_80\": 721.0, \"rank\": 30}, {\"CO_ESCOLA\": 33135827, \"NU_ANO\": 2019, \"NU_NOTA_CN\": 647.5, \"NU_NOTA_CH\": 651.0, \"NU_NOTA_LC\": 627.0, \"NU_NOTA_MT\": 789.0, \"NU_NOTA_REDACAO\": 940.0, \"num_alunos\": 31.0, \"mediana\": 725.0, \"perc_80\": 746.0, \"rank\": 1}, {\"CO_ESCOLA\": 33062633, \"NU_ANO\": 2019, \"NU_NOTA_CN\": 636.5, \"NU_NOTA_CH\": 672.0, \"NU_NOTA_LC\": 626.0, \"NU_NOTA_MT\": 789.5, \"NU_NOTA_REDACAO\": 900.0, \"num_alunos\": 45.0, \"mediana\": 722.0, \"perc_80\": 743.0, \"rank\": 2}, {\"CO_ESCOLA\": 33178860, \"NU_ANO\": 2019, \"NU_NOTA_CN\": 610.0, \"NU_NOTA_CH\": 662.5, \"NU_NOTA_LC\": 626.0, \"NU_NOTA_MT\": 779.0, \"NU_NOTA_REDACAO\": 910.0, \"num_alunos\": 60.0, \"mediana\": 711.5, \"perc_80\": 744.0, \"rank\": 3}, {\"CO_ESCOLA\": 33176825, \"NU_ANO\": 2019, \"NU_NOTA_CN\": 605.5, \"NU_NOTA_CH\": 649.0, \"NU_NOTA_LC\": 620.5, \"NU_NOTA_MT\": 759.0, \"NU_NOTA_REDACAO\": 920.0, \"num_alunos\": 146.0, \"mediana\": 707.0, \"perc_80\": 735.0, \"rank\": 4}, {\"CO_ESCOLA\": 33062609, \"NU_ANO\": 2019, \"NU_NOTA_CN\": 611.5, \"NU_NOTA_CH\": 649.5, \"NU_NOTA_LC\": 612.5, \"NU_NOTA_MT\": 777.5, \"NU_NOTA_REDACAO\": 880.0, \"num_alunos\": 80.0, \"mediana\": 707.0, \"perc_80\": 738.0, \"rank\": 4}, {\"CO_ESCOLA\": 33135371, \"NU_ANO\": 2019, \"NU_NOTA_CN\": 613.0, \"NU_NOTA_CH\": 647.0, \"NU_NOTA_LC\": 620.5, \"NU_NOTA_MT\": 744.0, \"NU_NOTA_REDACAO\": 940.0, \"num_alunos\": 99.0, \"mediana\": 706.0, \"perc_80\": 739.0, \"rank\": 6}, {\"CO_ESCOLA\": 33063729, \"NU_ANO\": 2019, \"NU_NOTA_CN\": 607.5, \"NU_NOTA_CH\": 641.0, \"NU_NOTA_LC\": 609.0, \"NU_NOTA_MT\": 748.0, \"NU_NOTA_REDACAO\": 900.0, \"num_alunos\": 148.0, \"mediana\": 700.0, \"perc_80\": 735.5, \"rank\": 7}, {\"CO_ESCOLA\": 33065403, \"NU_ANO\": 2019, \"NU_NOTA_CN\": 603.0, \"NU_NOTA_CH\": 656.5, \"NU_NOTA_LC\": 623.5, \"NU_NOTA_MT\": 746.5, \"NU_NOTA_REDACAO\": 870.0, \"num_alunos\": 98.0, \"mediana\": 700.0, \"perc_80\": 720.5, \"rank\": 7}, {\"CO_ESCOLA\": 33104220, \"NU_ANO\": 2019, \"NU_NOTA_CN\": 607.5, \"NU_NOTA_CH\": 635.0, \"NU_NOTA_LC\": 599.0, \"NU_NOTA_MT\": 742.5, \"NU_NOTA_REDACAO\": 920.0, \"num_alunos\": 55.0, \"mediana\": 700.0, \"perc_80\": 722.5, \"rank\": 7}, {\"CO_ESCOLA\": 33173990, \"NU_ANO\": 2019, \"NU_NOTA_CN\": 603.0, \"NU_NOTA_CH\": 636.5, \"NU_NOTA_LC\": 614.0, \"NU_NOTA_MT\": 739.5, \"NU_NOTA_REDACAO\": 900.0, \"num_alunos\": 52.0, \"mediana\": 698.5, \"perc_80\": 728.0, \"rank\": 10}, {\"CO_ESCOLA\": 33057206, \"NU_ANO\": 2019, \"NU_NOTA_CN\": 587.0, \"NU_NOTA_CH\": 640.5, \"NU_NOTA_LC\": 614.5, \"NU_NOTA_MT\": 736.0, \"NU_NOTA_REDACAO\": 920.0, \"num_alunos\": 81.0, \"mediana\": 697.0, \"perc_80\": 727.0, \"rank\": 11}, {\"CO_ESCOLA\": 33031371, \"NU_ANO\": 2019, \"NU_NOTA_CN\": 604.5, \"NU_NOTA_CH\": 630.5, \"NU_NOTA_LC\": 602.5, \"NU_NOTA_MT\": 736.0, \"NU_NOTA_REDACAO\": 920.0, \"num_alunos\": 34.0, \"mediana\": 696.5, \"perc_80\": 735.5, \"rank\": 12}, {\"CO_ESCOLA\": 33180385, \"NU_ANO\": 2019, \"NU_NOTA_CN\": 593.0, \"NU_NOTA_CH\": 629.5, \"NU_NOTA_LC\": 608.0, \"NU_NOTA_MT\": 723.0, \"NU_NOTA_REDACAO\": 920.0, \"num_alunos\": 133.0, \"mediana\": 695.0, \"perc_80\": 726.0, \"rank\": 13}, {\"CO_ESCOLA\": 33075425, \"NU_ANO\": 2019, \"NU_NOTA_CN\": 591.0, \"NU_NOTA_CH\": 630.5, \"NU_NOTA_LC\": 621.0, \"NU_NOTA_MT\": 741.5, \"NU_NOTA_REDACAO\": 900.0, \"num_alunos\": 44.0, \"mediana\": 695.0, \"perc_80\": 731.5, \"rank\": 13}, {\"CO_ESCOLA\": 33063419, \"NU_ANO\": 2019, \"NU_NOTA_CN\": 596.5, \"NU_NOTA_CH\": 635.5, \"NU_NOTA_LC\": 612.5, \"NU_NOTA_MT\": 718.5, \"NU_NOTA_REDACAO\": 860.0, \"num_alunos\": 73.0, \"mediana\": 689.0, \"perc_80\": 711.5, \"rank\": 15}, {\"CO_ESCOLA\": 33148376, \"NU_ANO\": 2019, \"NU_NOTA_CN\": 602.5, \"NU_NOTA_CH\": 627.0, \"NU_NOTA_LC\": 603.5, \"NU_NOTA_MT\": 739.0, \"NU_NOTA_REDACAO\": 890.0, \"num_alunos\": 80.0, \"mediana\": 687.5, \"perc_80\": 729.5, \"rank\": 16}, {\"CO_ESCOLA\": 33153450, \"NU_ANO\": 2019, \"NU_NOTA_CN\": 587.5, \"NU_NOTA_CH\": 635.5, \"NU_NOTA_LC\": 609.0, \"NU_NOTA_MT\": 727.0, \"NU_NOTA_REDACAO\": 920.0, \"num_alunos\": 64.0, \"mediana\": 687.5, \"perc_80\": 727.0, \"rank\": 16}, {\"CO_ESCOLA\": 33110034, \"NU_ANO\": 2019, \"NU_NOTA_CN\": 599.0, \"NU_NOTA_CH\": 649.0, \"NU_NOTA_LC\": 620.0, \"NU_NOTA_MT\": 732.0, \"NU_NOTA_REDACAO\": 880.0, \"num_alunos\": 47.0, \"mediana\": 687.0, \"perc_80\": 730.0, \"rank\": 18}, {\"CO_ESCOLA\": 33077029, \"NU_ANO\": 2019, \"NU_NOTA_CN\": 583.0, \"NU_NOTA_CH\": 619.0, \"NU_NOTA_LC\": 598.5, \"NU_NOTA_MT\": 712.0, \"NU_NOTA_REDACAO\": 920.0, \"num_alunos\": 56.0, \"mediana\": 686.5, \"perc_80\": 720.0, \"rank\": 19}, {\"CO_ESCOLA\": 33042578, \"NU_ANO\": 2019, \"NU_NOTA_CN\": 589.5, \"NU_NOTA_CH\": 639.5, \"NU_NOTA_LC\": 609.5, \"NU_NOTA_MT\": 731.0, \"NU_NOTA_REDACAO\": 860.0, \"num_alunos\": 40.0, \"mediana\": 684.5, \"perc_80\": 717.0, \"rank\": 20}, {\"CO_ESCOLA\": 33228604, \"NU_ANO\": 2019, \"NU_NOTA_CN\": 603.0, \"NU_NOTA_CH\": 620.0, \"NU_NOTA_LC\": 602.5, \"NU_NOTA_MT\": 730.0, \"NU_NOTA_REDACAO\": 860.0, \"num_alunos\": 70.0, \"mediana\": 684.5, \"perc_80\": 724.0, \"rank\": 20}, {\"CO_ESCOLA\": 33447225, \"NU_ANO\": 2019, \"NU_NOTA_CN\": 582.5, \"NU_NOTA_CH\": 625.5, \"NU_NOTA_LC\": 606.0, \"NU_NOTA_MT\": 720.5, \"NU_NOTA_REDACAO\": 900.0, \"num_alunos\": 111.0, \"mediana\": 684.0, \"perc_80\": 721.0, \"rank\": 22}, {\"CO_ESCOLA\": 33322201, \"NU_ANO\": 2019, \"NU_NOTA_CN\": 585.0, \"NU_NOTA_CH\": 629.5, \"NU_NOTA_LC\": 611.5, \"NU_NOTA_MT\": 681.0, \"NU_NOTA_REDACAO\": 900.0, \"num_alunos\": 154.0, \"mediana\": 683.5, \"perc_80\": 706.0, \"rank\": 23}, {\"CO_ESCOLA\": 33105405, \"NU_ANO\": 2019, \"NU_NOTA_CN\": 593.0, \"NU_NOTA_CH\": 626.0, \"NU_NOTA_LC\": 604.0, \"NU_NOTA_MT\": 704.5, \"NU_NOTA_REDACAO\": 860.0, \"num_alunos\": 120.0, \"mediana\": 682.0, \"perc_80\": 720.0, \"rank\": 24}, {\"CO_ESCOLA\": 33078866, \"NU_ANO\": 2019, \"NU_NOTA_CN\": 589.5, \"NU_NOTA_CH\": 612.5, \"NU_NOTA_LC\": 603.0, \"NU_NOTA_MT\": 706.5, \"NU_NOTA_REDACAO\": 880.0, \"num_alunos\": 54.0, \"mediana\": 681.5, \"perc_80\": 711.0, \"rank\": 25}, {\"CO_ESCOLA\": 33180539, \"NU_ANO\": 2019, \"NU_NOTA_CN\": 588.5, \"NU_NOTA_CH\": 626.5, \"NU_NOTA_LC\": 600.5, \"NU_NOTA_MT\": 697.0, \"NU_NOTA_REDACAO\": 900.0, \"num_alunos\": 72.0, \"mediana\": 681.0, \"perc_80\": 714.0, \"rank\": 26}, {\"CO_ESCOLA\": 33066752, \"NU_ANO\": 2019, \"NU_NOTA_CN\": 598.5, \"NU_NOTA_CH\": 631.0, \"NU_NOTA_LC\": 602.5, \"NU_NOTA_MT\": 694.5, \"NU_NOTA_REDACAO\": 880.0, \"num_alunos\": 55.0, \"mediana\": 679.0, \"perc_80\": 712.5, \"rank\": 27}, {\"CO_ESCOLA\": 33065411, \"NU_ANO\": 2019, \"NU_NOTA_CN\": 580.0, \"NU_NOTA_CH\": 624.5, \"NU_NOTA_LC\": 608.0, \"NU_NOTA_MT\": 713.0, \"NU_NOTA_REDACAO\": 880.0, \"num_alunos\": 33.0, \"mediana\": 678.0, \"perc_80\": 701.0, \"rank\": 28}, {\"CO_ESCOLA\": 33063648, \"NU_ANO\": 2019, \"NU_NOTA_CN\": 588.0, \"NU_NOTA_CH\": 635.5, \"NU_NOTA_LC\": 615.5, \"NU_NOTA_MT\": 726.0, \"NU_NOTA_REDACAO\": 850.0, \"num_alunos\": 59.0, \"mediana\": 678.0, \"perc_80\": 712.0, \"rank\": 28}, {\"CO_ESCOLA\": 33085897, \"NU_ANO\": 2019, \"NU_NOTA_CN\": 594.5, \"NU_NOTA_CH\": 633.0, \"NU_NOTA_LC\": 606.0, \"NU_NOTA_MT\": 721.0, \"NU_NOTA_REDACAO\": 880.0, \"num_alunos\": 36.0, \"mediana\": 677.5, \"perc_80\": 721.0, \"rank\": 30}, {\"CO_ESCOLA\": 33135827, \"NU_ANO\": 2019, \"NU_NOTA_CN\": 647.5, \"NU_NOTA_CH\": 651.0, \"NU_NOTA_LC\": 627.0, \"NU_NOTA_MT\": 789.0, \"NU_NOTA_REDACAO\": 940.0, \"num_alunos\": 31.0, \"mediana\": 725.0, \"perc_80\": 746.0, \"rank\": 1}, {\"CO_ESCOLA\": 33062633, \"NU_ANO\": 2019, \"NU_NOTA_CN\": 636.5, \"NU_NOTA_CH\": 672.0, \"NU_NOTA_LC\": 626.0, \"NU_NOTA_MT\": 789.5, \"NU_NOTA_REDACAO\": 900.0, \"num_alunos\": 45.0, \"mediana\": 722.0, \"perc_80\": 743.0, \"rank\": 2}, {\"CO_ESCOLA\": 33178860, \"NU_ANO\": 2019, \"NU_NOTA_CN\": 610.0, \"NU_NOTA_CH\": 662.5, \"NU_NOTA_LC\": 626.0, \"NU_NOTA_MT\": 779.0, \"NU_NOTA_REDACAO\": 910.0, \"num_alunos\": 60.0, \"mediana\": 711.5, \"perc_80\": 744.0, \"rank\": 3}, {\"CO_ESCOLA\": 33176825, \"NU_ANO\": 2019, \"NU_NOTA_CN\": 605.5, \"NU_NOTA_CH\": 649.0, \"NU_NOTA_LC\": 620.5, \"NU_NOTA_MT\": 759.0, \"NU_NOTA_REDACAO\": 920.0, \"num_alunos\": 146.0, \"mediana\": 707.0, \"perc_80\": 735.0, \"rank\": 4}, {\"CO_ESCOLA\": 33062609, \"NU_ANO\": 2019, \"NU_NOTA_CN\": 611.5, \"NU_NOTA_CH\": 649.5, \"NU_NOTA_LC\": 612.5, \"NU_NOTA_MT\": 777.5, \"NU_NOTA_REDACAO\": 880.0, \"num_alunos\": 80.0, \"mediana\": 707.0, \"perc_80\": 738.0, \"rank\": 4}, {\"CO_ESCOLA\": 33135371, \"NU_ANO\": 2019, \"NU_NOTA_CN\": 613.0, \"NU_NOTA_CH\": 647.0, \"NU_NOTA_LC\": 620.5, \"NU_NOTA_MT\": 744.0, \"NU_NOTA_REDACAO\": 940.0, \"num_alunos\": 99.0, \"mediana\": 706.0, \"perc_80\": 739.0, \"rank\": 6}, {\"CO_ESCOLA\": 33063729, \"NU_ANO\": 2019, \"NU_NOTA_CN\": 607.5, \"NU_NOTA_CH\": 641.0, \"NU_NOTA_LC\": 609.0, \"NU_NOTA_MT\": 748.0, \"NU_NOTA_REDACAO\": 900.0, \"num_alunos\": 148.0, \"mediana\": 700.0, \"perc_80\": 735.5, \"rank\": 7}, {\"CO_ESCOLA\": 33065403, \"NU_ANO\": 2019, \"NU_NOTA_CN\": 603.0, \"NU_NOTA_CH\": 656.5, \"NU_NOTA_LC\": 623.5, \"NU_NOTA_MT\": 746.5, \"NU_NOTA_REDACAO\": 870.0, \"num_alunos\": 98.0, \"mediana\": 700.0, \"perc_80\": 720.5, \"rank\": 7}, {\"CO_ESCOLA\": 33104220, \"NU_ANO\": 2019, \"NU_NOTA_CN\": 607.5, \"NU_NOTA_CH\": 635.0, \"NU_NOTA_LC\": 599.0, \"NU_NOTA_MT\": 742.5, \"NU_NOTA_REDACAO\": 920.0, \"num_alunos\": 55.0, \"mediana\": 700.0, \"perc_80\": 722.5, \"rank\": 7}, {\"CO_ESCOLA\": 33173990, \"NU_ANO\": 2019, \"NU_NOTA_CN\": 603.0, \"NU_NOTA_CH\": 636.5, \"NU_NOTA_LC\": 614.0, \"NU_NOTA_MT\": 739.5, \"NU_NOTA_REDACAO\": 900.0, \"num_alunos\": 52.0, \"mediana\": 698.5, \"perc_80\": 728.0, \"rank\": 10}, {\"CO_ESCOLA\": 33057206, \"NU_ANO\": 2019, \"NU_NOTA_CN\": 587.0, \"NU_NOTA_CH\": 640.5, \"NU_NOTA_LC\": 614.5, \"NU_NOTA_MT\": 736.0, \"NU_NOTA_REDACAO\": 920.0, \"num_alunos\": 81.0, \"mediana\": 697.0, \"perc_80\": 727.0, \"rank\": 11}, {\"CO_ESCOLA\": 33031371, \"NU_ANO\": 2019, \"NU_NOTA_CN\": 604.5, \"NU_NOTA_CH\": 630.5, \"NU_NOTA_LC\": 602.5, \"NU_NOTA_MT\": 736.0, \"NU_NOTA_REDACAO\": 920.0, \"num_alunos\": 34.0, \"mediana\": 696.5, \"perc_80\": 735.5, \"rank\": 12}, {\"CO_ESCOLA\": 33180385, \"NU_ANO\": 2019, \"NU_NOTA_CN\": 593.0, \"NU_NOTA_CH\": 629.5, \"NU_NOTA_LC\": 608.0, \"NU_NOTA_MT\": 723.0, \"NU_NOTA_REDACAO\": 920.0, \"num_alunos\": 133.0, \"mediana\": 695.0, \"perc_80\": 726.0, \"rank\": 13}, {\"CO_ESCOLA\": 33075425, \"NU_ANO\": 2019, \"NU_NOTA_CN\": 591.0, \"NU_NOTA_CH\": 630.5, \"NU_NOTA_LC\": 621.0, \"NU_NOTA_MT\": 741.5, \"NU_NOTA_REDACAO\": 900.0, \"num_alunos\": 44.0, \"mediana\": 695.0, \"perc_80\": 731.5, \"rank\": 13}, {\"CO_ESCOLA\": 33063419, \"NU_ANO\": 2019, \"NU_NOTA_CN\": 596.5, \"NU_NOTA_CH\": 635.5, \"NU_NOTA_LC\": 612.5, \"NU_NOTA_MT\": 718.5, \"NU_NOTA_REDACAO\": 860.0, \"num_alunos\": 73.0, \"mediana\": 689.0, \"perc_80\": 711.5, \"rank\": 15}, {\"CO_ESCOLA\": 33148376, \"NU_ANO\": 2019, \"NU_NOTA_CN\": 602.5, \"NU_NOTA_CH\": 627.0, \"NU_NOTA_LC\": 603.5, \"NU_NOTA_MT\": 739.0, \"NU_NOTA_REDACAO\": 890.0, \"num_alunos\": 80.0, \"mediana\": 687.5, \"perc_80\": 729.5, \"rank\": 16}, {\"CO_ESCOLA\": 33153450, \"NU_ANO\": 2019, \"NU_NOTA_CN\": 587.5, \"NU_NOTA_CH\": 635.5, \"NU_NOTA_LC\": 609.0, \"NU_NOTA_MT\": 727.0, \"NU_NOTA_REDACAO\": 920.0, \"num_alunos\": 64.0, \"mediana\": 687.5, \"perc_80\": 727.0, \"rank\": 16}, {\"CO_ESCOLA\": 33110034, \"NU_ANO\": 2019, \"NU_NOTA_CN\": 599.0, \"NU_NOTA_CH\": 649.0, \"NU_NOTA_LC\": 620.0, \"NU_NOTA_MT\": 732.0, \"NU_NOTA_REDACAO\": 880.0, \"num_alunos\": 47.0, \"mediana\": 687.0, \"perc_80\": 730.0, \"rank\": 18}, {\"CO_ESCOLA\": 33077029, \"NU_ANO\": 2019, \"NU_NOTA_CN\": 583.0, \"NU_NOTA_CH\": 619.0, \"NU_NOTA_LC\": 598.5, \"NU_NOTA_MT\": 712.0, \"NU_NOTA_REDACAO\": 920.0, \"num_alunos\": 56.0, \"mediana\": 686.5, \"perc_80\": 720.0, \"rank\": 19}, {\"CO_ESCOLA\": 33042578, \"NU_ANO\": 2019, \"NU_NOTA_CN\": 589.5, \"NU_NOTA_CH\": 639.5, \"NU_NOTA_LC\": 609.5, \"NU_NOTA_MT\": 731.0, \"NU_NOTA_REDACAO\": 860.0, \"num_alunos\": 40.0, \"mediana\": 684.5, \"perc_80\": 717.0, \"rank\": 20}, {\"CO_ESCOLA\": 33228604, \"NU_ANO\": 2019, \"NU_NOTA_CN\": 603.0, \"NU_NOTA_CH\": 620.0, \"NU_NOTA_LC\": 602.5, \"NU_NOTA_MT\": 730.0, \"NU_NOTA_REDACAO\": 860.0, \"num_alunos\": 70.0, \"mediana\": 684.5, \"perc_80\": 724.0, \"rank\": 20}, {\"CO_ESCOLA\": 33447225, \"NU_ANO\": 2019, \"NU_NOTA_CN\": 582.5, \"NU_NOTA_CH\": 625.5, \"NU_NOTA_LC\": 606.0, \"NU_NOTA_MT\": 720.5, \"NU_NOTA_REDACAO\": 900.0, \"num_alunos\": 111.0, \"mediana\": 684.0, \"perc_80\": 721.0, \"rank\": 22}, {\"CO_ESCOLA\": 33322201, \"NU_ANO\": 2019, \"NU_NOTA_CN\": 585.0, \"NU_NOTA_CH\": 629.5, \"NU_NOTA_LC\": 611.5, \"NU_NOTA_MT\": 681.0, \"NU_NOTA_REDACAO\": 900.0, \"num_alunos\": 154.0, \"mediana\": 683.5, \"perc_80\": 706.0, \"rank\": 23}, {\"CO_ESCOLA\": 33105405, \"NU_ANO\": 2019, \"NU_NOTA_CN\": 593.0, \"NU_NOTA_CH\": 626.0, \"NU_NOTA_LC\": 604.0, \"NU_NOTA_MT\": 704.5, \"NU_NOTA_REDACAO\": 860.0, \"num_alunos\": 120.0, \"mediana\": 682.0, \"perc_80\": 720.0, \"rank\": 24}, {\"CO_ESCOLA\": 33078866, \"NU_ANO\": 2019, \"NU_NOTA_CN\": 589.5, \"NU_NOTA_CH\": 612.5, \"NU_NOTA_LC\": 603.0, \"NU_NOTA_MT\": 706.5, \"NU_NOTA_REDACAO\": 880.0, \"num_alunos\": 54.0, \"mediana\": 681.5, \"perc_80\": 711.0, \"rank\": 25}, {\"CO_ESCOLA\": 33180539, \"NU_ANO\": 2019, \"NU_NOTA_CN\": 588.5, \"NU_NOTA_CH\": 626.5, \"NU_NOTA_LC\": 600.5, \"NU_NOTA_MT\": 697.0, \"NU_NOTA_REDACAO\": 900.0, \"num_alunos\": 72.0, \"mediana\": 681.0, \"perc_80\": 714.0, \"rank\": 26}, {\"CO_ESCOLA\": 33066752, \"NU_ANO\": 2019, \"NU_NOTA_CN\": 598.5, \"NU_NOTA_CH\": 631.0, \"NU_NOTA_LC\": 602.5, \"NU_NOTA_MT\": 694.5, \"NU_NOTA_REDACAO\": 880.0, \"num_alunos\": 55.0, \"mediana\": 679.0, \"perc_80\": 712.5, \"rank\": 27}, {\"CO_ESCOLA\": 33065411, \"NU_ANO\": 2019, \"NU_NOTA_CN\": 580.0, \"NU_NOTA_CH\": 624.5, \"NU_NOTA_LC\": 608.0, \"NU_NOTA_MT\": 713.0, \"NU_NOTA_REDACAO\": 880.0, \"num_alunos\": 33.0, \"mediana\": 678.0, \"perc_80\": 701.0, \"rank\": 28}, {\"CO_ESCOLA\": 33063648, \"NU_ANO\": 2019, \"NU_NOTA_CN\": 588.0, \"NU_NOTA_CH\": 635.5, \"NU_NOTA_LC\": 615.5, \"NU_NOTA_MT\": 726.0, \"NU_NOTA_REDACAO\": 850.0, \"num_alunos\": 59.0, \"mediana\": 678.0, \"perc_80\": 712.0, \"rank\": 28}, {\"CO_ESCOLA\": 33085897, \"NU_ANO\": 2019, \"NU_NOTA_CN\": 594.5, \"NU_NOTA_CH\": 633.0, \"NU_NOTA_LC\": 606.0, \"NU_NOTA_MT\": 721.0, \"NU_NOTA_REDACAO\": 880.0, \"num_alunos\": 36.0, \"mediana\": 677.5, \"perc_80\": 721.0, \"rank\": 30}, {\"CO_ESCOLA\": 33135827, \"NU_ANO\": 2019, \"NU_NOTA_CN\": 647.5, \"NU_NOTA_CH\": 651.0, \"NU_NOTA_LC\": 627.0, \"NU_NOTA_MT\": 789.0, \"NU_NOTA_REDACAO\": 940.0, \"num_alunos\": 31.0, \"mediana\": 725.0, \"perc_80\": 746.0, \"rank\": 1}, {\"CO_ESCOLA\": 33062633, \"NU_ANO\": 2019, \"NU_NOTA_CN\": 636.5, \"NU_NOTA_CH\": 672.0, \"NU_NOTA_LC\": 626.0, \"NU_NOTA_MT\": 789.5, \"NU_NOTA_REDACAO\": 900.0, \"num_alunos\": 45.0, \"mediana\": 722.0, \"perc_80\": 743.0, \"rank\": 2}, {\"CO_ESCOLA\": 33178860, \"NU_ANO\": 2019, \"NU_NOTA_CN\": 610.0, \"NU_NOTA_CH\": 662.5, \"NU_NOTA_LC\": 626.0, \"NU_NOTA_MT\": 779.0, \"NU_NOTA_REDACAO\": 910.0, \"num_alunos\": 60.0, \"mediana\": 711.5, \"perc_80\": 744.0, \"rank\": 3}, {\"CO_ESCOLA\": 33176825, \"NU_ANO\": 2019, \"NU_NOTA_CN\": 605.5, \"NU_NOTA_CH\": 649.0, \"NU_NOTA_LC\": 620.5, \"NU_NOTA_MT\": 759.0, \"NU_NOTA_REDACAO\": 920.0, \"num_alunos\": 146.0, \"mediana\": 707.0, \"perc_80\": 735.0, \"rank\": 4}, {\"CO_ESCOLA\": 33062609, \"NU_ANO\": 2019, \"NU_NOTA_CN\": 611.5, \"NU_NOTA_CH\": 649.5, \"NU_NOTA_LC\": 612.5, \"NU_NOTA_MT\": 777.5, \"NU_NOTA_REDACAO\": 880.0, \"num_alunos\": 80.0, \"mediana\": 707.0, \"perc_80\": 738.0, \"rank\": 4}, {\"CO_ESCOLA\": 33135371, \"NU_ANO\": 2019, \"NU_NOTA_CN\": 613.0, \"NU_NOTA_CH\": 647.0, \"NU_NOTA_LC\": 620.5, \"NU_NOTA_MT\": 744.0, \"NU_NOTA_REDACAO\": 940.0, \"num_alunos\": 99.0, \"mediana\": 706.0, \"perc_80\": 739.0, \"rank\": 6}, {\"CO_ESCOLA\": 33063729, \"NU_ANO\": 2019, \"NU_NOTA_CN\": 607.5, \"NU_NOTA_CH\": 641.0, \"NU_NOTA_LC\": 609.0, \"NU_NOTA_MT\": 748.0, \"NU_NOTA_REDACAO\": 900.0, \"num_alunos\": 148.0, \"mediana\": 700.0, \"perc_80\": 735.5, \"rank\": 7}, {\"CO_ESCOLA\": 33065403, \"NU_ANO\": 2019, \"NU_NOTA_CN\": 603.0, \"NU_NOTA_CH\": 656.5, \"NU_NOTA_LC\": 623.5, \"NU_NOTA_MT\": 746.5, \"NU_NOTA_REDACAO\": 870.0, \"num_alunos\": 98.0, \"mediana\": 700.0, \"perc_80\": 720.5, \"rank\": 7}, {\"CO_ESCOLA\": 33104220, \"NU_ANO\": 2019, \"NU_NOTA_CN\": 607.5, \"NU_NOTA_CH\": 635.0, \"NU_NOTA_LC\": 599.0, \"NU_NOTA_MT\": 742.5, \"NU_NOTA_REDACAO\": 920.0, \"num_alunos\": 55.0, \"mediana\": 700.0, \"perc_80\": 722.5, \"rank\": 7}, {\"CO_ESCOLA\": 33173990, \"NU_ANO\": 2019, \"NU_NOTA_CN\": 603.0, \"NU_NOTA_CH\": 636.5, \"NU_NOTA_LC\": 614.0, \"NU_NOTA_MT\": 739.5, \"NU_NOTA_REDACAO\": 900.0, \"num_alunos\": 52.0, \"mediana\": 698.5, \"perc_80\": 728.0, \"rank\": 10}, {\"CO_ESCOLA\": 33057206, \"NU_ANO\": 2019, \"NU_NOTA_CN\": 587.0, \"NU_NOTA_CH\": 640.5, \"NU_NOTA_LC\": 614.5, \"NU_NOTA_MT\": 736.0, \"NU_NOTA_REDACAO\": 920.0, \"num_alunos\": 81.0, \"mediana\": 697.0, \"perc_80\": 727.0, \"rank\": 11}, {\"CO_ESCOLA\": 33031371, \"NU_ANO\": 2019, \"NU_NOTA_CN\": 604.5, \"NU_NOTA_CH\": 630.5, \"NU_NOTA_LC\": 602.5, \"NU_NOTA_MT\": 736.0, \"NU_NOTA_REDACAO\": 920.0, \"num_alunos\": 34.0, \"mediana\": 696.5, \"perc_80\": 735.5, \"rank\": 12}, {\"CO_ESCOLA\": 33180385, \"NU_ANO\": 2019, \"NU_NOTA_CN\": 593.0, \"NU_NOTA_CH\": 629.5, \"NU_NOTA_LC\": 608.0, \"NU_NOTA_MT\": 723.0, \"NU_NOTA_REDACAO\": 920.0, \"num_alunos\": 133.0, \"mediana\": 695.0, \"perc_80\": 726.0, \"rank\": 13}, {\"CO_ESCOLA\": 33075425, \"NU_ANO\": 2019, \"NU_NOTA_CN\": 591.0, \"NU_NOTA_CH\": 630.5, \"NU_NOTA_LC\": 621.0, \"NU_NOTA_MT\": 741.5, \"NU_NOTA_REDACAO\": 900.0, \"num_alunos\": 44.0, \"mediana\": 695.0, \"perc_80\": 731.5, \"rank\": 13}, {\"CO_ESCOLA\": 33063419, \"NU_ANO\": 2019, \"NU_NOTA_CN\": 596.5, \"NU_NOTA_CH\": 635.5, \"NU_NOTA_LC\": 612.5, \"NU_NOTA_MT\": 718.5, \"NU_NOTA_REDACAO\": 860.0, \"num_alunos\": 73.0, \"mediana\": 689.0, \"perc_80\": 711.5, \"rank\": 15}, {\"CO_ESCOLA\": 33148376, \"NU_ANO\": 2019, \"NU_NOTA_CN\": 602.5, \"NU_NOTA_CH\": 627.0, \"NU_NOTA_LC\": 603.5, \"NU_NOTA_MT\": 739.0, \"NU_NOTA_REDACAO\": 890.0, \"num_alunos\": 80.0, \"mediana\": 687.5, \"perc_80\": 729.5, \"rank\": 16}, {\"CO_ESCOLA\": 33153450, \"NU_ANO\": 2019, \"NU_NOTA_CN\": 587.5, \"NU_NOTA_CH\": 635.5, \"NU_NOTA_LC\": 609.0, \"NU_NOTA_MT\": 727.0, \"NU_NOTA_REDACAO\": 920.0, \"num_alunos\": 64.0, \"mediana\": 687.5, \"perc_80\": 727.0, \"rank\": 16}, {\"CO_ESCOLA\": 33110034, \"NU_ANO\": 2019, \"NU_NOTA_CN\": 599.0, \"NU_NOTA_CH\": 649.0, \"NU_NOTA_LC\": 620.0, \"NU_NOTA_MT\": 732.0, \"NU_NOTA_REDACAO\": 880.0, \"num_alunos\": 47.0, \"mediana\": 687.0, \"perc_80\": 730.0, \"rank\": 18}, {\"CO_ESCOLA\": 33077029, \"NU_ANO\": 2019, \"NU_NOTA_CN\": 583.0, \"NU_NOTA_CH\": 619.0, \"NU_NOTA_LC\": 598.5, \"NU_NOTA_MT\": 712.0, \"NU_NOTA_REDACAO\": 920.0, \"num_alunos\": 56.0, \"mediana\": 686.5, \"perc_80\": 720.0, \"rank\": 19}, {\"CO_ESCOLA\": 33042578, \"NU_ANO\": 2019, \"NU_NOTA_CN\": 589.5, \"NU_NOTA_CH\": 639.5, \"NU_NOTA_LC\": 609.5, \"NU_NOTA_MT\": 731.0, \"NU_NOTA_REDACAO\": 860.0, \"num_alunos\": 40.0, \"mediana\": 684.5, \"perc_80\": 717.0, \"rank\": 20}, {\"CO_ESCOLA\": 33228604, \"NU_ANO\": 2019, \"NU_NOTA_CN\": 603.0, \"NU_NOTA_CH\": 620.0, \"NU_NOTA_LC\": 602.5, \"NU_NOTA_MT\": 730.0, \"NU_NOTA_REDACAO\": 860.0, \"num_alunos\": 70.0, \"mediana\": 684.5, \"perc_80\": 724.0, \"rank\": 20}, {\"CO_ESCOLA\": 33447225, \"NU_ANO\": 2019, \"NU_NOTA_CN\": 582.5, \"NU_NOTA_CH\": 625.5, \"NU_NOTA_LC\": 606.0, \"NU_NOTA_MT\": 720.5, \"NU_NOTA_REDACAO\": 900.0, \"num_alunos\": 111.0, \"mediana\": 684.0, \"perc_80\": 721.0, \"rank\": 22}, {\"CO_ESCOLA\": 33322201, \"NU_ANO\": 2019, \"NU_NOTA_CN\": 585.0, \"NU_NOTA_CH\": 629.5, \"NU_NOTA_LC\": 611.5, \"NU_NOTA_MT\": 681.0, \"NU_NOTA_REDACAO\": 900.0, \"num_alunos\": 154.0, \"mediana\": 683.5, \"perc_80\": 706.0, \"rank\": 23}, {\"CO_ESCOLA\": 33105405, \"NU_ANO\": 2019, \"NU_NOTA_CN\": 593.0, \"NU_NOTA_CH\": 626.0, \"NU_NOTA_LC\": 604.0, \"NU_NOTA_MT\": 704.5, \"NU_NOTA_REDACAO\": 860.0, \"num_alunos\": 120.0, \"mediana\": 682.0, \"perc_80\": 720.0, \"rank\": 24}, {\"CO_ESCOLA\": 33078866, \"NU_ANO\": 2019, \"NU_NOTA_CN\": 589.5, \"NU_NOTA_CH\": 612.5, \"NU_NOTA_LC\": 603.0, \"NU_NOTA_MT\": 706.5, \"NU_NOTA_REDACAO\": 880.0, \"num_alunos\": 54.0, \"mediana\": 681.5, \"perc_80\": 711.0, \"rank\": 25}, {\"CO_ESCOLA\": 33180539, \"NU_ANO\": 2019, \"NU_NOTA_CN\": 588.5, \"NU_NOTA_CH\": 626.5, \"NU_NOTA_LC\": 600.5, \"NU_NOTA_MT\": 697.0, \"NU_NOTA_REDACAO\": 900.0, \"num_alunos\": 72.0, \"mediana\": 681.0, \"perc_80\": 714.0, \"rank\": 26}, {\"CO_ESCOLA\": 33066752, \"NU_ANO\": 2019, \"NU_NOTA_CN\": 598.5, \"NU_NOTA_CH\": 631.0, \"NU_NOTA_LC\": 602.5, \"NU_NOTA_MT\": 694.5, \"NU_NOTA_REDACAO\": 880.0, \"num_alunos\": 55.0, \"mediana\": 679.0, \"perc_80\": 712.5, \"rank\": 27}, {\"CO_ESCOLA\": 33065411, \"NU_ANO\": 2019, \"NU_NOTA_CN\": 580.0, \"NU_NOTA_CH\": 624.5, \"NU_NOTA_LC\": 608.0, \"NU_NOTA_MT\": 713.0, \"NU_NOTA_REDACAO\": 880.0, \"num_alunos\": 33.0, \"mediana\": 678.0, \"perc_80\": 701.0, \"rank\": 28}, {\"CO_ESCOLA\": 33063648, \"NU_ANO\": 2019, \"NU_NOTA_CN\": 588.0, \"NU_NOTA_CH\": 635.5, \"NU_NOTA_LC\": 615.5, \"NU_NOTA_MT\": 726.0, \"NU_NOTA_REDACAO\": 850.0, \"num_alunos\": 59.0, \"mediana\": 678.0, \"perc_80\": 712.0, \"rank\": 28}, {\"CO_ESCOLA\": 33085897, \"NU_ANO\": 2019, \"NU_NOTA_CN\": 594.5, \"NU_NOTA_CH\": 633.0, \"NU_NOTA_LC\": 606.0, \"NU_NOTA_MT\": 721.0, \"NU_NOTA_REDACAO\": 880.0, \"num_alunos\": 36.0, \"mediana\": 677.5, \"perc_80\": 721.0, \"rank\": 30}]}}, {\"mode\": \"vega-lite\"});\n",
       "</script>"
      ],
      "text/plain": [
       "alt.Chart(...)"
      ]
     },
     "execution_count": 205,
     "metadata": {},
     "output_type": "execute_result"
    }
   ],
   "source": [
    "\n",
    "alt.Chart(\n",
    "    df_enem[df_enem.CO_ESCOLA.isin(df_enem.query(\"rank <= 30\").CO_ESCOLA)]\n",
    ").mark_line().encode(x='NU_ANO:O', y=alt.Y('rank:O'), color='CO_ESCOLA:N')"
   ]
  },
  {
   "cell_type": "code",
   "execution_count": 208,
   "id": "fac03d98-4c98-41df-acee-bbdd4c829e82",
   "metadata": {},
   "outputs": [
    {
     "data": {
      "text/plain": [
       "2019    5973\n",
       "Name: NU_ANO, dtype: int64"
      ]
     },
     "execution_count": 208,
     "metadata": {},
     "output_type": "execute_result"
    }
   ],
   "source": [
    "df_enem.NU_ANO.value_counts()"
   ]
  },
  {
   "cell_type": "markdown",
   "id": "066be492-eb2a-4614-ae34-f5d0568e092a",
   "metadata": {},
   "source": [
    "3. em que percentil tem ficado as notas?"
   ]
  }
 ],
 "metadata": {
  "kernelspec": {
   "display_name": "Python 3 (ipykernel)",
   "language": "python",
   "name": "python3"
  },
  "language_info": {
   "codemirror_mode": {
    "name": "ipython",
    "version": 3
   },
   "file_extension": ".py",
   "mimetype": "text/x-python",
   "name": "python",
   "nbconvert_exporter": "python",
   "pygments_lexer": "ipython3",
   "version": "3.8.11"
  }
 },
 "nbformat": 4,
 "nbformat_minor": 5
}
